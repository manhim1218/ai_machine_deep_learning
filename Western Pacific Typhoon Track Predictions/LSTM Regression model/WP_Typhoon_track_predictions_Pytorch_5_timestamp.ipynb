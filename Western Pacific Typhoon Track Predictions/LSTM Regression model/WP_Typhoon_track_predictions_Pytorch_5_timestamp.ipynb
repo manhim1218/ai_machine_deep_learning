{
 "cells": [
  {
   "cell_type": "code",
   "execution_count": 1,
   "id": "7adb06c6-123f-4b13-9df9-6dd056181fd8",
   "metadata": {},
   "outputs": [],
   "source": [
    "import pandas as pd \n",
    "from selenium import webdriver\n",
    "from selenium.webdriver.common.by import By\n",
    "import matplotlib.pyplot as plt\n",
    "import numpy as np\n",
    "import torch\n",
    "import torch.nn as nn\n",
    "import torch.optim as optim\n",
    "from datetime import datetime\n",
    "from bs4 import BeautifulSoup\n",
    "import requests\n",
    "import re\n",
    "import string"
   ]
  },
  {
   "cell_type": "code",
   "execution_count": 2,
   "id": "80cbf6dd-5ff1-48dc-82ed-5bf66751de64",
   "metadata": {},
   "outputs": [],
   "source": [
    "n_future = 1\n",
    "n_past = 5"
   ]
  },
  {
   "cell_type": "code",
   "execution_count": 3,
   "id": "2cda4687-4f46-4d91-a7e6-018d029d414f",
   "metadata": {},
   "outputs": [
    {
     "name": "stderr",
     "output_type": "stream",
     "text": [
      "C:\\Users\\Louis\\anaconda3\\lib\\site-packages\\IPython\\core\\interactiveshell.py:3444: DtypeWarning: Columns (1,2,8,9,14,25,131,132,133,161,162) have mixed types.Specify dtype option on import or set low_memory=False.\n",
      "  exec(code_obj, self.user_global_ns, self.user_ns)\n"
     ]
    }
   ],
   "source": [
    "full_WP = pd.read_csv(\"./Full WP dataset.csv\")"
   ]
  },
  {
   "cell_type": "markdown",
   "id": "f7a2aa70-c4ba-4aaa-82a4-6ebf8b5407bc",
   "metadata": {},
   "source": [
    "### Data Preprcoessing"
   ]
  },
  {
   "cell_type": "code",
   "execution_count": 4,
   "id": "f3013380-d92f-4d05-8d59-4230d7ca4285",
   "metadata": {},
   "outputs": [],
   "source": [
    "full_WP = full_WP.iloc[1:]"
   ]
  },
  {
   "cell_type": "code",
   "execution_count": 5,
   "id": "4f62d423-c401-4b6d-8350-85c53c7acea4",
   "metadata": {},
   "outputs": [],
   "source": [
    "full_WP = full_WP.loc[full_WP['SEASON'].astype(int) >= 2000]"
   ]
  },
  {
   "cell_type": "code",
   "execution_count": 6,
   "id": "204c8460-9a0f-47d4-9934-425b6ae77afe",
   "metadata": {},
   "outputs": [],
   "source": [
    "columns_features = ['ISO_TIME', 'SEASON', 'NAME', 'USA_LAT', 'USA_LON', 'DIST2LAND', 'USA_WIND', 'USA_PRES', 'USA_R34_NE', 'USA_R34_SE', 'USA_R34_SW', 'USA_R34_NW', 'USA_R50_NE', 'USA_R50_SE', 'USA_R50_SW', 'USA_R50_NW', 'USA_R64_NE', 'USA_R64_SE', 'USA_R64_SW', 'USA_R64_NW']"
   ]
  },
  {
   "cell_type": "code",
   "execution_count": 7,
   "id": "c45a99fc-bc62-46de-b1d9-ab614654df9c",
   "metadata": {},
   "outputs": [],
   "source": [
    "full_WP_modify = full_WP[columns_features].copy()"
   ]
  },
  {
   "cell_type": "code",
   "execution_count": 8,
   "id": "52a0916d-b324-4c27-b8c9-47bffbf6c01c",
   "metadata": {},
   "outputs": [
    {
     "data": {
      "text/html": [
       "<div>\n",
       "<style scoped>\n",
       "    .dataframe tbody tr th:only-of-type {\n",
       "        vertical-align: middle;\n",
       "    }\n",
       "\n",
       "    .dataframe tbody tr th {\n",
       "        vertical-align: top;\n",
       "    }\n",
       "\n",
       "    .dataframe thead th {\n",
       "        text-align: right;\n",
       "    }\n",
       "</style>\n",
       "<table border=\"1\" class=\"dataframe\">\n",
       "  <thead>\n",
       "    <tr style=\"text-align: right;\">\n",
       "      <th></th>\n",
       "      <th>ISO_TIME</th>\n",
       "      <th>SEASON</th>\n",
       "      <th>NAME</th>\n",
       "      <th>USA_LAT</th>\n",
       "      <th>USA_LON</th>\n",
       "      <th>DIST2LAND</th>\n",
       "      <th>USA_WIND</th>\n",
       "      <th>USA_PRES</th>\n",
       "      <th>USA_R34_NE</th>\n",
       "      <th>USA_R34_SE</th>\n",
       "      <th>USA_R34_SW</th>\n",
       "      <th>USA_R34_NW</th>\n",
       "      <th>USA_R50_NE</th>\n",
       "      <th>USA_R50_SE</th>\n",
       "      <th>USA_R50_SW</th>\n",
       "      <th>USA_R50_NW</th>\n",
       "      <th>USA_R64_NE</th>\n",
       "      <th>USA_R64_SE</th>\n",
       "      <th>USA_R64_SW</th>\n",
       "      <th>USA_R64_NW</th>\n",
       "    </tr>\n",
       "  </thead>\n",
       "  <tbody>\n",
       "    <tr>\n",
       "      <th>196947</th>\n",
       "      <td>2000-05-03 18:00:00</td>\n",
       "      <td>2000</td>\n",
       "      <td>DAMREY</td>\n",
       "      <td>6.20000</td>\n",
       "      <td>135.700</td>\n",
       "      <td>773</td>\n",
       "      <td>25</td>\n",
       "      <td></td>\n",
       "      <td></td>\n",
       "      <td></td>\n",
       "      <td></td>\n",
       "      <td></td>\n",
       "      <td></td>\n",
       "      <td></td>\n",
       "      <td></td>\n",
       "      <td></td>\n",
       "      <td></td>\n",
       "      <td></td>\n",
       "      <td></td>\n",
       "      <td></td>\n",
       "    </tr>\n",
       "    <tr>\n",
       "      <th>196948</th>\n",
       "      <td>2000-05-03 21:00:00</td>\n",
       "      <td>2000</td>\n",
       "      <td>DAMREY</td>\n",
       "      <td>6.77253</td>\n",
       "      <td>135.535</td>\n",
       "      <td>840</td>\n",
       "      <td>25</td>\n",
       "      <td></td>\n",
       "      <td></td>\n",
       "      <td></td>\n",
       "      <td></td>\n",
       "      <td></td>\n",
       "      <td></td>\n",
       "      <td></td>\n",
       "      <td></td>\n",
       "      <td></td>\n",
       "      <td></td>\n",
       "      <td></td>\n",
       "      <td></td>\n",
       "      <td></td>\n",
       "    </tr>\n",
       "    <tr>\n",
       "      <th>196949</th>\n",
       "      <td>2000-05-04 00:00:00</td>\n",
       "      <td>2000</td>\n",
       "      <td>DAMREY</td>\n",
       "      <td>7.30000</td>\n",
       "      <td>135.400</td>\n",
       "      <td>896</td>\n",
       "      <td>25</td>\n",
       "      <td></td>\n",
       "      <td></td>\n",
       "      <td></td>\n",
       "      <td></td>\n",
       "      <td></td>\n",
       "      <td></td>\n",
       "      <td></td>\n",
       "      <td></td>\n",
       "      <td></td>\n",
       "      <td></td>\n",
       "      <td></td>\n",
       "      <td></td>\n",
       "      <td></td>\n",
       "    </tr>\n",
       "    <tr>\n",
       "      <th>196950</th>\n",
       "      <td>2000-05-04 03:00:00</td>\n",
       "      <td>2000</td>\n",
       "      <td>DAMREY</td>\n",
       "      <td>7.74498</td>\n",
       "      <td>135.320</td>\n",
       "      <td>935</td>\n",
       "      <td>25</td>\n",
       "      <td></td>\n",
       "      <td></td>\n",
       "      <td></td>\n",
       "      <td></td>\n",
       "      <td></td>\n",
       "      <td></td>\n",
       "      <td></td>\n",
       "      <td></td>\n",
       "      <td></td>\n",
       "      <td></td>\n",
       "      <td></td>\n",
       "      <td></td>\n",
       "      <td></td>\n",
       "    </tr>\n",
       "    <tr>\n",
       "      <th>196951</th>\n",
       "      <td>2000-05-04 06:00:00</td>\n",
       "      <td>2000</td>\n",
       "      <td>DAMREY</td>\n",
       "      <td>8.10000</td>\n",
       "      <td>135.300</td>\n",
       "      <td>960</td>\n",
       "      <td>25</td>\n",
       "      <td></td>\n",
       "      <td></td>\n",
       "      <td></td>\n",
       "      <td></td>\n",
       "      <td></td>\n",
       "      <td></td>\n",
       "      <td></td>\n",
       "      <td></td>\n",
       "      <td></td>\n",
       "      <td></td>\n",
       "      <td></td>\n",
       "      <td></td>\n",
       "      <td></td>\n",
       "    </tr>\n",
       "    <tr>\n",
       "      <th>...</th>\n",
       "      <td>...</td>\n",
       "      <td>...</td>\n",
       "      <td>...</td>\n",
       "      <td>...</td>\n",
       "      <td>...</td>\n",
       "      <td>...</td>\n",
       "      <td>...</td>\n",
       "      <td>...</td>\n",
       "      <td>...</td>\n",
       "      <td>...</td>\n",
       "      <td>...</td>\n",
       "      <td>...</td>\n",
       "      <td>...</td>\n",
       "      <td>...</td>\n",
       "      <td>...</td>\n",
       "      <td>...</td>\n",
       "      <td>...</td>\n",
       "      <td>...</td>\n",
       "      <td>...</td>\n",
       "      <td>...</td>\n",
       "    </tr>\n",
       "    <tr>\n",
       "      <th>239452</th>\n",
       "      <td>2021-09-23 00:00:00</td>\n",
       "      <td>2021</td>\n",
       "      <td>NOT_NAMED</td>\n",
       "      <td>13.5000</td>\n",
       "      <td>111.200</td>\n",
       "      <td>196</td>\n",
       "      <td>29</td>\n",
       "      <td>1003</td>\n",
       "      <td></td>\n",
       "      <td></td>\n",
       "      <td></td>\n",
       "      <td></td>\n",
       "      <td></td>\n",
       "      <td></td>\n",
       "      <td></td>\n",
       "      <td></td>\n",
       "      <td></td>\n",
       "      <td></td>\n",
       "      <td></td>\n",
       "      <td></td>\n",
       "    </tr>\n",
       "    <tr>\n",
       "      <th>239453</th>\n",
       "      <td>2021-09-23 03:00:00</td>\n",
       "      <td>2021</td>\n",
       "      <td>NOT_NAMED</td>\n",
       "      <td>13.8697</td>\n",
       "      <td>110.707</td>\n",
       "      <td>151</td>\n",
       "      <td>32</td>\n",
       "      <td>1003</td>\n",
       "      <td></td>\n",
       "      <td></td>\n",
       "      <td></td>\n",
       "      <td></td>\n",
       "      <td></td>\n",
       "      <td></td>\n",
       "      <td></td>\n",
       "      <td></td>\n",
       "      <td></td>\n",
       "      <td></td>\n",
       "      <td></td>\n",
       "      <td></td>\n",
       "    </tr>\n",
       "    <tr>\n",
       "      <th>239454</th>\n",
       "      <td>2021-09-23 06:00:00</td>\n",
       "      <td>2021</td>\n",
       "      <td>NOT_NAMED</td>\n",
       "      <td>14.3000</td>\n",
       "      <td>110.200</td>\n",
       "      <td>106</td>\n",
       "      <td>35</td>\n",
       "      <td>1003</td>\n",
       "      <td>90</td>\n",
       "      <td></td>\n",
       "      <td></td>\n",
       "      <td>50</td>\n",
       "      <td></td>\n",
       "      <td></td>\n",
       "      <td></td>\n",
       "      <td></td>\n",
       "      <td></td>\n",
       "      <td></td>\n",
       "      <td></td>\n",
       "      <td></td>\n",
       "    </tr>\n",
       "    <tr>\n",
       "      <th>239455</th>\n",
       "      <td>2021-09-23 09:00:00</td>\n",
       "      <td>2021</td>\n",
       "      <td>NOT_NAMED</td>\n",
       "      <td>14.7481</td>\n",
       "      <td>109.586</td>\n",
       "      <td>53</td>\n",
       "      <td>35</td>\n",
       "      <td>1002</td>\n",
       "      <td>60</td>\n",
       "      <td></td>\n",
       "      <td></td>\n",
       "      <td>40</td>\n",
       "      <td></td>\n",
       "      <td></td>\n",
       "      <td></td>\n",
       "      <td></td>\n",
       "      <td></td>\n",
       "      <td></td>\n",
       "      <td></td>\n",
       "      <td></td>\n",
       "    </tr>\n",
       "    <tr>\n",
       "      <th>239456</th>\n",
       "      <td>2021-09-23 12:00:00</td>\n",
       "      <td>2021</td>\n",
       "      <td>NOT_NAMED</td>\n",
       "      <td>15.2000</td>\n",
       "      <td>108.900</td>\n",
       "      <td>0</td>\n",
       "      <td>35</td>\n",
       "      <td>1001</td>\n",
       "      <td>30</td>\n",
       "      <td>25</td>\n",
       "      <td></td>\n",
       "      <td>30</td>\n",
       "      <td></td>\n",
       "      <td></td>\n",
       "      <td></td>\n",
       "      <td></td>\n",
       "      <td></td>\n",
       "      <td></td>\n",
       "      <td></td>\n",
       "      <td></td>\n",
       "    </tr>\n",
       "  </tbody>\n",
       "</table>\n",
       "<p>42510 rows × 20 columns</p>\n",
       "</div>"
      ],
      "text/plain": [
       "                   ISO_TIME SEASON       NAME  USA_LAT  USA_LON DIST2LAND  \\\n",
       "196947  2000-05-03 18:00:00   2000     DAMREY  6.20000  135.700       773   \n",
       "196948  2000-05-03 21:00:00   2000     DAMREY  6.77253  135.535       840   \n",
       "196949  2000-05-04 00:00:00   2000     DAMREY  7.30000  135.400       896   \n",
       "196950  2000-05-04 03:00:00   2000     DAMREY  7.74498  135.320       935   \n",
       "196951  2000-05-04 06:00:00   2000     DAMREY  8.10000  135.300       960   \n",
       "...                     ...    ...        ...      ...      ...       ...   \n",
       "239452  2021-09-23 00:00:00   2021  NOT_NAMED  13.5000  111.200       196   \n",
       "239453  2021-09-23 03:00:00   2021  NOT_NAMED  13.8697  110.707       151   \n",
       "239454  2021-09-23 06:00:00   2021  NOT_NAMED  14.3000  110.200       106   \n",
       "239455  2021-09-23 09:00:00   2021  NOT_NAMED  14.7481  109.586        53   \n",
       "239456  2021-09-23 12:00:00   2021  NOT_NAMED  15.2000  108.900         0   \n",
       "\n",
       "       USA_WIND USA_PRES USA_R34_NE USA_R34_SE USA_R34_SW USA_R34_NW  \\\n",
       "196947       25                                                        \n",
       "196948       25                                                        \n",
       "196949       25                                                        \n",
       "196950       25                                                        \n",
       "196951       25                                                        \n",
       "...         ...      ...        ...        ...        ...        ...   \n",
       "239452       29     1003                                               \n",
       "239453       32     1003                                               \n",
       "239454       35     1003         90                               50   \n",
       "239455       35     1002         60                               40   \n",
       "239456       35     1001         30         25                    30   \n",
       "\n",
       "       USA_R50_NE USA_R50_SE USA_R50_SW USA_R50_NW USA_R64_NE USA_R64_SE  \\\n",
       "196947                                                                     \n",
       "196948                                                                     \n",
       "196949                                                                     \n",
       "196950                                                                     \n",
       "196951                                                                     \n",
       "...           ...        ...        ...        ...        ...        ...   \n",
       "239452                                                                     \n",
       "239453                                                                     \n",
       "239454                                                                     \n",
       "239455                                                                     \n",
       "239456                                                                     \n",
       "\n",
       "       USA_R64_SW USA_R64_NW  \n",
       "196947                        \n",
       "196948                        \n",
       "196949                        \n",
       "196950                        \n",
       "196951                        \n",
       "...           ...        ...  \n",
       "239452                        \n",
       "239453                        \n",
       "239454                        \n",
       "239455                        \n",
       "239456                        \n",
       "\n",
       "[42510 rows x 20 columns]"
      ]
     },
     "execution_count": 8,
     "metadata": {},
     "output_type": "execute_result"
    }
   ],
   "source": [
    "full_WP_modify"
   ]
  },
  {
   "cell_type": "code",
   "execution_count": 9,
   "id": "e7e3c46f-0d95-415f-9de7-1fc3d0f2a075",
   "metadata": {},
   "outputs": [],
   "source": [
    "full_WP_modify = full_WP_modify.reset_index(drop=True)"
   ]
  },
  {
   "cell_type": "code",
   "execution_count": 10,
   "id": "7229c612-e851-434b-82e0-148bd279f3ee",
   "metadata": {},
   "outputs": [],
   "source": [
    "full_WP_modify = full_WP_modify[full_WP_modify.NAME != 'NOT_NAMED']"
   ]
  },
  {
   "cell_type": "code",
   "execution_count": 11,
   "id": "646bd18b-ce23-4e8f-8a4e-a61935fe0c54",
   "metadata": {},
   "outputs": [],
   "source": [
    "full_WP_modify = full_WP_modify.reset_index(drop=True)"
   ]
  },
  {
   "cell_type": "code",
   "execution_count": 12,
   "id": "9134d7b7-694f-4daf-a932-9bf0a870eb5b",
   "metadata": {},
   "outputs": [],
   "source": [
    "full_WP_modify = full_WP_modify[full_WP_modify.USA_LAT!=' ']"
   ]
  },
  {
   "cell_type": "code",
   "execution_count": 13,
   "id": "99969b08-4738-44bc-9de9-f7fdc7c37af5",
   "metadata": {},
   "outputs": [],
   "source": [
    "full_WP_modify = full_WP_modify.replace(r'^\\s*$', -1 , regex=True)"
   ]
  },
  {
   "cell_type": "code",
   "execution_count": 14,
   "id": "c2bdc73d-d94f-4d3d-abab-0f9e2fe6f197",
   "metadata": {},
   "outputs": [],
   "source": [
    "full_WP_modify['USA_LAT'] = full_WP_modify['USA_LAT'].astype(float)"
   ]
  },
  {
   "cell_type": "code",
   "execution_count": 15,
   "id": "0d7ccb0c-8480-4582-8fe4-31f791f1a968",
   "metadata": {},
   "outputs": [],
   "source": [
    "full_WP_modify['USA_LON'] = full_WP_modify['USA_LON'].astype(float)"
   ]
  },
  {
   "cell_type": "code",
   "execution_count": 16,
   "id": "a0167568-1e79-4109-88a0-a3e55fe81c2e",
   "metadata": {},
   "outputs": [],
   "source": [
    "full_WP_modify = full_WP_modify.reset_index(drop=True)"
   ]
  },
  {
   "cell_type": "code",
   "execution_count": 17,
   "id": "1f16c838-ce56-458d-a416-3fb04304a0a8",
   "metadata": {},
   "outputs": [
    {
     "data": {
      "text/plain": [
       "1.3"
      ]
     },
     "execution_count": 17,
     "metadata": {},
     "output_type": "execute_result"
    }
   ],
   "source": [
    "full_WP_modify['USA_LAT'].min()"
   ]
  },
  {
   "cell_type": "code",
   "execution_count": 18,
   "id": "a00fadf8-d435-4848-ae74-95a197eaf0ff",
   "metadata": {},
   "outputs": [
    {
     "data": {
      "text/plain": [
       "51.3"
      ]
     },
     "execution_count": 18,
     "metadata": {},
     "output_type": "execute_result"
    }
   ],
   "source": [
    "full_WP_modify['USA_LAT'].max()"
   ]
  },
  {
   "cell_type": "code",
   "execution_count": 19,
   "id": "630fcaa4-25f7-45f7-a07c-315843325113",
   "metadata": {},
   "outputs": [
    {
     "data": {
      "text/plain": [
       "-180.0"
      ]
     },
     "execution_count": 19,
     "metadata": {},
     "output_type": "execute_result"
    }
   ],
   "source": [
    "full_WP_modify['USA_LON'].min()"
   ]
  },
  {
   "cell_type": "code",
   "execution_count": 20,
   "id": "def0b4bb-4956-4181-abb4-2456f49fbf2e",
   "metadata": {},
   "outputs": [
    {
     "data": {
      "text/plain": [
       "180.0"
      ]
     },
     "execution_count": 20,
     "metadata": {},
     "output_type": "execute_result"
    }
   ],
   "source": [
    "full_WP_modify['USA_LON'].max()"
   ]
  },
  {
   "cell_type": "code",
   "execution_count": 21,
   "id": "27f379f9-c579-4a15-98aa-cd4349b88000",
   "metadata": {},
   "outputs": [
    {
     "data": {
      "text/plain": [
       "344     -178.000\n",
       "345     -178.100\n",
       "346     -178.200\n",
       "347     -178.325\n",
       "348     -178.600\n",
       "          ...   \n",
       "27063   -177.186\n",
       "27064   -178.000\n",
       "27065   -178.735\n",
       "27066   -179.500\n",
       "28929   -179.900\n",
       "Name: USA_LON, Length: 971, dtype: float64"
      ]
     },
     "execution_count": 21,
     "metadata": {},
     "output_type": "execute_result"
    }
   ],
   "source": [
    "full_WP_modify['USA_LON'][full_WP_modify[full_WP_modify.USA_LON < 0].index]"
   ]
  },
  {
   "cell_type": "code",
   "execution_count": 22,
   "id": "c214d80b-b3c6-4193-aa91-825c592a481e",
   "metadata": {},
   "outputs": [
    {
     "name": "stderr",
     "output_type": "stream",
     "text": [
      "C:\\Users\\Louis\\AppData\\Local\\Temp/ipykernel_10588/916726116.py:1: SettingWithCopyWarning: \n",
      "A value is trying to be set on a copy of a slice from a DataFrame\n",
      "\n",
      "See the caveats in the documentation: https://pandas.pydata.org/pandas-docs/stable/user_guide/indexing.html#returning-a-view-versus-a-copy\n",
      "  full_WP_modify['USA_LON'][full_WP_modify[full_WP_modify.USA_LON < 0].index] = full_WP_modify['USA_LON'][full_WP_modify[full_WP_modify.USA_LON < 0].index] + 360\n"
     ]
    }
   ],
   "source": [
    "full_WP_modify['USA_LON'][full_WP_modify[full_WP_modify.USA_LON < 0].index] = full_WP_modify['USA_LON'][full_WP_modify[full_WP_modify.USA_LON < 0].index] + 360"
   ]
  },
  {
   "cell_type": "code",
   "execution_count": 23,
   "id": "aa2f2e44-6a76-461c-b654-13b3ae816685",
   "metadata": {},
   "outputs": [],
   "source": [
    "# full_WP_modify = full_WP_modify.drop(full_WP_modify[full_WP_modify.USA_LON < 0].index)"
   ]
  },
  {
   "cell_type": "code",
   "execution_count": 24,
   "id": "08a6d0ac-60a3-4249-9655-1de866d6740c",
   "metadata": {},
   "outputs": [
    {
     "data": {
      "text/plain": [
       "244.9"
      ]
     },
     "execution_count": 24,
     "metadata": {},
     "output_type": "execute_result"
    }
   ],
   "source": [
    "full_WP_modify['USA_LON'].max()"
   ]
  },
  {
   "cell_type": "code",
   "execution_count": 25,
   "id": "26df1a2f-7a31-4e1f-85a2-dd08f5ee0ea9",
   "metadata": {},
   "outputs": [
    {
     "data": {
      "text/plain": [
       "78.6"
      ]
     },
     "execution_count": 25,
     "metadata": {},
     "output_type": "execute_result"
    }
   ],
   "source": [
    "full_WP_modify['USA_LON'].min()"
   ]
  },
  {
   "cell_type": "code",
   "execution_count": 26,
   "id": "a74c4dd2-ec23-4578-92a0-431f6f63c04a",
   "metadata": {},
   "outputs": [],
   "source": [
    "long_range = full_WP_modify.index[full_WP_modify['USA_LON'] <0].tolist()"
   ]
  },
  {
   "cell_type": "code",
   "execution_count": 27,
   "id": "faa9c6ef-3420-4a04-839f-6ddea95ce5a2",
   "metadata": {
    "tags": []
   },
   "outputs": [
    {
     "data": {
      "text/plain": [
       "0"
      ]
     },
     "execution_count": 27,
     "metadata": {},
     "output_type": "execute_result"
    }
   ],
   "source": [
    "len(long_range)"
   ]
  },
  {
   "cell_type": "code",
   "execution_count": 28,
   "id": "a277d965-e818-4ebe-adc8-3826b5315faa",
   "metadata": {
    "tags": []
   },
   "outputs": [],
   "source": [
    "dict_remove = {}\n",
    "for i in long_range:\n",
    "    print(i)\n",
    "    name = full_WP_modify.iloc[i,2]\n",
    "    year = full_WP_modify.iloc[i,1]\n",
    "    dict_remove[year] = name"
   ]
  },
  {
   "cell_type": "code",
   "execution_count": 29,
   "id": "6b1156a3-6e0b-44d4-9efc-f14589c5705f",
   "metadata": {},
   "outputs": [
    {
     "data": {
      "text/plain": [
       "{}"
      ]
     },
     "execution_count": 29,
     "metadata": {},
     "output_type": "execute_result"
    }
   ],
   "source": [
    "dict_remove"
   ]
  },
  {
   "cell_type": "code",
   "execution_count": 30,
   "id": "5864d114-c7e9-4172-9dae-57f8c9cc6480",
   "metadata": {},
   "outputs": [],
   "source": [
    "from sklearn.preprocessing import MinMaxScaler\n",
    "\n",
    "scaler_lat = MinMaxScaler()\n",
    "scaler_long = MinMaxScaler()\n",
    "scaler_dist = MinMaxScaler()\n",
    "scaler_wind = MinMaxScaler()\n",
    "scaler_pres = MinMaxScaler()\n",
    "scaler_r34_ne = MinMaxScaler()\n",
    "scaler_r34_se = MinMaxScaler()\n",
    "scaler_r34_sw = MinMaxScaler()\n",
    "scaler_r34_nw = MinMaxScaler()\n",
    "scaler_r50_ne = MinMaxScaler()\n",
    "scaler_r50_se = MinMaxScaler()\n",
    "scaler_r50_sw = MinMaxScaler()\n",
    "scaler_r50_nw = MinMaxScaler()\n",
    "scaler_r64_ne = MinMaxScaler()\n",
    "scaler_r64_se = MinMaxScaler()\n",
    "scaler_r64_sw = MinMaxScaler()\n",
    "scaler_r64_nw = MinMaxScaler()"
   ]
  },
  {
   "cell_type": "code",
   "execution_count": 31,
   "id": "a1da9c10-4277-4517-bf15-3279b558095f",
   "metadata": {},
   "outputs": [],
   "source": [
    "full_WP_modify[['USA_LAT']] = scaler_lat.fit_transform(full_WP_modify[['USA_LAT']])\n",
    "full_WP_modify[['USA_LON']] = scaler_long.fit_transform(full_WP_modify[['USA_LON']])\n",
    "full_WP_modify[['DIST2LAND']] = scaler_dist.fit_transform(full_WP_modify[['DIST2LAND']])\n",
    "full_WP_modify[['USA_WIND']] = scaler_wind.fit_transform(full_WP_modify[['USA_WIND']])\n",
    "full_WP_modify[['USA_PRES']] = scaler_pres.fit_transform(full_WP_modify[['USA_PRES']])\n",
    "full_WP_modify[['USA_R34_NE']] = scaler_r34_ne.fit_transform(full_WP_modify[['USA_R34_NE']])\n",
    "full_WP_modify[['USA_R34_SE']] = scaler_r34_se.fit_transform(full_WP_modify[['USA_R34_SE']])\n",
    "full_WP_modify[['USA_R34_SW']] = scaler_r34_sw.fit_transform(full_WP_modify[['USA_R34_SW']])\n",
    "full_WP_modify[['USA_R34_NW']] = scaler_r34_nw.fit_transform(full_WP_modify[['USA_R34_NW']])\n",
    "full_WP_modify[['USA_R50_NE']] = scaler_r50_ne.fit_transform(full_WP_modify[['USA_R50_NE']])\n",
    "full_WP_modify[['USA_R50_SE']] = scaler_r50_se.fit_transform(full_WP_modify[['USA_R50_SE']])\n",
    "full_WP_modify[['USA_R50_SW']] = scaler_r50_sw.fit_transform(full_WP_modify[['USA_R50_SW']])\n",
    "full_WP_modify[['USA_R50_NW']] = scaler_r50_nw.fit_transform(full_WP_modify[['USA_R50_NW']])\n",
    "full_WP_modify[['USA_R64_NE']] = scaler_r64_ne.fit_transform(full_WP_modify[['USA_R64_NE']])\n",
    "full_WP_modify[['USA_R64_SE']] = scaler_r64_se.fit_transform(full_WP_modify[['USA_R64_SE']])\n",
    "full_WP_modify[['USA_R64_SW']] = scaler_r64_sw.fit_transform(full_WP_modify[['USA_R64_SW']])\n",
    "full_WP_modify[['USA_R64_NW']] = scaler_r64_nw.fit_transform(full_WP_modify[['USA_R64_NW']])"
   ]
  },
  {
   "cell_type": "code",
   "execution_count": 32,
   "id": "bfb62516-5684-4b1c-a112-e5e2436965ff",
   "metadata": {},
   "outputs": [],
   "source": [
    "for year in range(2000,2022):\n",
    "     globals()['df_WP_%s' % year] = full_WP_modify[(full_WP_modify[\"SEASON\"]==year)]"
   ]
  },
  {
   "cell_type": "code",
   "execution_count": 33,
   "id": "15c8b445-908d-4d1f-bb17-3a6c47595518",
   "metadata": {},
   "outputs": [],
   "source": [
    "for year in range(2000,2022):\n",
    "    globals()['df_WP_%s' % year] = globals()['df_WP_%s' % year].reset_index(drop=True)"
   ]
  },
  {
   "cell_type": "code",
   "execution_count": 34,
   "id": "94537bee-b7d6-4ab2-8d82-069b9a23dee5",
   "metadata": {},
   "outputs": [],
   "source": [
    "for year in range(2000,2022):\n",
    "    globals()['df_WP_%s' % year] =  globals()['df_WP_%s' % year].drop(['SEASON'], axis=1)"
   ]
  },
  {
   "cell_type": "code",
   "execution_count": 35,
   "id": "b88bee04-2c24-4afd-b05b-bd15449cbffa",
   "metadata": {},
   "outputs": [],
   "source": [
    "for year in range(2000,2022):\n",
    "    for i in range(len(globals()['df_WP_%s' % year])):\n",
    "        globals()['df_WP_%s' % year].iloc[i,1] = re.sub(r\"[^\\w\\s]\", '',  globals()['df_WP_%s' % year].iloc[i,1])"
   ]
  },
  {
   "cell_type": "code",
   "execution_count": 36,
   "id": "7e50af3d-783f-46bc-b081-de512b6ed279",
   "metadata": {},
   "outputs": [],
   "source": [
    "summarylist = []\n",
    "for year in range(2000,2022):\n",
    "    summarylist.append(dict(tuple(globals()['df_WP_%s' % year].groupby('NAME'))))"
   ]
  },
  {
   "cell_type": "code",
   "execution_count": 37,
   "id": "d9e3cccb-3f6a-468b-b884-25c3a7d3de8d",
   "metadata": {},
   "outputs": [],
   "source": [
    "tc_name_list = []\n",
    "for i in range(len(summarylist)):\n",
    "    tc_name_list.append(list(summarylist[i].keys()))"
   ]
  },
  {
   "cell_type": "code",
   "execution_count": 38,
   "id": "45d3ecbb-1ae3-42d9-8a3f-ad8496db6948",
   "metadata": {},
   "outputs": [
    {
     "name": "stdout",
     "output_type": "stream",
     "text": [
      "['BEBINCA', 'BILIS', 'BOLAVEN', 'BOPHA', 'CHANCHU', 'DAMREY', 'EWINIAR', 'JELAWAT', 'KAEMI', 'KAITAK', 'KIROGI', 'LONGWANG', 'MARIA', 'PRAPIROON', 'RUMBIA', 'SAOMAI', 'SHANSHAN', 'SONAMU', 'SOULIK', 'TEMBIN', 'WENE', 'WUKONG', 'XANGSANE', 'YAGI']\n"
     ]
    }
   ],
   "source": [
    "print(tc_name_list[0])"
   ]
  },
  {
   "cell_type": "code",
   "execution_count": 39,
   "id": "39687eaf-41be-462c-92a5-1d70781c74dc",
   "metadata": {},
   "outputs": [],
   "source": [
    "count = 0\n",
    "for i in range(len(tc_name_list)):\n",
    "    for name in tc_name_list[i]:\n",
    "        count = count+1\n",
    "        globals()['df_WP_%s_%s'%((str(2000+i)), name)] = globals()['df_WP_%s' % (str(2000+i))][globals()['df_WP_%s' % (str(2000+i))].NAME == name]\n",
    "#         globals()['df_WP_%s_%s'%((str(2000+i)), name)]  = globals()['df_WP_%s_%s'%((str(2000+i)), name)][globals()['df_WP_%s_%s'%((str(2000+i)),name)].USA_LAT != ' ']\n",
    "        globals()['df_WP_%s_%s'%((str(2000+i)), name)]  = globals()['df_WP_%s_%s'%((str(2000+i)), name)] .reset_index(drop=True)"
   ]
  },
  {
   "cell_type": "code",
   "execution_count": 40,
   "id": "0c0442d8-c217-4d47-afe2-23b309c850dc",
   "metadata": {},
   "outputs": [],
   "source": [
    "for i in range(len(tc_name_list)):\n",
    "    for name in tc_name_list[i]:\n",
    "        globals()['df_WP_%s_%s'%((str(2000+i)), name)] = (globals()['df_WP_%s_%s'%((str(2000+i)), name)]).drop(['NAME'], axis=1)"
   ]
  },
  {
   "cell_type": "code",
   "execution_count": 41,
   "id": "5e384918-0556-4bf9-9d2e-35e168653747",
   "metadata": {},
   "outputs": [],
   "source": [
    "for i in range(len(tc_name_list)):\n",
    "    for name in tc_name_list[i]:\n",
    "        globals()['df_WP_%s_%s'%((str(2000+i)), name)].rename(columns={'ISO_TIME':'Date'}, inplace=True)\n",
    "        globals()['df_WP_%s_%s'%((str(2000+i)), name)]['Date'] = pd.to_datetime(globals()['df_WP_%s_%s'%((str(2000+i)), name)]['Date'], dayfirst=True)"
   ]
  },
  {
   "cell_type": "code",
   "execution_count": 42,
   "id": "4d04ea0f-108c-496a-b817-b44fd63e66ea",
   "metadata": {},
   "outputs": [
    {
     "name": "stdout",
     "output_type": "stream",
     "text": [
      "['USA_LAT', 'USA_LON', 'DIST2LAND', 'USA_WIND', 'USA_PRES', 'USA_R34_NE', 'USA_R34_SE', 'USA_R34_SW', 'USA_R34_NW', 'USA_R50_NE', 'USA_R50_SE', 'USA_R50_SW', 'USA_R50_NW', 'USA_R64_NE', 'USA_R64_SE', 'USA_R64_SW', 'USA_R64_NW']\n"
     ]
    }
   ],
   "source": [
    "cols_features = list(df_WP_2018_MANGKHUT)[1:len(df_WP_2018_MANGKHUT.columns)]\n",
    "print(cols_features)"
   ]
  },
  {
   "cell_type": "code",
   "execution_count": 43,
   "id": "444acc68-59f6-4644-8529-ceb761a92433",
   "metadata": {},
   "outputs": [],
   "source": [
    "cols_target = list(df_WP_2018_MANGKHUT)[1:2]"
   ]
  },
  {
   "cell_type": "code",
   "execution_count": 44,
   "id": "48f034f3-4cdc-46a2-a4bb-8ca9c67f9dc3",
   "metadata": {},
   "outputs": [
    {
     "data": {
      "text/plain": [
       "['USA_LAT']"
      ]
     },
     "execution_count": 44,
     "metadata": {},
     "output_type": "execute_result"
    }
   ],
   "source": [
    "cols_target"
   ]
  },
  {
   "cell_type": "code",
   "execution_count": 45,
   "id": "39201171-2ad9-4e25-ad6f-ec3840626bb4",
   "metadata": {},
   "outputs": [
    {
     "name": "stdout",
     "output_type": "stream",
     "text": [
      "['USA_LAT', 'USA_LON', 'DIST2LAND', 'USA_WIND', 'USA_PRES', 'USA_R34_NE', 'USA_R34_SE', 'USA_R34_SW', 'USA_R34_NW', 'USA_R50_NE', 'USA_R50_SE', 'USA_R50_SW', 'USA_R50_NW', 'USA_R64_NE', 'USA_R64_SE', 'USA_R64_SW', 'USA_R64_NW']\n",
      "['USA_LAT']\n"
     ]
    }
   ],
   "source": [
    "print(cols_features)\n",
    "print(cols_target)"
   ]
  },
  {
   "cell_type": "code",
   "execution_count": 46,
   "id": "f1967b6c-64cf-454b-b787-e339513badb1",
   "metadata": {},
   "outputs": [],
   "source": [
    "for i in range(len(tc_name_list)):\n",
    "    for name in tc_name_list[i]:\n",
    "        globals()['df_features_lat_%s_%s'%((str(2000+i)), name)] = globals()['df_WP_%s_%s'%((str(2000+i)), name)][cols_features].astype(float)\n",
    "        globals()['df_target_lat_%s_%s'%((str(2000+i)), name)] = globals()['df_WP_%s_%s'%((str(2000+i)), name)][cols_target].astype(float)"
   ]
  },
  {
   "cell_type": "markdown",
   "id": "8b19d984-b0c2-409a-a29f-948c07b9aa43",
   "metadata": {
    "tags": []
   },
   "source": [
    "### Augmented Dickey Fuller test"
   ]
  },
  {
   "cell_type": "code",
   "execution_count": 47,
   "id": "96f27488-2855-440b-ae9d-36dd656e9832",
   "metadata": {},
   "outputs": [],
   "source": [
    "# from statsmodels.tools.sm_exceptions import (\n",
    "#     CollinearityWarning,\n",
    "#     InfeasibleTestError,\n",
    "#     InterpolationWarning,\n",
    "#     MissingDataError,\n",
    "# )"
   ]
  },
  {
   "cell_type": "code",
   "execution_count": 48,
   "id": "12f47172-f931-4f1a-b6fe-fc177a2d0941",
   "metadata": {},
   "outputs": [],
   "source": [
    "# features = list(df_WP_2018_MANGKHUT)[1:]"
   ]
  },
  {
   "cell_type": "code",
   "execution_count": 49,
   "id": "6decee2d-0bde-4da3-a57c-da8d4092ed8f",
   "metadata": {},
   "outputs": [],
   "source": [
    "# features"
   ]
  },
  {
   "cell_type": "code",
   "execution_count": 50,
   "id": "3e4c13a1-ed95-47dc-97ac-857d31fbb477",
   "metadata": {},
   "outputs": [],
   "source": [
    "# def Average(lst):\n",
    "#     return sum(lst) / len(lst)\n",
    "\n",
    "# def Minimum(lst):\n",
    "#     return min(lst)"
   ]
  },
  {
   "cell_type": "code",
   "execution_count": 51,
   "id": "d995f7e3-fe2f-4d1c-8619-cb57ecf36108",
   "metadata": {
    "tags": []
   },
   "outputs": [],
   "source": [
    "# from statsmodels.tsa.stattools import adfuller\n",
    "# np.seterr(divide = 'ignore') \n",
    "\n",
    "# for feature in features:\n",
    "#     locals()[\"adf\"+feature] = []\n",
    "\n",
    "# for i in range(len(tc_name_list)):\n",
    "#     for name in tc_name_list[i]:\n",
    "#         for feature in features:\n",
    "#             # print(\"Stationary test of \", feature)\n",
    "#             df_adf = globals()['df_WP_%s_%s'%((str(2000+i)), name)][[feature]]\n",
    "#             # df_adf_lat.plot(figsize=(8,4))\n",
    "#             # plt.show()\n",
    "#             adf = adfuller(df_adf)\n",
    "#             # print(adf[1])\n",
    "#             if np.isnan(adf[1])== True:\n",
    "#                 temp_list = list(adf)\n",
    "#                 temp_list[1] = 0\n",
    "#                 adf = tuple(temp_list)\n",
    "#                 locals()[\"adf\"+feature].append(adf[1])\n",
    "#             else:\n",
    "#                 locals()[\"adf\"+feature].append(adf[1])\n",
    "#             # print(\"ADF Stat: \" , adf[0])\n",
    "#             # print(\"P-value: \" , adf[1])\n",
    "#             # print(\"Critical Value: \" , adf[4])\n",
    "#             # print(\"\\n\")"
   ]
  },
  {
   "cell_type": "code",
   "execution_count": 52,
   "id": "6b8f57d9-6cf0-4694-ab4e-e0eaffe54b4e",
   "metadata": {
    "tags": []
   },
   "outputs": [],
   "source": [
    "# print(\"Threshold : 0.05 \")\n",
    "# for feature in features:\n",
    "#     print(\"Average P-value of ADF test of each\", feature, \"in all typhoon data :\", Average(locals()[\"adf\"+feature]))\n",
    "# print(\"\\n\") \n",
    "# for feature in features:\n",
    "#     print(\"Minimum P-value of ADF test of each\", feature, \"in all typhoon data :\", Minimum(locals()[\"adf\"+feature]))"
   ]
  },
  {
   "cell_type": "markdown",
   "id": "db20d52a-04e6-4281-8c22-0de3d17e4bfa",
   "metadata": {},
   "source": [
    "P-value is greater than significant level of 0.05, all variables are individually non stationary, therefore, pass to cointegration test to check whether residual of two variables has a long term stationary property."
   ]
  },
  {
   "cell_type": "markdown",
   "id": "f3d2befe-bb02-48c7-8152-87bb760fd90d",
   "metadata": {
    "tags": []
   },
   "source": [
    "### Cointegration test"
   ]
  },
  {
   "cell_type": "code",
   "execution_count": 53,
   "id": "b03648f9-bce9-47ae-9fc4-f9bdf5c814b0",
   "metadata": {
    "tags": []
   },
   "outputs": [],
   "source": [
    "# import statsmodels.tsa.stattools as ts\n",
    "# for feature in features:\n",
    "#     locals()[\"coin_lat_\"+feature] = []\n",
    "#     locals()[\"coin_lon_\"+feature] = []\n",
    "\n",
    "# for i in range(len(tc_name_list)):\n",
    "#     for name in tc_name_list[i]:    \n",
    "#         for feature in features:\n",
    "#             # print(\"Cointegration test between USA LAT and\", feature)\n",
    "#             coin_result = ts.coint(globals()['df_WP_%s_%s'%((str(2000+i)), name)][\"USA_LAT\"], globals()['df_WP_%s_%s'%((str(2000+i)), name)][feature])\n",
    "#             locals()[\"coin_lat_\"+feature].append(coin_result[1])\n",
    "#             # print(\"t-statistics of unit root test: \", coin_result[0])\n",
    "#             # print(\"p-value: \", coin_result[1])\n",
    "#             # print(\"critical values of 1%m 5% and 10%: \",coin_result[2])\n",
    "#             # print(\"\\n\")\n",
    "\n",
    "# print(\"----------------------------------------------------------------------------------\")\n",
    "\n",
    "# for i in range(len(tc_name_list)):\n",
    "#     for name in tc_name_list[i]:    \n",
    "#         for feature in features:\n",
    "#             # print(\"Cointegration test between USA LON and\", feature)\n",
    "#             coin_result = ts.coint(globals()['df_WP_%s_%s'%((str(2000+i)), name)][\"USA_LON\"], globals()['df_WP_%s_%s'%((str(2000+i)), name)][feature])\n",
    "#             locals()[\"coin_lon_\"+feature].append(coin_result[1])\n",
    "#             # print(\"t-statistics of unit root test: \", coin_result[0])\n",
    "#             # print(\"p-value: \", coin_result[1])\n",
    "#             # print(\"critical values of 1%m 5% and 10%: \",coin_result[2])\n",
    "#             # print(\"\\n\")"
   ]
  },
  {
   "cell_type": "code",
   "execution_count": 54,
   "id": "43766702-53fb-43dd-b313-adaecc87df23",
   "metadata": {
    "tags": []
   },
   "outputs": [],
   "source": [
    "# print(\"Threshold : 0.05 \")\n",
    "# for feature in features:\n",
    "#     print(\"Average P-value of Cointegration test between Latitude and\", feature, \"in all typhoon data :\", Average(locals()[\"coin_lat_\"+feature]))\n",
    "# print(\"\\n\") \n",
    "\n",
    "# for feature in features:\n",
    "#     print(\"Average P-value of Cointegration test between Longitude and\", feature, \"in all typhoon data :\", Average(locals()[\"coin_lon_\"+feature]))\n",
    "# print(\"\\n\") \n",
    "\n",
    "# for feature in features:\n",
    "#     print(\"Minimum P-value of Cointegration test between Latitude and\", feature, \"in all typhoon data :\", Minimum(locals()[\"coin_lat_\"+feature]))\n",
    "\n",
    "# print(\"\\n\") \n",
    "# for feature in features:    \n",
    "#     print(\"Minimum P-value of Cointegration test between Longitude and\", feature, \"in all typhoon data :\", Minimum(locals()[\"coin_lon_\"+feature]))"
   ]
  },
  {
   "cell_type": "markdown",
   "id": "ed13b641-5261-48f1-8199-454a0167f33f",
   "metadata": {},
   "source": [
    "All p-value is greater than 0.05 \n",
    "\n",
    "no stationary property between latitude, longitude and other meteorological features"
   ]
  },
  {
   "cell_type": "markdown",
   "id": "87fc6361-8940-4925-8877-d4f637c97c19",
   "metadata": {},
   "source": [
    "Since the sequential data is not stationary, we can expect that there is no granger casuality between any features  to latitude or lonigtude"
   ]
  },
  {
   "cell_type": "markdown",
   "id": "86c362e2-37f5-42aa-8d80-270f21f7a8cd",
   "metadata": {},
   "source": [
    "But we can still proceed the granger causality test to clarity whether the null hypothesis of no granger casusality relationship will be accepted "
   ]
  },
  {
   "cell_type": "markdown",
   "id": "1c7d1f94-0e18-41a0-83ce-7c64b96a9474",
   "metadata": {
    "tags": []
   },
   "source": [
    "### Granger Causality test"
   ]
  },
  {
   "cell_type": "code",
   "execution_count": 55,
   "id": "962f0d8d-a788-423d-bfd4-b5a6143cd3c3",
   "metadata": {},
   "outputs": [],
   "source": [
    "# from statsmodels.tsa.stattools import grangercausalitytests"
   ]
  },
  {
   "cell_type": "code",
   "execution_count": 56,
   "id": "2d28bd16-d75e-4128-ae8c-4be67745e5ad",
   "metadata": {
    "tags": []
   },
   "outputs": [],
   "source": [
    "# for feature in features:\n",
    "#     locals()[\"gc_lat_\"+feature] = []\n",
    "\n",
    "# for i in range(len(tc_name_list)):\n",
    "#     for name in tc_name_list[i]:\n",
    "#         for feature in features:\n",
    "#             # print(\"Result: \", features[0], \"and\", feature) \n",
    "#             df_granger = globals()['df_WP_%s_%s'%((str(2000+i)), name)][[features[0], feature]]\n",
    "#             # df_granger = df_WP_2018_WUKONG[[features[0], feature]]\n",
    "#             try:\n",
    "#                 ### 5 lags trial ### \n",
    "#                 gc_result = grangercausalitytests(df_granger, 5, verbose=False)\n",
    "#                 p_value = gc_result[5][0]['ssr_ftest'][1]\n",
    "#                 locals()[\"gc_lat_\"+feature].append(p_value)\n",
    "#             except InfeasibleTestError:\n",
    "#                 print(\"The x values include a column with constant values and so the test statistic cannot be computed.\")\n",
    "#             except ValueError:\n",
    "#                 continue\n",
    "#             print(\"-----------------------------------------------------------------------------------\")"
   ]
  },
  {
   "cell_type": "code",
   "execution_count": 57,
   "id": "7af21013-3e60-4f50-b3d8-b853dc938f4d",
   "metadata": {
    "tags": []
   },
   "outputs": [],
   "source": [
    "# print(\"Threshold : 0.05 \")\n",
    "# for feature in features:\n",
    "#     print(\"Average P-value of Granger causality test in 5 lags between Latitude and\", feature, \"in all typhoon data :\", Average(locals()[\"gc_lat_\"+feature]))\n",
    "# print(\"\\n\") \n",
    "# for feature in features:\n",
    "#     print(\"Minimum P-value of Granger causality test in 5 lags between Latitude and\", feature, \"in all typhoon data :\", Minimum(locals()[\"gc_lat_\"+feature]))"
   ]
  },
  {
   "cell_type": "code",
   "execution_count": 58,
   "id": "b3cd05ec-4d8c-42cd-b88b-68b998039278",
   "metadata": {
    "tags": []
   },
   "outputs": [],
   "source": [
    "# for feature in features:\n",
    "#     locals()[\"gc_long_\"+feature] = []\n",
    "\n",
    "# for i in range(len(tc_name_list)):\n",
    "#     for name in tc_name_list[i]:\n",
    "#         for feature in features:\n",
    "#             # print(\"Result: \", features[0], \"and\", feature) \n",
    "#             df_granger = globals()['df_WP_%s_%s'%((str(2000+i)), name)][[features[1], feature]]\n",
    "#             # df_granger = df_WP_2018_WUKONG[[features[0], feature]]\n",
    "#             try:\n",
    "#                 ### 5 lags trial ### \n",
    "#                 gc_result = grangercausalitytests(df_granger, 5, verbose=False)\n",
    "#                 p_value = gc_result[5][0]['ssr_ftest'][1]\n",
    "#                 locals()[\"gc_long_\"+feature].append(p_value)\n",
    "#             except InfeasibleTestError:\n",
    "#                 print(\"The x values include a column with constant values and so the test statistic cannot be computed.\")\n",
    "#             except ValueError:\n",
    "#                 continue\n",
    "#             print(\"-----------------------------------------------------------------------------------\")"
   ]
  },
  {
   "cell_type": "code",
   "execution_count": 59,
   "id": "72fb47cf-7c3f-4bda-9121-8e2f0cfb6e0b",
   "metadata": {
    "tags": []
   },
   "outputs": [],
   "source": [
    "# print(\"Threshold : 0.05 \")\n",
    "# for feature in features:\n",
    "#     print(\"Average P-value of Granger causality test in 5 lags between Longitude and\", feature, \"in all typhoon data :\", Average(locals()[\"gc_long_\"+feature]))\n",
    "# print(\"\\n\") \n",
    "# for feature in features:\n",
    "#     print(\"Minimum P-value of Granger causality test in 5 lags between Longitude and\", feature, \"in all typhoon data :\", Minimum(locals()[\"gc_long_\"+feature]))"
   ]
  },
  {
   "cell_type": "markdown",
   "id": "8b9d17ca-a1a1-4f2a-b3db-9ce09dd6d19c",
   "metadata": {},
   "source": [
    "Based on the p-value obtained from F-test, all values are greater than the significance level of 0.05, we are failed to reject the null hypothesis. We can conclude that there is no granger causality relationship between any meteorological features and latitude, longitude"
   ]
  },
  {
   "cell_type": "markdown",
   "id": "3d1dc17e-0190-4fd0-86a9-adab694c08ef",
   "metadata": {
    "tags": []
   },
   "source": [
    "### Latitude Prediction"
   ]
  },
  {
   "cell_type": "code",
   "execution_count": 60,
   "id": "e49df428-dd16-4b25-adb1-b8390d5bb9a0",
   "metadata": {},
   "outputs": [],
   "source": [
    "tc_name_list[18].remove('MANGKHUT')"
   ]
  },
  {
   "cell_type": "code",
   "execution_count": 61,
   "id": "2bf31cff-c6e4-4426-ba02-6869cf827e54",
   "metadata": {},
   "outputs": [],
   "source": [
    "tc_name_list[18].remove('KONGREY')"
   ]
  },
  {
   "cell_type": "code",
   "execution_count": 62,
   "id": "74081072-440f-446d-ba63-469b240db574",
   "metadata": {},
   "outputs": [],
   "source": [
    "tc_name_list[18].remove('YUTU')"
   ]
  },
  {
   "cell_type": "code",
   "execution_count": 63,
   "id": "4abc9059-f580-427f-89ae-2a0235b067c5",
   "metadata": {},
   "outputs": [],
   "source": [
    "tc_name_list[19].remove('WUTIP')"
   ]
  },
  {
   "cell_type": "code",
   "execution_count": 64,
   "id": "49cc5414-861c-4cdc-8270-9e7fad106c9e",
   "metadata": {},
   "outputs": [],
   "source": [
    "cols_target = list(df_WP_2018_MANGKHUT)[1:2]"
   ]
  },
  {
   "cell_type": "code",
   "execution_count": 65,
   "id": "5b30dc9f-d8c2-4262-9a22-a1598219cb21",
   "metadata": {},
   "outputs": [
    {
     "data": {
      "text/plain": [
       "['USA_LAT']"
      ]
     },
     "execution_count": 65,
     "metadata": {},
     "output_type": "execute_result"
    }
   ],
   "source": [
    "cols_target"
   ]
  },
  {
   "cell_type": "code",
   "execution_count": 66,
   "id": "60865a32-6c0c-4f5f-840b-ecb217f633ca",
   "metadata": {},
   "outputs": [
    {
     "name": "stdout",
     "output_type": "stream",
     "text": [
      "['USA_LAT', 'USA_LON', 'DIST2LAND', 'USA_WIND', 'USA_PRES', 'USA_R34_NE', 'USA_R34_SE', 'USA_R34_SW', 'USA_R34_NW', 'USA_R50_NE', 'USA_R50_SE', 'USA_R50_SW', 'USA_R50_NW', 'USA_R64_NE', 'USA_R64_SE', 'USA_R64_SW', 'USA_R64_NW']\n",
      "['USA_LAT']\n"
     ]
    }
   ],
   "source": [
    "print(cols_features)\n",
    "print(cols_target)"
   ]
  },
  {
   "cell_type": "code",
   "execution_count": 67,
   "id": "9c9fb241-99a9-493f-a0b5-69ce090d49e1",
   "metadata": {},
   "outputs": [],
   "source": [
    "for i in range(len(tc_name_list)):\n",
    "    for name in tc_name_list[i]:\n",
    "        globals()['df_features_lat_%s_%s'%((str(2000+i)), name)] = globals()['df_WP_%s_%s'%((str(2000+i)), name)][cols_features].astype(float)\n",
    "        globals()['df_target_lat_%s_%s'%((str(2000+i)), name)] = globals()['df_WP_%s_%s'%((str(2000+i)), name)][cols_target].astype(float)"
   ]
  },
  {
   "cell_type": "code",
   "execution_count": 68,
   "id": "654f6e42-ba35-4b21-b0e5-ee20bd8e8276",
   "metadata": {},
   "outputs": [],
   "source": [
    "trainX_lat = []\n",
    "trainY_lat = []\n",
    "valX_lat = []\n",
    "valY_lat = []\n",
    "testX_lat = []\n",
    "testY_lat = []"
   ]
  },
  {
   "cell_type": "code",
   "execution_count": 69,
   "id": "4ad8b3c8-4d73-49b6-bb41-fd5bea911901",
   "metadata": {},
   "outputs": [],
   "source": [
    "for i in range(len(tc_name_list)): ### 20 years of data for training (2000-2020)\n",
    "    for name in tc_name_list[i]:\n",
    "        globals()['df_features_lat_%s_%s'%((str(2000+i)), name)] = globals()['df_features_lat_%s_%s'%((str(2000+i)), name)].to_numpy()\n",
    "        globals()['df_target_lat_%s_%s'%((str(2000+i)), name)] = globals()['df_target_lat_%s_%s'%((str(2000+i)), name)].to_numpy()"
   ]
  },
  {
   "cell_type": "code",
   "execution_count": 70,
   "id": "36ca4cac-e174-429d-982a-06d0d15a6f3f",
   "metadata": {},
   "outputs": [],
   "source": [
    "dict_name = {}\n",
    "count = 0\n",
    "for i in range(len(tc_name_list)):\n",
    "    for name in tc_name_list[i]:\n",
    "            for j in range(n_past, len(globals()['df_features_lat_%s_%s'%((str(2000+i)), name)])-n_future+1):\n",
    "                trainX_lat.append(globals()['df_features_lat_%s_%s'%((str(2000+i)), name)][j-n_past:j,0:globals()['df_features_lat_%s_%s'%((str(2000+i)), name)].shape[1]])\n",
    "                trainY_lat.append(globals()['df_target_lat_%s_%s'%((str(2000+i)), name)][j+n_future-1:j+n_future,0])\n",
    "                dict_name[count] = name\n",
    "                count +=1"
   ]
  },
  {
   "cell_type": "code",
   "execution_count": 71,
   "id": "0534638a-0e98-4131-8965-1f65be0c7d87",
   "metadata": {
    "tags": []
   },
   "outputs": [
    {
     "data": {
      "text/plain": [
       "'BANYAN'"
      ]
     },
     "execution_count": 71,
     "metadata": {},
     "output_type": "execute_result"
    }
   ],
   "source": [
    "dict_name[22965]"
   ]
  },
  {
   "cell_type": "code",
   "execution_count": 72,
   "id": "bf4c9843-dd8d-45a6-bf2c-5fd55051f50e",
   "metadata": {},
   "outputs": [
    {
     "name": "stdout",
     "output_type": "stream",
     "text": [
      "19\n",
      "20\n",
      "21\n"
     ]
    }
   ],
   "source": [
    "count_list = []\n",
    "\n",
    "for i in range(19,22):\n",
    "    print(i)\n",
    "    count_list.append(len(tc_name_list[i]))"
   ]
  },
  {
   "cell_type": "code",
   "execution_count": 73,
   "id": "333b1f54-7bae-42c5-9771-ca8a0f13bb91",
   "metadata": {},
   "outputs": [
    {
     "data": {
      "text/plain": [
       "64"
      ]
     },
     "execution_count": 73,
     "metadata": {},
     "output_type": "execute_result"
    }
   ],
   "source": [
    "sum(count_list)"
   ]
  },
  {
   "cell_type": "code",
   "execution_count": 74,
   "id": "39e3c043-6cea-41ef-8bdf-3b330a0f7615",
   "metadata": {},
   "outputs": [
    {
     "data": {
      "text/plain": [
       "26"
      ]
     },
     "execution_count": 74,
     "metadata": {},
     "output_type": "execute_result"
    }
   ],
   "source": [
    "len(tc_name_list[19])"
   ]
  },
  {
   "cell_type": "code",
   "execution_count": 75,
   "id": "f8200b50-b48e-4ea7-882d-6e023306f40e",
   "metadata": {},
   "outputs": [],
   "source": [
    "trainX_lat = np.array(trainX_lat)"
   ]
  },
  {
   "cell_type": "code",
   "execution_count": 76,
   "id": "84ca907b-2cdb-43fe-a78e-d25a10989e7f",
   "metadata": {
    "tags": []
   },
   "outputs": [
    {
     "data": {
      "text/plain": [
       "array([[0.094     , 0.34576067, 0.23662681, 0.12280702, 0.        ,\n",
       "        0.        , 0.        , 0.        , 0.        , 0.        ,\n",
       "        0.        , 0.        , 0.        , 0.        , 0.        ,\n",
       "        0.        , 0.        ],\n",
       "       [0.0938598 , 0.34021046, 0.23631215, 0.13450292, 0.        ,\n",
       "        0.        , 0.        , 0.        , 0.        , 0.        ,\n",
       "        0.        , 0.        , 0.        , 0.        , 0.        ,\n",
       "        0.        , 0.        ],\n",
       "       [0.1       , 0.33553818, 0.25550661, 0.15204678, 0.        ,\n",
       "        0.        , 0.        , 0.        , 0.        , 0.        ,\n",
       "        0.        , 0.        , 0.        , 0.        , 0.        ,\n",
       "        0.        , 0.        ],\n",
       "       [0.1159446 , 0.33226097, 0.25676526, 0.15204678, 0.        ,\n",
       "        0.        , 0.        , 0.        , 0.        , 0.        ,\n",
       "        0.        , 0.        , 0.        , 0.        , 0.        ,\n",
       "        0.        , 0.        ],\n",
       "       [0.134     , 0.32952495, 0.23694147, 0.15204678, 0.        ,\n",
       "        0.        , 0.        , 0.        , 0.        , 0.        ,\n",
       "        0.        , 0.        , 0.        , 0.        , 0.        ,\n",
       "        0.        , 0.        ]])"
      ]
     },
     "execution_count": 76,
     "metadata": {},
     "output_type": "execute_result"
    }
   ],
   "source": [
    "trainX_lat[0]"
   ]
  },
  {
   "cell_type": "code",
   "execution_count": 77,
   "id": "ea2634c0-e4fc-46c9-b8b7-45e8fc00cbd2",
   "metadata": {},
   "outputs": [
    {
     "data": {
      "text/plain": [
       "(28712, 5, 17)"
      ]
     },
     "execution_count": 77,
     "metadata": {},
     "output_type": "execute_result"
    }
   ],
   "source": [
    "trainX_lat.shape"
   ]
  },
  {
   "cell_type": "code",
   "execution_count": 78,
   "id": "c115c0b3-cbac-4397-8f7e-60b511aa13a9",
   "metadata": {},
   "outputs": [],
   "source": [
    "trainX_lat, trainY_lat= np.array(trainX_lat), np.array(trainY_lat)\n",
    "valX_lat, valY_lat= np.array(valX_lat), np.array(valY_lat)\n",
    "testX_lat, testY_lat= np.array(testX_lat), np.array(testY_lat)\n",
    "\n",
    "# shuffle_idx\n",
    "# import random\n",
    "# shuffle_idx= random.shuffle([i for i in range(10000)])\n",
    "# trainX = trainX[shuffle_idx]\n",
    "# trainY = trainY[shuffle_idx]"
   ]
  },
  {
   "cell_type": "code",
   "execution_count": 79,
   "id": "ee88ec34-e532-4d31-9617-96c8db18d626",
   "metadata": {},
   "outputs": [
    {
     "name": "stdout",
     "output_type": "stream",
     "text": [
      "(28712, 5, 17)\n",
      "(28712, 1)\n",
      "(0,)\n",
      "(0,)\n",
      "(0,)\n",
      "(0,)\n"
     ]
    }
   ],
   "source": [
    "print(trainX_lat.shape)\n",
    "print(trainY_lat.shape)\n",
    "print(valX_lat.shape)\n",
    "print(valY_lat.shape)\n",
    "print(testX_lat.shape)\n",
    "print(testY_lat.shape)"
   ]
  },
  {
   "cell_type": "code",
   "execution_count": 80,
   "id": "fa7fea71-ef05-4cdb-8ec1-519ab17a3aac",
   "metadata": {},
   "outputs": [],
   "source": [
    "trainX_lat, valX_lat = trainX_lat[:(int(len(trainX_lat) * 0.8)),:,:], trainX_lat[(int(len(trainX_lat) * 0.8)):,:,:]"
   ]
  },
  {
   "cell_type": "code",
   "execution_count": 81,
   "id": "d04cc2a5-88d0-4c58-ae6e-7c66e1593a85",
   "metadata": {},
   "outputs": [],
   "source": [
    "trainY_lat, valY_lat = trainY_lat[:(int(len(trainY_lat) * 0.8)),:], trainY_lat[(int(len(trainY_lat) * 0.8)):,:]"
   ]
  },
  {
   "cell_type": "code",
   "execution_count": 82,
   "id": "f4323b85-5116-4733-9ace-3e6629925350",
   "metadata": {},
   "outputs": [],
   "source": [
    "valX_lat, testX_lat = valX_lat[:(int(len(valX_lat) * 0.5)),:,:], valX_lat[(int(len(valX_lat) * 0.5)):,:,:]"
   ]
  },
  {
   "cell_type": "code",
   "execution_count": 83,
   "id": "8424f12e-2846-4cdb-86a3-76c84c16c4d6",
   "metadata": {},
   "outputs": [],
   "source": [
    "valY_lat, testY_lat = valY_lat[:(int(len(valY_lat) * 0.5)),:], valY_lat[(int(len(valY_lat) * 0.5)):,:]"
   ]
  },
  {
   "cell_type": "code",
   "execution_count": 84,
   "id": "a829b55a-58d5-4519-9d2a-f9094f35036d",
   "metadata": {},
   "outputs": [],
   "source": [
    "# from sklearn.model_selection import train_test_split\n",
    "\n",
    "# trainX_lat, valX_lat, trainY_lat, valY_lat = train_test_split(trainX_lat,trainY_lat,test_size=0.20, random_state=42)\n",
    "# valX_lat, testX_lat, valY_lat, testY_lat = train_test_split(valX_lat,valY_lat,test_size=0.50, random_state=42)"
   ]
  },
  {
   "cell_type": "code",
   "execution_count": 85,
   "id": "56b79fc2-f467-4bbb-ac45-55b787aa29df",
   "metadata": {},
   "outputs": [
    {
     "name": "stdout",
     "output_type": "stream",
     "text": [
      "(22969, 5, 17)\n",
      "(22969, 1)\n",
      "(2871, 5, 17)\n",
      "(2871, 1)\n",
      "(2872, 5, 17)\n",
      "(2872, 1)\n"
     ]
    }
   ],
   "source": [
    "print(trainX_lat.shape)\n",
    "print(trainY_lat.shape)\n",
    "print(valX_lat.shape)\n",
    "print(valY_lat.shape)\n",
    "print(testX_lat.shape)\n",
    "print(testY_lat.shape)"
   ]
  },
  {
   "cell_type": "code",
   "execution_count": 86,
   "id": "023aed30-30ff-466b-8eb9-494dfecbda73",
   "metadata": {},
   "outputs": [
    {
     "data": {
      "text/plain": [
       "array([[0.382     , 0.38785328, 0.5129012 , 0.73684211, 0.92512315,\n",
       "        0.35483871, 0.23433875, 0.17570499, 0.21524664, 0.32835821,\n",
       "        0.23611111, 0.19902913, 0.25888325, 0.26470588, 0.21487603,\n",
       "        0.18918919, 0.24074074],\n",
       "       [0.395156  , 0.38540589, 0.48521082, 0.70760234, 0.93103448,\n",
       "        0.31085044, 0.23433875, 0.164859  , 0.21524664, 0.28855721,\n",
       "        0.23611111, 0.18446602, 0.24365482, 0.24264706, 0.21487603,\n",
       "        0.16216216, 0.24074074],\n",
       "       [0.408     , 0.38304269, 0.45877911, 0.67836257, 0.93694581,\n",
       "        0.26686217, 0.23433875, 0.15401302, 0.21524664, 0.25373134,\n",
       "        0.23611111, 0.17475728, 0.23350254, 0.22794118, 0.21487603,\n",
       "        0.14414414, 0.24074074],\n",
       "       [0.419146  , 0.38182201, 0.43864065, 0.64912281, 0.93990148,\n",
       "        0.27272727, 0.23433875, 0.15835141, 0.21973094, 0.26368159,\n",
       "        0.24537037, 0.18446602, 0.24365482, 0.22794118, 0.23140496,\n",
       "        0.16216216, 0.24074074],\n",
       "       [0.43      , 0.38123873, 0.41818754, 0.61988304, 0.94285714,\n",
       "        0.28152493, 0.23433875, 0.164859  , 0.2264574 , 0.27860697,\n",
       "        0.25925926, 0.19902913, 0.25888325, 0.22794118, 0.25619835,\n",
       "        0.18918919, 0.24074074]])"
      ]
     },
     "execution_count": 86,
     "metadata": {},
     "output_type": "execute_result"
    }
   ],
   "source": [
    "testX_lat[0]"
   ]
  },
  {
   "cell_type": "code",
   "execution_count": null,
   "id": "6a542667-7e9f-4520-abd5-d68e09edd371",
   "metadata": {},
   "outputs": [],
   "source": []
  },
  {
   "cell_type": "code",
   "execution_count": null,
   "id": "b18ea9c4-2391-41f2-9d23-2b3efa8b840a",
   "metadata": {},
   "outputs": [],
   "source": []
  },
  {
   "cell_type": "code",
   "execution_count": null,
   "id": "4852eafd-af67-4d80-a341-7ad779ab13be",
   "metadata": {},
   "outputs": [],
   "source": []
  },
  {
   "cell_type": "code",
   "execution_count": 87,
   "id": "1c07de5b-c4bc-48a7-8676-966134ed97ff",
   "metadata": {},
   "outputs": [
    {
     "data": {
      "text/plain": [
       "numpy.ndarray"
      ]
     },
     "execution_count": 87,
     "metadata": {},
     "output_type": "execute_result"
    }
   ],
   "source": [
    "type(trainX_lat)"
   ]
  },
  {
   "cell_type": "code",
   "execution_count": 88,
   "id": "7917d286-af07-4bda-83a3-0c55bb0f163f",
   "metadata": {},
   "outputs": [
    {
     "data": {
      "text/plain": [
       "5"
      ]
     },
     "execution_count": 88,
     "metadata": {},
     "output_type": "execute_result"
    }
   ],
   "source": [
    "trainX_lat.shape[1]"
   ]
  },
  {
   "cell_type": "code",
   "execution_count": 89,
   "id": "2f524b3e-3704-4025-9c7e-4222761965d1",
   "metadata": {},
   "outputs": [],
   "source": [
    "import torch\n",
    "\n",
    "import os\n",
    "import numpy as np\n",
    "import pandas as pd\n",
    "from tqdm import tqdm\n",
    "import seaborn as sns\n",
    "from pylab import rcParams\n",
    "import matplotlib.pyplot as plt\n",
    "from matplotlib import rc\n",
    "from sklearn.model_selection import train_test_split\n",
    "from sklearn.metrics import confusion_matrix, classification_report\n",
    "\n",
    "from torch import nn, optim\n",
    "\n",
    "import torch.nn.functional as F\n",
    "device = torch.device('cuda' if torch.cuda.is_available() else 'cpu')"
   ]
  },
  {
   "cell_type": "code",
   "execution_count": 90,
   "id": "daf1c952-90a6-456d-981c-e86748ee03c7",
   "metadata": {},
   "outputs": [],
   "source": [
    "trainX_lat = torch.from_numpy(trainX_lat).float().to(device)\n",
    "trainY_lat = torch.from_numpy(trainY_lat).float().to(device)\n",
    "valX_lat = torch.from_numpy(valX_lat).float().to(device)\n",
    "valY_lat = torch.from_numpy(valY_lat).float().to(device)\n",
    "testX_lat = torch.from_numpy(testX_lat).float().to(device)\n",
    "testY_lat = torch.from_numpy(testY_lat).float().to(device)"
   ]
  },
  {
   "cell_type": "code",
   "execution_count": 91,
   "id": "c2c3d088-3c80-404b-b7b8-2c24b6f814c8",
   "metadata": {},
   "outputs": [
    {
     "data": {
      "text/plain": [
       "torch.Size([5, 17])"
      ]
     },
     "execution_count": 91,
     "metadata": {},
     "output_type": "execute_result"
    }
   ],
   "source": [
    "trainX_lat[0].shape"
   ]
  },
  {
   "cell_type": "code",
   "execution_count": 92,
   "id": "5ba968f1-c827-49dc-9cc2-97e6185210bd",
   "metadata": {},
   "outputs": [
    {
     "data": {
      "text/plain": [
       "tensor([0.1458], device='cuda:0')"
      ]
     },
     "execution_count": 92,
     "metadata": {},
     "output_type": "execute_result"
    }
   ],
   "source": [
    "trainY_lat[0]"
   ]
  },
  {
   "cell_type": "code",
   "execution_count": 93,
   "id": "bc2dfd9b-e015-4847-824c-4e670303083e",
   "metadata": {},
   "outputs": [],
   "source": [
    "from torch.utils.data import TensorDataset, DataLoader\n",
    "\n",
    "train = TensorDataset(trainX_lat, trainY_lat)\n",
    "val = TensorDataset(valX_lat, valY_lat)\n",
    "test = TensorDataset(testX_lat, testY_lat)\n",
    "\n",
    "# # shuffle = true\n",
    "# train_loader = DataLoader(train, batch_size=batch_size, shuffle=True, drop_last=True)\n",
    "# val_loader = DataLoader(val, batch_size=batch_size, shuffle=True, drop_last=True)\n",
    "# test_loader = DataLoader(test, batch_size=batch_size, shuffle=True, drop_last=True)\n",
    "# test_loader_one = DataLoader(test, batch_size=1, shuffle=True, drop_last=True)"
   ]
  },
  {
   "cell_type": "code",
   "execution_count": 94,
   "id": "54eb54e2-cdd1-4a79-abe7-c070ae4d21da",
   "metadata": {},
   "outputs": [
    {
     "data": {
      "text/plain": [
       "(tensor([[0.0940, 0.3458, 0.2366, 0.1228, 0.0000, 0.0000, 0.0000, 0.0000, 0.0000,\n",
       "          0.0000, 0.0000, 0.0000, 0.0000, 0.0000, 0.0000, 0.0000, 0.0000],\n",
       "         [0.0939, 0.3402, 0.2363, 0.1345, 0.0000, 0.0000, 0.0000, 0.0000, 0.0000,\n",
       "          0.0000, 0.0000, 0.0000, 0.0000, 0.0000, 0.0000, 0.0000, 0.0000],\n",
       "         [0.1000, 0.3355, 0.2555, 0.1520, 0.0000, 0.0000, 0.0000, 0.0000, 0.0000,\n",
       "          0.0000, 0.0000, 0.0000, 0.0000, 0.0000, 0.0000, 0.0000, 0.0000],\n",
       "         [0.1159, 0.3323, 0.2568, 0.1520, 0.0000, 0.0000, 0.0000, 0.0000, 0.0000,\n",
       "          0.0000, 0.0000, 0.0000, 0.0000, 0.0000, 0.0000, 0.0000, 0.0000],\n",
       "         [0.1340, 0.3295, 0.2369, 0.1520, 0.0000, 0.0000, 0.0000, 0.0000, 0.0000,\n",
       "          0.0000, 0.0000, 0.0000, 0.0000, 0.0000, 0.0000, 0.0000, 0.0000]],\n",
       "        device='cuda:0'),\n",
       " tensor([0.1458], device='cuda:0'))"
      ]
     },
     "execution_count": 94,
     "metadata": {},
     "output_type": "execute_result"
    }
   ],
   "source": [
    "train[0]"
   ]
  },
  {
   "cell_type": "code",
   "execution_count": 95,
   "id": "7de11c26-4498-4152-95b2-e47b170a5c12",
   "metadata": {},
   "outputs": [],
   "source": [
    "class LSTMModel(nn.Module):\n",
    "    def __init__(self, input_dim, hidden_dim, layer_dim, output_dim, dropout_prob):\n",
    "        super(LSTMModel, self).__init__()\n",
    "\n",
    "        # Defining the number of layers and the nodes in each layer\n",
    "        self.hidden_dim = hidden_dim\n",
    "        self.layer_dim = layer_dim\n",
    "\n",
    "        # LSTM layers\n",
    "        self.lstm = nn.LSTM(\n",
    "            input_dim, hidden_dim, layer_dim, batch_first=True, dropout=dropout_prob\n",
    "        )\n",
    "\n",
    "        # Fully connected layer\n",
    "        self.fc = nn.Linear(hidden_dim, output_dim)\n",
    "\n",
    "    def forward(self, x):\n",
    "        # Initializing hidden state for first input with zeros\n",
    "        h0 = torch.zeros(self.layer_dim, x.size(0), self.hidden_dim, device=x.device).requires_grad_()\n",
    "\n",
    "        # Initializing cell state for first input with zeros\n",
    "        c0 = torch.zeros(self.layer_dim, x.size(0), self.hidden_dim, device=x.device).requires_grad_()\n",
    "\n",
    "        # We need to detach as we are doing truncated backpropagation through time (BPTT)\n",
    "        # If we don't, we'll backprop all the way to the start even after going through another batch\n",
    "        # Forward propagation by passing in the input, hidden state, and cell state into the model\n",
    "        out, (hn, cn) = self.lstm(x, (h0.detach(), c0.detach()))\n",
    "        \n",
    "        # print(out.shape)\n",
    "\n",
    "        # Reshaping the outputs in the shape of (batch_size, seq_length, hidden_size)\n",
    "        # so that it can fit into the fully connected layer\n",
    "        out = out[:, -1, :]\n",
    "        \n",
    "        # print(out.shape)\n",
    "\n",
    "        # Convert the final state to our desired output shape (batch_size, output_dim)\n",
    "        out = self.fc(out)\n",
    "\n",
    "        return out"
   ]
  },
  {
   "cell_type": "code",
   "execution_count": 96,
   "id": "87ddcc78-717c-4cce-8a3b-64b254e3fe46",
   "metadata": {},
   "outputs": [],
   "source": [
    "validation_list_lat = []"
   ]
  },
  {
   "cell_type": "code",
   "execution_count": 97,
   "id": "45fba850-289d-47f3-8d03-166cb0e89621",
   "metadata": {},
   "outputs": [],
   "source": [
    "class Optimization_Lat:\n",
    "    def __init__(self, model, loss_fn, optimizer):\n",
    "        self.model = model\n",
    "        self.loss_fn = loss_fn\n",
    "        self.optimizer = optimizer\n",
    "        self.train_losses = []\n",
    "        self.val_losses = []\n",
    "    \n",
    "    def train_step(self, x, y):\n",
    "        # Sets model to train mode\n",
    "        self.model.train()\n",
    "        \n",
    "        x = x.to(device)\n",
    "        y = y.to(device)\n",
    "\n",
    "        \n",
    "#         print(x.shape)\n",
    "#         print(\"y:\", y)\n",
    "        \n",
    "        \n",
    "        # Makes predictions\n",
    "        yhat = self.model(x)\n",
    "\n",
    "        # print(\"yhat:\", yhat)\n",
    "        \n",
    "        # Computes loss\n",
    "        loss = self.loss_fn(y, yhat)\n",
    "\n",
    "        # Computes gradients\n",
    "        loss.backward()\n",
    "\n",
    "        # Updates parameters and zeroes gradients\n",
    "        self.optimizer.step()\n",
    "        self.optimizer.zero_grad()\n",
    "\n",
    "        # Returns the loss\n",
    "        return loss.item()\n",
    "    \n",
    "    def train(self, train_loader, val_loader, batch_size, n_epochs, n_features):\n",
    "        # model_path = f'models/{self.model}_{datetime.now().strftime(\"%Y-%m-%d %H:%M:%S\")}'\n",
    "        \n",
    "        model_path = \"model_lat\"\n",
    "        previous_validation_loss = 100\n",
    "        patience = 4\n",
    "        count = 0\n",
    "        \n",
    "        for epoch in range(1, n_epochs + 1):\n",
    "            batch_losses = []\n",
    "            for x_batch, y_batch in train_loader:\n",
    "                x_batch = x_batch.view([batch_size, n_past, n_features])\n",
    "                # print(\"X batch after view\" , x_batch)\n",
    "                # print(\"y batch\", y_batch)\n",
    "                y_batch = y_batch\n",
    "                \n",
    "                ## y_batch_class = label_conversion(y_batch)  -> define max, min, nbins\n",
    "                \n",
    "                \n",
    "                loss = self.train_step(x_batch, y_batch)\n",
    "                batch_losses.append(loss)\n",
    "            training_loss = np.mean(batch_losses)\n",
    "            self.train_losses.append(training_loss)\n",
    "\n",
    "            with torch.no_grad():\n",
    "                batch_val_losses = []\n",
    "                for x_val, y_val in val_loader:\n",
    "                    x_val = x_val.view([batch_size, n_past , n_features])\n",
    "                    x_val = x_val.to(device)\n",
    "                    y_val = y_val.to(device)\n",
    "                    self.model.eval()\n",
    "                    yhat = self.model(x_val)\n",
    "                    val_loss = self.loss_fn(y_val, yhat).item()\n",
    "                    batch_val_losses.append(val_loss)\n",
    "                validation_loss = np.mean(batch_val_losses)\n",
    "                self.val_losses.append(validation_loss)\n",
    "                print(f\"[{epoch}/{n_epochs}] Training loss: {training_loss:.8f}\\t Validation loss: {validation_loss:.8f}\")\n",
    "                validation_list_lat.append(validation_loss)\n",
    "                validation_list_lat.sort()\n",
    "                if validation_loss <= validation_list_lat[0]:\n",
    "                    torch.save(self.model, model_path)\n",
    "                    print(\"Updated best model\")\n",
    "                if validation_loss > previous_validation_loss:\n",
    "                    count +=1\n",
    "                    print(\"Current Validation_loss is greater than Previous Validation Loss, counting:\", count)\n",
    "                    if count>=patience:\n",
    "                        print(\"Early stopping executed!\")\n",
    "                        break\n",
    "                else:\n",
    "                    print(\"Continue progress to global minima\")\n",
    "                    count = 0\n",
    "                previous_validation_loss = validation_loss \n",
    "\n",
    "        # torch.save(self.model.state_dict(), model_path)\n",
    "    \n",
    "#     def evaluate(self, test_loader, batch_size=1, n_features=1):\n",
    "#         with torch.no_grad():\n",
    "#             predictions = []\n",
    "#             values = []\n",
    "#             for x_test, y_test in test_loader:\n",
    "#                 x_test = x_test.view([batch_size, 5, n_features])\n",
    "#                 y_test = y_test\n",
    "#                 self.model.eval()\n",
    "#                 yhat = self.model(x_test)\n",
    "#                 predictions.append(yhat.detach().numpy())\n",
    "#                 values.append(y_test.detach().numpy())\n",
    "\n",
    "#         return predictions, values\n",
    "    \n",
    "    def plot_losses(self):\n",
    "        plt.plot(self.train_losses, label=\"Training loss\")\n",
    "        plt.plot(self.val_losses, label=\"Validation loss\")\n",
    "        plt.legend()\n",
    "        plt.title(\"Losses\")\n",
    "        plt.show()\n",
    "        plt.close()"
   ]
  },
  {
   "cell_type": "code",
   "execution_count": 98,
   "id": "8d8cc58a-0fb8-401b-bfba-89868923e73b",
   "metadata": {},
   "outputs": [],
   "source": [
    "def get_model(model, model_params):\n",
    "    models = {\"lstm\": LSTMModel}\n",
    "    return models.get(model.lower())(**model_params)"
   ]
  },
  {
   "cell_type": "code",
   "execution_count": 100,
   "id": "5494e064-988b-48c2-a38e-12abddbfc475",
   "metadata": {
    "collapsed": true,
    "jupyter": {
     "outputs_hidden": true
    },
    "tags": []
   },
   "outputs": [
    {
     "name": "stdout",
     "output_type": "stream",
     "text": [
      "Batch:  8    Hidden dim:  16   Learning rate:  0.001\n",
      "[1/100] Training loss: 0.00275745\t Validation loss: 0.00023744\n",
      "Updated best model\n",
      "Continue progress to global minima\n",
      "[2/100] Training loss: 0.00015162\t Validation loss: 0.00013337\n",
      "Updated best model\n",
      "Continue progress to global minima\n",
      "[3/100] Training loss: 0.00008752\t Validation loss: 0.00014401\n",
      "Current Validation_loss is greater than Previous Validation Loss, counting: 1\n",
      "[4/100] Training loss: 0.00003654\t Validation loss: 0.00001968\n",
      "Updated best model\n",
      "Continue progress to global minima\n",
      "[5/100] Training loss: 0.00002054\t Validation loss: 0.00001659\n",
      "Updated best model\n",
      "Continue progress to global minima\n",
      "[6/100] Training loss: 0.00001613\t Validation loss: 0.00001380\n",
      "Updated best model\n",
      "Continue progress to global minima\n",
      "[7/100] Training loss: 0.00001518\t Validation loss: 0.00001242\n",
      "Updated best model\n",
      "Continue progress to global minima\n",
      "[8/100] Training loss: 0.00001341\t Validation loss: 0.00002584\n",
      "Current Validation_loss is greater than Previous Validation Loss, counting: 1\n",
      "[9/100] Training loss: 0.00001304\t Validation loss: 0.00001271\n",
      "Continue progress to global minima\n",
      "[10/100] Training loss: 0.00001241\t Validation loss: 0.00001125\n",
      "Updated best model\n",
      "Continue progress to global minima\n",
      "[11/100] Training loss: 0.00001186\t Validation loss: 0.00001881\n",
      "Current Validation_loss is greater than Previous Validation Loss, counting: 1\n",
      "[12/100] Training loss: 0.00001153\t Validation loss: 0.00001744\n",
      "Continue progress to global minima\n",
      "[13/100] Training loss: 0.00001076\t Validation loss: 0.00000758\n",
      "Updated best model\n",
      "Continue progress to global minima\n",
      "[14/100] Training loss: 0.00001045\t Validation loss: 0.00000908\n",
      "Current Validation_loss is greater than Previous Validation Loss, counting: 1\n",
      "[15/100] Training loss: 0.00001003\t Validation loss: 0.00002591\n",
      "Current Validation_loss is greater than Previous Validation Loss, counting: 2\n",
      "[16/100] Training loss: 0.00001022\t Validation loss: 0.00000710\n",
      "Updated best model\n",
      "Continue progress to global minima\n",
      "[17/100] Training loss: 0.00000939\t Validation loss: 0.00000758\n",
      "Current Validation_loss is greater than Previous Validation Loss, counting: 1\n",
      "[18/100] Training loss: 0.00000997\t Validation loss: 0.00002577\n",
      "Current Validation_loss is greater than Previous Validation Loss, counting: 2\n",
      "[19/100] Training loss: 0.00000953\t Validation loss: 0.00000840\n",
      "Continue progress to global minima\n",
      "[20/100] Training loss: 0.00000884\t Validation loss: 0.00001180\n",
      "Current Validation_loss is greater than Previous Validation Loss, counting: 1\n",
      "[21/100] Training loss: 0.00000935\t Validation loss: 0.00000599\n",
      "Updated best model\n",
      "Continue progress to global minima\n",
      "[22/100] Training loss: 0.00000929\t Validation loss: 0.00000848\n",
      "Current Validation_loss is greater than Previous Validation Loss, counting: 1\n",
      "[23/100] Training loss: 0.00000923\t Validation loss: 0.00000787\n",
      "Continue progress to global minima\n",
      "[24/100] Training loss: 0.00000830\t Validation loss: 0.00000881\n",
      "Current Validation_loss is greater than Previous Validation Loss, counting: 1\n",
      "[25/100] Training loss: 0.00000852\t Validation loss: 0.00000719\n",
      "Continue progress to global minima\n",
      "[26/100] Training loss: 0.00000835\t Validation loss: 0.00000839\n",
      "Current Validation_loss is greater than Previous Validation Loss, counting: 1\n",
      "[27/100] Training loss: 0.00000856\t Validation loss: 0.00002171\n",
      "Current Validation_loss is greater than Previous Validation Loss, counting: 2\n",
      "[28/100] Training loss: 0.00000827\t Validation loss: 0.00001630\n",
      "Continue progress to global minima\n",
      "[29/100] Training loss: 0.00000800\t Validation loss: 0.00000612\n",
      "Continue progress to global minima\n",
      "[30/100] Training loss: 0.00000842\t Validation loss: 0.00000924\n",
      "Current Validation_loss is greater than Previous Validation Loss, counting: 1\n",
      "[31/100] Training loss: 0.00000804\t Validation loss: 0.00000537\n",
      "Updated best model\n",
      "Continue progress to global minima\n",
      "[32/100] Training loss: 0.00000755\t Validation loss: 0.00000599\n",
      "Current Validation_loss is greater than Previous Validation Loss, counting: 1\n",
      "[33/100] Training loss: 0.00000793\t Validation loss: 0.00000756\n",
      "Current Validation_loss is greater than Previous Validation Loss, counting: 2\n",
      "[34/100] Training loss: 0.00000777\t Validation loss: 0.00000803\n",
      "Current Validation_loss is greater than Previous Validation Loss, counting: 3\n",
      "[35/100] Training loss: 0.00000770\t Validation loss: 0.00000576\n",
      "Continue progress to global minima\n",
      "[36/100] Training loss: 0.00000790\t Validation loss: 0.00000899\n",
      "Current Validation_loss is greater than Previous Validation Loss, counting: 1\n",
      "[37/100] Training loss: 0.00000784\t Validation loss: 0.00001084\n",
      "Current Validation_loss is greater than Previous Validation Loss, counting: 2\n",
      "[38/100] Training loss: 0.00000775\t Validation loss: 0.00000697\n",
      "Continue progress to global minima\n",
      "[39/100] Training loss: 0.00000768\t Validation loss: 0.00001128\n",
      "Current Validation_loss is greater than Previous Validation Loss, counting: 1\n",
      "[40/100] Training loss: 0.00000729\t Validation loss: 0.00000538\n",
      "Continue progress to global minima\n",
      "[41/100] Training loss: 0.00000746\t Validation loss: 0.00000548\n",
      "Current Validation_loss is greater than Previous Validation Loss, counting: 1\n",
      "[42/100] Training loss: 0.00000731\t Validation loss: 0.00001115\n",
      "Current Validation_loss is greater than Previous Validation Loss, counting: 2\n",
      "[43/100] Training loss: 0.00000765\t Validation loss: 0.00000611\n",
      "Continue progress to global minima\n",
      "[44/100] Training loss: 0.00000739\t Validation loss: 0.00000690\n",
      "Current Validation_loss is greater than Previous Validation Loss, counting: 1\n",
      "[45/100] Training loss: 0.00000731\t Validation loss: 0.00001442\n",
      "Current Validation_loss is greater than Previous Validation Loss, counting: 2\n",
      "[46/100] Training loss: 0.00000711\t Validation loss: 0.00000628\n",
      "Continue progress to global minima\n",
      "[47/100] Training loss: 0.00000722\t Validation loss: 0.00000596\n",
      "Continue progress to global minima\n",
      "[48/100] Training loss: 0.00000700\t Validation loss: 0.00000572\n",
      "Continue progress to global minima\n",
      "[49/100] Training loss: 0.00000735\t Validation loss: 0.00003842\n",
      "Current Validation_loss is greater than Previous Validation Loss, counting: 1\n",
      "[50/100] Training loss: 0.00000724\t Validation loss: 0.00000757\n",
      "Continue progress to global minima\n",
      "[51/100] Training loss: 0.00000743\t Validation loss: 0.00000618\n",
      "Continue progress to global minima\n",
      "[52/100] Training loss: 0.00000713\t Validation loss: 0.00000541\n",
      "Continue progress to global minima\n",
      "[53/100] Training loss: 0.00000697\t Validation loss: 0.00000545\n",
      "Current Validation_loss is greater than Previous Validation Loss, counting: 1\n",
      "[54/100] Training loss: 0.00000705\t Validation loss: 0.00001073\n",
      "Current Validation_loss is greater than Previous Validation Loss, counting: 2\n",
      "[55/100] Training loss: 0.00000671\t Validation loss: 0.00000616\n",
      "Continue progress to global minima\n",
      "[56/100] Training loss: 0.00000694\t Validation loss: 0.00000572\n",
      "Continue progress to global minima\n",
      "[57/100] Training loss: 0.00000661\t Validation loss: 0.00000561\n",
      "Continue progress to global minima\n",
      "[58/100] Training loss: 0.00000702\t Validation loss: 0.00000741\n",
      "Current Validation_loss is greater than Previous Validation Loss, counting: 1\n",
      "[59/100] Training loss: 0.00000681\t Validation loss: 0.00000682\n",
      "Continue progress to global minima\n",
      "[60/100] Training loss: 0.00000697\t Validation loss: 0.00000699\n",
      "Current Validation_loss is greater than Previous Validation Loss, counting: 1\n",
      "[61/100] Training loss: 0.00000681\t Validation loss: 0.00001028\n",
      "Current Validation_loss is greater than Previous Validation Loss, counting: 2\n",
      "[62/100] Training loss: 0.00000675\t Validation loss: 0.00000800\n",
      "Continue progress to global minima\n",
      "[63/100] Training loss: 0.00000675\t Validation loss: 0.00000570\n",
      "Continue progress to global minima\n",
      "[64/100] Training loss: 0.00000685\t Validation loss: 0.00000550\n",
      "Continue progress to global minima\n",
      "[65/100] Training loss: 0.00000646\t Validation loss: 0.00000512\n",
      "Updated best model\n",
      "Continue progress to global minima\n",
      "[66/100] Training loss: 0.00000682\t Validation loss: 0.00000783\n",
      "Current Validation_loss is greater than Previous Validation Loss, counting: 1\n",
      "[67/100] Training loss: 0.00000659\t Validation loss: 0.00000537\n",
      "Continue progress to global minima\n",
      "[68/100] Training loss: 0.00000665\t Validation loss: 0.00000571\n",
      "Current Validation_loss is greater than Previous Validation Loss, counting: 1\n",
      "[69/100] Training loss: 0.00000661\t Validation loss: 0.00001173\n",
      "Current Validation_loss is greater than Previous Validation Loss, counting: 2\n",
      "[70/100] Training loss: 0.00000653\t Validation loss: 0.00000745\n",
      "Continue progress to global minima\n",
      "[71/100] Training loss: 0.00000693\t Validation loss: 0.00000690\n",
      "Continue progress to global minima\n",
      "[72/100] Training loss: 0.00000657\t Validation loss: 0.00000529\n",
      "Continue progress to global minima\n",
      "[73/100] Training loss: 0.00000667\t Validation loss: 0.00000617\n",
      "Current Validation_loss is greater than Previous Validation Loss, counting: 1\n",
      "[74/100] Training loss: 0.00000657\t Validation loss: 0.00000733\n",
      "Current Validation_loss is greater than Previous Validation Loss, counting: 2\n",
      "[75/100] Training loss: 0.00000670\t Validation loss: 0.00000857\n",
      "Current Validation_loss is greater than Previous Validation Loss, counting: 3\n",
      "[76/100] Training loss: 0.00000637\t Validation loss: 0.00000918\n",
      "Current Validation_loss is greater than Previous Validation Loss, counting: 4\n",
      "Early stopping executed!\n"
     ]
    },
    {
     "data": {
      "image/png": "[encoded data removed]",
      "text/plain": [
       "<Figure size 432x288 with 1 Axes>"
      ]
     },
     "metadata": {
      "needs_background": "light"
     },
     "output_type": "display_data"
    }
   ],
   "source": [
    "import torch.optim as optim\n",
    "from torch.utils.data import TensorDataset, DataLoader\n",
    "\n",
    "# batch_size = 16\n",
    "input_dim = trainX_lat.shape[2]\n",
    "output_dim = 1\n",
    "layer_dim = 1\n",
    "dropout = 0\n",
    "n_epochs = 100\n",
    "# learning_rate = 1e-4\n",
    "weight_decay = 1e-6\n",
    "\n",
    "train = TensorDataset(trainX_lat, trainY_lat)\n",
    "val = TensorDataset(valX_lat, valY_lat)\n",
    "test = TensorDataset(testX_lat, testY_lat)\n",
    "\n",
    "batch_size = [8]\n",
    "hidden_dim = [16]\n",
    "learning_rate = [0.001]\n",
    "    \n",
    "for batch in batch_size:\n",
    "    for hd in hidden_dim:\n",
    "        for lr in learning_rate:\n",
    "            print(\"Batch: \", batch, \" \", \" Hidden dim: \", hd, \" \", \"Learning rate: \", lr)\n",
    "            # shuffle = true\n",
    "            train_loader = DataLoader(train, batch_size=batch, shuffle=True, drop_last=True)\n",
    "            val_loader = DataLoader(val, batch_size=batch, shuffle=True, drop_last=True)\n",
    "            test_loader = DataLoader(test, batch_size=batch, shuffle=True, drop_last=True)\n",
    "\n",
    "            model_params = {'input_dim': input_dim,\n",
    "                            'hidden_dim' : hd,\n",
    "                            'layer_dim' : layer_dim,\n",
    "                            'output_dim' : output_dim,\n",
    "                            'dropout_prob' : dropout }\n",
    "\n",
    "            model = get_model('lstm', model_params).to(device)\n",
    "            loss_fn = nn.MSELoss(reduction=\"mean\")\n",
    "            optimizer = optim.Adam(model.parameters(), lr=lr, weight_decay=weight_decay)\n",
    "\n",
    "            opt_lat = Optimization_Lat(model=model.to(device), loss_fn=loss_fn, optimizer=optimizer)\n",
    "            opt_lat.train(train_loader, val_loader, batch, n_epochs, input_dim)\n",
    "            opt_lat.plot_losses()\n",
    "\n",
    "# predictions, values = opt.evaluate(test_loader_one, batch_size=1, n_features=input_dim)"
   ]
  },
  {
   "cell_type": "code",
   "execution_count": 99,
   "id": "817f28d2-cf89-49e4-b672-19ca745c8635",
   "metadata": {},
   "outputs": [],
   "source": [
    "model_lat = torch.load('model_lat')"
   ]
  },
  {
   "cell_type": "code",
   "execution_count": 100,
   "id": "7b02187a-9ed5-4f36-9a77-bc8a575a0514",
   "metadata": {},
   "outputs": [],
   "source": [
    "y_pred_lat = model_lat(testX_lat)"
   ]
  },
  {
   "cell_type": "code",
   "execution_count": 101,
   "id": "23d9d714-ec6e-4a79-9652-1d1c0df00378",
   "metadata": {},
   "outputs": [],
   "source": [
    "y_pred_lat = y_pred_lat.cpu().detach().numpy()"
   ]
  },
  {
   "cell_type": "code",
   "execution_count": 102,
   "id": "4e785ff5-79ba-4137-bfb2-a28a6c2654a8",
   "metadata": {},
   "outputs": [],
   "source": [
    "y_pred_lat_origin = scaler_lat.inverse_transform(y_pred_lat)"
   ]
  },
  {
   "cell_type": "code",
   "execution_count": 103,
   "id": "cf6f483f-8ce3-4e48-ba14-7474758c792a",
   "metadata": {},
   "outputs": [],
   "source": [
    "testY_lat = testY_lat.cpu().detach().numpy()"
   ]
  },
  {
   "cell_type": "code",
   "execution_count": 104,
   "id": "163e026d-ff55-41f6-9f09-aa27cb3e0189",
   "metadata": {},
   "outputs": [],
   "source": [
    "y_test_lat_origin = scaler_lat.inverse_transform(testY_lat)"
   ]
  },
  {
   "cell_type": "code",
   "execution_count": 105,
   "id": "f2626fd8-9604-468b-8adb-d03487710d1e",
   "metadata": {},
   "outputs": [
    {
     "data": {
      "text/plain": [
       "(2872, 1)"
      ]
     },
     "execution_count": 105,
     "metadata": {},
     "output_type": "execute_result"
    }
   ],
   "source": [
    "y_test_lat_origin.shape"
   ]
  },
  {
   "cell_type": "code",
   "execution_count": 106,
   "id": "0063cc7b-a8f0-4ec2-9ea7-e2748ae9357e",
   "metadata": {},
   "outputs": [
    {
     "data": {
      "text/plain": [
       "array([[23.343637],\n",
       "       [23.972698],\n",
       "       [24.641703],\n",
       "       ...,\n",
       "       [22.728806],\n",
       "       [23.510485],\n",
       "       [23.846895]], dtype=float32)"
      ]
     },
     "execution_count": 106,
     "metadata": {},
     "output_type": "execute_result"
    }
   ],
   "source": [
    "y_pred_lat_origin"
   ]
  },
  {
   "cell_type": "code",
   "execution_count": 107,
   "id": "5bab0e03-377c-4e45-bb6d-9d05b9254b88",
   "metadata": {},
   "outputs": [
    {
     "name": "stdout",
     "output_type": "stream",
     "text": [
      "0.08436945\n",
      "0.2904641988396701\n"
     ]
    }
   ],
   "source": [
    "# import MSE for accurarcy metrics\n",
    "from sklearn.metrics import mean_squared_error\n",
    "import math\n",
    "\n",
    "print(mean_squared_error(y_test_lat_origin, y_pred_lat_origin))\n",
    "print(math.sqrt(mean_squared_error(y_test_lat_origin, y_pred_lat_origin)))"
   ]
  },
  {
   "cell_type": "code",
   "execution_count": 108,
   "id": "ea8b7b2e-2108-498c-9291-1708b80f1e2f",
   "metadata": {},
   "outputs": [
    {
     "name": "stdout",
     "output_type": "stream",
     "text": [
      "0.11279546\n",
      "0.33585034947714343\n"
     ]
    }
   ],
   "source": [
    "from sklearn.metrics import mean_absolute_error\n",
    "\n",
    "print(mean_absolute_error(y_test_lat_origin, y_pred_lat_origin))\n",
    "print(math.sqrt(mean_absolute_error(y_test_lat_origin, y_pred_lat_origin)))"
   ]
  },
  {
   "cell_type": "markdown",
   "id": "b64ee992-ed01-4c8f-b66d-17a2207d11f8",
   "metadata": {
    "tags": []
   },
   "source": [
    "### Longitude Prediction"
   ]
  },
  {
   "cell_type": "code",
   "execution_count": 109,
   "id": "a2db63ee-5324-49fe-8ddf-3b716fc041ea",
   "metadata": {},
   "outputs": [],
   "source": [
    "cols_target_long = list(df_WP_2018_MANGKHUT)[2:3]"
   ]
  },
  {
   "cell_type": "code",
   "execution_count": 110,
   "id": "202745a6-58da-45c0-912d-a284ddd6930d",
   "metadata": {},
   "outputs": [
    {
     "data": {
      "text/plain": [
       "['USA_LON']"
      ]
     },
     "execution_count": 110,
     "metadata": {},
     "output_type": "execute_result"
    }
   ],
   "source": [
    "cols_target_long"
   ]
  },
  {
   "cell_type": "code",
   "execution_count": 111,
   "id": "c6c019ac-4e5c-423e-8fd7-3a99f78783d5",
   "metadata": {},
   "outputs": [
    {
     "name": "stdout",
     "output_type": "stream",
     "text": [
      "['USA_LAT', 'USA_LON', 'DIST2LAND', 'USA_WIND', 'USA_PRES', 'USA_R34_NE', 'USA_R34_SE', 'USA_R34_SW', 'USA_R34_NW', 'USA_R50_NE', 'USA_R50_SE', 'USA_R50_SW', 'USA_R50_NW', 'USA_R64_NE', 'USA_R64_SE', 'USA_R64_SW', 'USA_R64_NW']\n",
      "['USA_LON']\n"
     ]
    }
   ],
   "source": [
    "print(cols_features)\n",
    "print(cols_target_long)"
   ]
  },
  {
   "cell_type": "code",
   "execution_count": 112,
   "id": "54c1dd54-b631-445e-b8c4-8ea85f06a9c0",
   "metadata": {},
   "outputs": [],
   "source": [
    "for i in range(len(tc_name_list)):\n",
    "    for name in tc_name_list[i]:\n",
    "        globals()['df_features_long_%s_%s'%((str(2000+i)), name)] = globals()['df_WP_%s_%s'%((str(2000+i)), name)][cols_features].astype(float)\n",
    "        globals()['df_target_long_%s_%s'%((str(2000+i)), name)] = globals()['df_WP_%s_%s'%((str(2000+i)), name)][cols_target_long].astype(float)"
   ]
  },
  {
   "cell_type": "code",
   "execution_count": 113,
   "id": "02dd0bc2-e4ed-4ae6-bb80-06e1b428f86d",
   "metadata": {},
   "outputs": [],
   "source": [
    "trainX_long = []\n",
    "trainY_long = []\n",
    "valX_long = []\n",
    "valY_long = []\n",
    "testX_long = []\n",
    "testY_long = []"
   ]
  },
  {
   "cell_type": "code",
   "execution_count": 114,
   "id": "a083d11a-5362-475c-b55f-95cf453dd288",
   "metadata": {},
   "outputs": [],
   "source": [
    "for i in range(len(tc_name_list)): ### 20 years of data for training (2000-2020)\n",
    "    for name in tc_name_list[i]:\n",
    "        globals()['df_features_long_%s_%s'%((str(2000+i)), name)] = globals()['df_features_long_%s_%s'%((str(2000+i)), name)].to_numpy()\n",
    "        globals()['df_target_long_%s_%s'%((str(2000+i)), name)] = globals()['df_target_long_%s_%s'%((str(2000+i)), name)].to_numpy()"
   ]
  },
  {
   "cell_type": "code",
   "execution_count": 115,
   "id": "d085b3d9-e636-4afa-8123-68ceaf3dc867",
   "metadata": {},
   "outputs": [],
   "source": [
    "for i in range(len(tc_name_list)):\n",
    "    for name in tc_name_list[i]:\n",
    "            for j in range(n_past, len(globals()['df_features_long_%s_%s'%((str(2000+i)), name)])-n_future+1):\n",
    "                trainX_long.append(globals()['df_features_long_%s_%s'%((str(2000+i)), name)][j-n_past:j,0:globals()['df_features_long_%s_%s'%((str(2000+i)), name)].shape[1]])\n",
    "                trainY_long.append(globals()['df_target_long_%s_%s'%((str(2000+i)), name)][j+n_future-1:j+n_future,0])"
   ]
  },
  {
   "cell_type": "code",
   "execution_count": 116,
   "id": "4c193e4e-1943-4e31-948e-85429bfead37",
   "metadata": {},
   "outputs": [],
   "source": [
    "trainX_long, trainY_long= np.array(trainX_long), np.array(trainY_long)\n",
    "valX_long, valY_long= np.array(valX_long), np.array(valY_long)\n",
    "testX_long, testY_long= np.array(testX_long), np.array(testY_long)\n",
    "\n",
    "# shuffle_idx\n",
    "# import random\n",
    "# shuffle_idx= random.shuffle([i for i in range(10000)])\n",
    "# trainX = trainX[shuffle_idx]\n",
    "# trainY = trainY[shuffle_idx]"
   ]
  },
  {
   "cell_type": "code",
   "execution_count": 117,
   "id": "4e2e211f-1974-4006-9206-1f276f96d179",
   "metadata": {},
   "outputs": [
    {
     "name": "stdout",
     "output_type": "stream",
     "text": [
      "(28712, 5, 17)\n",
      "(28712, 1)\n",
      "(0,)\n",
      "(0,)\n",
      "(0,)\n",
      "(0,)\n"
     ]
    }
   ],
   "source": [
    "print(trainX_long.shape)\n",
    "print(trainY_long.shape)\n",
    "print(valX_long.shape)\n",
    "print(valY_long.shape)\n",
    "print(testX_long.shape)\n",
    "print(testY_long.shape)"
   ]
  },
  {
   "cell_type": "code",
   "execution_count": 118,
   "id": "ec940699-28f3-4106-a1a1-21d81b7fab05",
   "metadata": {},
   "outputs": [],
   "source": [
    "trainX_long, valX_long = trainX_long[:(int(len(trainX_long) * 0.8)),:,:], trainX_long[(int(len(trainX_long) * 0.8)):,:,:]"
   ]
  },
  {
   "cell_type": "code",
   "execution_count": 119,
   "id": "e37ebaea-1320-4d28-95ad-349412ebc650",
   "metadata": {},
   "outputs": [],
   "source": [
    "trainY_long, valY_long = trainY_long[:(int(len(trainY_long) * 0.8)),:], trainY_long[(int(len(trainY_long) * 0.8)):,:]"
   ]
  },
  {
   "cell_type": "code",
   "execution_count": 120,
   "id": "ebcf4ad5-c539-48cd-a3f7-21b579fef0dc",
   "metadata": {},
   "outputs": [],
   "source": [
    "valX_long, testX_long = valX_long[:(int(len(valX_long) * 0.5)),:,:], valX_long[(int(len(valX_long) * 0.5)):,:,:]"
   ]
  },
  {
   "cell_type": "code",
   "execution_count": 121,
   "id": "1598f106-8e60-40b6-87de-0303bcc14a74",
   "metadata": {},
   "outputs": [],
   "source": [
    "valY_long, testY_long = valY_long[:(int(len(valY_long) * 0.5)),:], valY_long[(int(len(valY_long) * 0.5)):,:]"
   ]
  },
  {
   "cell_type": "code",
   "execution_count": 122,
   "id": "7b66834f-c0ec-41f9-b6b6-e64d885e9abc",
   "metadata": {},
   "outputs": [],
   "source": [
    "# trainX_long, valX_long, trainY_long, valY_long = train_test_split(trainX_long,trainY_long,test_size=0.20, random_state=42)\n",
    "# valX_long, testX_long, valY_long, testY_long = train_test_split(valX_long,valY_long,test_size=0.50, random_state=42)"
   ]
  },
  {
   "cell_type": "code",
   "execution_count": 123,
   "id": "daa976de-4e91-4e66-937a-99f4f0c25f40",
   "metadata": {},
   "outputs": [
    {
     "name": "stdout",
     "output_type": "stream",
     "text": [
      "(22969, 5, 17)\n",
      "(22969, 1)\n",
      "(2871, 5, 17)\n",
      "(2871, 1)\n",
      "(2872, 5, 17)\n",
      "(2872, 1)\n"
     ]
    }
   ],
   "source": [
    "print(trainX_long.shape)\n",
    "print(trainY_long.shape)\n",
    "print(valX_long.shape)\n",
    "print(valY_long.shape)\n",
    "print(testX_long.shape)\n",
    "print(testY_long.shape)"
   ]
  },
  {
   "cell_type": "code",
   "execution_count": 124,
   "id": "c5a4c8d3-2903-48a4-855f-8be0240d183b",
   "metadata": {},
   "outputs": [
    {
     "data": {
      "text/plain": [
       "5"
      ]
     },
     "execution_count": 124,
     "metadata": {},
     "output_type": "execute_result"
    }
   ],
   "source": [
    "trainX_long.shape[1]"
   ]
  },
  {
   "cell_type": "code",
   "execution_count": 125,
   "id": "9761c7e8-dfa6-4951-95c3-10a7f306891a",
   "metadata": {},
   "outputs": [],
   "source": [
    "trainX_long = torch.from_numpy(trainX_long).float().to(device)\n",
    "trainY_long = torch.from_numpy(trainY_long).float().to(device)\n",
    "valX_long = torch.from_numpy(valX_long).float().to(device)\n",
    "valY_long = torch.from_numpy(valY_long).float().to(device)\n",
    "testX_long = torch.from_numpy(testX_long).float().to(device)\n",
    "testY_long = torch.from_numpy(testY_long).float().to(device)"
   ]
  },
  {
   "cell_type": "code",
   "execution_count": 126,
   "id": "03827c08-da62-4372-be4d-19d80fd88cbd",
   "metadata": {},
   "outputs": [],
   "source": [
    "validation_list_long = []"
   ]
  },
  {
   "cell_type": "code",
   "execution_count": 127,
   "id": "8e81bc1a-4843-457e-8056-117eb66909c3",
   "metadata": {},
   "outputs": [],
   "source": [
    "class Optimization_Long:\n",
    "    def __init__(self, model, loss_fn, optimizer):\n",
    "        self.model = model\n",
    "        self.loss_fn = loss_fn\n",
    "        self.optimizer = optimizer\n",
    "        self.train_losses = []\n",
    "        self.val_losses = []\n",
    "    \n",
    "    def train_step(self, x, y):\n",
    "        # Sets model to train mode\n",
    "        self.model.train()\n",
    "        \n",
    "        x = x.to(device)\n",
    "        y = y.to(device)\n",
    "        # Makes predictions\n",
    "        yhat = self.model(x)\n",
    "\n",
    "        # Computes loss\n",
    "        loss = self.loss_fn(y, yhat)\n",
    "\n",
    "        # Computes gradients\n",
    "        loss.backward()\n",
    "\n",
    "        # Updates parameters and zeroes gradients\n",
    "        self.optimizer.step()\n",
    "        self.optimizer.zero_grad()\n",
    "\n",
    "        # Returns the loss\n",
    "        return loss.item()\n",
    "    \n",
    "    def train(self, train_loader, val_loader, batch_size, n_epochs, n_features):   \n",
    "        model_path = \"model_lon\"\n",
    "        previous_validation_loss = 100\n",
    "        patience = 4\n",
    "        count = 0\n",
    "        \n",
    "        for epoch in range(1, n_epochs + 1):\n",
    "            batch_losses = []\n",
    "            for x_batch, y_batch in train_loader:\n",
    "                x_batch = x_batch.view([batch_size, n_past, n_features])\n",
    "                y_batch = y_batch\n",
    "                loss = self.train_step(x_batch, y_batch)\n",
    "                batch_losses.append(loss)\n",
    "            training_loss = np.mean(batch_losses)\n",
    "            self.train_losses.append(training_loss)\n",
    "\n",
    "            with torch.no_grad():\n",
    "                batch_val_losses = []\n",
    "                for x_val, y_val in val_loader:\n",
    "                    x_val = x_val.view([batch_size, n_past, n_features])\n",
    "                    x_val = x_val.to(device)\n",
    "                    y_val = y_val.to(device)\n",
    "                    self.model.eval()\n",
    "                    yhat = self.model(x_val)\n",
    "                    val_loss = self.loss_fn(y_val, yhat).item()\n",
    "                    batch_val_losses.append(val_loss)\n",
    "                validation_loss = np.mean(batch_val_losses)\n",
    "                self.val_losses.append(validation_loss)\n",
    "                print(f\"[{epoch}/{n_epochs}] Training loss: {training_loss:.8f}\\t Validation loss: {validation_loss:.8f}\")\n",
    "                validation_list_long.append(validation_loss)\n",
    "                validation_list_long.sort()\n",
    "                if validation_loss <= validation_list_long[0]:\n",
    "                    torch.save(self.model, model_path)\n",
    "                    print(\"Updated best model\")\n",
    "                if validation_loss > previous_validation_loss:\n",
    "                    count +=1\n",
    "                    print(\"Current Validation_loss is greater than Previous Validation Loss, counting:\", count)\n",
    "                    if count>=patience:\n",
    "                        print(\"Early stopping executed!\")\n",
    "                        break\n",
    "                else:\n",
    "                    print(\"Continue progress to global minima\")\n",
    "                    count = 0\n",
    "                previous_validation_loss = validation_loss \n",
    "\n",
    "        # torch.save(self.model.state_dict(), model_path)\n",
    "    \n",
    "#     def evaluate(self, test_loader, batch_size=1, n_features=1):\n",
    "#         with torch.no_grad():\n",
    "#             predictions = []\n",
    "#             values = []\n",
    "#             for x_test, y_test in test_loader:\n",
    "#                 x_test = x_test.view([batch_size, 5, n_features])\n",
    "#                 y_test = y_test\n",
    "#                 self.model.eval()\n",
    "#                 yhat = self.model(x_test)\n",
    "#                 predictions.append(yhat.detach().numpy())\n",
    "#                 values.append(y_test.detach().numpy())\n",
    "\n",
    "#         return predictions, values\n",
    "    \n",
    "    def plot_losses(self):\n",
    "        plt.plot(self.train_losses, label=\"Training loss\")\n",
    "        plt.plot(self.val_losses, label=\"Validation loss\")\n",
    "        plt.legend()\n",
    "        plt.title(\"Losses\")\n",
    "        plt.show()\n",
    "        plt.close()"
   ]
  },
  {
   "cell_type": "code",
   "execution_count": 130,
   "id": "c251d17d-7805-4926-ba6c-95a906c439b6",
   "metadata": {
    "collapsed": true,
    "jupyter": {
     "outputs_hidden": true
    },
    "tags": []
   },
   "outputs": [
    {
     "name": "stdout",
     "output_type": "stream",
     "text": [
      "Batch:  8    Hidden dim:  128   Learning rate:  0.001\n",
      "[1/100] Training loss: 0.00085995\t Validation loss: 0.00025198\n",
      "Updated best model\n",
      "Continue progress to global minima\n",
      "[2/100] Training loss: 0.00007508\t Validation loss: 0.00010943\n",
      "Updated best model\n",
      "Continue progress to global minima\n",
      "[3/100] Training loss: 0.00005230\t Validation loss: 0.00006232\n",
      "Updated best model\n",
      "Continue progress to global minima\n",
      "[4/100] Training loss: 0.00003251\t Validation loss: 0.00001910\n",
      "Updated best model\n",
      "Continue progress to global minima\n",
      "[5/100] Training loss: 0.00001805\t Validation loss: 0.00000730\n",
      "Updated best model\n",
      "Continue progress to global minima\n",
      "[6/100] Training loss: 0.00001602\t Validation loss: 0.00005894\n",
      "Current Validation_loss is greater than Previous Validation Loss, counting: 1\n",
      "[7/100] Training loss: 0.00001279\t Validation loss: 0.00000657\n",
      "Updated best model\n",
      "Continue progress to global minima\n",
      "[8/100] Training loss: 0.00001010\t Validation loss: 0.00002384\n",
      "Current Validation_loss is greater than Previous Validation Loss, counting: 1\n",
      "[9/100] Training loss: 0.00001046\t Validation loss: 0.00000408\n",
      "Updated best model\n",
      "Continue progress to global minima\n",
      "[10/100] Training loss: 0.00000998\t Validation loss: 0.00000455\n",
      "Current Validation_loss is greater than Previous Validation Loss, counting: 1\n",
      "[11/100] Training loss: 0.00000838\t Validation loss: 0.00004329\n",
      "Current Validation_loss is greater than Previous Validation Loss, counting: 2\n",
      "[12/100] Training loss: 0.00001055\t Validation loss: 0.00000769\n",
      "Continue progress to global minima\n",
      "[13/100] Training loss: 0.00000706\t Validation loss: 0.00000923\n",
      "Current Validation_loss is greater than Previous Validation Loss, counting: 1\n",
      "[14/100] Training loss: 0.00000760\t Validation loss: 0.00000434\n",
      "Continue progress to global minima\n",
      "[15/100] Training loss: 0.00000733\t Validation loss: 0.00000496\n",
      "Current Validation_loss is greater than Previous Validation Loss, counting: 1\n",
      "[16/100] Training loss: 0.00000736\t Validation loss: 0.00000874\n",
      "Current Validation_loss is greater than Previous Validation Loss, counting: 2\n",
      "[17/100] Training loss: 0.00000632\t Validation loss: 0.00000616\n",
      "Continue progress to global minima\n",
      "[18/100] Training loss: 0.00000754\t Validation loss: 0.00000449\n",
      "Continue progress to global minima\n",
      "[19/100] Training loss: 0.00000623\t Validation loss: 0.00000556\n",
      "Current Validation_loss is greater than Previous Validation Loss, counting: 1\n",
      "[20/100] Training loss: 0.00000637\t Validation loss: 0.00000679\n",
      "Current Validation_loss is greater than Previous Validation Loss, counting: 2\n",
      "[21/100] Training loss: 0.00000585\t Validation loss: 0.00000221\n",
      "Updated best model\n",
      "Continue progress to global minima\n",
      "[22/100] Training loss: 0.00000595\t Validation loss: 0.00000370\n",
      "Current Validation_loss is greater than Previous Validation Loss, counting: 1\n",
      "[23/100] Training loss: 0.00000545\t Validation loss: 0.00001145\n",
      "Current Validation_loss is greater than Previous Validation Loss, counting: 2\n",
      "[24/100] Training loss: 0.00000542\t Validation loss: 0.00000468\n",
      "Continue progress to global minima\n",
      "[25/100] Training loss: 0.00000584\t Validation loss: 0.00000749\n",
      "Current Validation_loss is greater than Previous Validation Loss, counting: 1\n",
      "[26/100] Training loss: 0.00000521\t Validation loss: 0.00000207\n",
      "Updated best model\n",
      "Continue progress to global minima\n",
      "[27/100] Training loss: 0.00000560\t Validation loss: 0.00000228\n",
      "Current Validation_loss is greater than Previous Validation Loss, counting: 1\n",
      "[28/100] Training loss: 0.00000477\t Validation loss: 0.00000276\n",
      "Current Validation_loss is greater than Previous Validation Loss, counting: 2\n",
      "[29/100] Training loss: 0.00000507\t Validation loss: 0.00001903\n",
      "Current Validation_loss is greater than Previous Validation Loss, counting: 3\n",
      "[30/100] Training loss: 0.00000504\t Validation loss: 0.00001166\n",
      "Continue progress to global minima\n",
      "[31/100] Training loss: 0.00000496\t Validation loss: 0.00000295\n",
      "Continue progress to global minima\n",
      "[32/100] Training loss: 0.00000500\t Validation loss: 0.00000332\n",
      "Current Validation_loss is greater than Previous Validation Loss, counting: 1\n",
      "[33/100] Training loss: 0.00000442\t Validation loss: 0.00000365\n",
      "Current Validation_loss is greater than Previous Validation Loss, counting: 2\n",
      "[34/100] Training loss: 0.00000476\t Validation loss: 0.00001592\n",
      "Current Validation_loss is greater than Previous Validation Loss, counting: 3\n",
      "[35/100] Training loss: 0.00000355\t Validation loss: 0.00000694\n",
      "Continue progress to global minima\n",
      "[36/100] Training loss: 0.00000427\t Validation loss: 0.00000537\n",
      "Continue progress to global minima\n",
      "[37/100] Training loss: 0.00000399\t Validation loss: 0.00000320\n",
      "Continue progress to global minima\n",
      "[38/100] Training loss: 0.00000402\t Validation loss: 0.00000765\n",
      "Current Validation_loss is greater than Previous Validation Loss, counting: 1\n",
      "[39/100] Training loss: 0.00000407\t Validation loss: 0.00001474\n",
      "Current Validation_loss is greater than Previous Validation Loss, counting: 2\n",
      "[40/100] Training loss: 0.00000383\t Validation loss: 0.00000362\n",
      "Continue progress to global minima\n",
      "[41/100] Training loss: 0.00000436\t Validation loss: 0.00001381\n",
      "Current Validation_loss is greater than Previous Validation Loss, counting: 1\n",
      "[42/100] Training loss: 0.00000428\t Validation loss: 0.00000363\n",
      "Continue progress to global minima\n",
      "[43/100] Training loss: 0.00000364\t Validation loss: 0.00000264\n",
      "Continue progress to global minima\n",
      "[44/100] Training loss: 0.00000393\t Validation loss: 0.00000522\n",
      "Current Validation_loss is greater than Previous Validation Loss, counting: 1\n",
      "[45/100] Training loss: 0.00000369\t Validation loss: 0.00000389\n",
      "Continue progress to global minima\n",
      "[46/100] Training loss: 0.00000371\t Validation loss: 0.00000256\n",
      "Continue progress to global minima\n",
      "[47/100] Training loss: 0.00000364\t Validation loss: 0.00000264\n",
      "Current Validation_loss is greater than Previous Validation Loss, counting: 1\n",
      "[48/100] Training loss: 0.00000391\t Validation loss: 0.00001167\n",
      "Current Validation_loss is greater than Previous Validation Loss, counting: 2\n",
      "[49/100] Training loss: 0.00000366\t Validation loss: 0.00000297\n",
      "Continue progress to global minima\n",
      "[50/100] Training loss: 0.00000359\t Validation loss: 0.00000247\n",
      "Continue progress to global minima\n",
      "[51/100] Training loss: 0.00000362\t Validation loss: 0.00000186\n",
      "Updated best model\n",
      "Continue progress to global minima\n",
      "[52/100] Training loss: 0.00000342\t Validation loss: 0.00000313\n",
      "Current Validation_loss is greater than Previous Validation Loss, counting: 1\n",
      "[53/100] Training loss: 0.00000342\t Validation loss: 0.00000292\n",
      "Continue progress to global minima\n",
      "[54/100] Training loss: 0.00000360\t Validation loss: 0.00000311\n",
      "Current Validation_loss is greater than Previous Validation Loss, counting: 1\n",
      "[55/100] Training loss: 0.00000347\t Validation loss: 0.00000179\n",
      "Updated best model\n",
      "Continue progress to global minima\n",
      "[56/100] Training loss: 0.00000340\t Validation loss: 0.00000212\n",
      "Current Validation_loss is greater than Previous Validation Loss, counting: 1\n",
      "[57/100] Training loss: 0.00000337\t Validation loss: 0.00000200\n",
      "Continue progress to global minima\n",
      "[58/100] Training loss: 0.00000328\t Validation loss: 0.00000848\n",
      "Current Validation_loss is greater than Previous Validation Loss, counting: 1\n",
      "[59/100] Training loss: 0.00000350\t Validation loss: 0.00000250\n",
      "Continue progress to global minima\n",
      "[60/100] Training loss: 0.00000327\t Validation loss: 0.00000214\n",
      "Continue progress to global minima\n",
      "[61/100] Training loss: 0.00000331\t Validation loss: 0.00000413\n",
      "Current Validation_loss is greater than Previous Validation Loss, counting: 1\n",
      "[62/100] Training loss: 0.00000333\t Validation loss: 0.00000239\n",
      "Continue progress to global minima\n",
      "[63/100] Training loss: 0.00000322\t Validation loss: 0.00000431\n",
      "Current Validation_loss is greater than Previous Validation Loss, counting: 1\n",
      "[64/100] Training loss: 0.00000312\t Validation loss: 0.00000488\n",
      "Current Validation_loss is greater than Previous Validation Loss, counting: 2\n",
      "[65/100] Training loss: 0.00000307\t Validation loss: 0.00000307\n",
      "Continue progress to global minima\n",
      "[66/100] Training loss: 0.00000310\t Validation loss: 0.00000234\n",
      "Continue progress to global minima\n",
      "[67/100] Training loss: 0.00000309\t Validation loss: 0.00000254\n",
      "Current Validation_loss is greater than Previous Validation Loss, counting: 1\n",
      "[68/100] Training loss: 0.00000310\t Validation loss: 0.00000253\n",
      "Continue progress to global minima\n",
      "[69/100] Training loss: 0.00000292\t Validation loss: 0.00000207\n",
      "Continue progress to global minima\n",
      "[70/100] Training loss: 0.00000326\t Validation loss: 0.00000513\n",
      "Current Validation_loss is greater than Previous Validation Loss, counting: 1\n",
      "[71/100] Training loss: 0.00000305\t Validation loss: 0.00000430\n",
      "Continue progress to global minima\n",
      "[72/100] Training loss: 0.00000297\t Validation loss: 0.00000490\n",
      "Current Validation_loss is greater than Previous Validation Loss, counting: 1\n",
      "[73/100] Training loss: 0.00000304\t Validation loss: 0.00000203\n",
      "Continue progress to global minima\n",
      "[74/100] Training loss: 0.00000289\t Validation loss: 0.00000220\n",
      "Current Validation_loss is greater than Previous Validation Loss, counting: 1\n",
      "[75/100] Training loss: 0.00000302\t Validation loss: 0.00000872\n",
      "Current Validation_loss is greater than Previous Validation Loss, counting: 2\n",
      "[76/100] Training loss: 0.00000299\t Validation loss: 0.00000341\n",
      "Continue progress to global minima\n",
      "[77/100] Training loss: 0.00000283\t Validation loss: 0.00000201\n",
      "Continue progress to global minima\n",
      "[78/100] Training loss: 0.00000307\t Validation loss: 0.00000270\n",
      "Current Validation_loss is greater than Previous Validation Loss, counting: 1\n",
      "[79/100] Training loss: 0.00000304\t Validation loss: 0.00000614\n",
      "Current Validation_loss is greater than Previous Validation Loss, counting: 2\n",
      "[80/100] Training loss: 0.00000280\t Validation loss: 0.00000282\n",
      "Continue progress to global minima\n",
      "[81/100] Training loss: 0.00000279\t Validation loss: 0.00000171\n",
      "Updated best model\n",
      "Continue progress to global minima\n",
      "[82/100] Training loss: 0.00000285\t Validation loss: 0.00000304\n",
      "Current Validation_loss is greater than Previous Validation Loss, counting: 1\n",
      "[83/100] Training loss: 0.00000320\t Validation loss: 0.00000707\n",
      "Current Validation_loss is greater than Previous Validation Loss, counting: 2\n",
      "[84/100] Training loss: 0.00000275\t Validation loss: 0.00000313\n",
      "Continue progress to global minima\n",
      "[85/100] Training loss: 0.00000301\t Validation loss: 0.00000157\n",
      "Updated best model\n",
      "Continue progress to global minima\n",
      "[86/100] Training loss: 0.00000265\t Validation loss: 0.00000548\n",
      "Current Validation_loss is greater than Previous Validation Loss, counting: 1\n",
      "[87/100] Training loss: 0.00000296\t Validation loss: 0.00000207\n",
      "Continue progress to global minima\n",
      "[88/100] Training loss: 0.00000301\t Validation loss: 0.00000176\n",
      "Continue progress to global minima\n",
      "[89/100] Training loss: 0.00000276\t Validation loss: 0.00000164\n",
      "Continue progress to global minima\n",
      "[90/100] Training loss: 0.00000279\t Validation loss: 0.00000354\n",
      "Current Validation_loss is greater than Previous Validation Loss, counting: 1\n",
      "[91/100] Training loss: 0.00000263\t Validation loss: 0.00000619\n",
      "Current Validation_loss is greater than Previous Validation Loss, counting: 2\n",
      "[92/100] Training loss: 0.00000275\t Validation loss: 0.00000710\n",
      "Current Validation_loss is greater than Previous Validation Loss, counting: 3\n",
      "[93/100] Training loss: 0.00000271\t Validation loss: 0.00000202\n",
      "Continue progress to global minima\n",
      "[94/100] Training loss: 0.00000259\t Validation loss: 0.00000208\n",
      "Current Validation_loss is greater than Previous Validation Loss, counting: 1\n",
      "[95/100] Training loss: 0.00000260\t Validation loss: 0.00000271\n",
      "Current Validation_loss is greater than Previous Validation Loss, counting: 2\n",
      "[96/100] Training loss: 0.00000273\t Validation loss: 0.00000304\n",
      "Current Validation_loss is greater than Previous Validation Loss, counting: 3\n",
      "[97/100] Training loss: 0.00000260\t Validation loss: 0.00000218\n",
      "Continue progress to global minima\n",
      "[98/100] Training loss: 0.00000277\t Validation loss: 0.00000252\n",
      "Current Validation_loss is greater than Previous Validation Loss, counting: 1\n",
      "[99/100] Training loss: 0.00000268\t Validation loss: 0.00001019\n",
      "Current Validation_loss is greater than Previous Validation Loss, counting: 2\n",
      "[100/100] Training loss: 0.00000272\t Validation loss: 0.00000255\n",
      "Continue progress to global minima\n"
     ]
    },
    {
     "data": {
      "image/png": "[encoded data removed]",
      "text/plain": [
       "<Figure size 432x288 with 1 Axes>"
      ]
     },
     "metadata": {
      "needs_background": "light"
     },
     "output_type": "display_data"
    }
   ],
   "source": [
    "import torch.optim as optim\n",
    "from torch.utils.data import TensorDataset, DataLoader\n",
    "\n",
    "input_dim = trainX_long.shape[2]\n",
    "output_dim = 1\n",
    "layer_dim = 1\n",
    "dropout = 0\n",
    "n_epochs = 100\n",
    "# learning_rate = 1e-4\n",
    "weight_decay = 1e-6\n",
    "\n",
    "train_long = TensorDataset(trainX_long, trainY_long)\n",
    "val_long = TensorDataset(valX_long, valY_long)\n",
    "test_long = TensorDataset(testX_long, testY_long)\n",
    "\n",
    "batch_size = [8]\n",
    "hidden_dim = [128]\n",
    "learning_rate = [0.001]\n",
    "    \n",
    "for batch in batch_size:\n",
    "    for hd in hidden_dim:\n",
    "        for lr in learning_rate:\n",
    "            print(\"Batch: \", batch, \" \", \" Hidden dim: \", hd, \" \", \"Learning rate: \", lr)\n",
    "            # shuffle = true\n",
    "            train_loader = DataLoader(train_long, batch_size=batch, shuffle=True, drop_last=True)\n",
    "            val_loader = DataLoader(val_long, batch_size=batch, shuffle=True, drop_last=True)\n",
    "            test_loader = DataLoader(test_long, batch_size=batch, shuffle=True, drop_last=True)\n",
    "\n",
    "            model_params = {'input_dim': input_dim,\n",
    "                            'hidden_dim' : hd,\n",
    "                            'layer_dim' : layer_dim,\n",
    "                            'output_dim' : output_dim,\n",
    "                            'dropout_prob' : dropout }\n",
    "\n",
    "            model = get_model('lstm', model_params).to(device)\n",
    "            loss_fn = nn.MSELoss(reduction=\"mean\")\n",
    "            optimizer = optim.Adam(model.parameters(), lr=lr, weight_decay=weight_decay)\n",
    "            opt_lat = Optimization_Long(model=model.to(device), loss_fn=loss_fn, optimizer=optimizer)\n",
    "            opt_lat.train(train_loader, val_loader, batch, n_epochs, input_dim)\n",
    "            opt_lat.plot_losses()"
   ]
  },
  {
   "cell_type": "code",
   "execution_count": 128,
   "id": "f1eb353a-cd60-4afd-90fc-74d8e0b4cc50",
   "metadata": {},
   "outputs": [],
   "source": [
    "model_long = torch.load('model_lon')"
   ]
  },
  {
   "cell_type": "code",
   "execution_count": 129,
   "id": "946633c6-8b42-4cf7-92ea-d573d74f589c",
   "metadata": {},
   "outputs": [],
   "source": [
    "y_pred_long = model_long(testX_long)"
   ]
  },
  {
   "cell_type": "code",
   "execution_count": 130,
   "id": "986af3bb-3d7a-45d8-bfc9-fa061c295cb6",
   "metadata": {},
   "outputs": [],
   "source": [
    "y_pred_long = y_pred_long.cpu().detach().numpy()"
   ]
  },
  {
   "cell_type": "code",
   "execution_count": 131,
   "id": "1992e5c4-9223-403f-a117-d7db9f6fac94",
   "metadata": {},
   "outputs": [],
   "source": [
    "y_pred_long_origin = scaler_long.inverse_transform(y_pred_long)"
   ]
  },
  {
   "cell_type": "code",
   "execution_count": 132,
   "id": "fbdf6f43-4d2f-47f8-b792-efd43750f394",
   "metadata": {},
   "outputs": [],
   "source": [
    "testY_long = testY_long.cpu().detach().numpy()"
   ]
  },
  {
   "cell_type": "code",
   "execution_count": 133,
   "id": "73b0d290-4793-4390-8c5b-bb94e50c8a04",
   "metadata": {},
   "outputs": [],
   "source": [
    "y_test_long_origin = scaler_long.inverse_transform(testY_long)"
   ]
  },
  {
   "cell_type": "code",
   "execution_count": 134,
   "id": "020ae16c-cc8a-4353-8735-e8208deba745",
   "metadata": {},
   "outputs": [
    {
     "name": "stdout",
     "output_type": "stream",
     "text": [
      "0.6369759\n",
      "0.7981076897496735\n"
     ]
    }
   ],
   "source": [
    "print(mean_squared_error(y_test_long_origin, y_pred_long_origin))\n",
    "print(math.sqrt(mean_squared_error(y_test_long_origin, y_pred_long_origin)))"
   ]
  },
  {
   "cell_type": "code",
   "execution_count": 135,
   "id": "58b92082-64b4-47b8-afd9-5437e97097e3",
   "metadata": {},
   "outputs": [],
   "source": [
    "pred_2 = np.concatenate((y_pred_lat_origin, y_pred_long_origin), axis=1)"
   ]
  },
  {
   "cell_type": "code",
   "execution_count": 136,
   "id": "811ff67f-45a8-44ed-84c5-c400e4683b14",
   "metadata": {},
   "outputs": [],
   "source": [
    "true_2 = np.concatenate((y_test_lat_origin, y_test_long_origin), axis=1)"
   ]
  },
  {
   "cell_type": "code",
   "execution_count": 137,
   "id": "bd962cd4-ebc9-4780-8bf9-a35532e5ffd8",
   "metadata": {},
   "outputs": [
    {
     "name": "stdout",
     "output_type": "stream",
     "text": [
      "0.6005602327133892\n"
     ]
    }
   ],
   "source": [
    "print(math.sqrt(mean_squared_error(true_2, pred_2)))"
   ]
  },
  {
   "cell_type": "markdown",
   "id": "b9195feb-4fd6-406a-b764-286ff1d1efbe",
   "metadata": {},
   "source": [
    "### Latitude Prediction (Mangkhut)"
   ]
  },
  {
   "cell_type": "code",
   "execution_count": 138,
   "id": "5560cc4c-c469-42d2-9531-7615d28c348f",
   "metadata": {
    "tags": []
   },
   "outputs": [
    {
     "name": "stdout",
     "output_type": "stream",
     "text": [
      "[12.54, 12.76, 13.02, 13.31, 13.56, 13.61, 13.78, 14.16, 14.51, 14.74, 14.91, 15.05, 15.13, 15.25, 15.37, 15.39, 15.37, 15.33, 15.18, 14.92, 14.67, 14.56, 14.46, 14.38, 14.29, 14.2, 14.11, 13.97, 13.91, 13.95, 13.99, 14.02, 14.0, 13.89, 13.87, 13.95, 14.03, 13.99, 14.0, 14.07, 14.15, 14.3, 14.39, 14.4, 14.46, 14.59, 14.69, 14.82, 14.91, 14.97, 15.09, 15.33, 15.61, 15.88, 16.3, 16.85, 17.31, 17.52, 17.74, 17.99, 18.18, 18.24, 18.36, 18.61, 18.86, 19.17, 19.48, 19.74, 20.14, 20.75, 21.27, 21.09, 21.19, 21.25, 21.33, 21.43, 21.53, 21.68, 21.8, 21.93, 22.06, 22.15, 22.25, 22.37, 22.47, 22.94, 23.29, 23.38, 23.5, 23.66]\n",
      "90\n",
      "0.0077289004975084966\n",
      "0.08791416551107391\n"
     ]
    }
   ],
   "source": [
    "df_features_lat_2018_MANGKHUT = df_WP_2018_MANGKHUT[cols_features].astype(float)\n",
    "df_target_lat_2018_MANGKHUT = df_WP_2018_MANGKHUT[cols_target].astype(float)\n",
    "\n",
    "df_features_lat_2018_MANGKHUT = df_features_lat_2018_MANGKHUT[cols_features].to_numpy()\n",
    "df_target_lat_2018_MANGKHUT = df_target_lat_2018_MANGKHUT[cols_target].to_numpy()\n",
    "\n",
    "X_original_MANGKHURT_lat=[]\n",
    "Y_original_MANGKHURT_lat=[]\n",
    "\n",
    "for i in range(n_past, len(df_features_lat_2018_MANGKHUT)-n_future+1):\n",
    "    X_original_MANGKHURT_lat.append(df_features_lat_2018_MANGKHUT[i-n_past:i,0:df_features_lat_2018_MANGKHUT.shape[1]])\n",
    "    Y_original_MANGKHURT_lat.append(df_target_lat_2018_MANGKHUT[i+n_future-1:i+n_future,0])\n",
    "    \n",
    "X_original_MANGKHURT_lat, Y_original_MANGKHURT_lat= np.array(X_original_MANGKHURT_lat), np.array(Y_original_MANGKHURT_lat)\n",
    "X_original_MANGKHURT_lat = torch.from_numpy(X_original_MANGKHURT_lat).float()\n",
    "y_pred_lat_MANGKHURT = model_lat(X_original_MANGKHURT_lat.to(device))\n",
    "y_pred_lat_MANGKHURT  = y_pred_lat_MANGKHURT.cpu().detach().numpy()\n",
    "y_pred_lat_MANGKHURT = scaler_lat.inverse_transform(y_pred_lat_MANGKHURT)\n",
    "\n",
    "y_pred_lat_MANGKHURT_formatted = [ '%.2f' % elem for elem in y_pred_lat_MANGKHURT ]\n",
    "y_pred_lat_MANGKHURT_formatted = [float(i) for i in y_pred_lat_MANGKHURT_formatted]\n",
    "print(y_pred_lat_MANGKHURT_formatted)\n",
    "print(len(y_pred_lat_MANGKHURT_formatted))\n",
    "\n",
    "Y_original_MANGKHURT_lat = scaler_lat.inverse_transform(Y_original_MANGKHURT_lat)\n",
    "\n",
    "# import MSE for accurarcy metrics\n",
    "from sklearn.metrics import mean_squared_error\n",
    "import math\n",
    "\n",
    "print(mean_squared_error(Y_original_MANGKHURT_lat, y_pred_lat_MANGKHURT))\n",
    "print(math.sqrt(mean_squared_error(Y_original_MANGKHURT_lat, y_pred_lat_MANGKHURT)))"
   ]
  },
  {
   "cell_type": "markdown",
   "id": "b6daf188-c17c-44db-b465-273e230e5bc1",
   "metadata": {},
   "source": [
    "### Longitude Prediction (Mangkhut)"
   ]
  },
  {
   "cell_type": "code",
   "execution_count": 139,
   "id": "68f86124-3236-4a89-a382-8cfa9334226c",
   "metadata": {
    "tags": []
   },
   "outputs": [
    {
     "name": "stdout",
     "output_type": "stream",
     "text": [
      "[166.07, 165.44, 164.8, 163.9, 162.96, 162.38, 161.88, 161.17, 160.26, 159.27, 158.33, 157.16, 156.03, 154.95, 153.87, 153.16, 152.44, 151.39, 150.23, 149.12, 148.16, 147.35, 146.58, 145.65, 144.77, 144.08, 143.45, 142.72, 141.94, 141.16, 140.39, 139.66, 139.0, 138.51, 138.02, 137.3, 136.55, 135.99, 135.51, 135.08, 134.58, 133.94, 133.21, 132.46, 131.75, 131.17, 130.63, 130.04, 129.47, 128.9, 128.35, 127.8, 127.26, 126.79, 126.3, 125.67, 124.94, 124.11, 123.21, 122.24, 121.29, 120.66, 120.13, 119.55, 118.92, 118.25, 117.55, 116.93, 116.26, 115.47, 114.59, 114.4, 114.29, 114.1, 113.85, 113.54, 113.22, 112.86, 112.49, 112.12, 111.75, 111.4, 111.07, 110.2, 109.43, 108.75, 108.05, 107.32, 106.52, 105.62]\n",
      "90\n",
      "0.037747219686460116\n",
      "0.19428643721696096\n"
     ]
    }
   ],
   "source": [
    "df_features_long_2018_MANGKHUT = df_WP_2018_MANGKHUT[cols_features].astype(float)\n",
    "df_target_long_2018_MANGKHUT = df_WP_2018_MANGKHUT[cols_target_long].astype(float)\n",
    "\n",
    "df_features_long_2018_MANGKHUT = df_features_long_2018_MANGKHUT[cols_features].to_numpy()\n",
    "df_target_long_2018_MANGKHUT = df_target_long_2018_MANGKHUT[cols_target_long].to_numpy()\n",
    "\n",
    "X_original_MANGKHURT_long=[]\n",
    "Y_original_MANGKHURT_long=[]\n",
    "\n",
    "for i in range(n_past, len(df_features_long_2018_MANGKHUT)-n_future+1):\n",
    "    X_original_MANGKHURT_long.append(df_features_long_2018_MANGKHUT[i-n_past:i,0:df_features_long_2018_MANGKHUT.shape[1]])\n",
    "    Y_original_MANGKHURT_long.append(df_target_long_2018_MANGKHUT[i+n_future-1:i+n_future,0])\n",
    "    \n",
    "X_original_MANGKHURT_long, Y_original_MANGKHURT_long= np.array(X_original_MANGKHURT_long), np.array(Y_original_MANGKHURT_long)    \n",
    "X_original_MANGKHURT_long = torch.from_numpy(X_original_MANGKHURT_long).float()\n",
    "y_pred_long_MANGKHURT = model_long(X_original_MANGKHURT_long.to(device))\n",
    "y_pred_long_MANGKHURT  = y_pred_long_MANGKHURT.cpu().detach().numpy()\n",
    "y_pred_long_MANGKHURT = scaler_long.inverse_transform(y_pred_long_MANGKHURT)\n",
    "y_pred_long_MANGKHURT_formatted = [ '%.2f' % elem for elem in y_pred_long_MANGKHURT ]\n",
    "y_pred_long_MANGKHURT_formatted = [float(i) for i in y_pred_long_MANGKHURT_formatted]\n",
    "print(y_pred_long_MANGKHURT_formatted)\n",
    "print(len(y_pred_long_MANGKHURT_formatted))\n",
    "\n",
    "Y_original_MANGKHURT_long = scaler_long.inverse_transform(Y_original_MANGKHURT_long)\n",
    "\n",
    "print(mean_squared_error(Y_original_MANGKHURT_long, y_pred_long_MANGKHURT))\n",
    "print(math.sqrt(mean_squared_error(Y_original_MANGKHURT_long, y_pred_long_MANGKHURT)))"
   ]
  },
  {
   "cell_type": "code",
   "execution_count": 140,
   "id": "f4484a32-a2a5-4466-a525-4d4392a94bca",
   "metadata": {},
   "outputs": [],
   "source": [
    "pred_2_mang = np.concatenate((y_pred_lat_MANGKHURT, y_pred_long_MANGKHURT), axis=1)"
   ]
  },
  {
   "cell_type": "code",
   "execution_count": 141,
   "id": "bcc3a523-b662-41d2-aaab-c2e48ee902c8",
   "metadata": {},
   "outputs": [],
   "source": [
    "true_2_mang = np.concatenate((Y_original_MANGKHURT_lat, Y_original_MANGKHURT_long), axis=1)"
   ]
  },
  {
   "cell_type": "code",
   "execution_count": 142,
   "id": "572c4e1e-aaef-415b-a66d-5a8aba226358",
   "metadata": {},
   "outputs": [
    {
     "name": "stdout",
     "output_type": "stream",
     "text": [
      "0.15079144568570296\n"
     ]
    }
   ],
   "source": [
    "print(math.sqrt(mean_squared_error(true_2_mang, pred_2_mang)))"
   ]
  },
  {
   "cell_type": "markdown",
   "id": "bee97279-9ee9-440d-9c82-56efd98b3b05",
   "metadata": {
    "tags": []
   },
   "source": [
    "### Prediction visualisation (MANGKHURT)"
   ]
  },
  {
   "cell_type": "code",
   "execution_count": 143,
   "id": "0003d07e-0e7c-4221-9e3a-04b63ce68a03",
   "metadata": {},
   "outputs": [
    {
     "name": "stdout",
     "output_type": "stream",
     "text": [
      "Actual Lat of Mangkhurt:\n",
      "[12.58, 12.8, 13.06, 13.3, 13.44, 13.6, 13.88, 14.2, 14.47, 14.7, 14.87, 15.0, 15.11, 15.2, 15.27, 15.3, 15.29, 15.2, 15.01, 14.8, 14.63, 14.5, 14.39, 14.3, 14.2, 14.1, 13.98, 13.9, 13.88, 13.9, 13.91, 13.9, 13.84, 13.8, 13.84, 13.9, 13.9, 13.9, 13.93, 14.0, 14.1, 14.2, 14.25, 14.3, 14.39, 14.5, 14.6, 14.7, 14.78, 14.9, 15.07, 15.3, 15.56, 15.9, 16.35, 16.8, 17.13, 17.4, 17.67, 17.9, 18.06, 18.2, 18.38, 18.6, 18.88, 19.2, 19.47, 19.8, 20.3, 20.8, 20.92, 21.03, 21.12, 21.21, 21.3, 21.4, 21.52, 21.65, 21.77, 21.89, 22.0, 22.1, 22.26, 22.4, 22.69, 23.0, 23.22, 23.4, 23.56, 23.7]\n",
      "90\n",
      "Actual Long of Mangkhurt:\n",
      "[165.97, 165.3, 164.44, 163.6, 162.99, 162.4, 161.65, 160.8, 159.89, 158.9, 157.86, 156.8, 155.76, 154.8, 154.01, 153.2, 152.18, 151.1, 150.07, 149.1, 148.24, 147.4, 146.48, 145.6, 144.88, 144.2, 143.46, 142.7, 141.94, 141.2, 140.47, 139.8, 139.25, 138.7, 138.0, 137.3, 136.72, 136.2, 135.72, 135.2, 134.58, 133.9, 133.19, 132.5, 131.88, 131.3, 130.69, 130.1, 129.54, 129.0, 128.44, 127.9, 127.42, 126.9, 126.29, 125.6, 124.89, 124.1, 123.19, 122.3, 121.56, 120.9, 120.25, 119.6, 118.9, 118.2, 117.56, 116.9, 116.13, 115.3, 115.03, 114.77, 114.49, 114.21, 113.91, 113.6, 113.24, 112.87, 112.49, 112.11, 111.74, 111.4, 110.59, 109.9, 109.21, 108.5, 107.72, 106.9, 106.09, 105.3]\n",
      "90\n"
     ]
    }
   ],
   "source": [
    "print(\"Actual Lat of Mangkhurt:\")\n",
    "Y_original_MANGKHURT_lat_formatted = [ '%.2f' % elem for elem in Y_original_MANGKHURT_lat ]\n",
    "Y_original_MANGKHURT_lat_formatted = [float(i) for i in Y_original_MANGKHURT_lat_formatted]\n",
    "print(Y_original_MANGKHURT_lat_formatted)\n",
    "print(len(Y_original_MANGKHURT_lat_formatted))\n",
    "print(\"Actual Long of Mangkhurt:\")\n",
    "Y_original_MANGKHURT_long_formatted = [ '%.2f' % elem for elem in Y_original_MANGKHURT_long ]\n",
    "Y_original_MANGKHURT_long_formatted = [float(i) for i in Y_original_MANGKHURT_long_formatted]\n",
    "print(Y_original_MANGKHURT_long_formatted)\n",
    "print(len(Y_original_MANGKHURT_long_formatted))"
   ]
  },
  {
   "cell_type": "code",
   "execution_count": 144,
   "id": "f717e8cf-38e1-4654-a5dc-895d04230ca7",
   "metadata": {},
   "outputs": [
    {
     "name": "stdout",
     "output_type": "stream",
     "text": [
      "Predicted Lat of Mangkhurt:\n",
      "[12.54, 12.76, 13.02, 13.31, 13.56, 13.61, 13.78, 14.16, 14.51, 14.74, 14.91, 15.05, 15.13, 15.25, 15.37, 15.39, 15.37, 15.33, 15.18, 14.92, 14.67, 14.56, 14.46, 14.38, 14.29, 14.2, 14.11, 13.97, 13.91, 13.95, 13.99, 14.02, 14.0, 13.89, 13.87, 13.95, 14.03, 13.99, 14.0, 14.07, 14.15, 14.3, 14.39, 14.4, 14.46, 14.59, 14.69, 14.82, 14.91, 14.97, 15.09, 15.33, 15.61, 15.88, 16.3, 16.85, 17.31, 17.52, 17.74, 17.99, 18.18, 18.24, 18.36, 18.61, 18.86, 19.17, 19.48, 19.74, 20.14, 20.75, 21.27, 21.09, 21.19, 21.25, 21.33, 21.43, 21.53, 21.68, 21.8, 21.93, 22.06, 22.15, 22.25, 22.37, 22.47, 22.94, 23.29, 23.38, 23.5, 23.66]\n",
      "----------------------------------------------------------------------------------------------\n",
      "Predicted Long of Mangkhurt:\n",
      "[166.07, 165.44, 164.8, 163.9, 162.96, 162.38, 161.88, 161.17, 160.26, 159.27, 158.33, 157.16, 156.03, 154.95, 153.87, 153.16, 152.44, 151.39, 150.23, 149.12, 148.16, 147.35, 146.58, 145.65, 144.77, 144.08, 143.45, 142.72, 141.94, 141.16, 140.39, 139.66, 139.0, 138.51, 138.02, 137.3, 136.55, 135.99, 135.51, 135.08, 134.58, 133.94, 133.21, 132.46, 131.75, 131.17, 130.63, 130.04, 129.47, 128.9, 128.35, 127.8, 127.26, 126.79, 126.3, 125.67, 124.94, 124.11, 123.21, 122.24, 121.29, 120.66, 120.13, 119.55, 118.92, 118.25, 117.55, 116.93, 116.26, 115.47, 114.59, 114.4, 114.29, 114.1, 113.85, 113.54, 113.22, 112.86, 112.49, 112.12, 111.75, 111.4, 111.07, 110.2, 109.43, 108.75, 108.05, 107.32, 106.52, 105.62]\n"
     ]
    }
   ],
   "source": [
    "print(\"Predicted Lat of Mangkhurt:\")\n",
    "print(y_pred_lat_MANGKHURT_formatted)\n",
    "print(\"----------------------------------------------------------------------------------------------\")\n",
    "print(\"Predicted Long of Mangkhurt:\")\n",
    "print(y_pred_long_MANGKHURT_formatted)"
   ]
  },
  {
   "cell_type": "code",
   "execution_count": 145,
   "id": "53fed05b-ec97-4720-ad60-3dfb2c06beac",
   "metadata": {},
   "outputs": [],
   "source": [
    "import os\n",
    "os.environ['PROJ_LIB'] = r'C:\\ProgramData\\Anaconda3\\pkgs\\proj4-5.2.0-h6538335_1006\\Library\\share'\n",
    "from mpl_toolkits.basemap import Basemap\n",
    "import matplotlib.pyplot as plt\n",
    "import numpy as np\n",
    "import matplotlib.path as mpath"
   ]
  },
  {
   "cell_type": "code",
   "execution_count": 146,
   "id": "73570f41-89a6-44c0-8c08-53a35c53ba2a",
   "metadata": {},
   "outputs": [],
   "source": [
    "def get_hurricane():\n",
    "    u = np.array([  [2.444,7.553],\n",
    "                    [0.513,7.046],\n",
    "                    [-1.243,5.433],\n",
    "                    [-2.353,2.975],\n",
    "                    [-2.578,0.092],\n",
    "                    [-2.075,-1.795],\n",
    "                    [-0.336,-2.870],\n",
    "                    [2.609,-2.016]  ])\n",
    "    u[:,0] -= 0.098\n",
    "    codes = [1] + [2]*(len(u)-2) + [2] \n",
    "    u = np.append(u, -u[::-1], axis=0)\n",
    "    codes += codes\n",
    "\n",
    "    return mpath.Path(3*u, codes, closed=False)"
   ]
  },
  {
   "cell_type": "code",
   "execution_count": 147,
   "id": "47ecbfd6-0d1c-4ce5-98c6-6fccd7f69b8a",
   "metadata": {},
   "outputs": [],
   "source": [
    "hurricane = get_hurricane()"
   ]
  },
  {
   "cell_type": "code",
   "execution_count": 148,
   "id": "cdac151d-3d63-46e6-ba09-50ad2fdf94e4",
   "metadata": {},
   "outputs": [
    {
     "data": {
      "image/png": "[encoded data removed]",
      "text/plain": [
       "<Figure size 1440x720 with 1 Axes>"
      ]
     },
     "metadata": {},
     "output_type": "display_data"
    }
   ],
   "source": [
    "plt.figure(figsize=(20,10))\n",
    "m = Basemap(projection='mill', llcrnrlat = 0, urcrnrlat = 30, llcrnrlon = 90, urcrnrlon =175, resolution = 'c')\n",
    "m.drawcoastlines()\n",
    "m.drawparallels(np.arange(-90,90,10), labels=[True,False,False,False])\n",
    "m.drawmeridians(np.arange(-180,180,30), labels=[0,0,0,1])\n",
    "\n",
    "m.scatter(y_pred_long_MANGKHURT_formatted, y_pred_lat_MANGKHURT_formatted, latlon=True, s=100, c='blue', marker=hurricane, label = 'Louis model predicted track')\n",
    "m.scatter(Y_original_MANGKHURT_long, Y_original_MANGKHURT_lat, latlon=True, s=100, c='red', marker=hurricane, label = 'Actual Mangkhurt Track')\n",
    "m.scatter(114.1694, 22.3193,latlon=True, s=200, c='orange', marker='o', label = 'Hong Kong' )\n",
    "plt.title('Typhoon track prediction (2018 Mangkhurt)' , fontsize=20)\n",
    "plt.legend(prop={'size': 20})\n",
    "plt.savefig(\"2018_MANGKHURT.png\")\n",
    "plt.show()"
   ]
  },
  {
   "cell_type": "markdown",
   "id": "f2ede6e0-4c69-490d-9154-4e3c1a23b98f",
   "metadata": {
    "tags": []
   },
   "source": [
    "### 24 hour track error Manghkurt"
   ]
  },
  {
   "cell_type": "code",
   "execution_count": 186,
   "id": "6c67b445-ff8b-4a42-9641-4c3878d7c2fc",
   "metadata": {},
   "outputs": [],
   "source": [
    "# y_pred_lat_MANGKHURT_first_lat = model_lat(X_original_MANGKHURT_lat[0][None,:,:].to(device))\n",
    "# y_pred_long_MANGKHURT_first_long = model_long(X_original_MANGKHURT_long[0][None,:,:].to(device))\n",
    "\n",
    "# X_original_MANGKHURT_lat[1][4].index_copy_(0, torch.tensor([0]), y_pred_lat_MANGKHURT_first_lat[0,:].cpu())\n",
    "# X_original_MANGKHURT_long[1][4].index_copy_(0, torch.tensor([0]), y_pred_long_MANGKHURT_first_long[0,:].cpu())\n",
    "\n",
    "\n",
    "# y_pred_lat_MANGKHURT_second_lat = model_lat(X_original_MANGKHURT_lat[1][None,:,:].to(device))\n",
    "# y_pred_long_MANGKHURT_second_long = model_long(X_original_MANGKHURT_long[1][None,:,:].to(device))\n",
    "\n",
    "\n",
    "# X_original_MANGKHURT_lat[2][3].index_copy_(0, torch.tensor([0]), y_pred_lat_MANGKHURT_first_lat[0,:].cpu())\n",
    "# X_original_MANGKHURT_lat[2][4].index_copy_(0, torch.tensor([0]), y_pred_lat_MANGKHURT_second_lat[0,:].cpu())\n",
    "\n",
    "# X_original_MANGKHURT_long[2][3].index_copy_(0, torch.tensor([0]), y_pred_long_MANGKHURT_first_long[0,:].cpu())\n",
    "# X_original_MANGKHURT_long[2][4].index_copy_(0, torch.tensor([0]), y_pred_long_MANGKHURT_second_long[0,:].cpu())\n",
    "\n",
    "# X_original_MANGKHURT_lat[3][2].index_copy_(0, torch.tensor([0]), y_pred_lat_MANGKHURT_first_lat[0,:].cpu())\n",
    "# X_original_MANGKHURT_lat[3][3].index_copy_(0, torch.tensor([0]), y_pred_lat_MANGKHURT_second_lat[0,:].cpu())\n",
    "\n",
    "# X_original_MANGKHURT_long[3][2].index_copy_(0, torch.tensor([0]), y_pred_long_MANGKHURT_first_long[0,:].cpu())\n",
    "# X_original_MANGKHURT_long[3][3].index_copy_(0, torch.tensor([0]), y_pred_long_MANGKHURT_second_long[0,:].cpu())\n",
    "\n",
    "# y_pred_lat_MANGKHURT_third_lat = model_lat(X_original_MANGKHURT_lat[2][None,:,:].to(device))\n",
    "# y_pred_long_MANGKHURT_third_long = model_long(X_original_MANGKHURT_long[2][None,:,:].to(device))\n",
    "\n",
    "\n",
    "# X_original_MANGKHURT_lat[3][4].index_copy_(0, torch.tensor([0]), y_pred_lat_MANGKHURT_third_lat[0,:].cpu())\n",
    "# X_original_MANGKHURT_long[3][4].index_copy_(0, torch.tensor([0]), y_pred_long_MANGKHURT_third_long[0,:].cpu())\n",
    "\n",
    "# X_original_MANGKHURT_lat[4][1].index_copy_(0, torch.tensor([0]), y_pred_lat_MANGKHURT_first_lat[0,:].cpu())\n",
    "# X_original_MANGKHURT_lat[4][2].index_copy_(0, torch.tensor([0]), y_pred_lat_MANGKHURT_second_lat[0,:].cpu())\n",
    "# X_original_MANGKHURT_lat[4][3].index_copy_(0, torch.tensor([0]), y_pred_lat_MANGKHURT_third_lat[0,:].cpu())\n",
    "\n",
    "# X_original_MANGKHURT_long[4][1].index_copy_(0, torch.tensor([0]), y_pred_long_MANGKHURT_first_long[0,:].cpu())\n",
    "# X_original_MANGKHURT_long[4][2].index_copy_(0, torch.tensor([0]), y_pred_long_MANGKHURT_second_long[0,:].cpu())\n",
    "# X_original_MANGKHURT_long[4][3].index_copy_(0, torch.tensor([0]), y_pred_long_MANGKHURT_third_long[0,:].cpu())\n",
    "\n",
    "# y_pred_lat_MANGKHURT_forth_lat = model_lat(X_original_MANGKHURT_lat[3][None,:,:].to(device))\n",
    "# y_pred_long_MANGKHURT_forth_long = model_long(X_original_MANGKHURT_long[3][None,:,:].to(device))\n",
    "\n",
    "\n",
    "# X_original_MANGKHURT_lat[4][4].index_copy_(0, torch.tensor([0]), y_pred_lat_MANGKHURT_forth_lat[0,:].cpu())\n",
    "# X_original_MANGKHURT_long[4][4].index_copy_(0, torch.tensor([0]), y_pred_long_MANGKHURT_forth_long[0,:].cpu())\n",
    "\n",
    "\n",
    "# X_original_MANGKHURT_lat[5][0].index_copy_(0, torch.tensor([0]), y_pred_lat_MANGKHURT_first_lat[0,:].cpu())\n",
    "# X_original_MANGKHURT_lat[5][1].index_copy_(0, torch.tensor([0]), y_pred_lat_MANGKHURT_second_lat[0,:].cpu())\n",
    "# X_original_MANGKHURT_lat[5][2].index_copy_(0, torch.tensor([0]), y_pred_lat_MANGKHURT_third_lat[0,:].cpu())\n",
    "# X_original_MANGKHURT_lat[5][3].index_copy_(0, torch.tensor([0]), y_pred_lat_MANGKHURT_forth_lat[0,:].cpu())\n",
    "\n",
    "# X_original_MANGKHURT_long[5][0].index_copy_(0, torch.tensor([0]), y_pred_long_MANGKHURT_first_long[0,:].cpu())\n",
    "# X_original_MANGKHURT_long[5][1].index_copy_(0, torch.tensor([0]), y_pred_long_MANGKHURT_second_long[0,:].cpu())\n",
    "# X_original_MANGKHURT_long[5][2].index_copy_(0, torch.tensor([0]), y_pred_long_MANGKHURT_third_long[0,:].cpu())\n",
    "# X_original_MANGKHURT_long[5][3].index_copy_(0, torch.tensor([0]), y_pred_long_MANGKHURT_forth_long[0,:].cpu())\n",
    "\n",
    "# y_pred_lat_MANGKHURT_fifth_lat = model_lat(X_original_MANGKHURT_lat[4][None,:,:].to(device))\n",
    "# y_pred_long_MANGKHURT_fifth_long = model_long(X_original_MANGKHURT_long[4][None,:,:].to(device))\n",
    "\n",
    "\n",
    "# X_original_MANGKHURT_lat[5][4].index_copy_(0, torch.tensor([0]), y_pred_lat_MANGKHURT_fifth_lat[0,:].cpu())\n",
    "# X_original_MANGKHURT_long[5][4].index_copy_(0, torch.tensor([0]), y_pred_long_MANGKHURT_fifth_long[0,:].cpu())\n",
    "\n",
    "\n",
    "# X_original_MANGKHURT_lat[6][0].index_copy_(0, torch.tensor([0]), y_pred_lat_MANGKHURT_second_lat[0,:].cpu())\n",
    "# X_original_MANGKHURT_lat[6][1].index_copy_(0, torch.tensor([0]), y_pred_lat_MANGKHURT_third_lat[0,:].cpu())\n",
    "# X_original_MANGKHURT_lat[6][2].index_copy_(0, torch.tensor([0]), y_pred_lat_MANGKHURT_forth_lat[0,:].cpu())\n",
    "# X_original_MANGKHURT_lat[6][3].index_copy_(0, torch.tensor([0]), y_pred_lat_MANGKHURT_fifth_lat[0,:].cpu())\n",
    "\n",
    "# X_original_MANGKHURT_long[6][0].index_copy_(0, torch.tensor([0]), y_pred_long_MANGKHURT_second_long[0,:].cpu())\n",
    "# X_original_MANGKHURT_long[6][1].index_copy_(0, torch.tensor([0]), y_pred_long_MANGKHURT_third_long[0,:].cpu())\n",
    "# X_original_MANGKHURT_long[6][2].index_copy_(0, torch.tensor([0]), y_pred_long_MANGKHURT_forth_long[0,:].cpu())\n",
    "# X_original_MANGKHURT_long[6][3].index_copy_(0, torch.tensor([0]), y_pred_long_MANGKHURT_fifth_long[0,:].cpu())\n",
    "\n",
    "# y_pred_lat_MANGKHURT_sixth_lat = model_lat(X_original_MANGKHURT_lat[5][None,:,:].to(device))\n",
    "# X_original_MANGKHURT_lat[6][4].index_copy_(0, torch.tensor([0]), y_pred_lat_MANGKHURT_sixth_lat[0,:].cpu())\n",
    "\n",
    "# y_pred_long_MANGKHURT_sixth_long = model_long(X_original_MANGKHURT_long[5][None,:,:].to(device))\n",
    "# X_original_MANGKHURT_long[6][4].index_copy_(0, torch.tensor([0]), y_pred_long_MANGKHURT_sixth_long[0,:].cpu())\n",
    "\n",
    "# X_original_MANGKHURT_lat[7][0].index_copy_(0, torch.tensor([0]), y_pred_lat_MANGKHURT_third_lat[0,:].cpu())\n",
    "# X_original_MANGKHURT_lat[7][1].index_copy_(0, torch.tensor([0]), y_pred_lat_MANGKHURT_forth_lat[0,:].cpu())\n",
    "# X_original_MANGKHURT_lat[7][2].index_copy_(0, torch.tensor([0]), y_pred_lat_MANGKHURT_fifth_lat[0,:].cpu())\n",
    "# X_original_MANGKHURT_lat[7][3].index_copy_(0, torch.tensor([0]), y_pred_lat_MANGKHURT_sixth_lat[0,:].cpu())\n",
    "\n",
    "# X_original_MANGKHURT_long[7][0].index_copy_(0, torch.tensor([0]), y_pred_long_MANGKHURT_third_long[0,:].cpu())\n",
    "# X_original_MANGKHURT_long[7][1].index_copy_(0, torch.tensor([0]), y_pred_long_MANGKHURT_forth_long[0,:].cpu())\n",
    "# X_original_MANGKHURT_long[7][2].index_copy_(0, torch.tensor([0]), y_pred_long_MANGKHURT_fifth_long[0,:].cpu())\n",
    "# X_original_MANGKHURT_long[7][3].index_copy_(0, torch.tensor([0]), y_pred_long_MANGKHURT_sixth_long[0,:].cpu())\n",
    "\n",
    "# y_pred_lat_MANGKHURT_seventh_lat = model_lat(X_original_MANGKHURT_lat[6][None,:,:].to(device))\n",
    "# X_original_MANGKHURT_lat[7][4].index_copy_(0, torch.tensor([0]), y_pred_lat_MANGKHURT_seventh_lat[0,:].cpu())\n",
    "\n",
    "# y_pred_long_MANGKHURT_seventh_long = model_long(X_original_MANGKHURT_long[6][None,:,:].to(device))\n",
    "# X_original_MANGKHURT_long[7][4].index_copy_(0, torch.tensor([0]), y_pred_long_MANGKHURT_seventh_long[0,:].cpu())\n",
    "\n",
    "# y_pred_lat_MANGKHURT_eighth_lat = model_lat(X_original_MANGKHURT_lat[7][None,:,:].to(device))\n",
    "\n",
    "# y_pred_long_MANGKHURT_eighth_long = model_long(X_original_MANGKHURT_long[7][None,:,:].to(device))"
   ]
  },
  {
   "cell_type": "code",
   "execution_count": 187,
   "id": "0feabc76-e42d-47ae-abb2-7059f7f3605b",
   "metadata": {},
   "outputs": [],
   "source": [
    "# y_pred_24hour_lat = y_pred_lat_MANGKHURT_eighth_lat.cpu().detach().numpy()"
   ]
  },
  {
   "cell_type": "code",
   "execution_count": 188,
   "id": "acccbe1e-6721-42aa-93e2-8227ad653966",
   "metadata": {},
   "outputs": [],
   "source": [
    "# y_pred_24hour_long = y_pred_long_MANGKHURT_eighth_long.cpu().detach().numpy()"
   ]
  },
  {
   "cell_type": "code",
   "execution_count": 189,
   "id": "2d8978f6-cdb5-438f-a766-a68a6bd3bb9f",
   "metadata": {},
   "outputs": [],
   "source": [
    "# y_pred_24hour_lat = scaler_lat.inverse_transform(y_pred_24hour_lat)"
   ]
  },
  {
   "cell_type": "code",
   "execution_count": 190,
   "id": "d8c32584-b571-4a0d-9c2e-59ccf30a943d",
   "metadata": {},
   "outputs": [],
   "source": [
    "# y_pred_24hour_long = scaler_long.inverse_transform(y_pred_24hour_long)"
   ]
  },
  {
   "cell_type": "code",
   "execution_count": 191,
   "id": "37f8c673-bf6e-4bfc-8f33-498f70255d60",
   "metadata": {},
   "outputs": [],
   "source": [
    "# print(math.sqrt(mean_squared_error(Y_original_MANGKHURT_lat[7], y_pred_24hour_lat)))"
   ]
  },
  {
   "cell_type": "code",
   "execution_count": 192,
   "id": "0f289dbc-c1ca-4b27-9b85-303fec48a507",
   "metadata": {},
   "outputs": [],
   "source": [
    "# print(math.sqrt(mean_squared_error(Y_original_MANGKHURT_long[7], y_pred_24hour_long)))"
   ]
  },
  {
   "cell_type": "markdown",
   "id": "e1b08974-48ca-430e-993e-bcbbf602e46a",
   "metadata": {
    "tags": []
   },
   "source": [
    "### Latitude Prediction (2018 KONGREY)"
   ]
  },
  {
   "cell_type": "code",
   "execution_count": 148,
   "id": "83f3d00f-21c5-46a3-9dff-3e77a21fc1c9",
   "metadata": {},
   "outputs": [
    {
     "name": "stdout",
     "output_type": "stream",
     "text": [
      "[7.58, 8.58, 9.44, 9.68, 10.14, 11.05, 11.89, 12.55, 12.53, 12.62, 12.65, 12.69, 12.86, 13.24, 13.67, 13.82, 14.09, 14.52, 14.86, 15.1, 15.27, 15.39, 15.5, 15.65, 15.83, 16.11, 16.45, 16.87, 17.24, 17.46, 17.63, 17.67, 17.86, 18.2, 18.58, 18.93, 19.32, 19.68, 19.98, 20.16, 20.39, 20.8, 21.19, 21.61, 22.01, 22.43, 22.84, 23.16, 23.64, 24.32, 24.97, 25.49, 26.06, 26.8, 27.4, 27.68, 28.42, 29.15, 30.13, 31.33, 32.53, 32.82, 33.57, 34.7, 36.0, 37.12, 38.08, 38.75, 39.53, 40.83, 41.59, 42.16]\n",
      "72\n",
      "0.021775716897968155\n",
      "0.1475659747298413\n"
     ]
    }
   ],
   "source": [
    "df_features_lat_2018_KONGREY = df_WP_2018_KONGREY[cols_features].astype(float)\n",
    "df_target_lat_2018_KONGREY = df_WP_2018_KONGREY[cols_target].astype(float)\n",
    "\n",
    "df_features_lat_2018_KONGREY = df_features_lat_2018_KONGREY[cols_features].to_numpy()\n",
    "df_target_lat_2018_KONGREY = df_target_lat_2018_KONGREY[cols_target].to_numpy()\n",
    "\n",
    "X_original_KONGREY_lat=[]\n",
    "Y_original_KONGREY_lat=[]\n",
    "\n",
    "for i in range(n_past, len(df_features_lat_2018_KONGREY)-n_future+1):\n",
    "    X_original_KONGREY_lat.append(df_features_lat_2018_KONGREY[i-n_past:i,0:df_features_lat_2018_KONGREY.shape[1]])\n",
    "    Y_original_KONGREY_lat.append(df_target_lat_2018_KONGREY[i+n_future-1:i+n_future,0])\n",
    "    \n",
    "X_original_KONGREY_lat, Y_original_KONGREY_lat= np.array(X_original_KONGREY_lat), np.array(Y_original_KONGREY_lat)\n",
    "X_original_KONGREY_lat = torch.from_numpy(X_original_KONGREY_lat).float()\n",
    "y_pred_lat_KONGREY = model_lat(X_original_KONGREY_lat.to(device))\n",
    "\n",
    "y_pred_lat_KONGREY  = y_pred_lat_KONGREY.cpu().detach().numpy()\n",
    "y_pred_lat_KONGREY = scaler_lat.inverse_transform(y_pred_lat_KONGREY)\n",
    "\n",
    "y_pred_lat_KONGREY_formatted = [ '%.2f' % elem for elem in y_pred_lat_KONGREY ]\n",
    "y_pred_lat_KONGREY_formatted = [float(i) for i in y_pred_lat_KONGREY_formatted]\n",
    "print(y_pred_lat_KONGREY_formatted)\n",
    "print(len(y_pred_lat_KONGREY_formatted))\n",
    "\n",
    "Y_original_KONGREY_lat = scaler_lat.inverse_transform(Y_original_KONGREY_lat)\n",
    "\n",
    "# import MSE for accurarcy metrics\n",
    "from sklearn.metrics import mean_squared_error\n",
    "import math\n",
    "\n",
    "print(mean_squared_error(Y_original_KONGREY_lat, y_pred_lat_KONGREY))\n",
    "print(math.sqrt(mean_squared_error(Y_original_KONGREY_lat, y_pred_lat_KONGREY)))"
   ]
  },
  {
   "cell_type": "markdown",
   "id": "86cdeaa8-7bf1-43ba-bf59-261217552ebe",
   "metadata": {
    "tags": []
   },
   "source": [
    "### Longitude Prediction (2018 KONGREY)"
   ]
  },
  {
   "cell_type": "code",
   "execution_count": 149,
   "id": "cf48ee8a-a8e1-4b61-956a-3332e3f7f954",
   "metadata": {},
   "outputs": [
    {
     "name": "stdout",
     "output_type": "stream",
     "text": [
      "[150.63, 149.94, 149.15, 148.3, 147.39, 146.79, 146.04, 145.0, 143.51, 142.32, 141.41, 140.66, 140.14, 139.56, 139.01, 138.65, 138.32, 137.89, 137.46, 137.14, 136.84, 136.48, 136.15, 135.86, 135.57, 135.23, 134.84, 134.42, 133.99, 133.58, 133.17, 132.7, 132.26, 131.95, 131.64, 131.29, 130.88, 130.38, 129.91, 129.6, 129.39, 129.17, 128.97, 128.75, 128.49, 128.15, 127.82, 127.56, 127.33, 127.05, 126.78, 126.5, 126.24, 126.0, 125.78, 125.75, 125.63, 125.73, 125.92, 125.89, 125.84, 126.19, 126.92, 128.21, 129.51, 130.45, 131.5, 133.09, 134.94, 136.65, 138.56, 140.31]\n",
      "72\n",
      "0.04245617551497874\n",
      "0.20604896387746952\n"
     ]
    }
   ],
   "source": [
    "df_features_long_2018_KONGREY = df_WP_2018_KONGREY[cols_features].astype(float)\n",
    "df_target_long_2018_KONGREY= df_WP_2018_KONGREY[cols_target_long].astype(float)\n",
    "\n",
    "df_features_long_2018_KONGREY = df_features_long_2018_KONGREY[cols_features].to_numpy()\n",
    "df_target_long_2018_KONGREY = df_target_long_2018_KONGREY[cols_target_long].to_numpy()\n",
    "\n",
    "X_original_2018_KONGREY_long=[]\n",
    "Y_original_2018_KONGREY_long=[]\n",
    "\n",
    "for i in range(n_past, len(df_features_long_2018_KONGREY)-n_future+1):\n",
    "    X_original_2018_KONGREY_long.append(df_features_long_2018_KONGREY[i-n_past:i,0:df_features_long_2018_KONGREY.shape[1]])\n",
    "    Y_original_2018_KONGREY_long.append(df_target_long_2018_KONGREY[i+n_future-1:i+n_future,0])\n",
    "    \n",
    "X_original_2018_KONGREY_long, Y_original_2018_KONGREY_long= np.array(X_original_2018_KONGREY_long), np.array(Y_original_2018_KONGREY_long)    \n",
    "X_original_2018_KONGREY_long = torch.from_numpy(X_original_2018_KONGREY_long).float()\n",
    "y_pred_long_2018_KONGREY = model_long(X_original_2018_KONGREY_long.to(device))\n",
    "y_pred_long_2018_KONGREY  = y_pred_long_2018_KONGREY.cpu().detach().numpy()\n",
    "y_pred_long_2018_KONGREY = scaler_long.inverse_transform(y_pred_long_2018_KONGREY)\n",
    "\n",
    "y_pred_long_KONGREY_formatted = [ '%.2f' % elem for elem in y_pred_long_2018_KONGREY ]\n",
    "y_pred_long_KONGREY_formatted = [float(i) for i in y_pred_long_KONGREY_formatted]\n",
    "print(y_pred_long_KONGREY_formatted)\n",
    "print(len(y_pred_long_KONGREY_formatted))\n",
    "\n",
    "Y_original_2018_KONGREY_long = scaler_long.inverse_transform(Y_original_2018_KONGREY_long)\n",
    "\n",
    "print(mean_squared_error(Y_original_2018_KONGREY_long, y_pred_long_2018_KONGREY))\n",
    "print(math.sqrt(mean_squared_error(Y_original_2018_KONGREY_long, y_pred_long_2018_KONGREY)))"
   ]
  },
  {
   "cell_type": "code",
   "execution_count": 150,
   "id": "4132a24f-80e1-47b6-b82f-b79cdaa88940",
   "metadata": {},
   "outputs": [],
   "source": [
    "pred_2_kong = np.concatenate((y_pred_lat_KONGREY, y_pred_long_2018_KONGREY), axis=1)"
   ]
  },
  {
   "cell_type": "code",
   "execution_count": 151,
   "id": "9cf21dee-7337-412e-b9d5-5ee1cf4981f7",
   "metadata": {},
   "outputs": [],
   "source": [
    "true_2_kong = np.concatenate((Y_original_KONGREY_lat, Y_original_2018_KONGREY_long), axis=1)"
   ]
  },
  {
   "cell_type": "code",
   "execution_count": 152,
   "id": "4834cd83-4c0a-443e-8199-a0f4b8c048a5",
   "metadata": {},
   "outputs": [
    {
     "name": "stdout",
     "output_type": "stream",
     "text": [
      "0.17920922466902606\n"
     ]
    }
   ],
   "source": [
    "print(math.sqrt(mean_squared_error(true_2_kong, pred_2_kong)))"
   ]
  },
  {
   "cell_type": "markdown",
   "id": "42361409-bbae-465b-8aa0-61d6bb425d9d",
   "metadata": {
    "tags": []
   },
   "source": [
    "### Prediction visualisation (2018 KONGREY)"
   ]
  },
  {
   "cell_type": "code",
   "execution_count": 153,
   "id": "b9df1413-1d67-4795-99dc-d72229e75192",
   "metadata": {},
   "outputs": [
    {
     "name": "stdout",
     "output_type": "stream",
     "text": [
      "Actual Lat of KONGREY:\n",
      "[8.05, 8.8, 9.24, 9.7, 10.42, 11.2, 11.9, 12.2, 12.39, 12.5, 12.58, 12.7, 12.98, 13.3, 13.54, 13.8, 14.15, 14.5, 14.78, 15.0, 15.17, 15.3, 15.43, 15.6, 15.82, 16.1, 16.45, 16.8, 17.08, 17.3, 17.44, 17.6, 17.87, 18.2, 18.54, 18.9, 19.27, 19.6, 19.85, 20.1, 20.43, 20.8, 21.19, 21.6, 22.0, 22.4, 22.77, 23.2, 23.78, 24.4, 24.94, 25.5, 26.15, 26.8, 27.34, 27.9, 28.58, 29.4, 30.41, 31.4, 32.08, 32.8, 33.85, 35.0, 36.09, 37.1, 37.91, 38.7, 39.72, 40.7, 41.43, 42.0]\n",
      "72\n",
      "Actual Long of KONGREY:\n",
      "[150.38, 149.6, 148.8, 148.0, 147.29, 146.5, 145.5, 144.2, 143.1, 142.2, 141.38, 140.7, 140.1, 139.6, 139.19, 138.8, 138.34, 137.9, 137.53, 137.2, 136.84, 136.5, 136.2, 135.9, 135.56, 135.2, 134.81, 134.4, 134.01, 133.6, 133.14, 132.7, 132.34, 132.0, 131.62, 131.2, 130.74, 130.3, 129.97, 129.7, 129.44, 129.2, 128.96, 128.7, 128.4, 128.1, 127.84, 127.6, 127.35, 127.1, 126.85, 126.6, 126.34, 126.1, 125.86, 125.7, 125.72, 125.8, 125.74, 125.8, 126.11, 126.7, 127.58, 128.6, 129.42, 130.4, 131.78, 133.4, 135.11, 136.9, 138.66, 140.4]\n",
      "72\n"
     ]
    }
   ],
   "source": [
    "print(\"Actual Lat of KONGREY:\")\n",
    "Y_original_KONGREY_lat_formatted = [ '%.2f' % elem for elem in Y_original_KONGREY_lat ]\n",
    "Y_original_KONGREY_lat_formatted = [float(i) for i in Y_original_KONGREY_lat_formatted]\n",
    "print(Y_original_KONGREY_lat_formatted)\n",
    "print(len(Y_original_KONGREY_lat_formatted))\n",
    "print(\"Actual Long of KONGREY:\")\n",
    "Y_original_KONGREY_long_formatted = [ '%.2f' % elem for elem in Y_original_2018_KONGREY_long ]\n",
    "Y_original_KONGREY_long_formatted = [float(i) for i in Y_original_KONGREY_long_formatted]\n",
    "print(Y_original_KONGREY_long_formatted)\n",
    "print(len(Y_original_KONGREY_long_formatted))"
   ]
  },
  {
   "cell_type": "code",
   "execution_count": 154,
   "id": "4719016d-355d-41d8-bcd6-4bf6e5b01a33",
   "metadata": {},
   "outputs": [
    {
     "name": "stdout",
     "output_type": "stream",
     "text": [
      "Predicted Lat of KONGREY:\n",
      "[7.58, 8.58, 9.44, 9.68, 10.14, 11.05, 11.89, 12.55, 12.53, 12.62, 12.65, 12.69, 12.86, 13.24, 13.67, 13.82, 14.09, 14.52, 14.86, 15.1, 15.27, 15.39, 15.5, 15.65, 15.83, 16.11, 16.45, 16.87, 17.24, 17.46, 17.63, 17.67, 17.86, 18.2, 18.58, 18.93, 19.32, 19.68, 19.98, 20.16, 20.39, 20.8, 21.19, 21.61, 22.01, 22.43, 22.84, 23.16, 23.64, 24.32, 24.97, 25.49, 26.06, 26.8, 27.4, 27.68, 28.42, 29.15, 30.13, 31.33, 32.53, 32.82, 33.57, 34.7, 36.0, 37.12, 38.08, 38.75, 39.53, 40.83, 41.59, 42.16]\n",
      "----------------------------------------------------------------------------------------------\n",
      "Predicted Long of KONGREY:\n",
      "[150.63, 149.94, 149.15, 148.3, 147.39, 146.79, 146.04, 145.0, 143.51, 142.32, 141.41, 140.66, 140.14, 139.56, 139.01, 138.65, 138.32, 137.89, 137.46, 137.14, 136.84, 136.48, 136.15, 135.86, 135.57, 135.23, 134.84, 134.42, 133.99, 133.58, 133.17, 132.7, 132.26, 131.95, 131.64, 131.29, 130.88, 130.38, 129.91, 129.6, 129.39, 129.17, 128.97, 128.75, 128.49, 128.15, 127.82, 127.56, 127.33, 127.05, 126.78, 126.5, 126.24, 126.0, 125.78, 125.75, 125.63, 125.73, 125.92, 125.89, 125.84, 126.19, 126.92, 128.21, 129.51, 130.45, 131.5, 133.09, 134.94, 136.65, 138.56, 140.31]\n"
     ]
    }
   ],
   "source": [
    "print(\"Predicted Lat of KONGREY:\")\n",
    "print(y_pred_lat_KONGREY_formatted)\n",
    "print(\"----------------------------------------------------------------------------------------------\")\n",
    "print(\"Predicted Long of KONGREY:\")\n",
    "print(y_pred_long_KONGREY_formatted)"
   ]
  },
  {
   "cell_type": "code",
   "execution_count": 161,
   "id": "52aedbfa-ce78-487e-8fa4-f9366699c200",
   "metadata": {},
   "outputs": [],
   "source": [
    "hurricane = get_hurricane()"
   ]
  },
  {
   "cell_type": "code",
   "execution_count": 162,
   "id": "320afea3-af51-4076-9de7-6bc6a56def55",
   "metadata": {},
   "outputs": [
    {
     "data": {
      "image/png": "[encoded data removed]",
      "text/plain": [
       "<Figure size 1440x720 with 1 Axes>"
      ]
     },
     "metadata": {},
     "output_type": "display_data"
    }
   ],
   "source": [
    "plt.figure(figsize=(20,10))\n",
    "m = Basemap(projection='mill', llcrnrlat = 0, urcrnrlat = 50, llcrnrlon = 90, urcrnrlon =175, resolution = 'c')\n",
    "m.drawcoastlines()\n",
    "m.drawparallels(np.arange(-90,90,10), labels=[True,False,False,False])\n",
    "m.drawmeridians(np.arange(-180,180,30), labels=[0,0,0,1])\n",
    "\n",
    "m.scatter(y_pred_long_KONGREY_formatted, y_pred_lat_KONGREY_formatted, latlon=True, s=100, c='blue', marker=hurricane, label = 'Louis model predicted track')\n",
    "m.scatter(Y_original_2018_KONGREY_long, Y_original_KONGREY_lat, latlon=True, s=100, c='red', marker=hurricane, label = 'Actual KONGREY Track')\n",
    "m.scatter(114.1694, 22.3193,latlon=True, s=200, c='orange', marker='o', label = 'Hong Kong' )\n",
    "plt.title('Typhoon track prediction (2018 KONGREY)' , fontsize=20)\n",
    "plt.legend(prop={'size': 20})\n",
    "plt.savefig(\"2018_KONGREY.png\")\n",
    "plt.show()"
   ]
  },
  {
   "cell_type": "markdown",
   "id": "0e750bae-e590-422a-8e93-707576cab95d",
   "metadata": {
    "tags": []
   },
   "source": [
    "### Latitude Prediction (2018 YUTU)"
   ]
  },
  {
   "cell_type": "code",
   "execution_count": 163,
   "id": "7d493317-fbda-449d-9f9f-265908b2cc3d",
   "metadata": {},
   "outputs": [
    {
     "name": "stdout",
     "output_type": "stream",
     "text": [
      "[8.4, 8.43, 8.51, 8.66, 8.9, 9.25, 9.63, 9.93, 10.22, 10.44, 10.67, 10.91, 11.16, 11.41, 11.69, 11.85, 11.99, 12.02, 12.18, 12.66, 13.11, 13.36, 13.65, 13.94, 14.26, 14.62, 15.01, 15.36, 15.7, 15.93, 16.11, 16.13, 16.17, 16.26, 16.39, 16.57, 16.71, 16.77, 16.89, 17.07, 17.21, 17.27, 17.39, 17.55, 17.7, 17.8, 17.84, 17.86, 17.89, 17.96, 18.01, 17.99, 18.02, 18.01, 18.02, 18.02, 17.99, 17.85, 17.67, 17.53, 17.31, 16.96, 16.76, 16.77, 16.81, 16.84, 16.85, 16.71, 16.7, 16.74, 16.77, 16.72, 16.64, 16.42, 16.43, 16.57, 17.02, 17.22, 17.52, 17.98, 18.29, 18.32, 18.42, 18.77, 19.04, 19.21, 19.44, 19.68, 19.95, 20.16, 20.3, 20.45, 20.55, 20.87, 20.83, 20.83, 20.7, 20.46, 20.27, 20.1, 19.97, 19.93, 19.81, 19.56]\n",
      "104\n",
      "0.009243393289197767\n",
      "0.09614256751927196\n"
     ]
    }
   ],
   "source": [
    "df_features_lat_2018_YUTU = df_WP_2018_YUTU[cols_features].astype(float)\n",
    "df_target_lat_2018_YUTU = df_WP_2018_YUTU[cols_target].astype(float)\n",
    "\n",
    "df_features_lat_2018_YUTU = df_features_lat_2018_YUTU[cols_features].to_numpy()\n",
    "df_target_lat_2018_YUTU = df_target_lat_2018_YUTU[cols_target].to_numpy()\n",
    "\n",
    "X_original_YUTU_lat=[]\n",
    "Y_original_YUTU_lat=[]\n",
    "\n",
    "for i in range(n_past, len(df_features_lat_2018_YUTU)-n_future+1):\n",
    "    X_original_YUTU_lat.append(df_features_lat_2018_YUTU[i-n_past:i,0:df_features_lat_2018_YUTU.shape[1]])\n",
    "    Y_original_YUTU_lat.append(df_target_lat_2018_YUTU[i+n_future-1:i+n_future,0])\n",
    "    \n",
    "X_original_YUTU_lat, Y_original_YUTU_lat= np.array(X_original_YUTU_lat), np.array(Y_original_YUTU_lat)\n",
    "X_original_YUTU_lat = torch.from_numpy(X_original_YUTU_lat).float()\n",
    "y_pred_lat_YUTU = model_lat(X_original_YUTU_lat.to(device))\n",
    "\n",
    "y_pred_lat_YUTU  = y_pred_lat_YUTU.cpu().detach().numpy()\n",
    "y_pred_lat_YUTU = scaler_lat.inverse_transform(y_pred_lat_YUTU)\n",
    "\n",
    "y_pred_lat_YUTU_formatted = [ '%.2f' % elem for elem in y_pred_lat_YUTU ]\n",
    "y_pred_lat_YUTU_formatted = [float(i) for i in y_pred_lat_YUTU_formatted]\n",
    "print(y_pred_lat_YUTU_formatted)\n",
    "print(len(y_pred_lat_YUTU_formatted))\n",
    "\n",
    "Y_original_YUTU_lat = scaler_lat.inverse_transform(Y_original_YUTU_lat)\n",
    "\n",
    "# import MSE for accurarcy metrics\n",
    "from sklearn.metrics import mean_squared_error\n",
    "import math\n",
    "\n",
    "print(mean_squared_error(Y_original_YUTU_lat, y_pred_lat_YUTU))\n",
    "print(math.sqrt(mean_squared_error(Y_original_YUTU_lat, y_pred_lat_YUTU)))"
   ]
  },
  {
   "cell_type": "markdown",
   "id": "34d03f33-e182-4565-af40-e0e303530756",
   "metadata": {
    "tags": []
   },
   "source": [
    "### Longitude Prediction (2018 YUTU)"
   ]
  },
  {
   "cell_type": "code",
   "execution_count": 164,
   "id": "6ff25324-abcd-4a48-be25-76ee71bde369",
   "metadata": {},
   "outputs": [
    {
     "name": "stdout",
     "output_type": "stream",
     "text": [
      "[157.87, 157.47, 157.2, 156.81, 156.34, 155.75, 155.15, 154.77, 154.46, 154.01, 153.57, 153.0, 152.45, 151.81, 151.04, 150.45, 149.95, 149.49, 149.12, 148.84, 148.55, 148.1, 147.6, 147.09, 146.64, 146.21, 145.78, 145.29, 144.77, 144.19, 143.64, 143.14, 142.71, 142.27, 141.85, 141.5, 141.09, 140.44, 139.72, 139.08, 138.44, 137.73, 136.97, 136.17, 135.4, 134.61, 133.84, 133.12, 132.46, 131.91, 131.4, 130.91, 130.4, 129.9, 129.43, 128.92, 128.41, 127.9, 127.41, 126.9, 126.4, 125.9, 125.43, 125.03, 124.59, 124.02, 123.41, 122.81, 122.18, 121.47, 120.77, 120.17, 119.65, 119.1, 118.64, 118.71, 118.54, 118.18, 117.8, 117.52, 117.33, 117.22, 117.12, 116.94, 116.75, 116.59, 116.49, 116.54, 116.64, 116.62, 116.55, 116.49, 116.42, 116.27, 116.29, 116.22, 116.1, 116.25, 116.15, 115.95, 115.77, 115.64, 115.52, 115.42]\n",
      "104\n",
      "0.023069205924551712\n",
      "0.15188550268064333\n"
     ]
    }
   ],
   "source": [
    "df_features_long_2018_YUTU = df_WP_2018_YUTU[cols_features].astype(float)\n",
    "df_target_long_2018_YUTU= df_WP_2018_YUTU[cols_target_long].astype(float)\n",
    "\n",
    "df_features_long_2018_YUTU = df_features_long_2018_YUTU[cols_features].to_numpy()\n",
    "df_target_long_2018_YUTU = df_target_long_2018_YUTU[cols_target_long].to_numpy()\n",
    "\n",
    "X_original_2018_YUTU_long=[]\n",
    "Y_original_2018_YUTU_long=[]\n",
    "\n",
    "for i in range(n_past, len(df_features_long_2018_YUTU)-n_future+1):\n",
    "    X_original_2018_YUTU_long.append(df_features_long_2018_YUTU[i-n_past:i,0:df_features_long_2018_YUTU.shape[1]])\n",
    "    Y_original_2018_YUTU_long.append(df_target_long_2018_YUTU[i+n_future-1:i+n_future,0])\n",
    "    \n",
    "X_original_2018_YUTU_long, Y_original_2018_YUTU_long= np.array(X_original_2018_YUTU_long), np.array(Y_original_2018_YUTU_long)    \n",
    "X_original_2018_YUTU_long = torch.from_numpy(X_original_2018_YUTU_long).float()\n",
    "y_pred_long_2018_YUTU = model_long(X_original_2018_YUTU_long.to(device))\n",
    "y_pred_long_2018_YUTU  = y_pred_long_2018_YUTU.cpu().detach().numpy()\n",
    "y_pred_long_2018_YUTU = scaler_long.inverse_transform(y_pred_long_2018_YUTU)\n",
    "\n",
    "y_pred_long_YUTU_formatted = [ '%.2f' % elem for elem in y_pred_long_2018_YUTU ]\n",
    "y_pred_long_YUTU_formatted = [float(i) for i in y_pred_long_YUTU_formatted]\n",
    "print(y_pred_long_YUTU_formatted)\n",
    "print(len(y_pred_long_YUTU_formatted))\n",
    "\n",
    "Y_original_2018_YUTU_long = scaler_long.inverse_transform(Y_original_2018_YUTU_long)\n",
    "\n",
    "print(mean_squared_error(Y_original_2018_YUTU_long, y_pred_long_2018_YUTU))\n",
    "print(math.sqrt(mean_squared_error(Y_original_2018_YUTU_long, y_pred_long_2018_YUTU)))"
   ]
  },
  {
   "cell_type": "code",
   "execution_count": 165,
   "id": "ad6a56b5-55f1-43ad-bdb0-8a2f56dd54bb",
   "metadata": {},
   "outputs": [],
   "source": [
    "pred_2_yutu = np.concatenate((y_pred_lat_YUTU, y_pred_long_2018_YUTU), axis=1)"
   ]
  },
  {
   "cell_type": "code",
   "execution_count": 166,
   "id": "2537b122-fc67-49c4-b45d-3171007b8795",
   "metadata": {},
   "outputs": [],
   "source": [
    "true_2_yutu = np.concatenate((Y_original_YUTU_lat, Y_original_2018_YUTU_long), axis=1)"
   ]
  },
  {
   "cell_type": "code",
   "execution_count": 167,
   "id": "f69c6fbd-af9d-432d-af11-133c0f1494e1",
   "metadata": {},
   "outputs": [
    {
     "name": "stdout",
     "output_type": "stream",
     "text": [
      "0.1271074333265948\n"
     ]
    }
   ],
   "source": [
    "print(math.sqrt(mean_squared_error(true_2_yutu, pred_2_yutu)))"
   ]
  },
  {
   "cell_type": "markdown",
   "id": "352fc877-9ede-4d1c-ae99-566bfa410c9e",
   "metadata": {
    "tags": []
   },
   "source": [
    "### Prediction visualisation (2018 YUTU)"
   ]
  },
  {
   "cell_type": "code",
   "execution_count": 168,
   "id": "ed478c95-8559-4fe4-8f2c-858178498f99",
   "metadata": {},
   "outputs": [
    {
     "name": "stdout",
     "output_type": "stream",
     "text": [
      "Actual Lat of YUTU:\n",
      "[8.33, 8.4, 8.51, 8.7, 8.98, 9.3, 9.61, 9.9, 10.16, 10.4, 10.65, 10.9, 11.16, 11.4, 11.62, 11.8, 11.88, 12.0, 12.32, 12.7, 13.01, 13.3, 13.59, 13.9, 14.24, 14.6, 14.96, 15.3, 15.59, 15.8, 15.92, 16.0, 16.09, 16.2, 16.35, 16.5, 16.6, 16.7, 16.85, 17.0, 17.1, 17.2, 17.35, 17.5, 17.61, 17.7, 17.76, 17.8, 17.86, 17.9, 17.91, 17.9, 17.9, 17.9, 17.91, 17.9, 17.82, 17.7, 17.57, 17.4, 17.13, 16.9, 16.81, 16.8, 16.8, 16.8, 16.74, 16.7, 16.75, 16.8, 16.77, 16.7, 16.56, 16.5, 16.65, 16.9, 17.13, 17.4, 17.77, 18.1, 18.26, 18.4, 18.64, 18.9, 19.1, 19.3, 19.55, 19.8, 20.02, 20.2, 20.31, 20.4, 20.57, 20.7, 20.75, 20.7, 20.57, 20.4, 20.24, 20.1, 20.01, 19.9, 19.72, 19.5]\n",
      "104\n",
      "Actual Long of YUTU:\n",
      "[157.97, 157.6, 157.17, 156.7, 156.14, 155.6, 155.19, 154.8, 154.31, 153.8, 153.31, 152.8, 152.21, 151.6, 151.03, 150.5, 150.02, 149.6, 149.25, 148.9, 148.47, 148.0, 147.55, 147.1, 146.66, 146.2, 145.72, 145.2, 144.64, 144.1, 143.63, 143.2, 142.74, 142.3, 141.92, 141.5, 140.93, 140.3, 139.72, 139.1, 138.42, 137.7, 136.96, 136.2, 135.44, 134.7, 133.97, 133.3, 132.73, 132.2, 131.64, 131.1, 130.59, 130.1, 129.6, 129.1, 128.6, 128.1, 127.59, 127.1, 126.64, 126.2, 125.77, 125.3, 124.77, 124.2, 123.62, 123.0, 122.3, 121.6, 120.98, 120.4, 119.81, 119.3, 118.97, 118.7, 118.34, 118.0, 117.72, 117.5, 117.34, 117.2, 117.0, 116.8, 116.62, 116.5, 116.48, 116.5, 116.46, 116.4, 116.34, 116.3, 116.31, 116.3, 116.21, 116.1, 116.05, 116.0, 115.91, 115.8, 115.7, 115.6, 115.5, 115.4]\n",
      "104\n"
     ]
    }
   ],
   "source": [
    "print(\"Actual Lat of YUTU:\")\n",
    "Y_original_YUTU_lat_formatted = [ '%.2f' % elem for elem in Y_original_YUTU_lat ]\n",
    "Y_original_YUTU_lat_formatted = [float(i) for i in Y_original_YUTU_lat_formatted]\n",
    "print(Y_original_YUTU_lat_formatted)\n",
    "print(len(Y_original_YUTU_lat_formatted))\n",
    "print(\"Actual Long of YUTU:\")\n",
    "Y_original_YUTU_long_formatted = [ '%.2f' % elem for elem in Y_original_2018_YUTU_long ]\n",
    "Y_original_YUTU_long_formatted = [float(i) for i in Y_original_YUTU_long_formatted]\n",
    "print(Y_original_YUTU_long_formatted)\n",
    "print(len(Y_original_YUTU_long_formatted))"
   ]
  },
  {
   "cell_type": "code",
   "execution_count": 169,
   "id": "ec81aec6-0c71-4717-baa7-56a0c706e1c1",
   "metadata": {},
   "outputs": [
    {
     "name": "stdout",
     "output_type": "stream",
     "text": [
      "Predicted Lat of YUTU:\n",
      "[8.4, 8.43, 8.51, 8.66, 8.9, 9.25, 9.63, 9.93, 10.22, 10.44, 10.67, 10.91, 11.16, 11.41, 11.69, 11.85, 11.99, 12.02, 12.18, 12.66, 13.11, 13.36, 13.65, 13.94, 14.26, 14.62, 15.01, 15.36, 15.7, 15.93, 16.11, 16.13, 16.17, 16.26, 16.39, 16.57, 16.71, 16.77, 16.89, 17.07, 17.21, 17.27, 17.39, 17.55, 17.7, 17.8, 17.84, 17.86, 17.89, 17.96, 18.01, 17.99, 18.02, 18.01, 18.02, 18.02, 17.99, 17.85, 17.67, 17.53, 17.31, 16.96, 16.76, 16.77, 16.81, 16.84, 16.85, 16.71, 16.7, 16.74, 16.77, 16.72, 16.64, 16.42, 16.43, 16.57, 17.02, 17.22, 17.52, 17.98, 18.29, 18.32, 18.42, 18.77, 19.04, 19.21, 19.44, 19.68, 19.95, 20.16, 20.3, 20.45, 20.55, 20.87, 20.83, 20.83, 20.7, 20.46, 20.27, 20.1, 19.97, 19.93, 19.81, 19.56]\n",
      "----------------------------------------------------------------------------------------------\n",
      "Predicted Long of YUTU:\n",
      "[157.87, 157.47, 157.2, 156.81, 156.34, 155.75, 155.15, 154.77, 154.46, 154.01, 153.57, 153.0, 152.45, 151.81, 151.04, 150.45, 149.95, 149.49, 149.12, 148.84, 148.55, 148.1, 147.6, 147.09, 146.64, 146.21, 145.78, 145.29, 144.77, 144.19, 143.64, 143.14, 142.71, 142.27, 141.85, 141.5, 141.09, 140.44, 139.72, 139.08, 138.44, 137.73, 136.97, 136.17, 135.4, 134.61, 133.84, 133.12, 132.46, 131.91, 131.4, 130.91, 130.4, 129.9, 129.43, 128.92, 128.41, 127.9, 127.41, 126.9, 126.4, 125.9, 125.43, 125.03, 124.59, 124.02, 123.41, 122.81, 122.18, 121.47, 120.77, 120.17, 119.65, 119.1, 118.64, 118.71, 118.54, 118.18, 117.8, 117.52, 117.33, 117.22, 117.12, 116.94, 116.75, 116.59, 116.49, 116.54, 116.64, 116.62, 116.55, 116.49, 116.42, 116.27, 116.29, 116.22, 116.1, 116.25, 116.15, 115.95, 115.77, 115.64, 115.52, 115.42]\n"
     ]
    }
   ],
   "source": [
    "print(\"Predicted Lat of YUTU:\")\n",
    "print(y_pred_lat_YUTU_formatted)\n",
    "print(\"----------------------------------------------------------------------------------------------\")\n",
    "print(\"Predicted Long of YUTU:\")\n",
    "print(y_pred_long_YUTU_formatted)"
   ]
  },
  {
   "cell_type": "code",
   "execution_count": 170,
   "id": "c0ab0c84-43e4-4499-84c7-0ffea00276d4",
   "metadata": {},
   "outputs": [],
   "source": [
    "hurricane = get_hurricane()"
   ]
  },
  {
   "cell_type": "code",
   "execution_count": 171,
   "id": "5545469e-5393-4697-8e86-fcafe955ffd3",
   "metadata": {},
   "outputs": [
    {
     "data": {
      "image/png": "[encoded data removed]",
      "text/plain": [
       "<Figure size 1440x720 with 1 Axes>"
      ]
     },
     "metadata": {},
     "output_type": "display_data"
    }
   ],
   "source": [
    "plt.figure(figsize=(20,10))\n",
    "m = Basemap(projection='mill', llcrnrlat = 0, urcrnrlat = 50, llcrnrlon = 90, urcrnrlon =175, resolution = 'c')\n",
    "m.drawcoastlines()\n",
    "m.drawparallels(np.arange(-90,90,10), labels=[True,False,False,False])\n",
    "m.drawmeridians(np.arange(-180,180,30), labels=[0,0,0,1])\n",
    "\n",
    "m.scatter(y_pred_long_YUTU_formatted, y_pred_lat_YUTU_formatted, latlon=True, s=100, c='blue', marker=hurricane, label = 'Louis model predicted track')\n",
    "m.scatter(Y_original_2018_YUTU_long, Y_original_YUTU_lat, latlon=True, s=100, c='red', marker=hurricane, label = 'Actual YUTU Track')\n",
    "m.scatter(114.1694, 22.3193,latlon=True, s=200, c='orange', marker='o', label = 'Hong Kong')\n",
    "plt.title('Typhoon track prediction (2018 YUTU)' , fontsize=20)\n",
    "plt.legend(prop={'size': 20})\n",
    "plt.savefig(\"2018_YUTU.png\")\n",
    "plt.show()"
   ]
  },
  {
   "cell_type": "markdown",
   "id": "f5fe791f-9377-4364-a161-7cde28891099",
   "metadata": {
    "tags": []
   },
   "source": [
    "### Latitude Prediction (2019 WUTIP)"
   ]
  },
  {
   "cell_type": "code",
   "execution_count": 172,
   "id": "6c75ee3a-16f5-43a4-8ecc-2712c5b437ca",
   "metadata": {},
   "outputs": [
    {
     "name": "stdout",
     "output_type": "stream",
     "text": [
      "[5.1, 5.05, 4.92, 4.71, 4.57, 4.6, 4.68, 4.73, 4.84, 5.02, 5.26, 5.34, 5.53, 5.81, 6.08, 6.26, 6.44, 6.65, 6.94, 7.11, 7.38, 7.75, 8.08, 8.3, 8.64, 9.07, 9.51, 9.95, 10.26, 10.34, 10.43, 10.71, 11.04, 11.38, 11.79, 12.25, 12.1, 12.31, 12.44, 12.63, 12.7, 12.79, 12.97, 13.1, 13.08, 13.09, 13.17, 13.26, 13.39, 13.6, 13.87, 14.1, 14.26, 14.49, 14.69, 14.87, 14.97, 15.12, 15.28, 15.43, 15.47, 15.56, 15.63, 15.73, 15.82, 15.98, 16.23, 16.44, 16.38, 16.49, 16.7, 16.87, 17.02, 17.28, 17.44, 17.69, 18.06, 18.36, 18.5, 18.69, 18.94]\n",
      "81\n",
      "0.0068316055268642295\n",
      "0.08265352700801236\n"
     ]
    }
   ],
   "source": [
    "df_features_lat_2019_WUTIP = df_WP_2019_WUTIP[cols_features].astype(float)\n",
    "df_target_lat_2019_WUTIP = df_WP_2019_WUTIP[cols_target].astype(float)\n",
    "\n",
    "df_features_lat_2019_WUTIP = df_features_lat_2019_WUTIP[cols_features].to_numpy()\n",
    "df_target_lat_2019_WUTIP = df_target_lat_2019_WUTIP[cols_target].to_numpy()\n",
    "\n",
    "X_original_WUTIP_lat=[]\n",
    "Y_original_WUTIP_lat=[]\n",
    "\n",
    "for i in range(n_past, len(df_features_lat_2019_WUTIP)-n_future+1):\n",
    "    X_original_WUTIP_lat.append(df_features_lat_2019_WUTIP[i-n_past:i,0:df_features_lat_2019_WUTIP.shape[1]])\n",
    "    Y_original_WUTIP_lat.append(df_target_lat_2019_WUTIP[i+n_future-1:i+n_future,0])\n",
    "    \n",
    "X_original_WUTIP_lat, Y_original_WUTIP_lat= np.array(X_original_WUTIP_lat), np.array(Y_original_WUTIP_lat)\n",
    "X_original_WUTIP_lat = torch.from_numpy(X_original_WUTIP_lat).float()\n",
    "y_pred_lat_WUTIP = model_lat(X_original_WUTIP_lat.to(device))\n",
    "\n",
    "y_pred_lat_WUTIP  = y_pred_lat_WUTIP.cpu().detach().numpy()\n",
    "y_pred_lat_WUTIP = scaler_lat.inverse_transform(y_pred_lat_WUTIP)\n",
    "\n",
    "y_pred_lat_WUTIP_formatted = [ '%.2f' % elem for elem in y_pred_lat_WUTIP ]\n",
    "y_pred_lat_WUTIP_formatted = [float(i) for i in y_pred_lat_WUTIP_formatted]\n",
    "print(y_pred_lat_WUTIP_formatted)\n",
    "print(len(y_pred_lat_WUTIP_formatted))\n",
    "\n",
    "Y_original_WUTIP_lat = scaler_lat.inverse_transform(Y_original_WUTIP_lat)\n",
    "\n",
    "# import MSE for accurarcy metrics\n",
    "from sklearn.metrics import mean_squared_error\n",
    "import math\n",
    "\n",
    "print(mean_squared_error(Y_original_WUTIP_lat, y_pred_lat_WUTIP))\n",
    "print(math.sqrt(mean_squared_error(Y_original_WUTIP_lat, y_pred_lat_WUTIP)))"
   ]
  },
  {
   "cell_type": "markdown",
   "id": "8c9aff10-6fc3-46ab-a234-82544e8100c3",
   "metadata": {
    "tags": []
   },
   "source": [
    "### Longitude Prediction (2019 WUTIP)"
   ]
  },
  {
   "cell_type": "code",
   "execution_count": 173,
   "id": "168543be-3d5a-4c38-95ef-e5fd49c2403b",
   "metadata": {},
   "outputs": [
    {
     "name": "stdout",
     "output_type": "stream",
     "text": [
      "[159.03, 158.36, 157.76, 157.05, 156.36, 155.76, 155.24, 154.69, 154.07, 153.57, 153.24, 152.68, 152.11, 151.49, 150.89, 150.38, 149.93, 149.54, 149.19, 148.81, 148.42, 148.01, 147.58, 147.15, 146.68, 146.22, 145.72, 145.19, 144.68, 144.1, 143.64, 143.51, 143.47, 143.26, 142.99, 142.69, 142.64, 142.63, 142.48, 142.23, 142.03, 141.87, 141.69, 141.46, 141.17, 140.88, 140.63, 140.42, 140.25, 140.14, 140.08, 140.06, 140.06, 140.04, 139.89, 139.73, 139.76, 139.83, 139.85, 139.87, 140.03, 140.18, 140.22, 140.18, 140.14, 140.12, 140.07, 139.86, 139.42, 138.77, 137.99, 137.36, 136.87, 136.3, 135.71, 135.18, 134.82, 134.63, 134.53, 134.48, 134.39]\n",
      "81\n",
      "0.015890692605323904\n",
      "0.12605829050611428\n"
     ]
    }
   ],
   "source": [
    "df_features_long_2019_WUTIP = df_WP_2019_WUTIP[cols_features].astype(float)\n",
    "df_target_long_2019_WUTIP= df_WP_2019_WUTIP[cols_target_long].astype(float)\n",
    "\n",
    "df_features_long_2019_WUTIP = df_features_long_2019_WUTIP[cols_features].to_numpy()\n",
    "df_target_long_2019_WUTIP = df_target_long_2019_WUTIP[cols_target_long].to_numpy()\n",
    "\n",
    "X_original_2019_WUTIP_long=[]\n",
    "Y_original_2019_WUTIP_long=[]\n",
    "\n",
    "for i in range(n_past, len(df_features_long_2019_WUTIP)-n_future+1):\n",
    "    X_original_2019_WUTIP_long.append(df_features_long_2019_WUTIP[i-n_past:i,0:df_features_long_2019_WUTIP.shape[1]])\n",
    "    Y_original_2019_WUTIP_long.append(df_target_long_2019_WUTIP[i+n_future-1:i+n_future,0])\n",
    "    \n",
    "X_original_2019_WUTIP_long, Y_original_2019_WUTIP_long= np.array(X_original_2019_WUTIP_long), np.array(Y_original_2019_WUTIP_long)    \n",
    "X_original_2019_WUTIP_long = torch.from_numpy(X_original_2019_WUTIP_long).float()\n",
    "y_pred_long_2019_WUTIP = model_long(X_original_2019_WUTIP_long.to(device))\n",
    "y_pred_long_2019_WUTIP  = y_pred_long_2019_WUTIP.cpu().detach().numpy()\n",
    "y_pred_long_2019_WUTIP = scaler_long.inverse_transform(y_pred_long_2019_WUTIP)\n",
    "\n",
    "y_pred_long_WUTIP_formatted = [ '%.2f' % elem for elem in y_pred_long_2019_WUTIP ]\n",
    "y_pred_long_WUTIP_formatted = [float(i) for i in y_pred_long_WUTIP_formatted]\n",
    "print(y_pred_long_WUTIP_formatted)\n",
    "print(len(y_pred_long_WUTIP_formatted))\n",
    "\n",
    "Y_original_2019_WUTIP_long = scaler_long.inverse_transform(Y_original_2019_WUTIP_long)\n",
    "\n",
    "print(mean_squared_error(Y_original_2019_WUTIP_long, y_pred_long_2019_WUTIP))\n",
    "print(math.sqrt(mean_squared_error(Y_original_2019_WUTIP_long, y_pred_long_2019_WUTIP)))"
   ]
  },
  {
   "cell_type": "code",
   "execution_count": 174,
   "id": "ed60c212-b3cf-4857-aa80-ae14341ec247",
   "metadata": {},
   "outputs": [],
   "source": [
    "pred_2_wutip = np.concatenate((y_pred_lat_WUTIP, y_pred_long_2019_WUTIP), axis=1)"
   ]
  },
  {
   "cell_type": "code",
   "execution_count": 175,
   "id": "568b02bf-0151-4665-959e-9de00383f36a",
   "metadata": {},
   "outputs": [],
   "source": [
    "true_2_wutip = np.concatenate((Y_original_WUTIP_lat, Y_original_2019_WUTIP_long), axis=1)"
   ]
  },
  {
   "cell_type": "code",
   "execution_count": 182,
   "id": "927a7899-66e7-4957-ba4b-b84416a5d9df",
   "metadata": {},
   "outputs": [
    {
     "name": "stdout",
     "output_type": "stream",
     "text": [
      "0.10658869107974855\n"
     ]
    }
   ],
   "source": [
    "print(math.sqrt(mean_squared_error(true_2_wutip, pred_2_wutip)))"
   ]
  },
  {
   "cell_type": "markdown",
   "id": "020d0254-9eb3-4006-9e59-7229e97cbfeb",
   "metadata": {
    "tags": []
   },
   "source": [
    "### Prediction visualisation (2019 WUTIP)"
   ]
  },
  {
   "cell_type": "code",
   "execution_count": 183,
   "id": "ba598f09-f7b7-4277-bd36-4baef5cf6c20",
   "metadata": {},
   "outputs": [
    {
     "name": "stdout",
     "output_type": "stream",
     "text": [
      "Actual Lat of WUTIP:\n",
      "[4.98, 4.9, 4.74, 4.6, 4.57, 4.6, 4.63, 4.7, 4.83, 5.0, 5.13, 5.3, 5.54, 5.8, 6.01, 6.2, 6.39, 6.6, 6.83, 7.1, 7.39, 7.7, 7.98, 8.3, 8.68, 9.1, 9.54, 9.9, 10.07, 10.2, 10.42, 10.7, 11.03, 11.4, 11.8, 11.9, 12.0, 12.2, 12.4, 12.51, 12.6, 12.76, 12.9, 12.97, 13.0, 13.03, 13.1, 13.23, 13.4, 13.59, 13.8, 14.0, 14.2, 14.41, 14.6, 14.76, 14.9, 15.06, 15.2, 15.31, 15.4, 15.5, 15.6, 15.69, 15.8, 16.0, 16.2, 16.31, 16.4, 16.54, 16.7, 16.89, 17.1, 17.29, 17.5, 17.8, 18.1, 18.31, 18.5, 18.74, 19.0]\n",
      "81\n",
      "Actual Long of WUTIP:\n",
      "[159.03, 158.4, 157.69, 157.0, 156.44, 155.9, 155.24, 154.6, 154.09, 153.6, 153.06, 152.5, 151.88, 151.3, 150.82, 150.4, 149.99, 149.6, 149.2, 148.8, 148.41, 148.0, 147.56, 147.1, 146.62, 146.1, 145.54, 145.0, 144.5, 144.1, 143.87, 143.7, 143.45, 143.2, 142.96, 142.9, 142.8, 142.6, 142.4, 142.25, 142.1, 141.92, 141.7, 141.4, 141.1, 140.88, 140.7, 140.53, 140.4, 140.28, 140.2, 140.15, 140.1, 139.99, 139.9, 139.88, 139.9, 139.88, 139.9, 140.0, 140.1, 140.12, 140.1, 140.12, 140.1, 140.07, 139.9, 139.53, 139.0, 138.41, 137.8, 137.24, 136.7, 136.12, 135.6, 135.19, 134.9, 134.72, 134.6, 134.46, 134.3]\n",
      "81\n"
     ]
    }
   ],
   "source": [
    "print(\"Actual Lat of WUTIP:\")\n",
    "Y_original_WUTIP_lat_formatted = [ '%.2f' % elem for elem in Y_original_WUTIP_lat ]\n",
    "Y_original_WUTIP_lat_formatted = [float(i) for i in Y_original_WUTIP_lat_formatted]\n",
    "print(Y_original_WUTIP_lat_formatted)\n",
    "print(len(Y_original_WUTIP_lat_formatted))\n",
    "print(\"Actual Long of WUTIP:\")\n",
    "Y_original_WUTIP_long_formatted = [ '%.2f' % elem for elem in Y_original_2019_WUTIP_long]\n",
    "Y_original_WUTIP_long_formatted = [float(i) for i in Y_original_WUTIP_long_formatted]\n",
    "print(Y_original_WUTIP_long_formatted)\n",
    "print(len(Y_original_WUTIP_long_formatted))"
   ]
  },
  {
   "cell_type": "code",
   "execution_count": 184,
   "id": "2d49254b-8fdf-4a5f-a139-b8211f7ad5fe",
   "metadata": {},
   "outputs": [
    {
     "name": "stdout",
     "output_type": "stream",
     "text": [
      "Predicted Lat of WUTIP:\n",
      "[5.1, 5.05, 4.92, 4.71, 4.57, 4.6, 4.68, 4.73, 4.84, 5.02, 5.26, 5.34, 5.53, 5.81, 6.08, 6.26, 6.44, 6.65, 6.94, 7.11, 7.38, 7.75, 8.08, 8.3, 8.64, 9.07, 9.51, 9.95, 10.26, 10.34, 10.43, 10.71, 11.04, 11.38, 11.79, 12.25, 12.1, 12.31, 12.44, 12.63, 12.7, 12.79, 12.97, 13.1, 13.08, 13.09, 13.17, 13.26, 13.39, 13.6, 13.87, 14.1, 14.26, 14.49, 14.69, 14.87, 14.97, 15.12, 15.28, 15.43, 15.47, 15.56, 15.63, 15.73, 15.82, 15.98, 16.23, 16.44, 16.38, 16.49, 16.7, 16.87, 17.02, 17.28, 17.44, 17.69, 18.06, 18.36, 18.5, 18.69, 18.94]\n",
      "----------------------------------------------------------------------------------------------\n",
      "Predicted Long of WUTIP:\n",
      "[159.03, 158.36, 157.76, 157.05, 156.36, 155.76, 155.24, 154.69, 154.07, 153.57, 153.24, 152.68, 152.11, 151.49, 150.89, 150.38, 149.93, 149.54, 149.19, 148.81, 148.42, 148.01, 147.58, 147.15, 146.68, 146.22, 145.72, 145.19, 144.68, 144.1, 143.64, 143.51, 143.47, 143.26, 142.99, 142.69, 142.64, 142.63, 142.48, 142.23, 142.03, 141.87, 141.69, 141.46, 141.17, 140.88, 140.63, 140.42, 140.25, 140.14, 140.08, 140.06, 140.06, 140.04, 139.89, 139.73, 139.76, 139.83, 139.85, 139.87, 140.03, 140.18, 140.22, 140.18, 140.14, 140.12, 140.07, 139.86, 139.42, 138.77, 137.99, 137.36, 136.87, 136.3, 135.71, 135.18, 134.82, 134.63, 134.53, 134.48, 134.39]\n"
     ]
    }
   ],
   "source": [
    "print(\"Predicted Lat of WUTIP:\")\n",
    "print(y_pred_lat_WUTIP_formatted)\n",
    "print(\"----------------------------------------------------------------------------------------------\")\n",
    "print(\"Predicted Long of WUTIP:\")\n",
    "print(y_pred_long_WUTIP_formatted)"
   ]
  },
  {
   "cell_type": "code",
   "execution_count": 185,
   "id": "354dd7f0-b557-4f09-adeb-8cd9f887d76d",
   "metadata": {},
   "outputs": [],
   "source": [
    "hurricane = get_hurricane()"
   ]
  },
  {
   "cell_type": "code",
   "execution_count": 186,
   "id": "cb11dbf3-dd5f-46c8-9f77-4bb4e0cbd5fc",
   "metadata": {},
   "outputs": [
    {
     "data": {
      "image/png": "[encoded data removed]",
      "text/plain": [
       "<Figure size 1440x720 with 1 Axes>"
      ]
     },
     "metadata": {},
     "output_type": "display_data"
    }
   ],
   "source": [
    "plt.figure(figsize=(20,10))\n",
    "m = Basemap(projection='mill', llcrnrlat = 0, urcrnrlat = 50, llcrnrlon = 90, urcrnrlon =175, resolution = 'c')\n",
    "m.drawcoastlines()\n",
    "m.drawparallels(np.arange(-90,90,10), labels=[True,False,False,False])\n",
    "m.drawmeridians(np.arange(-180,180,30), labels=[0,0,0,1])\n",
    "\n",
    "m.scatter(y_pred_long_WUTIP_formatted, y_pred_lat_WUTIP_formatted, latlon=True, s=100, c='blue', marker=hurricane, label = 'Louis model predicted track')\n",
    "m.scatter(Y_original_2019_WUTIP_long, Y_original_WUTIP_lat, latlon=True, s=100, c='red', marker=hurricane, label = 'Actual WUTIP Track')\n",
    "m.scatter(114.1694, 22.3193,latlon=True, s=200, c='orange', marker='o', label = 'Hong Kong')\n",
    "plt.title('Typhoon track prediction (2019 WUTIP)' , fontsize=20)\n",
    "plt.legend(prop={'size': 20})\n",
    "plt.savefig(\"2019_WUTIP.png\")\n",
    "plt.show()"
   ]
  }
 ],
 "metadata": {
  "kernelspec": {
   "display_name": "Python 3 (ipykernel)",
   "language": "python",
   "name": "python3"
  },
  "language_info": {
   "codemirror_mode": {
    "name": "ipython",
    "version": 3
   },
   "file_extension": ".py",
   "mimetype": "text/x-python",
   "name": "python",
   "nbconvert_exporter": "python",
   "pygments_lexer": "ipython3",
   "version": "3.9.7"
  }
 },
 "nbformat": 4,
 "nbformat_minor": 5
}
