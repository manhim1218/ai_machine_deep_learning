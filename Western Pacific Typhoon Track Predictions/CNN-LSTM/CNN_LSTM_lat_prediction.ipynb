{
 "cells": [
  {
   "cell_type": "code",
   "execution_count": 1,
   "id": "771b2888-6479-4e97-9362-5d71365fd43f",
   "metadata": {},
   "outputs": [],
   "source": [
    "import pandas as pd \n",
    "from selenium import webdriver\n",
    "from selenium.webdriver.common.by import By\n",
    "import matplotlib.pyplot as plt\n",
    "import numpy as np\n",
    "import torch\n",
    "import torch.nn as nn\n",
    "import torch.optim as optim\n",
    "from datetime import datetime\n",
    "from bs4 import BeautifulSoup\n",
    "import requests\n",
    "import re\n",
    "import string\n",
    "from skimage import io, transform\n",
    "import os\n",
    "import torchvision.models as models\n",
    "import torchvision.transforms as transforms\n",
    "from torch.autograd import Variable\n",
    "from PIL import Image"
   ]
  },
  {
   "cell_type": "code",
   "execution_count": 2,
   "id": "0446c0b1-a0ed-4fd2-933c-8b759585e45f",
   "metadata": {},
   "outputs": [],
   "source": [
    "n_past = 5\n",
    "n_future = 1"
   ]
  },
  {
   "cell_type": "code",
   "execution_count": 3,
   "id": "df2eb360-30bf-4e3b-80ed-5e756484b2b1",
   "metadata": {},
   "outputs": [
    {
     "data": {
      "text/plain": [
       "True"
      ]
     },
     "execution_count": 3,
     "metadata": {},
     "output_type": "execute_result"
    }
   ],
   "source": [
    "torch.cuda.is_available()"
   ]
  },
  {
   "cell_type": "code",
   "execution_count": 4,
   "id": "8f52f585-602f-4b20-9c9b-dd60a15b4e9f",
   "metadata": {},
   "outputs": [],
   "source": [
    "torch.cuda.set_device(0)\n",
    "device = torch.device('cuda' if torch.cuda.is_available() else 'cpu')"
   ]
  },
  {
   "cell_type": "code",
   "execution_count": 5,
   "id": "e256e305-08d0-445f-b89f-b5b13ff5c812",
   "metadata": {},
   "outputs": [
    {
     "name": "stderr",
     "output_type": "stream",
     "text": [
      "C:\\Users\\Louis\\anaconda3\\lib\\site-packages\\IPython\\core\\interactiveshell.py:3444: DtypeWarning: Columns (1,2,8,9,14,25,131,132,133,161,162) have mixed types.Specify dtype option on import or set low_memory=False.\n",
      "  exec(code_obj, self.user_global_ns, self.user_ns)\n"
     ]
    }
   ],
   "source": [
    "full_WP = pd.read_csv(\"./Full WP dataset.csv\")"
   ]
  },
  {
   "cell_type": "markdown",
   "id": "2a81a07f-4d65-4aa4-bb17-244db88d818c",
   "metadata": {},
   "source": [
    "### Data Preprcoessing"
   ]
  },
  {
   "cell_type": "code",
   "execution_count": 6,
   "id": "160c2c63-f4d8-4535-8bba-7896e88e577b",
   "metadata": {},
   "outputs": [],
   "source": [
    "full_WP = full_WP.iloc[1:]"
   ]
  },
  {
   "cell_type": "code",
   "execution_count": 7,
   "id": "62ac978c-7e33-4ed9-9d86-684005da6f5e",
   "metadata": {},
   "outputs": [],
   "source": [
    "full_WP = full_WP.loc[full_WP['SEASON'].astype(int) >= 2000]"
   ]
  },
  {
   "cell_type": "code",
   "execution_count": 8,
   "id": "be66e773-633b-4e05-ba8c-312d5a6909f3",
   "metadata": {},
   "outputs": [],
   "source": [
    "columns_features = ['ISO_TIME', 'SEASON', 'NAME', 'USA_LAT', 'USA_LON', 'DIST2LAND', 'USA_WIND', 'USA_PRES', 'USA_R34_NE', 'USA_R34_SE', 'USA_R34_SW', 'USA_R34_NW', 'USA_R50_NE', 'USA_R50_SE', 'USA_R50_SW', 'USA_R50_NW', 'USA_R64_NE', 'USA_R64_SE', 'USA_R64_SW', 'USA_R64_NW']"
   ]
  },
  {
   "cell_type": "code",
   "execution_count": 9,
   "id": "0ea64fea-5fc2-4528-9d95-ebae438a212b",
   "metadata": {},
   "outputs": [],
   "source": [
    "full_WP_modify = full_WP[columns_features].copy()"
   ]
  },
  {
   "cell_type": "code",
   "execution_count": 10,
   "id": "606aceb8-b546-48e1-9cd6-a49cf3ae5b07",
   "metadata": {},
   "outputs": [],
   "source": [
    "full_WP_modify = full_WP_modify.reset_index(drop=True)"
   ]
  },
  {
   "cell_type": "code",
   "execution_count": 11,
   "id": "c815b8cf-8470-4663-8f47-7859313081a9",
   "metadata": {},
   "outputs": [],
   "source": [
    "full_WP_modify = full_WP_modify[full_WP_modify.NAME != 'NOT_NAMED']"
   ]
  },
  {
   "cell_type": "code",
   "execution_count": 12,
   "id": "164de77a-8476-481b-8c2f-d0b927b5712b",
   "metadata": {},
   "outputs": [],
   "source": [
    "full_WP_modify = full_WP_modify.reset_index(drop=True)"
   ]
  },
  {
   "cell_type": "code",
   "execution_count": 13,
   "id": "8362b169-8621-4cde-81b7-81a4bd1e14c4",
   "metadata": {},
   "outputs": [],
   "source": [
    "full_WP_modify = full_WP_modify[full_WP_modify.USA_LAT!=' ']"
   ]
  },
  {
   "cell_type": "code",
   "execution_count": 14,
   "id": "7911f543-70c2-4d71-aade-2fc52cfee5ed",
   "metadata": {},
   "outputs": [],
   "source": [
    "full_WP_modify = full_WP_modify.replace(r'^\\s*$', -1 , regex=True)"
   ]
  },
  {
   "cell_type": "code",
   "execution_count": 15,
   "id": "05af7529-c682-4522-89d2-05e5165eb64a",
   "metadata": {},
   "outputs": [],
   "source": [
    "full_WP_modify['USA_LAT'] = full_WP_modify['USA_LAT'].astype(float)"
   ]
  },
  {
   "cell_type": "code",
   "execution_count": 16,
   "id": "d328cf95-f354-419d-b2a3-134fdb7af880",
   "metadata": {},
   "outputs": [],
   "source": [
    "full_WP_modify['USA_LON'] = full_WP_modify['USA_LON'].astype(float)"
   ]
  },
  {
   "cell_type": "code",
   "execution_count": 17,
   "id": "d49a1a99-2697-4dc7-9ba7-cd17392f82e9",
   "metadata": {},
   "outputs": [],
   "source": [
    "full_WP_modify = full_WP_modify.reset_index(drop=True)"
   ]
  },
  {
   "cell_type": "code",
   "execution_count": 18,
   "id": "ca3994c5-af6e-424a-9028-4f478c8e8050",
   "metadata": {},
   "outputs": [
    {
     "data": {
      "text/plain": [
       "1.3"
      ]
     },
     "execution_count": 18,
     "metadata": {},
     "output_type": "execute_result"
    }
   ],
   "source": [
    "full_WP_modify['USA_LAT'].min()"
   ]
  },
  {
   "cell_type": "code",
   "execution_count": 19,
   "id": "782b5d70-877f-447c-854a-11f57fad403c",
   "metadata": {},
   "outputs": [
    {
     "data": {
      "text/plain": [
       "51.3"
      ]
     },
     "execution_count": 19,
     "metadata": {},
     "output_type": "execute_result"
    }
   ],
   "source": [
    "full_WP_modify['USA_LAT'].max()"
   ]
  },
  {
   "cell_type": "code",
   "execution_count": 20,
   "id": "94d340d5-5573-4aa2-a304-873962d57f04",
   "metadata": {},
   "outputs": [
    {
     "data": {
      "text/plain": [
       "-180.0"
      ]
     },
     "execution_count": 20,
     "metadata": {},
     "output_type": "execute_result"
    }
   ],
   "source": [
    "full_WP_modify['USA_LON'].min()"
   ]
  },
  {
   "cell_type": "code",
   "execution_count": 21,
   "id": "e6fbba78-b972-4da6-ba84-68c061a16771",
   "metadata": {},
   "outputs": [
    {
     "data": {
      "text/plain": [
       "180.0"
      ]
     },
     "execution_count": 21,
     "metadata": {},
     "output_type": "execute_result"
    }
   ],
   "source": [
    "full_WP_modify['USA_LON'].max()"
   ]
  },
  {
   "cell_type": "code",
   "execution_count": 22,
   "id": "d9e64e1f-fab4-4e4b-9e34-4d53298df0bd",
   "metadata": {},
   "outputs": [
    {
     "name": "stderr",
     "output_type": "stream",
     "text": [
      "C:\\Users\\Louis\\AppData\\Local\\Temp/ipykernel_15468/916726116.py:1: SettingWithCopyWarning: \n",
      "A value is trying to be set on a copy of a slice from a DataFrame\n",
      "\n",
      "See the caveats in the documentation: https://pandas.pydata.org/pandas-docs/stable/user_guide/indexing.html#returning-a-view-versus-a-copy\n",
      "  full_WP_modify['USA_LON'][full_WP_modify[full_WP_modify.USA_LON < 0].index] = full_WP_modify['USA_LON'][full_WP_modify[full_WP_modify.USA_LON < 0].index] + 360\n"
     ]
    }
   ],
   "source": [
    "full_WP_modify['USA_LON'][full_WP_modify[full_WP_modify.USA_LON < 0].index] = full_WP_modify['USA_LON'][full_WP_modify[full_WP_modify.USA_LON < 0].index] + 360"
   ]
  },
  {
   "cell_type": "code",
   "execution_count": 23,
   "id": "cd33cb0a-35f4-4099-a1f5-6ac736ad5f7f",
   "metadata": {},
   "outputs": [],
   "source": [
    "# full_WP_modify = full_WP_modify.drop(full_WP_modify[full_WP_modify.USA_LON < 0].index)"
   ]
  },
  {
   "cell_type": "code",
   "execution_count": 24,
   "id": "ddb2c273-9a8f-407c-8675-45657c8bdf4c",
   "metadata": {},
   "outputs": [
    {
     "data": {
      "text/plain": [
       "244.9"
      ]
     },
     "execution_count": 24,
     "metadata": {},
     "output_type": "execute_result"
    }
   ],
   "source": [
    "full_WP_modify['USA_LON'].max()"
   ]
  },
  {
   "cell_type": "code",
   "execution_count": 25,
   "id": "4128ad93-f219-4f66-bca8-7d1858522813",
   "metadata": {},
   "outputs": [
    {
     "data": {
      "text/plain": [
       "78.6"
      ]
     },
     "execution_count": 25,
     "metadata": {},
     "output_type": "execute_result"
    }
   ],
   "source": [
    "full_WP_modify['USA_LON'].min()"
   ]
  },
  {
   "cell_type": "code",
   "execution_count": 26,
   "id": "592726de-e3a1-4522-af2f-69daaeb9c6c6",
   "metadata": {},
   "outputs": [],
   "source": [
    "long_range = full_WP_modify.index[full_WP_modify['USA_LON'] <0].tolist()"
   ]
  },
  {
   "cell_type": "code",
   "execution_count": 27,
   "id": "3d1a79d5-9ac2-4b53-82cb-87b7c4d47cbe",
   "metadata": {
    "tags": []
   },
   "outputs": [
    {
     "data": {
      "text/plain": [
       "0"
      ]
     },
     "execution_count": 27,
     "metadata": {},
     "output_type": "execute_result"
    }
   ],
   "source": [
    "len(long_range)"
   ]
  },
  {
   "cell_type": "code",
   "execution_count": 28,
   "id": "ee9ac9d6-8230-491f-a14b-fb1d8e73db25",
   "metadata": {
    "tags": []
   },
   "outputs": [],
   "source": [
    "dict_remove = {}\n",
    "for i in long_range:\n",
    "    print(i)\n",
    "    name = full_WP_modify.iloc[i,2]\n",
    "    year = full_WP_modify.iloc[i,1]\n",
    "    dict_remove[year] = name"
   ]
  },
  {
   "cell_type": "code",
   "execution_count": 29,
   "id": "713b2d92-7bbe-403b-85fa-e240d0173046",
   "metadata": {},
   "outputs": [
    {
     "data": {
      "text/plain": [
       "{}"
      ]
     },
     "execution_count": 29,
     "metadata": {},
     "output_type": "execute_result"
    }
   ],
   "source": [
    "dict_remove"
   ]
  },
  {
   "cell_type": "code",
   "execution_count": 30,
   "id": "4479602d-60e8-4d16-834f-cd1969d67bd0",
   "metadata": {},
   "outputs": [],
   "source": [
    "from sklearn.preprocessing import MinMaxScaler\n",
    "\n",
    "scaler_lat = MinMaxScaler()\n",
    "scaler_long = MinMaxScaler()\n",
    "scaler_dist = MinMaxScaler()\n",
    "scaler_wind = MinMaxScaler()\n",
    "scaler_pres = MinMaxScaler()\n",
    "scaler_r34_ne = MinMaxScaler()\n",
    "scaler_r34_se = MinMaxScaler()\n",
    "scaler_r34_sw = MinMaxScaler()\n",
    "scaler_r34_nw = MinMaxScaler()\n",
    "scaler_r50_ne = MinMaxScaler()\n",
    "scaler_r50_se = MinMaxScaler()\n",
    "scaler_r50_sw = MinMaxScaler()\n",
    "scaler_r50_nw = MinMaxScaler()\n",
    "scaler_r64_ne = MinMaxScaler()\n",
    "scaler_r64_se = MinMaxScaler()\n",
    "scaler_r64_sw = MinMaxScaler()\n",
    "scaler_r64_nw = MinMaxScaler()"
   ]
  },
  {
   "cell_type": "code",
   "execution_count": 31,
   "id": "e0eee143-c3fd-49cb-9b1d-86433d4e0e81",
   "metadata": {},
   "outputs": [],
   "source": [
    "full_WP_modify[['USA_LAT']] = scaler_lat.fit_transform(full_WP_modify[['USA_LAT']])\n",
    "full_WP_modify[['USA_LON']] = scaler_long.fit_transform(full_WP_modify[['USA_LON']])\n",
    "full_WP_modify[['DIST2LAND']] = scaler_dist.fit_transform(full_WP_modify[['DIST2LAND']])\n",
    "full_WP_modify[['USA_WIND']] = scaler_wind.fit_transform(full_WP_modify[['USA_WIND']])\n",
    "full_WP_modify[['USA_PRES']] = scaler_pres.fit_transform(full_WP_modify[['USA_PRES']])\n",
    "full_WP_modify[['USA_R34_NE']] = scaler_r34_ne.fit_transform(full_WP_modify[['USA_R34_NE']])\n",
    "full_WP_modify[['USA_R34_SE']] = scaler_r34_se.fit_transform(full_WP_modify[['USA_R34_SE']])\n",
    "full_WP_modify[['USA_R34_SW']] = scaler_r34_sw.fit_transform(full_WP_modify[['USA_R34_SW']])\n",
    "full_WP_modify[['USA_R34_NW']] = scaler_r34_nw.fit_transform(full_WP_modify[['USA_R34_NW']])\n",
    "full_WP_modify[['USA_R50_NE']] = scaler_r50_ne.fit_transform(full_WP_modify[['USA_R50_NE']])\n",
    "full_WP_modify[['USA_R50_SE']] = scaler_r50_se.fit_transform(full_WP_modify[['USA_R50_SE']])\n",
    "full_WP_modify[['USA_R50_SW']] = scaler_r50_sw.fit_transform(full_WP_modify[['USA_R50_SW']])\n",
    "full_WP_modify[['USA_R50_NW']] = scaler_r50_nw.fit_transform(full_WP_modify[['USA_R50_NW']])\n",
    "full_WP_modify[['USA_R64_NE']] = scaler_r64_ne.fit_transform(full_WP_modify[['USA_R64_NE']])\n",
    "full_WP_modify[['USA_R64_SE']] = scaler_r64_se.fit_transform(full_WP_modify[['USA_R64_SE']])\n",
    "full_WP_modify[['USA_R64_SW']] = scaler_r64_sw.fit_transform(full_WP_modify[['USA_R64_SW']])\n",
    "full_WP_modify[['USA_R64_NW']] = scaler_r64_nw.fit_transform(full_WP_modify[['USA_R64_NW']])"
   ]
  },
  {
   "cell_type": "code",
   "execution_count": 32,
   "id": "d4a6e621-7e54-4275-8843-4fcdef53e055",
   "metadata": {},
   "outputs": [],
   "source": [
    "for year in range(2000,2022):\n",
    "     globals()['df_WP_%s' % year] = full_WP_modify[(full_WP_modify[\"SEASON\"]==year)]"
   ]
  },
  {
   "cell_type": "code",
   "execution_count": 33,
   "id": "c670ef52-2190-4261-9291-4461287dd02b",
   "metadata": {},
   "outputs": [],
   "source": [
    "for year in range(2000,2022):\n",
    "    globals()['df_WP_%s' % year] = globals()['df_WP_%s' % year].reset_index(drop=True)"
   ]
  },
  {
   "cell_type": "code",
   "execution_count": 34,
   "id": "c8dc9bed-d1ff-4820-ab79-22634d9c1a32",
   "metadata": {},
   "outputs": [],
   "source": [
    "for year in range(2000,2022):\n",
    "    globals()['df_WP_%s' % year] =  globals()['df_WP_%s' % year].drop(['SEASON'], axis=1)"
   ]
  },
  {
   "cell_type": "code",
   "execution_count": 35,
   "id": "bea51f45-f97a-48fe-9559-0ab4b89341bd",
   "metadata": {},
   "outputs": [],
   "source": [
    "for year in range(2000,2022):\n",
    "    for i in range(len(globals()['df_WP_%s' % year])):\n",
    "        globals()['df_WP_%s' % year].iloc[i,1] = re.sub(r\"[^\\w\\s]\", '',  globals()['df_WP_%s' % year].iloc[i,1])"
   ]
  },
  {
   "cell_type": "code",
   "execution_count": 36,
   "id": "e2c0ef5c-5de5-414b-a5e2-8fabadef8a37",
   "metadata": {},
   "outputs": [],
   "source": [
    "summarylist = []\n",
    "for year in range(2000,2022):\n",
    "    summarylist.append(dict(tuple(globals()['df_WP_%s' % year].groupby('NAME'))))"
   ]
  },
  {
   "cell_type": "code",
   "execution_count": 37,
   "id": "a3201cad-41d5-420b-90bb-1893eaad7dcb",
   "metadata": {},
   "outputs": [],
   "source": [
    "tc_name_list = []\n",
    "for i in range(len(summarylist)):\n",
    "    tc_name_list.append(list(summarylist[i].keys()))"
   ]
  },
  {
   "cell_type": "code",
   "execution_count": 38,
   "id": "6f6cbe23-3d0e-4900-aca1-43452c01c698",
   "metadata": {},
   "outputs": [
    {
     "name": "stdout",
     "output_type": "stream",
     "text": [
      "['BEBINCA', 'BILIS', 'BOLAVEN', 'BOPHA', 'CHANCHU', 'DAMREY', 'EWINIAR', 'JELAWAT', 'KAEMI', 'KAITAK', 'KIROGI', 'LONGWANG', 'MARIA', 'PRAPIROON', 'RUMBIA', 'SAOMAI', 'SHANSHAN', 'SONAMU', 'SOULIK', 'TEMBIN', 'WENE', 'WUKONG', 'XANGSANE', 'YAGI']\n"
     ]
    }
   ],
   "source": [
    "print(tc_name_list[0])"
   ]
  },
  {
   "cell_type": "code",
   "execution_count": 39,
   "id": "035b8d3d-d76f-4df8-8e14-0be6a7ba9485",
   "metadata": {},
   "outputs": [],
   "source": [
    "count = 0\n",
    "for i in range(len(tc_name_list)):\n",
    "    for name in tc_name_list[i]:\n",
    "        count = count+1\n",
    "        globals()['df_WP_%s_%s'%((str(2000+i)), name)] = globals()['df_WP_%s' % (str(2000+i))][globals()['df_WP_%s' % (str(2000+i))].NAME == name]\n",
    "#         globals()['df_WP_%s_%s'%((str(2000+i)), name)]  = globals()['df_WP_%s_%s'%((str(2000+i)), name)][globals()['df_WP_%s_%s'%((str(2000+i)),name)].USA_LAT != ' ']\n",
    "        globals()['df_WP_%s_%s'%((str(2000+i)), name)]  = globals()['df_WP_%s_%s'%((str(2000+i)), name)] .reset_index(drop=True)"
   ]
  },
  {
   "cell_type": "code",
   "execution_count": 40,
   "id": "6acba3ef-97c2-4653-bbdf-999c159964ff",
   "metadata": {},
   "outputs": [],
   "source": [
    "# for i in range(len(tc_name_list)):\n",
    "#     for name in tc_name_list[i]:\n",
    "#         globals()['df_WP_%s_%s'%((str(2000+i)), name)] = (globals()['df_WP_%s_%s'%((str(2000+i)), name)]).drop(['NAME'], axis=1)"
   ]
  },
  {
   "cell_type": "code",
   "execution_count": 41,
   "id": "c5f17421-0268-4e5b-9ef0-9c1e3175e72b",
   "metadata": {},
   "outputs": [],
   "source": [
    "for i in range(len(tc_name_list)):\n",
    "    for name in tc_name_list[i]:\n",
    "        globals()['df_WP_%s_%s'%((str(2000+i)), name)].rename(columns={'ISO_TIME':'Date'}, inplace=True)\n",
    "        globals()['df_WP_%s_%s'%((str(2000+i)), name)]['Date'] = pd.to_datetime(globals()['df_WP_%s_%s'%((str(2000+i)), name)]['Date'], dayfirst=True)"
   ]
  },
  {
   "cell_type": "code",
   "execution_count": 42,
   "id": "6b7c141d-90ae-492d-bf4b-7a4fac1b396f",
   "metadata": {},
   "outputs": [
    {
     "name": "stdout",
     "output_type": "stream",
     "text": [
      "['NAME', 'USA_LAT', 'USA_LON', 'DIST2LAND', 'USA_WIND', 'USA_PRES', 'USA_R34_NE', 'USA_R34_SE', 'USA_R34_SW', 'USA_R34_NW', 'USA_R50_NE', 'USA_R50_SE', 'USA_R50_SW', 'USA_R50_NW', 'USA_R64_NE', 'USA_R64_SE', 'USA_R64_SW', 'USA_R64_NW']\n"
     ]
    }
   ],
   "source": [
    "cols_features = list(df_WP_2018_MANGKHUT)[1:len(df_WP_2018_MANGKHUT.columns)]\n",
    "print(cols_features)"
   ]
  },
  {
   "cell_type": "code",
   "execution_count": 43,
   "id": "d613cd8d-d358-4140-81ab-ce5a4e97c22a",
   "metadata": {},
   "outputs": [],
   "source": [
    "cols_target = list(df_WP_2018_MANGKHUT)[1:2]"
   ]
  },
  {
   "cell_type": "code",
   "execution_count": 44,
   "id": "1554e6b8-12bc-4870-8052-841f0ae6d8b2",
   "metadata": {},
   "outputs": [
    {
     "data": {
      "text/plain": [
       "['NAME']"
      ]
     },
     "execution_count": 44,
     "metadata": {},
     "output_type": "execute_result"
    }
   ],
   "source": [
    "cols_target"
   ]
  },
  {
   "cell_type": "code",
   "execution_count": 45,
   "id": "dde0545b-19bf-4d02-a25c-5a51faa4f268",
   "metadata": {},
   "outputs": [
    {
     "name": "stdout",
     "output_type": "stream",
     "text": [
      "['NAME', 'USA_LAT', 'USA_LON', 'DIST2LAND', 'USA_WIND', 'USA_PRES', 'USA_R34_NE', 'USA_R34_SE', 'USA_R34_SW', 'USA_R34_NW', 'USA_R50_NE', 'USA_R50_SE', 'USA_R50_SW', 'USA_R50_NW', 'USA_R64_NE', 'USA_R64_SE', 'USA_R64_SW', 'USA_R64_NW']\n",
      "['NAME']\n"
     ]
    }
   ],
   "source": [
    "print(cols_features)\n",
    "print(cols_target)"
   ]
  },
  {
   "cell_type": "code",
   "execution_count": 46,
   "id": "44263ede-26a1-42f4-9a29-97445b1c4c7e",
   "metadata": {},
   "outputs": [],
   "source": [
    "# for i in range(len(tc_name_list)):\n",
    "#     for name in tc_name_list[i]:\n",
    "#         globals()['df_features_lat_%s_%s'%((str(2000+i)), name)] = globals()['df_WP_%s_%s'%((str(2000+i)), name)][cols_features].astype(float)\n",
    "#         globals()['df_target_lat_%s_%s'%((str(2000+i)), name)] = globals()['df_WP_%s_%s'%((str(2000+i)), name)][cols_target].astype(float)"
   ]
  },
  {
   "cell_type": "code",
   "execution_count": 47,
   "id": "83934eb7-b31f-403b-832a-8992f054525c",
   "metadata": {},
   "outputs": [
    {
     "data": {
      "text/html": [
       "<div>\n",
       "<style scoped>\n",
       "    .dataframe tbody tr th:only-of-type {\n",
       "        vertical-align: middle;\n",
       "    }\n",
       "\n",
       "    .dataframe tbody tr th {\n",
       "        vertical-align: top;\n",
       "    }\n",
       "\n",
       "    .dataframe thead th {\n",
       "        text-align: right;\n",
       "    }\n",
       "</style>\n",
       "<table border=\"1\" class=\"dataframe\">\n",
       "  <thead>\n",
       "    <tr style=\"text-align: right;\">\n",
       "      <th></th>\n",
       "      <th>Date</th>\n",
       "      <th>NAME</th>\n",
       "      <th>USA_LAT</th>\n",
       "      <th>USA_LON</th>\n",
       "      <th>DIST2LAND</th>\n",
       "      <th>USA_WIND</th>\n",
       "      <th>USA_PRES</th>\n",
       "      <th>USA_R34_NE</th>\n",
       "      <th>USA_R34_SE</th>\n",
       "      <th>USA_R34_SW</th>\n",
       "      <th>USA_R34_NW</th>\n",
       "      <th>USA_R50_NE</th>\n",
       "      <th>USA_R50_SE</th>\n",
       "      <th>USA_R50_SW</th>\n",
       "      <th>USA_R50_NW</th>\n",
       "      <th>USA_R64_NE</th>\n",
       "      <th>USA_R64_SE</th>\n",
       "      <th>USA_R64_SW</th>\n",
       "      <th>USA_R64_NW</th>\n",
       "    </tr>\n",
       "  </thead>\n",
       "  <tbody>\n",
       "    <tr>\n",
       "      <th>0</th>\n",
       "      <td>2000-05-03 18:00:00</td>\n",
       "      <td>DAMREY</td>\n",
       "      <td>0.098000</td>\n",
       "      <td>0.343355</td>\n",
       "      <td>0.243235</td>\n",
       "      <td>0.152047</td>\n",
       "      <td>0.0</td>\n",
       "      <td>0.0</td>\n",
       "      <td>0.0</td>\n",
       "      <td>0.0</td>\n",
       "      <td>0.0</td>\n",
       "      <td>0.0</td>\n",
       "      <td>0.0</td>\n",
       "      <td>0.0</td>\n",
       "      <td>0.0</td>\n",
       "      <td>0.0</td>\n",
       "      <td>0.0</td>\n",
       "      <td>0.0</td>\n",
       "      <td>0.0</td>\n",
       "    </tr>\n",
       "    <tr>\n",
       "      <th>1</th>\n",
       "      <td>2000-05-03 21:00:00</td>\n",
       "      <td>DAMREY</td>\n",
       "      <td>0.109451</td>\n",
       "      <td>0.342363</td>\n",
       "      <td>0.264317</td>\n",
       "      <td>0.152047</td>\n",
       "      <td>0.0</td>\n",
       "      <td>0.0</td>\n",
       "      <td>0.0</td>\n",
       "      <td>0.0</td>\n",
       "      <td>0.0</td>\n",
       "      <td>0.0</td>\n",
       "      <td>0.0</td>\n",
       "      <td>0.0</td>\n",
       "      <td>0.0</td>\n",
       "      <td>0.0</td>\n",
       "      <td>0.0</td>\n",
       "      <td>0.0</td>\n",
       "      <td>0.0</td>\n",
       "    </tr>\n",
       "    <tr>\n",
       "      <th>2</th>\n",
       "      <td>2000-05-04 00:00:00</td>\n",
       "      <td>DAMREY</td>\n",
       "      <td>0.120000</td>\n",
       "      <td>0.341551</td>\n",
       "      <td>0.281938</td>\n",
       "      <td>0.152047</td>\n",
       "      <td>0.0</td>\n",
       "      <td>0.0</td>\n",
       "      <td>0.0</td>\n",
       "      <td>0.0</td>\n",
       "      <td>0.0</td>\n",
       "      <td>0.0</td>\n",
       "      <td>0.0</td>\n",
       "      <td>0.0</td>\n",
       "      <td>0.0</td>\n",
       "      <td>0.0</td>\n",
       "      <td>0.0</td>\n",
       "      <td>0.0</td>\n",
       "      <td>0.0</td>\n",
       "    </tr>\n",
       "    <tr>\n",
       "      <th>3</th>\n",
       "      <td>2000-05-04 03:00:00</td>\n",
       "      <td>DAMREY</td>\n",
       "      <td>0.128900</td>\n",
       "      <td>0.341070</td>\n",
       "      <td>0.294210</td>\n",
       "      <td>0.152047</td>\n",
       "      <td>0.0</td>\n",
       "      <td>0.0</td>\n",
       "      <td>0.0</td>\n",
       "      <td>0.0</td>\n",
       "      <td>0.0</td>\n",
       "      <td>0.0</td>\n",
       "      <td>0.0</td>\n",
       "      <td>0.0</td>\n",
       "      <td>0.0</td>\n",
       "      <td>0.0</td>\n",
       "      <td>0.0</td>\n",
       "      <td>0.0</td>\n",
       "      <td>0.0</td>\n",
       "    </tr>\n",
       "    <tr>\n",
       "      <th>4</th>\n",
       "      <td>2000-05-04 06:00:00</td>\n",
       "      <td>DAMREY</td>\n",
       "      <td>0.136000</td>\n",
       "      <td>0.340950</td>\n",
       "      <td>0.302077</td>\n",
       "      <td>0.152047</td>\n",
       "      <td>0.0</td>\n",
       "      <td>0.0</td>\n",
       "      <td>0.0</td>\n",
       "      <td>0.0</td>\n",
       "      <td>0.0</td>\n",
       "      <td>0.0</td>\n",
       "      <td>0.0</td>\n",
       "      <td>0.0</td>\n",
       "      <td>0.0</td>\n",
       "      <td>0.0</td>\n",
       "      <td>0.0</td>\n",
       "      <td>0.0</td>\n",
       "      <td>0.0</td>\n",
       "    </tr>\n",
       "    <tr>\n",
       "      <th>...</th>\n",
       "      <td>...</td>\n",
       "      <td>...</td>\n",
       "      <td>...</td>\n",
       "      <td>...</td>\n",
       "      <td>...</td>\n",
       "      <td>...</td>\n",
       "      <td>...</td>\n",
       "      <td>...</td>\n",
       "      <td>...</td>\n",
       "      <td>...</td>\n",
       "      <td>...</td>\n",
       "      <td>...</td>\n",
       "      <td>...</td>\n",
       "      <td>...</td>\n",
       "      <td>...</td>\n",
       "      <td>...</td>\n",
       "      <td>...</td>\n",
       "      <td>...</td>\n",
       "      <td>...</td>\n",
       "    </tr>\n",
       "    <tr>\n",
       "      <th>66</th>\n",
       "      <td>2000-05-12 00:00:00</td>\n",
       "      <td>DAMREY</td>\n",
       "      <td>0.528000</td>\n",
       "      <td>0.404089</td>\n",
       "      <td>0.309314</td>\n",
       "      <td>0.181287</td>\n",
       "      <td>0.0</td>\n",
       "      <td>0.0</td>\n",
       "      <td>0.0</td>\n",
       "      <td>0.0</td>\n",
       "      <td>0.0</td>\n",
       "      <td>0.0</td>\n",
       "      <td>0.0</td>\n",
       "      <td>0.0</td>\n",
       "      <td>0.0</td>\n",
       "      <td>0.0</td>\n",
       "      <td>0.0</td>\n",
       "      <td>0.0</td>\n",
       "      <td>0.0</td>\n",
       "    </tr>\n",
       "    <tr>\n",
       "      <th>67</th>\n",
       "      <td>2000-05-12 03:00:00</td>\n",
       "      <td>DAMREY</td>\n",
       "      <td>0.533752</td>\n",
       "      <td>0.410595</td>\n",
       "      <td>0.317810</td>\n",
       "      <td>0.163743</td>\n",
       "      <td>0.0</td>\n",
       "      <td>0.0</td>\n",
       "      <td>0.0</td>\n",
       "      <td>0.0</td>\n",
       "      <td>0.0</td>\n",
       "      <td>0.0</td>\n",
       "      <td>0.0</td>\n",
       "      <td>0.0</td>\n",
       "      <td>0.0</td>\n",
       "      <td>0.0</td>\n",
       "      <td>0.0</td>\n",
       "      <td>0.0</td>\n",
       "      <td>0.0</td>\n",
       "    </tr>\n",
       "    <tr>\n",
       "      <th>68</th>\n",
       "      <td>2000-05-12 06:00:00</td>\n",
       "      <td>DAMREY</td>\n",
       "      <td>0.538000</td>\n",
       "      <td>0.416115</td>\n",
       "      <td>0.328823</td>\n",
       "      <td>0.152047</td>\n",
       "      <td>0.0</td>\n",
       "      <td>0.0</td>\n",
       "      <td>0.0</td>\n",
       "      <td>0.0</td>\n",
       "      <td>0.0</td>\n",
       "      <td>0.0</td>\n",
       "      <td>0.0</td>\n",
       "      <td>0.0</td>\n",
       "      <td>0.0</td>\n",
       "      <td>0.0</td>\n",
       "      <td>0.0</td>\n",
       "      <td>0.0</td>\n",
       "      <td>0.0</td>\n",
       "    </tr>\n",
       "    <tr>\n",
       "      <th>69</th>\n",
       "      <td>2000-05-12 09:00:00</td>\n",
       "      <td>DAMREY</td>\n",
       "      <td>0.539744</td>\n",
       "      <td>0.419934</td>\n",
       "      <td>0.340151</td>\n",
       "      <td>0.152047</td>\n",
       "      <td>0.0</td>\n",
       "      <td>0.0</td>\n",
       "      <td>0.0</td>\n",
       "      <td>0.0</td>\n",
       "      <td>0.0</td>\n",
       "      <td>0.0</td>\n",
       "      <td>0.0</td>\n",
       "      <td>0.0</td>\n",
       "      <td>0.0</td>\n",
       "      <td>0.0</td>\n",
       "      <td>0.0</td>\n",
       "      <td>0.0</td>\n",
       "      <td>0.0</td>\n",
       "    </tr>\n",
       "    <tr>\n",
       "      <th>70</th>\n",
       "      <td>2000-05-12 12:00:00</td>\n",
       "      <td>DAMREY</td>\n",
       "      <td>0.540000</td>\n",
       "      <td>0.422730</td>\n",
       "      <td>0.357458</td>\n",
       "      <td>0.152047</td>\n",
       "      <td>0.0</td>\n",
       "      <td>0.0</td>\n",
       "      <td>0.0</td>\n",
       "      <td>0.0</td>\n",
       "      <td>0.0</td>\n",
       "      <td>0.0</td>\n",
       "      <td>0.0</td>\n",
       "      <td>0.0</td>\n",
       "      <td>0.0</td>\n",
       "      <td>0.0</td>\n",
       "      <td>0.0</td>\n",
       "      <td>0.0</td>\n",
       "      <td>0.0</td>\n",
       "    </tr>\n",
       "  </tbody>\n",
       "</table>\n",
       "<p>71 rows × 19 columns</p>\n",
       "</div>"
      ],
      "text/plain": [
       "                  Date    NAME   USA_LAT   USA_LON  DIST2LAND  USA_WIND  \\\n",
       "0  2000-05-03 18:00:00  DAMREY  0.098000  0.343355   0.243235  0.152047   \n",
       "1  2000-05-03 21:00:00  DAMREY  0.109451  0.342363   0.264317  0.152047   \n",
       "2  2000-05-04 00:00:00  DAMREY  0.120000  0.341551   0.281938  0.152047   \n",
       "3  2000-05-04 03:00:00  DAMREY  0.128900  0.341070   0.294210  0.152047   \n",
       "4  2000-05-04 06:00:00  DAMREY  0.136000  0.340950   0.302077  0.152047   \n",
       "..                 ...     ...       ...       ...        ...       ...   \n",
       "66 2000-05-12 00:00:00  DAMREY  0.528000  0.404089   0.309314  0.181287   \n",
       "67 2000-05-12 03:00:00  DAMREY  0.533752  0.410595   0.317810  0.163743   \n",
       "68 2000-05-12 06:00:00  DAMREY  0.538000  0.416115   0.328823  0.152047   \n",
       "69 2000-05-12 09:00:00  DAMREY  0.539744  0.419934   0.340151  0.152047   \n",
       "70 2000-05-12 12:00:00  DAMREY  0.540000  0.422730   0.357458  0.152047   \n",
       "\n",
       "    USA_PRES  USA_R34_NE  USA_R34_SE  USA_R34_SW  USA_R34_NW  USA_R50_NE  \\\n",
       "0        0.0         0.0         0.0         0.0         0.0         0.0   \n",
       "1        0.0         0.0         0.0         0.0         0.0         0.0   \n",
       "2        0.0         0.0         0.0         0.0         0.0         0.0   \n",
       "3        0.0         0.0         0.0         0.0         0.0         0.0   \n",
       "4        0.0         0.0         0.0         0.0         0.0         0.0   \n",
       "..       ...         ...         ...         ...         ...         ...   \n",
       "66       0.0         0.0         0.0         0.0         0.0         0.0   \n",
       "67       0.0         0.0         0.0         0.0         0.0         0.0   \n",
       "68       0.0         0.0         0.0         0.0         0.0         0.0   \n",
       "69       0.0         0.0         0.0         0.0         0.0         0.0   \n",
       "70       0.0         0.0         0.0         0.0         0.0         0.0   \n",
       "\n",
       "    USA_R50_SE  USA_R50_SW  USA_R50_NW  USA_R64_NE  USA_R64_SE  USA_R64_SW  \\\n",
       "0          0.0         0.0         0.0         0.0         0.0         0.0   \n",
       "1          0.0         0.0         0.0         0.0         0.0         0.0   \n",
       "2          0.0         0.0         0.0         0.0         0.0         0.0   \n",
       "3          0.0         0.0         0.0         0.0         0.0         0.0   \n",
       "4          0.0         0.0         0.0         0.0         0.0         0.0   \n",
       "..         ...         ...         ...         ...         ...         ...   \n",
       "66         0.0         0.0         0.0         0.0         0.0         0.0   \n",
       "67         0.0         0.0         0.0         0.0         0.0         0.0   \n",
       "68         0.0         0.0         0.0         0.0         0.0         0.0   \n",
       "69         0.0         0.0         0.0         0.0         0.0         0.0   \n",
       "70         0.0         0.0         0.0         0.0         0.0         0.0   \n",
       "\n",
       "    USA_R64_NW  \n",
       "0          0.0  \n",
       "1          0.0  \n",
       "2          0.0  \n",
       "3          0.0  \n",
       "4          0.0  \n",
       "..         ...  \n",
       "66         0.0  \n",
       "67         0.0  \n",
       "68         0.0  \n",
       "69         0.0  \n",
       "70         0.0  \n",
       "\n",
       "[71 rows x 19 columns]"
      ]
     },
     "execution_count": 47,
     "metadata": {},
     "output_type": "execute_result"
    }
   ],
   "source": [
    "df_WP_2000_DAMREY"
   ]
  },
  {
   "cell_type": "code",
   "execution_count": 48,
   "id": "15b22dd3-44c7-4934-9dd6-0886d7f39df1",
   "metadata": {},
   "outputs": [],
   "source": [
    "tc_name_list[18].remove('MANGKHUT')"
   ]
  },
  {
   "cell_type": "code",
   "execution_count": 49,
   "id": "4cbfb11a-2b50-4219-90ac-9758f6117672",
   "metadata": {},
   "outputs": [],
   "source": [
    "tc_name_list[18].remove('KONGREY')"
   ]
  },
  {
   "cell_type": "code",
   "execution_count": 50,
   "id": "338430a6-74dd-45ec-bb0b-16bfc9699b25",
   "metadata": {},
   "outputs": [],
   "source": [
    "tc_name_list[18].remove('YUTU')"
   ]
  },
  {
   "cell_type": "code",
   "execution_count": 51,
   "id": "1d365a00-31e9-4f37-b9a7-1d10022f2386",
   "metadata": {},
   "outputs": [],
   "source": [
    "tc_name_list[19].remove('WUTIP')"
   ]
  },
  {
   "cell_type": "code",
   "execution_count": 52,
   "id": "652ab73f-ef6b-4556-92a1-6f6d71a9e846",
   "metadata": {},
   "outputs": [],
   "source": [
    "count = 0"
   ]
  },
  {
   "cell_type": "code",
   "execution_count": 53,
   "id": "ed40db10-6371-423e-90b0-7306e8757fe9",
   "metadata": {
    "tags": []
   },
   "outputs": [],
   "source": [
    "def get_typhoon_data(typhoon_name, typhoon_year, idx , n_past, n_future):\n",
    "    global count\n",
    "    features_list = []\n",
    "    image_list = []\n",
    "    count_photo =[]\n",
    "    image_list_current = []\n",
    "    for i in range(n_past):\n",
    "        features_list_current = []\n",
    "        image_list_current = []\n",
    "        root_dir = \"C:/Users/Louis/Full Typhoon Images/\"\n",
    "        # current_typhoon_name = df_WP_2000_DAMREY.iloc[idx,1]\n",
    "        # current_timestamp_year = (str(df_WP_2000_DAMREY.iloc[idx,0]))[:4]\n",
    "        folder = \"(\" + typhoon_name + \")_\" + typhoon_year\n",
    "        current_timestamp_date = (str(globals()['df_WP_%s_%s'% (typhoon_year, typhoon_name)].iloc[idx,0]))[:10]\n",
    "        current_timestamp_hour = (str(globals()['df_WP_%s_%s'% (typhoon_year, typhoon_name)].iloc[idx,0]))[11:13]\n",
    "        image_path = \"(\" + typhoon_name + \")_\" + current_timestamp_date + \"_\" + current_timestamp_hour + \".png\"\n",
    "        img_name = os.path.join(root_dir, folder ,image_path).replace(\"\\\\\",\"/\")\n",
    "        # print(img_name)\n",
    "        try:\n",
    "            # image_test = io.imread(img_name)\n",
    "            scaler = transforms.Scale((224, 224))\n",
    "            # normalize = transforms.Normalize((0.5), (0.5))\n",
    "            normalize = transforms.Normalize((0.5), (0.5))\n",
    "            to_tensor = transforms.ToTensor()\n",
    "            \n",
    "            image_test = Image.open(img_name)\n",
    "            image = Variable(normalize(to_tensor(scaler(image_test))).unsqueeze(0))\n",
    "            \n",
    "            # image_test = Image.open(img_name).convert('RGB')\n",
    "            # image_test = np.array(image_test)\n",
    "            # image_test = np.rollaxis(image_test, 2, 0)\n",
    "        \n",
    "            # print(image.shape)\n",
    "            # current_image_vector = get_vector(img_name)\n",
    "            # current_image_vector = current_image_vector.numpy()\n",
    "            # print(\"OK\")\n",
    "            count = count+1\n",
    "            # print(count)\n",
    "            # print(typhoon_name)\n",
    "            # print(typhoon_year)\n",
    "            # print(\"read image\")\n",
    "        except FileNotFoundError:\n",
    "            # print(\"FileNotFoundError\")\n",
    "            # print(typhoon_name)\n",
    "            # print(typhoon_year)\n",
    "            # print(current_timestamp_date)\n",
    "            # print(\"No satelite image for this timestamp\")\n",
    "            # image = \"no_image\"\n",
    "            image = torch.zeros(1, 1,224,224)\n",
    "            # print(image.shape)\n",
    "\n",
    "        for j in range(17):\n",
    "            features_list_current.append(globals()['df_WP_%s_%s'% (typhoon_year, typhoon_name)].iloc[idx,j+2])\n",
    "        image_list_current.append(image)\n",
    "        \n",
    "        features_list.append(features_list_current)\n",
    "        image_list.append(image_list_current)\n",
    "    \n",
    "        # features_list = np.array(features_list, dtype=np.float32)\n",
    "        # image_list = np.array(image_list, dtype=np.float32)\n",
    "        \n",
    "        # all_features_numpy = np.concatenate((features_list_current, current_image_vector), axis=0)\n",
    "        # feature_list.append(all_features_numpy)\n",
    "        # image_list.append(typhoon_image_current_timestamp)\n",
    "        # typhoon_dict['features'].append(features_list_current)\n",
    "        # typhoon_dict['typhoon_image'].append(typhoon_image_current_timestamp)\n",
    "        idx += 1\n",
    "    target_latitude = globals()['df_WP_%s_%s'% (typhoon_year, typhoon_name)].iloc[idx,2]\n",
    "    target_longitude =  globals()['df_WP_%s_%s'% (typhoon_year, typhoon_name)].iloc[idx,3]\n",
    "    return features_list, image_list, target_latitude, target_longitude,count"
   ]
  },
  {
   "cell_type": "code",
   "execution_count": 54,
   "id": "38be3053-e251-4096-b31c-0d6a7dec561c",
   "metadata": {
    "collapsed": true,
    "jupyter": {
     "outputs_hidden": true
    },
    "tags": []
   },
   "outputs": [
    {
     "name": "stderr",
     "output_type": "stream",
     "text": [
      "C:\\Users\\Louis\\anaconda3\\lib\\site-packages\\torchvision\\transforms\\transforms.py:317: UserWarning: The use of the transforms.Scale transform is deprecated, please use transforms.Resize instead.\n",
      "  warnings.warn(\"The use of the transforms.Scale transform is deprecated, \" +\n"
     ]
    },
    {
     "name": "stdout",
     "output_type": "stream",
     "text": [
      "no more timestamp\n",
      "no more timestamp\n",
      "no more timestamp\n",
      "no more timestamp\n",
      "no more timestamp\n",
      "no more timestamp\n",
      "no more timestamp\n",
      "no more timestamp\n",
      "no more timestamp\n",
      "no more timestamp\n",
      "no more timestamp\n",
      "no more timestamp\n",
      "no more timestamp\n",
      "no more timestamp\n",
      "no more timestamp\n",
      "no more timestamp\n",
      "no more timestamp\n",
      "no more timestamp\n",
      "no more timestamp\n",
      "no more timestamp\n",
      "no more timestamp\n",
      "no more timestamp\n",
      "no more timestamp\n",
      "no more timestamp\n",
      "no more timestamp\n",
      "no more timestamp\n",
      "no more timestamp\n",
      "no more timestamp\n",
      "no more timestamp\n",
      "no more timestamp\n",
      "no more timestamp\n",
      "no more timestamp\n",
      "no more timestamp\n",
      "no more timestamp\n",
      "no more timestamp\n",
      "no more timestamp\n",
      "no more timestamp\n",
      "no more timestamp\n",
      "no more timestamp\n",
      "no more timestamp\n",
      "no more timestamp\n",
      "no more timestamp\n",
      "no more timestamp\n",
      "no more timestamp\n",
      "no more timestamp\n",
      "no more timestamp\n",
      "no more timestamp\n",
      "no more timestamp\n",
      "no more timestamp\n",
      "no more timestamp\n",
      "no more timestamp\n",
      "no more timestamp\n",
      "no more timestamp\n",
      "no more timestamp\n",
      "no more timestamp\n",
      "no more timestamp\n",
      "no more timestamp\n",
      "no more timestamp\n",
      "no more timestamp\n",
      "no more timestamp\n",
      "no more timestamp\n",
      "no more timestamp\n",
      "no more timestamp\n",
      "no more timestamp\n",
      "no more timestamp\n",
      "no more timestamp\n",
      "no more timestamp\n",
      "no more timestamp\n",
      "no more timestamp\n",
      "no more timestamp\n",
      "no more timestamp\n",
      "no more timestamp\n",
      "no more timestamp\n",
      "no more timestamp\n",
      "no more timestamp\n",
      "no more timestamp\n",
      "no more timestamp\n",
      "no more timestamp\n",
      "no more timestamp\n",
      "no more timestamp\n",
      "no more timestamp\n",
      "no more timestamp\n",
      "no more timestamp\n",
      "no more timestamp\n",
      "no more timestamp\n",
      "no more timestamp\n",
      "no more timestamp\n",
      "no more timestamp\n",
      "no more timestamp\n",
      "no more timestamp\n",
      "no more timestamp\n",
      "no more timestamp\n",
      "no more timestamp\n",
      "no more timestamp\n",
      "no more timestamp\n",
      "no more timestamp\n",
      "no more timestamp\n",
      "no more timestamp\n",
      "no more timestamp\n",
      "no more timestamp\n",
      "no more timestamp\n",
      "no more timestamp\n",
      "no more timestamp\n",
      "no more timestamp\n",
      "no more timestamp\n",
      "no more timestamp\n",
      "no more timestamp\n",
      "no more timestamp\n",
      "no more timestamp\n",
      "no more timestamp\n",
      "no more timestamp\n",
      "no more timestamp\n",
      "no more timestamp\n",
      "no more timestamp\n",
      "no more timestamp\n",
      "no more timestamp\n",
      "no more timestamp\n",
      "no more timestamp\n",
      "no more timestamp\n",
      "no more timestamp\n",
      "no more timestamp\n",
      "no more timestamp\n",
      "no more timestamp\n",
      "no more timestamp\n",
      "no more timestamp\n",
      "no more timestamp\n",
      "no more timestamp\n",
      "no more timestamp\n",
      "no more timestamp\n",
      "no more timestamp\n",
      "no more timestamp\n",
      "no more timestamp\n",
      "no more timestamp\n",
      "no more timestamp\n",
      "no more timestamp\n",
      "no more timestamp\n",
      "no more timestamp\n",
      "no more timestamp\n",
      "no more timestamp\n",
      "no more timestamp\n",
      "no more timestamp\n",
      "no more timestamp\n",
      "no more timestamp\n",
      "no more timestamp\n",
      "no more timestamp\n",
      "no more timestamp\n",
      "no more timestamp\n",
      "no more timestamp\n",
      "no more timestamp\n",
      "no more timestamp\n",
      "no more timestamp\n",
      "no more timestamp\n",
      "no more timestamp\n",
      "no more timestamp\n",
      "no more timestamp\n",
      "no more timestamp\n",
      "no more timestamp\n",
      "no more timestamp\n",
      "no more timestamp\n",
      "no more timestamp\n",
      "no more timestamp\n",
      "no more timestamp\n",
      "no more timestamp\n",
      "no more timestamp\n",
      "no more timestamp\n",
      "no more timestamp\n",
      "no more timestamp\n",
      "no more timestamp\n",
      "no more timestamp\n",
      "no more timestamp\n",
      "no more timestamp\n",
      "no more timestamp\n",
      "no more timestamp\n",
      "no more timestamp\n",
      "no more timestamp\n",
      "no more timestamp\n",
      "no more timestamp\n",
      "no more timestamp\n",
      "no more timestamp\n",
      "no more timestamp\n",
      "no more timestamp\n",
      "no more timestamp\n",
      "no more timestamp\n",
      "no more timestamp\n",
      "no more timestamp\n",
      "no more timestamp\n",
      "no more timestamp\n",
      "no more timestamp\n",
      "no more timestamp\n",
      "no more timestamp\n",
      "no more timestamp\n",
      "no more timestamp\n",
      "no more timestamp\n",
      "no more timestamp\n",
      "no more timestamp\n",
      "no more timestamp\n",
      "no more timestamp\n",
      "no more timestamp\n",
      "no more timestamp\n",
      "no more timestamp\n",
      "no more timestamp\n",
      "no more timestamp\n",
      "no more timestamp\n",
      "no more timestamp\n",
      "no more timestamp\n",
      "no more timestamp\n",
      "no more timestamp\n",
      "no more timestamp\n",
      "no more timestamp\n",
      "no more timestamp\n",
      "no more timestamp\n",
      "no more timestamp\n",
      "no more timestamp\n",
      "no more timestamp\n",
      "no more timestamp\n",
      "no more timestamp\n",
      "no more timestamp\n",
      "no more timestamp\n",
      "no more timestamp\n",
      "no more timestamp\n",
      "no more timestamp\n",
      "no more timestamp\n",
      "no more timestamp\n",
      "no more timestamp\n",
      "no more timestamp\n",
      "no more timestamp\n",
      "no more timestamp\n",
      "no more timestamp\n",
      "no more timestamp\n",
      "no more timestamp\n",
      "no more timestamp\n",
      "no more timestamp\n",
      "no more timestamp\n",
      "no more timestamp\n",
      "no more timestamp\n",
      "no more timestamp\n",
      "no more timestamp\n",
      "no more timestamp\n",
      "no more timestamp\n",
      "no more timestamp\n",
      "no more timestamp\n",
      "no more timestamp\n",
      "no more timestamp\n",
      "no more timestamp\n",
      "no more timestamp\n",
      "no more timestamp\n",
      "no more timestamp\n",
      "no more timestamp\n",
      "no more timestamp\n",
      "no more timestamp\n",
      "no more timestamp\n",
      "no more timestamp\n",
      "no more timestamp\n",
      "no more timestamp\n",
      "no more timestamp\n",
      "no more timestamp\n",
      "no more timestamp\n",
      "no more timestamp\n",
      "no more timestamp\n",
      "no more timestamp\n",
      "no more timestamp\n",
      "no more timestamp\n",
      "no more timestamp\n",
      "no more timestamp\n",
      "no more timestamp\n",
      "no more timestamp\n",
      "no more timestamp\n",
      "no more timestamp\n",
      "no more timestamp\n",
      "no more timestamp\n",
      "no more timestamp\n",
      "no more timestamp\n",
      "no more timestamp\n",
      "no more timestamp\n",
      "no more timestamp\n",
      "no more timestamp\n",
      "no more timestamp\n",
      "no more timestamp\n",
      "no more timestamp\n",
      "no more timestamp\n",
      "no more timestamp\n",
      "no more timestamp\n",
      "no more timestamp\n",
      "no more timestamp\n",
      "no more timestamp\n",
      "no more timestamp\n",
      "no more timestamp\n",
      "no more timestamp\n",
      "no more timestamp\n",
      "no more timestamp\n",
      "no more timestamp\n",
      "no more timestamp\n",
      "no more timestamp\n",
      "no more timestamp\n",
      "no more timestamp\n",
      "no more timestamp\n",
      "no more timestamp\n",
      "no more timestamp\n",
      "no more timestamp\n",
      "no more timestamp\n",
      "no more timestamp\n",
      "no more timestamp\n",
      "no more timestamp\n",
      "no more timestamp\n",
      "no more timestamp\n",
      "no more timestamp\n",
      "no more timestamp\n",
      "no more timestamp\n",
      "no more timestamp\n",
      "no more timestamp\n",
      "no more timestamp\n",
      "no more timestamp\n",
      "no more timestamp\n",
      "no more timestamp\n",
      "no more timestamp\n",
      "no more timestamp\n",
      "no more timestamp\n",
      "no more timestamp\n",
      "no more timestamp\n",
      "no more timestamp\n",
      "no more timestamp\n",
      "no more timestamp\n",
      "no more timestamp\n",
      "no more timestamp\n",
      "no more timestamp\n",
      "no more timestamp\n",
      "no more timestamp\n",
      "no more timestamp\n",
      "no more timestamp\n",
      "no more timestamp\n",
      "no more timestamp\n",
      "no more timestamp\n",
      "no more timestamp\n",
      "no more timestamp\n",
      "no more timestamp\n",
      "no more timestamp\n",
      "no more timestamp\n",
      "no more timestamp\n",
      "no more timestamp\n",
      "no more timestamp\n",
      "no more timestamp\n",
      "no more timestamp\n",
      "no more timestamp\n",
      "no more timestamp\n",
      "no more timestamp\n",
      "no more timestamp\n",
      "no more timestamp\n",
      "no more timestamp\n",
      "no more timestamp\n",
      "no more timestamp\n",
      "no more timestamp\n",
      "no more timestamp\n",
      "no more timestamp\n",
      "no more timestamp\n",
      "no more timestamp\n",
      "no more timestamp\n",
      "no more timestamp\n",
      "no more timestamp\n",
      "no more timestamp\n",
      "no more timestamp\n",
      "no more timestamp\n",
      "no more timestamp\n",
      "no more timestamp\n",
      "no more timestamp\n",
      "no more timestamp\n",
      "no more timestamp\n",
      "no more timestamp\n",
      "no more timestamp\n",
      "no more timestamp\n",
      "no more timestamp\n",
      "no more timestamp\n",
      "no more timestamp\n",
      "no more timestamp\n",
      "no more timestamp\n",
      "no more timestamp\n",
      "no more timestamp\n",
      "no more timestamp\n",
      "no more timestamp\n",
      "no more timestamp\n",
      "no more timestamp\n",
      "no more timestamp\n",
      "no more timestamp\n",
      "no more timestamp\n",
      "no more timestamp\n",
      "no more timestamp\n",
      "no more timestamp\n",
      "no more timestamp\n",
      "no more timestamp\n",
      "no more timestamp\n",
      "no more timestamp\n",
      "no more timestamp\n",
      "no more timestamp\n",
      "no more timestamp\n",
      "no more timestamp\n",
      "no more timestamp\n",
      "no more timestamp\n",
      "no more timestamp\n",
      "no more timestamp\n",
      "no more timestamp\n",
      "no more timestamp\n",
      "no more timestamp\n",
      "no more timestamp\n",
      "no more timestamp\n",
      "no more timestamp\n",
      "no more timestamp\n",
      "no more timestamp\n",
      "no more timestamp\n",
      "no more timestamp\n",
      "no more timestamp\n",
      "no more timestamp\n",
      "no more timestamp\n",
      "no more timestamp\n",
      "no more timestamp\n",
      "no more timestamp\n",
      "no more timestamp\n",
      "no more timestamp\n",
      "no more timestamp\n",
      "no more timestamp\n",
      "no more timestamp\n",
      "no more timestamp\n",
      "no more timestamp\n",
      "no more timestamp\n",
      "no more timestamp\n",
      "no more timestamp\n",
      "no more timestamp\n",
      "no more timestamp\n",
      "no more timestamp\n",
      "no more timestamp\n",
      "no more timestamp\n",
      "no more timestamp\n",
      "no more timestamp\n",
      "no more timestamp\n",
      "no more timestamp\n",
      "no more timestamp\n",
      "no more timestamp\n",
      "no more timestamp\n",
      "no more timestamp\n",
      "no more timestamp\n",
      "no more timestamp\n",
      "no more timestamp\n",
      "no more timestamp\n",
      "no more timestamp\n",
      "no more timestamp\n",
      "no more timestamp\n",
      "no more timestamp\n",
      "no more timestamp\n",
      "no more timestamp\n",
      "no more timestamp\n",
      "no more timestamp\n",
      "no more timestamp\n",
      "no more timestamp\n",
      "no more timestamp\n",
      "no more timestamp\n",
      "no more timestamp\n",
      "no more timestamp\n",
      "no more timestamp\n",
      "no more timestamp\n",
      "no more timestamp\n",
      "no more timestamp\n",
      "no more timestamp\n",
      "no more timestamp\n",
      "no more timestamp\n",
      "no more timestamp\n",
      "no more timestamp\n",
      "no more timestamp\n",
      "no more timestamp\n",
      "no more timestamp\n",
      "no more timestamp\n",
      "no more timestamp\n",
      "no more timestamp\n",
      "no more timestamp\n",
      "no more timestamp\n",
      "no more timestamp\n",
      "no more timestamp\n",
      "no more timestamp\n",
      "no more timestamp\n",
      "no more timestamp\n",
      "no more timestamp\n",
      "no more timestamp\n",
      "no more timestamp\n",
      "no more timestamp\n",
      "no more timestamp\n",
      "no more timestamp\n",
      "no more timestamp\n",
      "no more timestamp\n",
      "no more timestamp\n",
      "no more timestamp\n",
      "no more timestamp\n",
      "no more timestamp\n",
      "no more timestamp\n",
      "no more timestamp\n",
      "no more timestamp\n",
      "no more timestamp\n",
      "no more timestamp\n",
      "no more timestamp\n",
      "no more timestamp\n",
      "no more timestamp\n",
      "no more timestamp\n",
      "no more timestamp\n",
      "no more timestamp\n",
      "no more timestamp\n",
      "no more timestamp\n",
      "no more timestamp\n",
      "no more timestamp\n",
      "no more timestamp\n",
      "no more timestamp\n",
      "no more timestamp\n",
      "no more timestamp\n",
      "no more timestamp\n",
      "no more timestamp\n",
      "no more timestamp\n",
      "no more timestamp\n",
      "no more timestamp\n",
      "no more timestamp\n",
      "no more timestamp\n",
      "no more timestamp\n",
      "no more timestamp\n",
      "no more timestamp\n",
      "no more timestamp\n",
      "no more timestamp\n",
      "no more timestamp\n",
      "no more timestamp\n",
      "no more timestamp\n",
      "no more timestamp\n"
     ]
    }
   ],
   "source": [
    "\n",
    "\n",
    "all_features_typhoon_data=[]\n",
    "all_target_typhoon_lat=[]\n",
    "all_target_typhoon_long=[]\n",
    "for i in range(len(tc_name_list)):\n",
    "# for i in range(1):\n",
    "    for typhoon_name in tc_name_list[i]:\n",
    "        idx=0\n",
    "        typhoon_year = str(2000 + i)\n",
    "        # print(typhoon_year)\n",
    "        # print(typhoon_name)\n",
    "        while True:\n",
    "            try:\n",
    "                list_1, list_2, lat,long, count = get_typhoon_data(typhoon_name, typhoon_year, idx , n_past, n_future)\n",
    "                features_tensor = torch.FloatTensor(list_1)\n",
    "                image_path = list_2\n",
    "                lat_tensor = torch.from_numpy(np.array(lat, dtype=\"float32\"))\n",
    "                long_tensor = torch.from_numpy(np.array(long, dtype=\"float32\"))\n",
    "\n",
    "                \n",
    "                # print(\"doing\")\n",
    "                typhoon_features_dict = {'features': features_tensor,\n",
    "                                'images': image_path}\n",
    "                \n",
    "                typhoon_target_lat = {'latitude':lat_tensor}\n",
    "                typhoon_target_long = {'longitude':long_tensor}\n",
    "\n",
    "                all_features_typhoon_data.append(typhoon_features_dict)\n",
    "                all_target_typhoon_lat.append(typhoon_target_lat)\n",
    "                all_target_typhoon_long.append(typhoon_target_long)\n",
    "                \n",
    "                idx += 1\n",
    "                list_1 = []\n",
    "                list_2 = []\n",
    "                lat = 0 \n",
    "                long = 0\n",
    "            except IndexError:\n",
    "                print(\"no more timestamp\")\n",
    "                break"
   ]
  },
  {
   "cell_type": "code",
   "execution_count": 55,
   "id": "483608d4-eb4b-48bb-85e8-b9d9fd7dfd18",
   "metadata": {},
   "outputs": [
    {
     "name": "stdout",
     "output_type": "stream",
     "text": [
      "no more timestamp\n"
     ]
    }
   ],
   "source": [
    "all_features_typhoon_data_MANGKHUT=[]\n",
    "all_target_typhoon_lat_MANGKHUT=[]\n",
    "all_target_typhoon_long_MANGKHUT=[]\n",
    "\n",
    "typhoon_name = 'MANGKHUT'\n",
    "idx=0\n",
    "typhoon_year = str(2000 + 18)\n",
    "# print(typhoon_year)\n",
    "# print(typhoon_name)\n",
    "while True:\n",
    "    try:\n",
    "        list_1, list_2, lat,long, count = get_typhoon_data(typhoon_name, typhoon_year, idx , n_past, n_future)\n",
    "        features_tensor = torch.FloatTensor(list_1)\n",
    "        image_path = list_2\n",
    "        lat_tensor = torch.from_numpy(np.array(lat, dtype=\"float32\"))\n",
    "        long_tensor = torch.from_numpy(np.array(long, dtype=\"float32\"))\n",
    "\n",
    "\n",
    "        # print(\"doing\")\n",
    "        typhoon_features_dict_MANGKHUT = {'features': features_tensor,\n",
    "                        'images': image_path}\n",
    "\n",
    "        typhoon_target_lat_MANGKHUT = {'latitude':lat_tensor}\n",
    "        typhoon_target_long_MANGKHUT = {'longitude':long_tensor}\n",
    "\n",
    "        all_features_typhoon_data_MANGKHUT.append(typhoon_features_dict_MANGKHUT)\n",
    "        all_target_typhoon_lat_MANGKHUT.append(typhoon_target_lat_MANGKHUT)\n",
    "        all_target_typhoon_long_MANGKHUT.append(typhoon_target_long_MANGKHUT)\n",
    "\n",
    "        idx += 1\n",
    "        list_1 = []\n",
    "        list_2 = []\n",
    "        lat = 0 \n",
    "        long = 0\n",
    "    except IndexError:\n",
    "        print(\"no more timestamp\")\n",
    "        break"
   ]
  },
  {
   "cell_type": "code",
   "execution_count": 56,
   "id": "3b75977a-b620-4a49-928f-54729572188d",
   "metadata": {},
   "outputs": [
    {
     "name": "stdout",
     "output_type": "stream",
     "text": [
      "no more timestamp\n"
     ]
    }
   ],
   "source": [
    "all_features_typhoon_data_KONGREY=[]\n",
    "all_target_typhoon_lat_KONGREY=[]\n",
    "all_target_typhoon_long_KONGREY=[]\n",
    "\n",
    "typhoon_name = 'KONGREY'\n",
    "idx=0\n",
    "typhoon_year = str(2000 + 18)\n",
    "# print(typhoon_year)\n",
    "# print(typhoon_name)\n",
    "while True:\n",
    "    try:\n",
    "        list_1, list_2, lat,long, count = get_typhoon_data(typhoon_name, typhoon_year, idx , n_past, n_future)\n",
    "        features_tensor = torch.FloatTensor(list_1)\n",
    "        image_path = list_2\n",
    "        lat_tensor = torch.from_numpy(np.array(lat, dtype=\"float32\"))\n",
    "        long_tensor = torch.from_numpy(np.array(long, dtype=\"float32\"))\n",
    "\n",
    "\n",
    "        # print(\"doing\")\n",
    "        typhoon_features_dict_KONGREY = {'features': features_tensor,\n",
    "                        'images': image_path}\n",
    "\n",
    "        typhoon_target_lat_KONGREY = {'latitude':lat_tensor}\n",
    "        typhoon_target_long_KONGREY = {'longitude':long_tensor}\n",
    "\n",
    "        all_features_typhoon_data_KONGREY.append(typhoon_features_dict_KONGREY)\n",
    "        all_target_typhoon_lat_KONGREY.append(typhoon_target_lat_KONGREY)\n",
    "        all_target_typhoon_long_KONGREY.append(typhoon_target_long_KONGREY)\n",
    "\n",
    "        idx += 1\n",
    "        list_1 = []\n",
    "        list_2 = []\n",
    "        lat = 0 \n",
    "        long = 0\n",
    "    except IndexError:\n",
    "        print(\"no more timestamp\")\n",
    "        break"
   ]
  },
  {
   "cell_type": "code",
   "execution_count": 57,
   "id": "450d035f-9696-4e34-9417-120192e79e94",
   "metadata": {},
   "outputs": [
    {
     "name": "stdout",
     "output_type": "stream",
     "text": [
      "no more timestamp\n"
     ]
    }
   ],
   "source": [
    "all_features_typhoon_data_YUTU=[]\n",
    "all_target_typhoon_lat_YUTU=[]\n",
    "all_target_typhoon_long_YUTU=[]\n",
    "\n",
    "typhoon_name = 'YUTU'\n",
    "idx=0\n",
    "typhoon_year = str(2000 + 18)\n",
    "# print(typhoon_year)\n",
    "# print(typhoon_name)\n",
    "while True:\n",
    "    try:\n",
    "        list_1, list_2, lat,long, count = get_typhoon_data(typhoon_name, typhoon_year, idx , n_past, n_future)\n",
    "        features_tensor = torch.FloatTensor(list_1)\n",
    "        image_path = list_2\n",
    "        lat_tensor = torch.from_numpy(np.array(lat, dtype=\"float32\"))\n",
    "        long_tensor = torch.from_numpy(np.array(long, dtype=\"float32\"))\n",
    "\n",
    "\n",
    "        # print(\"doing\")\n",
    "        typhoon_features_dict_YUTU = {'features': features_tensor,\n",
    "                        'images': image_path}\n",
    "\n",
    "        typhoon_target_lat_YUTU = {'latitude':lat_tensor}\n",
    "        typhoon_target_long_YUTU = {'longitude':long_tensor}\n",
    "\n",
    "        all_features_typhoon_data_YUTU.append(typhoon_features_dict_YUTU)\n",
    "        all_target_typhoon_lat_YUTU.append(typhoon_target_lat_YUTU)\n",
    "        all_target_typhoon_long_YUTU.append(typhoon_target_long_YUTU)\n",
    "\n",
    "        idx += 1\n",
    "        list_1 = []\n",
    "        list_2 = []\n",
    "        lat = 0 \n",
    "        long = 0\n",
    "    except IndexError:\n",
    "        print(\"no more timestamp\")\n",
    "        break"
   ]
  },
  {
   "cell_type": "code",
   "execution_count": 58,
   "id": "4d30dc6f-e51a-451c-84d6-82e0fa244a50",
   "metadata": {},
   "outputs": [
    {
     "name": "stdout",
     "output_type": "stream",
     "text": [
      "no more timestamp\n"
     ]
    }
   ],
   "source": [
    "all_features_typhoon_data_WUTIP=[]\n",
    "all_target_typhoon_lat_WUTIP=[]\n",
    "all_target_typhoon_long_WUTIP=[]\n",
    "\n",
    "typhoon_name = 'WUTIP'\n",
    "idx=0\n",
    "typhoon_year = str(2000 + 19)\n",
    "# print(typhoon_year)\n",
    "# print(typhoon_name)\n",
    "while True:\n",
    "    try:\n",
    "        list_1, list_2, lat,long, count = get_typhoon_data(typhoon_name, typhoon_year, idx , n_past, n_future)\n",
    "        features_tensor = torch.FloatTensor(list_1)\n",
    "        image_path = list_2\n",
    "        lat_tensor = torch.from_numpy(np.array(lat, dtype=\"float32\"))\n",
    "        long_tensor = torch.from_numpy(np.array(long, dtype=\"float32\"))\n",
    "\n",
    "\n",
    "        # print(\"doing\")\n",
    "        typhoon_features_dict_WUTIP = {'features': features_tensor,\n",
    "                        'images': image_path}\n",
    "\n",
    "        typhoon_target_lat_WUTIP = {'latitude':lat_tensor}\n",
    "        typhoon_target_long_WUTIP = {'longitude':long_tensor}\n",
    "\n",
    "        all_features_typhoon_data_WUTIP.append(typhoon_features_dict_WUTIP)\n",
    "        all_target_typhoon_lat_WUTIP.append(typhoon_target_lat_WUTIP)\n",
    "        all_target_typhoon_long_WUTIP.append(typhoon_target_long_WUTIP)\n",
    "\n",
    "        idx += 1\n",
    "        list_1 = []\n",
    "        list_2 = []\n",
    "        lat = 0 \n",
    "        long = 0\n",
    "    except IndexError:\n",
    "        print(\"no more timestamp\")\n",
    "        break"
   ]
  },
  {
   "cell_type": "code",
   "execution_count": 59,
   "id": "610e19fc-3eef-4414-9d72-1214471b8323",
   "metadata": {},
   "outputs": [
    {
     "data": {
      "text/plain": [
       "90"
      ]
     },
     "execution_count": 59,
     "metadata": {},
     "output_type": "execute_result"
    }
   ],
   "source": [
    "len(all_features_typhoon_data_MANGKHUT)"
   ]
  },
  {
   "cell_type": "code",
   "execution_count": 60,
   "id": "ac3bc45c-0cdb-48af-b046-a97af778a84f",
   "metadata": {},
   "outputs": [
    {
     "data": {
      "text/plain": [
       "90"
      ]
     },
     "execution_count": 60,
     "metadata": {},
     "output_type": "execute_result"
    }
   ],
   "source": [
    "len(all_target_typhoon_lat_MANGKHUT)"
   ]
  },
  {
   "cell_type": "code",
   "execution_count": 61,
   "id": "ac937e0b-9fd3-4a63-aa6d-3d4daa68e233",
   "metadata": {},
   "outputs": [
    {
     "data": {
      "text/plain": [
       "90"
      ]
     },
     "execution_count": 61,
     "metadata": {},
     "output_type": "execute_result"
    }
   ],
   "source": [
    "len(all_target_typhoon_long_MANGKHUT)"
   ]
  },
  {
   "cell_type": "code",
   "execution_count": 62,
   "id": "b7de9d38-8a51-40aa-a676-03dd2295021f",
   "metadata": {},
   "outputs": [
    {
     "data": {
      "text/plain": [
       "28712"
      ]
     },
     "execution_count": 62,
     "metadata": {},
     "output_type": "execute_result"
    }
   ],
   "source": [
    "len(all_features_typhoon_data)"
   ]
  },
  {
   "cell_type": "code",
   "execution_count": 63,
   "id": "5ffac9bd-d48c-4141-a33d-dbfea09831c9",
   "metadata": {},
   "outputs": [
    {
     "data": {
      "text/plain": [
       "28712"
      ]
     },
     "execution_count": 63,
     "metadata": {},
     "output_type": "execute_result"
    }
   ],
   "source": [
    "len(all_target_typhoon_lat)"
   ]
  },
  {
   "cell_type": "code",
   "execution_count": 64,
   "id": "b46b1783-3a35-459f-8194-0525abc11e48",
   "metadata": {},
   "outputs": [],
   "source": [
    "trainX_lat, valX_lat = all_features_typhoon_data[:(int(len(all_features_typhoon_data) * 0.8))], all_features_typhoon_data[(int(len(all_features_typhoon_data) * 0.8)):]\n",
    "trainY_lat, valY_lat = all_target_typhoon_lat[:(int(len(all_target_typhoon_lat) * 0.8))], all_target_typhoon_lat[(int(len(all_target_typhoon_lat) * 0.8)):]\n",
    "valX_lat, testX_lat = valX_lat[:(int(len(valX_lat) * 0.5))], valX_lat[(int(len(valX_lat) * 0.5)):]\n",
    "valY_lat, testY_lat = valY_lat[:(int(len(valY_lat) * 0.5))], valY_lat[(int(len(valY_lat) * 0.5)):]"
   ]
  },
  {
   "cell_type": "code",
   "execution_count": 65,
   "id": "c5fe6107-29b4-4513-9d43-c6d0722c6c1f",
   "metadata": {},
   "outputs": [],
   "source": [
    "trainX_long, valX_long = all_features_typhoon_data[:(int(len(all_features_typhoon_data) * 0.8))], all_features_typhoon_data[(int(len(all_features_typhoon_data) * 0.8)):]\n",
    "trainY_long, valY_long = all_target_typhoon_lat[:(int(len(all_target_typhoon_lat) * 0.8))], all_target_typhoon_lat[(int(len(all_target_typhoon_lat) * 0.8)):]\n",
    "valX_long, testX_long = valX_long[:(int(len(valX_long) * 0.5))], valX_long[(int(len(valX_long) * 0.5)):]\n",
    "valY_long, testY_long = valY_long[:(int(len(valY_long) * 0.5))], valY_long[(int(len(valY_long) * 0.5)):]"
   ]
  },
  {
   "cell_type": "code",
   "execution_count": 66,
   "id": "b6006531-b45a-4523-a677-a29c04a0920c",
   "metadata": {},
   "outputs": [
    {
     "name": "stdout",
     "output_type": "stream",
     "text": [
      "22969\n",
      "2871\n",
      "2872\n"
     ]
    }
   ],
   "source": [
    "print(len(trainX_long))\n",
    "print(len(valX_long))\n",
    "print(len(testX_long))"
   ]
  },
  {
   "cell_type": "code",
   "execution_count": 67,
   "id": "ab397c78-a551-48c5-b7de-d935696bdb1d",
   "metadata": {},
   "outputs": [
    {
     "name": "stdout",
     "output_type": "stream",
     "text": [
      "22969\n",
      "2871\n",
      "2872\n"
     ]
    }
   ],
   "source": [
    "print(len(trainX_lat))\n",
    "print(len(valX_lat))\n",
    "print(len(testX_lat))"
   ]
  },
  {
   "cell_type": "code",
   "execution_count": 68,
   "id": "f9b810ba-ad33-4cf4-9f2d-0ebd052f73b1",
   "metadata": {},
   "outputs": [],
   "source": [
    "train_set_with_lat = [trainX_lat, trainY_lat]"
   ]
  },
  {
   "cell_type": "code",
   "execution_count": 69,
   "id": "ac535d11-ea66-4f03-bc06-856d54bd85fe",
   "metadata": {},
   "outputs": [],
   "source": [
    "val_set_with_lat = [valX_lat, valY_lat]"
   ]
  },
  {
   "cell_type": "code",
   "execution_count": 70,
   "id": "1f58f052-1ff8-463e-a2da-77085a4eceaf",
   "metadata": {},
   "outputs": [],
   "source": [
    "test_set_with_lat = [testX_lat, testY_lat]"
   ]
  },
  {
   "cell_type": "code",
   "execution_count": 71,
   "id": "a69580ca-a4dd-42a6-8eaf-a0d64bbab4ad",
   "metadata": {},
   "outputs": [],
   "source": [
    "train_set_with_long = [trainX_long, trainY_long]"
   ]
  },
  {
   "cell_type": "code",
   "execution_count": 72,
   "id": "3744d5b1-4f24-44d6-896e-c1022057c244",
   "metadata": {},
   "outputs": [],
   "source": [
    "val_set_with_long = [valX_long, valY_long]"
   ]
  },
  {
   "cell_type": "code",
   "execution_count": 73,
   "id": "e7a3a9b6-9369-4e5b-a785-ed41a647fe6a",
   "metadata": {},
   "outputs": [],
   "source": [
    "test_set_with_long = [testX_long, testY_long]"
   ]
  },
  {
   "cell_type": "code",
   "execution_count": 74,
   "id": "2c9f52a1-0a74-4ac6-ad7f-f11ac5e2fd9d",
   "metadata": {},
   "outputs": [],
   "source": [
    "MANGKHUT_set_lat = [all_features_typhoon_data_MANGKHUT, all_target_typhoon_lat_MANGKHUT]\n",
    "MANGKHUT_set_long = [all_features_typhoon_data_MANGKHUT, all_target_typhoon_long_MANGKHUT]"
   ]
  },
  {
   "cell_type": "code",
   "execution_count": 75,
   "id": "ef46b204-d11b-4084-a875-0c7f0a748b7e",
   "metadata": {},
   "outputs": [],
   "source": [
    "KONGREY_set_lat = [all_features_typhoon_data_KONGREY, all_target_typhoon_lat_KONGREY]\n",
    "KONGREY_set_long = [all_features_typhoon_data_KONGREY, all_target_typhoon_long_KONGREY]"
   ]
  },
  {
   "cell_type": "code",
   "execution_count": 76,
   "id": "5066acc1-5952-483b-9397-190072c3fb90",
   "metadata": {},
   "outputs": [],
   "source": [
    "YUTU_set_lat = [all_features_typhoon_data_YUTU, all_target_typhoon_lat_YUTU]\n",
    "YUTU_set_long = [all_features_typhoon_data_YUTU, all_target_typhoon_long_YUTU]"
   ]
  },
  {
   "cell_type": "code",
   "execution_count": 77,
   "id": "142ec61b-8bfa-4fee-a325-149f739f03fb",
   "metadata": {},
   "outputs": [],
   "source": [
    "WUTIP_set_lat = [all_features_typhoon_data_WUTIP, all_target_typhoon_lat_WUTIP]\n",
    "WUTIP_set_long = [all_features_typhoon_data_WUTIP, all_target_typhoon_long_WUTIP]"
   ]
  },
  {
   "cell_type": "code",
   "execution_count": 78,
   "id": "b60d608a-3ae2-4e56-b6a2-0aac47075df6",
   "metadata": {
    "tags": []
   },
   "outputs": [],
   "source": [
    "from torch.utils.data import Dataset,DataLoader\n",
    "import cv2\n",
    "import tensorflow as tf"
   ]
  },
  {
   "cell_type": "code",
   "execution_count": 79,
   "id": "78449e38-7c5f-44f3-af6c-bed2358547a2",
   "metadata": {},
   "outputs": [],
   "source": [
    "class CustomTensorDataset(Dataset):\n",
    "  def __init__(self, dataset, transform_list=None):\n",
    "    [data_X, data_y] = dataset\n",
    "    #X_tensor, y_tensor = Tensor(data_X), Tensor(data_y)\n",
    "    tensors = (data_X, data_y)\n",
    "    assert all(len(tensors[0]) == len(tensor) for tensor in tensors)\n",
    "    self.tensors = tensors\n",
    "    \n",
    "  def __getitem__(self, index):\n",
    "    x = self.tensors[0][index]\n",
    "    y = self.tensors[1][index]\n",
    "    \n",
    "    tmp_img_data = []\n",
    "    images_data = []\n",
    "    \n",
    "    for image_name in x['images']:\n",
    "        \n",
    "        tmp_img_data.append(image_name)\n",
    "        \n",
    "    images_data.append(tmp_img_data)\n",
    "\n",
    "    \n",
    "    inputs = {\n",
    "        'features': x['features'],\n",
    "        'images': images_data\n",
    "    }\n",
    "        \n",
    "    # print(x)\n",
    "    # print(y)\n",
    "    \n",
    "    return inputs, y\n",
    "\n",
    "  def __len__(self):\n",
    "    return len(self.tensors[0])"
   ]
  },
  {
   "cell_type": "code",
   "execution_count": 80,
   "id": "c83af130-8457-445c-b8e3-136beda6e81c",
   "metadata": {},
   "outputs": [],
   "source": [
    "train_set_lstm = CustomTensorDataset(dataset=train_set_with_lat)"
   ]
  },
  {
   "cell_type": "code",
   "execution_count": 81,
   "id": "7cc26287-ed59-483d-8364-fb91d860dc30",
   "metadata": {},
   "outputs": [],
   "source": [
    "val_set_lstm = CustomTensorDataset(dataset=val_set_with_lat)"
   ]
  },
  {
   "cell_type": "code",
   "execution_count": 82,
   "id": "0a1b3f69-b90d-46c2-94bc-98a49e0d5521",
   "metadata": {},
   "outputs": [],
   "source": [
    "test_set_lstm = CustomTensorDataset(dataset=test_set_with_lat)"
   ]
  },
  {
   "cell_type": "code",
   "execution_count": 83,
   "id": "95439930-b287-4615-96b9-3dd283e734a3",
   "metadata": {},
   "outputs": [],
   "source": [
    "train_set_lstm_long = CustomTensorDataset(dataset=train_set_with_long)"
   ]
  },
  {
   "cell_type": "code",
   "execution_count": 84,
   "id": "409dd8c3-5250-49e2-91ed-c8768e2fe0b1",
   "metadata": {},
   "outputs": [],
   "source": [
    "val_set_lstm_long = CustomTensorDataset(dataset=val_set_with_long)"
   ]
  },
  {
   "cell_type": "code",
   "execution_count": 85,
   "id": "64482d8a-cc57-4248-8f05-d39d38eca42c",
   "metadata": {},
   "outputs": [],
   "source": [
    "test_set_lstm_long = CustomTensorDataset(dataset=test_set_with_long)"
   ]
  },
  {
   "cell_type": "code",
   "execution_count": 86,
   "id": "65afbea3-0b03-4f98-8421-b37019bf73b2",
   "metadata": {},
   "outputs": [],
   "source": [
    "MANGKHUT_set_lstm_lat = CustomTensorDataset(dataset=MANGKHUT_set_lat)\n",
    "MANGKHUT_set_lstm_long = CustomTensorDataset(dataset=MANGKHUT_set_long)"
   ]
  },
  {
   "cell_type": "code",
   "execution_count": 87,
   "id": "faa93307-c22b-462b-853c-998da04815f4",
   "metadata": {},
   "outputs": [],
   "source": [
    "KONGREY_set_lstm_lat = CustomTensorDataset(dataset=KONGREY_set_lat)\n",
    "KONGREY_set_lstm_long = CustomTensorDataset(dataset=KONGREY_set_long)"
   ]
  },
  {
   "cell_type": "code",
   "execution_count": 88,
   "id": "b35bd0de-0941-4e2e-80de-9e8cc820314b",
   "metadata": {},
   "outputs": [],
   "source": [
    "YUTU_set_lstm_lat = CustomTensorDataset(dataset=YUTU_set_lat)\n",
    "YUTU_set_lstm_long = CustomTensorDataset(dataset=YUTU_set_long)"
   ]
  },
  {
   "cell_type": "code",
   "execution_count": 89,
   "id": "f1dfc457-29f7-4983-b288-4366c9a1ff2a",
   "metadata": {},
   "outputs": [],
   "source": [
    "WUTIP_set_lstm_lat = CustomTensorDataset(dataset=WUTIP_set_lat)\n",
    "WUTIP_set_lstm_long = CustomTensorDataset(dataset=WUTIP_set_long)"
   ]
  },
  {
   "cell_type": "markdown",
   "id": "40b31b83-f246-4ebd-8db9-60369a976c58",
   "metadata": {},
   "source": [
    "### DataLoader from dictionary"
   ]
  },
  {
   "cell_type": "code",
   "execution_count": 90,
   "id": "0b8028f5-5a42-485b-8f7d-44da433d2d90",
   "metadata": {},
   "outputs": [],
   "source": [
    "validation_list = []"
   ]
  },
  {
   "cell_type": "code",
   "execution_count": 91,
   "id": "fc09b4c7-fecc-43d0-9b4f-010a6351c884",
   "metadata": {},
   "outputs": [],
   "source": [
    "class LSTMModel(nn.Module):\n",
    "    def __init__(self, input_dim_met, output_dim_met, input_dim_image, hidden_dim, layer_dim, output_dim, dropout_prob):\n",
    "        super(LSTMModel, self).__init__()\n",
    "\n",
    "        # Defining the number of layers and the nodes in each layer\n",
    "        self.hidden_dim = hidden_dim\n",
    "        self.layer_dim = layer_dim\n",
    "        \n",
    "        #fc 17 ->512\n",
    "        self.fc_feature_met_expansion = nn.Linear(input_dim_met, output_dim_met)\n",
    "        \n",
    "        input_dim = output_dim_met + input_dim_image\n",
    "        \n",
    "        # LSTM layers\n",
    "        self.lstm = nn.LSTM(\n",
    "            input_dim, hidden_dim, layer_dim, batch_first=True, dropout=dropout_prob\n",
    "        )\n",
    "\n",
    "        # Fully connected layer\n",
    "        self.fc = nn.Linear(hidden_dim, output_dim)\n",
    "\n",
    "    def forward(self, x):\n",
    "        \n",
    "        # split 529 features into 17 + 512\n",
    "        # 512 --> 32 dimensions\n",
    "\n",
    "        #################################### positional encoding\n",
    "        \n",
    "    \n",
    "        # print(\"x entering forward: \", x)\n",
    "        # print(x.shape)\n",
    "        # print(x[0][0][:17])\n",
    "        \n",
    "        # print(\"original x : \", x.shape)\n",
    "        \n",
    "        final_feature_list = []\n",
    "        for i in range(x.shape[0]):\n",
    "            int_list = []\n",
    "            for j in range(x.shape[1]):\n",
    "                up_features_met = self.fc_feature_met_expansion(x[i][j][:17])\n",
    "                # print(up_features_met.shape)\n",
    "                # print(\"upfeatures: \", up_features_met)\n",
    "                image_feature = x[i][j][17:]\n",
    "                # print(image_feature.shape)\n",
    "                # print('image: ',image_feature)\n",
    "                x_final = torch.cat([up_features_met, image_feature]).to(device)\n",
    "                # print(x_final.shape)\n",
    "                int_list.append(x_final)\n",
    "                #print(int_list)\n",
    "            x_final = (torch.stack((int_list[0], int_list[1], int_list[2], int_list[3], int_list[4]), 0))\n",
    "            x_final = x_final[None,:,:]\n",
    "            #print(x_final)\n",
    "            # print(x_final.shape)\n",
    "            final_feature_list.append(x_final)\n",
    "        \n",
    "        #print(final_feature_list)\n",
    "    \n",
    "        first_feature_tensor = final_feature_list[0]\n",
    "        for i in range(len(final_feature_list)):\n",
    "            if i < (len(final_feature_list) - 1):\n",
    "                final_feature_tensor = torch.cat([first_feature_tensor, final_feature_list[i+1]], dim=0)\n",
    "                first_feature_tensor = final_feature_tensor\n",
    "        x_final = final_feature_tensor\n",
    "        \n",
    "        #print(\"final entering \", x_final)\n",
    "\n",
    "        # print('Final x : ', x_final.shape)\n",
    "    # def forward(self, x):\n",
    "        \n",
    "        # Initializing hidden state for first input with zeros\n",
    "        h0 = torch.zeros(self.layer_dim, x_final.size(0), self.hidden_dim, device=x_final.device).requires_grad_()\n",
    "\n",
    "        # Initializing cell state for first input with zeros\n",
    "        c0 = torch.zeros(self.layer_dim, x_final.size(0), self.hidden_dim, device=x_final.device).requires_grad_()\n",
    "\n",
    "        # We need to detach as we are doing truncated backpropagation through time (BPTT)\n",
    "        # If we don't, we'll backprop all the way to the start even after going through another batch\n",
    "        # Forward propagation by passing in the input, hidden state, and cell state into the model\n",
    "        out, (hn, cn) = self.lstm(x_final, (h0.detach(), c0.detach()))\n",
    "        \n",
    "        # Reshaping the outputs in the shape of (batch_size, seq_length, hidden_size)\n",
    "        # so that it can fit into the fully connected layer\n",
    "        out = out[:, -1, :]\n",
    "        \n",
    "        \n",
    "        # Convert the final state to our desired output shape (batch_size, output_dim)\n",
    "        out = self.fc(out)\n",
    "        \n",
    "        return out"
   ]
  },
  {
   "cell_type": "code",
   "execution_count": 92,
   "id": "6e788714-cbfd-4960-aa9d-dbcb1ac16278",
   "metadata": {},
   "outputs": [],
   "source": [
    "class Optimization_Lat:\n",
    "    def __init__(self, model, loss_fn, optimizer, resnet_model):\n",
    "        self.model = model\n",
    "        #self.resnet = image_ex_model\n",
    "        self.loss_fn = loss_fn\n",
    "        self.optimizer = optimizer\n",
    "        self.train_losses = []\n",
    "        self.val_losses = []\n",
    "        self.model_resnet = resnet_model.to(device)\n",
    "        self.model_resnet.conv1 = nn.Conv2d(1, 64, kernel_size=(7, 7), stride=(2, 2), padding=(3, 3), bias=False)\n",
    "        self.layer = self.model_resnet._modules.get('avgpool')\n",
    "\n",
    "    def Resnet(self,image):\n",
    "        # print(t_img)\n",
    "        # 3. Create a vector of zeros that will hold our feature vector\n",
    "        #    The 'avgpool' layer has an output size of 512\n",
    "        my_embedding = torch.zeros(512)\n",
    "        # 4. Define a function that will copy the output of a layer\n",
    "        def copy_data(m, i, o):\n",
    "            my_embedding.copy_(o.data.reshape(o.data.size(1)))\n",
    "        # 5. Attach that function to our selected layer\n",
    "        h = self.layer.register_forward_hook(copy_data)\n",
    "        # 6. Run the model on our transformed image\n",
    "        self.model_resnet = self.model_resnet.to(device)\n",
    "        self.model_resnet(image.to(device))\n",
    "        # 7. Detach our copy function from the layer\n",
    "        h.remove()\n",
    "        # 8. Return the feature vector\n",
    "        return my_embedding\n",
    "    \n",
    "    def tensor_concat(self,typhoon_features, typhoon_images, batch):\n",
    "        \n",
    "        final_tensor_list = []\n",
    "        for bat in range(batch):\n",
    "            # print(\"Batch size: \", bat)\n",
    "            image_feature_model = []\n",
    "            for i in range(len(typhoon_images[0])):\n",
    "                image_Feature = self.Resnet(typhoon_images[0][i][0][bat].to(device))\n",
    "                # print(\"Individual: \", image_Feature)\n",
    "                image_feature_model.append(image_Feature)\n",
    "\n",
    "            # print(\"Group: \", image_feature_model)\n",
    "            \n",
    "            image_tensor = torch.stack((image_feature_model[0], image_feature_model[1], image_feature_model[2], image_feature_model[3], image_feature_model[4]), 0)\n",
    "            image_tensor = image_tensor[None,:,:]\n",
    "            \n",
    "            \n",
    "            # print(\"image tensor\", image_tensor.data[0])       \n",
    "#             # print(typhoon_features.shape)\n",
    "            # print('features: ', typhoon_features.data[bat])\n",
    "\n",
    "            merge_image_and_feature_list = []\n",
    "            for i in range(len(typhoon_features.data[0])):\n",
    "                merge_image_and_feature = torch.concat((typhoon_features.data[bat][i].to(device), image_tensor.data[0][i].to(device)), 0)\n",
    "                # print(merge_image_and_feature.shape)\n",
    "                merge_image_and_feature_list.append(merge_image_and_feature)\n",
    "\n",
    "            final_tensor = torch.stack((merge_image_and_feature_list[0], merge_image_and_feature_list[1], merge_image_and_feature_list[2], merge_image_and_feature_list[3], merge_image_and_feature_list[4]), 0)\n",
    "\n",
    "            final_tensor = final_tensor[None,:,:]\n",
    "            \n",
    "            \n",
    "            # print(\"final tensor: \", final_tensor)\n",
    "            # print(final_tensor)\n",
    "            # print(final_tensor.shape)\n",
    "            final_tensor_list.append(final_tensor)\n",
    "\n",
    "        return final_tensor_list\n",
    "        \n",
    "    \n",
    "    def train_step(self, typhoon_features, typhoon_images, y, batch):\n",
    "        \n",
    "        \n",
    "        # print(\"first feature: \", typhoon_features)\n",
    "        \n",
    "        # Sets model to train mode\n",
    "        self.model.train()\n",
    "            \n",
    "        final_tensor_list = self.tensor_concat(typhoon_features,typhoon_images, batch)\n",
    "                \n",
    "        y = y[None,:].to(device)\n",
    "        \n",
    "        y =torch.transpose(y, 0, 1)\n",
    "        \n",
    "        # print(\"real y :\", y.shape)\n",
    "    \n",
    "        # Makes predictions                \n",
    "        first_tensor = final_tensor_list[0]\n",
    "        for i in range(len(final_tensor_list)):\n",
    "            if i < (len(final_tensor_list) - 1):\n",
    "                # print(i)\n",
    "                final_tensor = torch.cat([first_tensor, final_tensor_list[i+1]], dim=0)\n",
    "                first_tensor = final_tensor\n",
    "        \n",
    "        # print(final_tensor.shape)\n",
    "        \n",
    "        final_tensor = final_tensor.to(device)\n",
    "        \n",
    "        final_yhat = self.model(final_tensor)\n",
    "        \n",
    "        # print(\"yhat: \", final_yhat.shape)\n",
    "        \n",
    "        \n",
    "#         yhat_list = []\n",
    "#         for i in range(len(final_tensor_list)):\n",
    "#             yhat = self.model(final_tensor_list[i].to(device))\n",
    "#             yhat_list.append(yhat)\n",
    "        \n",
    "#         prev_yhat = yhat_list[0]\n",
    "#         for i in range(len(yhat_list)):\n",
    "#             if i<(len(yhat_list)-1):\n",
    "#                 final_yhat = torch.cat((prev_yhat, yhat_list[i+1]), 1)\n",
    "#                 prev_yhat = final_yhat\n",
    "            \n",
    "        \n",
    "        #Computes loss\n",
    "        loss = self.loss_fn(y, final_yhat)  #yhat + x0 (lat/long)\n",
    "\n",
    "        # Computes gradients\n",
    "        loss.backward()\n",
    "\n",
    "        # Updates parameters and zeroes gradients\n",
    "        self.optimizer.step()\n",
    "        self.optimizer.zero_grad()\n",
    "\n",
    "        # Returns the loss\n",
    "        return loss.item()\n",
    "    \n",
    "    def train(self, train_loader, val_loader, batch_size, n_epochs):\n",
    "        # model_path = f'models/{self.model}_{datetime.now().strftime(\"%Y-%m-%d %H:%M:%S\")}'\n",
    "        \n",
    "        model_path = \"model_lat\"\n",
    "        previous_validation_loss = 100\n",
    "        patience = 5\n",
    "        count = 0\n",
    "        \n",
    "        for epoch in range(1, n_epochs + 1):\n",
    "            batch_losses = []\n",
    "            for x_batch, y_batch in train_loader:\n",
    "                # print(x_batch['features'])\n",
    "                # print(x_batch['images'])     \n",
    "                # print('Y batch',y_batch)\n",
    "                x_batch = x_batch\n",
    "                y_batch = y_batch\n",
    "                x_batch['features'] = x_batch['features'].view([batch_size, n_past, 17])\n",
    "                \n",
    "                y_batch = y_batch['latitude']\n",
    "                \n",
    "                # x_batch = x_batch.view([batch_size, 5, n_features])\n",
    "                # print(x_batch['images'])\n",
    "                \n",
    "                # print(x_batch)\n",
    "                # print(y_batch)\n",
    "                # print(\"y_batch:\", y_batch)\n",
    "                \n",
    "                loss = self.train_step(x_batch['features'],x_batch['images'], y_batch, batch_size)\n",
    "                \n",
    "                batch_losses.append(loss)\n",
    "            training_loss = np.mean(batch_losses)\n",
    "            self.train_losses.append(training_loss)\n",
    "            print(training_loss)\n",
    "            \n",
    "            \n",
    "            with torch.no_grad():\n",
    "                batch_val_losses = []\n",
    "                for x_val, y_val in val_loader:\n",
    "                    x_val['features'] = x_val['features'].view([batch_size, n_past, 17]).to(device)\n",
    "                    y_val = y_val['latitude'].to(device)\n",
    "                    y_val = y_val[None,:].to(device)\n",
    "                    final_tensor_list_val = self.tensor_concat(x_val['features'],x_val['images'], batch_size)\n",
    "\n",
    "                    y_val =torch.transpose(y_val, 0, 1)\n",
    "\n",
    "                    # Makes predictions                \n",
    "                    first_tensor_val = final_tensor_list_val[0]\n",
    "                    for i in range(len(final_tensor_list_val)):\n",
    "                        if i < (len(final_tensor_list_val) - 1):\n",
    "                            final_tensor_val = torch.cat([first_tensor_val, final_tensor_list_val[i+1]], dim=0)\n",
    "                            first_tensor_val = final_tensor_val\n",
    "                    \n",
    "                            \n",
    "                    final_tensor_val = final_tensor_val.to(device)\n",
    "                    \n",
    "                    self.model.eval()\n",
    "                    final_yhat_val = self.model(final_tensor_val)\n",
    "                    \n",
    "                    val_loss = self.loss_fn(y_val, final_yhat_val).item()\n",
    "                    batch_val_losses.append(val_loss)\n",
    "                validation_loss = np.mean(batch_val_losses)\n",
    "                self.val_losses.append(validation_loss)\n",
    "                print(f\"[{epoch}/{n_epochs}] Training loss: {training_loss:.8f}\\t Validation loss: {validation_loss:.8f}\")\n",
    "                validation_list.append(validation_loss)\n",
    "                validation_list.sort()\n",
    "                if validation_loss <= validation_list[0]:\n",
    "                    torch.save(self.model, model_path)\n",
    "                    print(\"Updated best model\")\n",
    "                if validation_loss > previous_validation_loss:\n",
    "                    count +=1\n",
    "                    print(\"Current Validation_loss is greater than Previous Validation Loss, counting:\", count)\n",
    "                    if count>=patience:\n",
    "                        print(\"Early stopping executed!\")\n",
    "                        break\n",
    "                else:\n",
    "                    print(\"Continue progress to global minima\")\n",
    "                    count = 0\n",
    "                previous_validation_loss = validation_loss \n",
    "\n",
    "        # torch.save(self.model.state_dict(), model_path) \n",
    "        \n",
    "    \n",
    "    def evaluate(self, test_loader, batch_size, n_features):\n",
    "        with torch.no_grad():\n",
    "            predictions = []\n",
    "            values = []\n",
    "            for x_test, y_test in test_loader:\n",
    "                x_test['features'] = x_test['features'].view([batch_size, n_past, n_features]).to(device)\n",
    "                y_test = y_test['latitude'].to(device)\n",
    "                y_test = y_test[None,:].to(device)\n",
    "                final_tensor_list_test = self.tensor_concat(x_test['features'],x_test['images'], batch_size)\n",
    "                \n",
    "                y_test =torch.transpose(y_test, 0, 1)\n",
    "                \n",
    "                \n",
    "                # Makes predictions                \n",
    "                first_tensor_test = final_tensor_list_test[0]\n",
    "                for i in range(len(final_tensor_list_test)):\n",
    "                    if i < (len(final_tensor_list_test) - 1):\n",
    "                        final_tensor_test = torch.cat([first_tensor_test, final_tensor_list_test[i+1]], dim=0)\n",
    "                        first_tensor_test = final_tensor_test                    \n",
    "                            \n",
    "                final_tensor_test = final_tensor_test.to(device)\n",
    "                \n",
    "                self.model.eval()\n",
    "                yhat_test = self.model(final_tensor_test)\n",
    "                predictions.append(yhat_test.cpu().detach().numpy())\n",
    "                values.append(y_test.cpu().detach().numpy())\n",
    "\n",
    "        return predictions, values\n",
    "    \n",
    "    def plot_losses(self):\n",
    "        plt.plot(self.train_losses, label=\"Training loss\")\n",
    "        plt.plot(self.val_losses, label=\"Validation loss\")\n",
    "        plt.legend()\n",
    "        plt.title(\"Losses\")\n",
    "        plt.show()\n",
    "        plt.close()"
   ]
  },
  {
   "cell_type": "code",
   "execution_count": 93,
   "id": "c7d830e7-2070-4b39-ad72-895aa53accec",
   "metadata": {},
   "outputs": [],
   "source": [
    "def get_model(model, model_params):\n",
    "    models = {\"lstm\": LSTMModel}\n",
    "    return models.get(model.lower())(**model_params)"
   ]
  },
  {
   "cell_type": "code",
   "execution_count": 94,
   "id": "583f0962-9f98-4609-9d76-efbd9f5510a6",
   "metadata": {
    "collapsed": true,
    "jupyter": {
     "outputs_hidden": true
    },
    "tags": []
   },
   "outputs": [
    {
     "name": "stdout",
     "output_type": "stream",
     "text": [
      "Batch:  16    Hidden dim:  128   Learning rate:  0.001\n"
     ]
    },
    {
     "ename": "KeyboardInterrupt",
     "evalue": "",
     "output_type": "error",
     "traceback": [
      "\u001b[1;31m---------------------------------------------------------------------------\u001b[0m",
      "\u001b[1;31mKeyboardInterrupt\u001b[0m                         Traceback (most recent call last)",
      "\u001b[1;32m~\\AppData\\Local\\Temp/ipykernel_16752/3001071265.py\u001b[0m in \u001b[0;36m<module>\u001b[1;34m\u001b[0m\n\u001b[0;32m     46\u001b[0m             \u001b[0moptimizer\u001b[0m \u001b[1;33m=\u001b[0m \u001b[0moptim\u001b[0m\u001b[1;33m.\u001b[0m\u001b[0mAdam\u001b[0m\u001b[1;33m(\u001b[0m\u001b[1;33m[\u001b[0m\u001b[1;33m{\u001b[0m\u001b[1;34m\"params\"\u001b[0m\u001b[1;33m:\u001b[0m \u001b[0mResnet_model\u001b[0m\u001b[1;33m.\u001b[0m\u001b[0mparameters\u001b[0m\u001b[1;33m(\u001b[0m\u001b[1;33m)\u001b[0m\u001b[1;33m,\u001b[0m \u001b[1;34m\"params\"\u001b[0m\u001b[1;33m:\u001b[0m \u001b[0mmodel\u001b[0m\u001b[1;33m.\u001b[0m\u001b[0mparameters\u001b[0m\u001b[1;33m(\u001b[0m\u001b[1;33m)\u001b[0m\u001b[1;33m}\u001b[0m\u001b[1;33m]\u001b[0m\u001b[1;33m,\u001b[0m \u001b[0mlr\u001b[0m\u001b[1;33m=\u001b[0m\u001b[0mlr\u001b[0m\u001b[1;33m,\u001b[0m \u001b[0mweight_decay\u001b[0m\u001b[1;33m=\u001b[0m\u001b[0mweight_decay\u001b[0m\u001b[1;33m)\u001b[0m\u001b[1;33m\u001b[0m\u001b[1;33m\u001b[0m\u001b[0m\n\u001b[0;32m     47\u001b[0m             \u001b[0mopt_lat\u001b[0m \u001b[1;33m=\u001b[0m \u001b[0mOptimization_Lat\u001b[0m\u001b[1;33m(\u001b[0m\u001b[0mmodel\u001b[0m\u001b[1;33m=\u001b[0m\u001b[0mmodel\u001b[0m\u001b[1;33m.\u001b[0m\u001b[0mto\u001b[0m\u001b[1;33m(\u001b[0m\u001b[0mdevice\u001b[0m\u001b[1;33m)\u001b[0m\u001b[1;33m,\u001b[0m \u001b[0mloss_fn\u001b[0m\u001b[1;33m=\u001b[0m\u001b[0mloss_fn\u001b[0m\u001b[1;33m,\u001b[0m \u001b[0moptimizer\u001b[0m\u001b[1;33m=\u001b[0m\u001b[0moptimizer\u001b[0m\u001b[1;33m,\u001b[0m\u001b[0mresnet_model\u001b[0m\u001b[1;33m=\u001b[0m\u001b[0mResnet_model\u001b[0m\u001b[1;33m.\u001b[0m\u001b[0mto\u001b[0m\u001b[1;33m(\u001b[0m\u001b[0mdevice\u001b[0m\u001b[1;33m)\u001b[0m\u001b[1;33m)\u001b[0m\u001b[1;33m\u001b[0m\u001b[1;33m\u001b[0m\u001b[0m\n\u001b[1;32m---> 48\u001b[1;33m             \u001b[0mopt_lat\u001b[0m\u001b[1;33m.\u001b[0m\u001b[0mtrain\u001b[0m\u001b[1;33m(\u001b[0m\u001b[0mtrain_loader\u001b[0m\u001b[1;33m,\u001b[0m \u001b[0mval_loader\u001b[0m\u001b[1;33m,\u001b[0m \u001b[0mbatch\u001b[0m\u001b[1;33m,\u001b[0m \u001b[0mn_epochs\u001b[0m\u001b[1;33m)\u001b[0m\u001b[1;33m\u001b[0m\u001b[1;33m\u001b[0m\u001b[0m\n\u001b[0m\u001b[0;32m     49\u001b[0m \u001b[1;33m\u001b[0m\u001b[0m\n\u001b[0;32m     50\u001b[0m             \u001b[0mpredictions\u001b[0m\u001b[1;33m,\u001b[0m \u001b[0mvalues\u001b[0m \u001b[1;33m=\u001b[0m \u001b[0mopt_lat\u001b[0m\u001b[1;33m.\u001b[0m\u001b[0mevaluate\u001b[0m\u001b[1;33m(\u001b[0m\u001b[0mtest_loader\u001b[0m\u001b[1;33m,\u001b[0m \u001b[0mbatch\u001b[0m\u001b[1;33m,\u001b[0m \u001b[0minput_dim_met\u001b[0m\u001b[1;33m)\u001b[0m\u001b[1;33m\u001b[0m\u001b[1;33m\u001b[0m\u001b[0m\n",
      "\u001b[1;32m~\\AppData\\Local\\Temp/ipykernel_16752/805042508.py\u001b[0m in \u001b[0;36mtrain\u001b[1;34m(self, train_loader, val_loader, batch_size, n_epochs)\u001b[0m\n\u001b[0;32m    154\u001b[0m                 \u001b[1;31m# print(\"y_batch:\", y_batch)\u001b[0m\u001b[1;33m\u001b[0m\u001b[1;33m\u001b[0m\u001b[0m\n\u001b[0;32m    155\u001b[0m \u001b[1;33m\u001b[0m\u001b[0m\n\u001b[1;32m--> 156\u001b[1;33m                 \u001b[0mloss\u001b[0m \u001b[1;33m=\u001b[0m \u001b[0mself\u001b[0m\u001b[1;33m.\u001b[0m\u001b[0mtrain_step\u001b[0m\u001b[1;33m(\u001b[0m\u001b[0mx_batch\u001b[0m\u001b[1;33m[\u001b[0m\u001b[1;34m'features'\u001b[0m\u001b[1;33m]\u001b[0m\u001b[1;33m,\u001b[0m\u001b[0mx_batch\u001b[0m\u001b[1;33m[\u001b[0m\u001b[1;34m'images'\u001b[0m\u001b[1;33m]\u001b[0m\u001b[1;33m,\u001b[0m \u001b[0my_batch\u001b[0m\u001b[1;33m,\u001b[0m \u001b[0mbatch_size\u001b[0m\u001b[1;33m)\u001b[0m\u001b[1;33m\u001b[0m\u001b[1;33m\u001b[0m\u001b[0m\n\u001b[0m\u001b[0;32m    157\u001b[0m \u001b[1;33m\u001b[0m\u001b[0m\n\u001b[0;32m    158\u001b[0m                 \u001b[0mbatch_losses\u001b[0m\u001b[1;33m.\u001b[0m\u001b[0mappend\u001b[0m\u001b[1;33m(\u001b[0m\u001b[0mloss\u001b[0m\u001b[1;33m)\u001b[0m\u001b[1;33m\u001b[0m\u001b[1;33m\u001b[0m\u001b[0m\n",
      "\u001b[1;32m~\\AppData\\Local\\Temp/ipykernel_16752/805042508.py\u001b[0m in \u001b[0;36mtrain_step\u001b[1;34m(self, typhoon_features, typhoon_images, y, batch)\u001b[0m\n\u001b[0;32m     77\u001b[0m         \u001b[0mself\u001b[0m\u001b[1;33m.\u001b[0m\u001b[0mmodel\u001b[0m\u001b[1;33m.\u001b[0m\u001b[0mtrain\u001b[0m\u001b[1;33m(\u001b[0m\u001b[1;33m)\u001b[0m\u001b[1;33m\u001b[0m\u001b[1;33m\u001b[0m\u001b[0m\n\u001b[0;32m     78\u001b[0m \u001b[1;33m\u001b[0m\u001b[0m\n\u001b[1;32m---> 79\u001b[1;33m         \u001b[0mfinal_tensor_list\u001b[0m \u001b[1;33m=\u001b[0m \u001b[0mself\u001b[0m\u001b[1;33m.\u001b[0m\u001b[0mtensor_concat\u001b[0m\u001b[1;33m(\u001b[0m\u001b[0mtyphoon_features\u001b[0m\u001b[1;33m,\u001b[0m\u001b[0mtyphoon_images\u001b[0m\u001b[1;33m,\u001b[0m \u001b[0mbatch\u001b[0m\u001b[1;33m)\u001b[0m\u001b[1;33m\u001b[0m\u001b[1;33m\u001b[0m\u001b[0m\n\u001b[0m\u001b[0;32m     80\u001b[0m \u001b[1;33m\u001b[0m\u001b[0m\n\u001b[0;32m     81\u001b[0m         \u001b[0my\u001b[0m \u001b[1;33m=\u001b[0m \u001b[0my\u001b[0m\u001b[1;33m[\u001b[0m\u001b[1;32mNone\u001b[0m\u001b[1;33m,\u001b[0m\u001b[1;33m:\u001b[0m\u001b[1;33m]\u001b[0m\u001b[1;33m.\u001b[0m\u001b[0mto\u001b[0m\u001b[1;33m(\u001b[0m\u001b[0mdevice\u001b[0m\u001b[1;33m)\u001b[0m\u001b[1;33m\u001b[0m\u001b[1;33m\u001b[0m\u001b[0m\n",
      "\u001b[1;32m~\\AppData\\Local\\Temp/ipykernel_16752/805042508.py\u001b[0m in \u001b[0;36mtensor_concat\u001b[1;34m(self, typhoon_features, typhoon_images, batch)\u001b[0m\n\u001b[0;32m     36\u001b[0m             \u001b[0mimage_feature_model\u001b[0m \u001b[1;33m=\u001b[0m \u001b[1;33m[\u001b[0m\u001b[1;33m]\u001b[0m\u001b[1;33m\u001b[0m\u001b[1;33m\u001b[0m\u001b[0m\n\u001b[0;32m     37\u001b[0m             \u001b[1;32mfor\u001b[0m \u001b[0mi\u001b[0m \u001b[1;32min\u001b[0m \u001b[0mrange\u001b[0m\u001b[1;33m(\u001b[0m\u001b[0mlen\u001b[0m\u001b[1;33m(\u001b[0m\u001b[0mtyphoon_images\u001b[0m\u001b[1;33m[\u001b[0m\u001b[1;36m0\u001b[0m\u001b[1;33m]\u001b[0m\u001b[1;33m)\u001b[0m\u001b[1;33m)\u001b[0m\u001b[1;33m:\u001b[0m\u001b[1;33m\u001b[0m\u001b[1;33m\u001b[0m\u001b[0m\n\u001b[1;32m---> 38\u001b[1;33m                 \u001b[0mimage_Feature\u001b[0m \u001b[1;33m=\u001b[0m \u001b[0mself\u001b[0m\u001b[1;33m.\u001b[0m\u001b[0mResnet\u001b[0m\u001b[1;33m(\u001b[0m\u001b[0mtyphoon_images\u001b[0m\u001b[1;33m[\u001b[0m\u001b[1;36m0\u001b[0m\u001b[1;33m]\u001b[0m\u001b[1;33m[\u001b[0m\u001b[0mi\u001b[0m\u001b[1;33m]\u001b[0m\u001b[1;33m[\u001b[0m\u001b[1;36m0\u001b[0m\u001b[1;33m]\u001b[0m\u001b[1;33m[\u001b[0m\u001b[0mbat\u001b[0m\u001b[1;33m]\u001b[0m\u001b[1;33m.\u001b[0m\u001b[0mto\u001b[0m\u001b[1;33m(\u001b[0m\u001b[0mdevice\u001b[0m\u001b[1;33m)\u001b[0m\u001b[1;33m)\u001b[0m\u001b[1;33m\u001b[0m\u001b[1;33m\u001b[0m\u001b[0m\n\u001b[0m\u001b[0;32m     39\u001b[0m                 \u001b[1;31m# print(\"Individual: \", image_Feature)\u001b[0m\u001b[1;33m\u001b[0m\u001b[1;33m\u001b[0m\u001b[0m\n\u001b[0;32m     40\u001b[0m                 \u001b[0mimage_feature_model\u001b[0m\u001b[1;33m.\u001b[0m\u001b[0mappend\u001b[0m\u001b[1;33m(\u001b[0m\u001b[0mimage_Feature\u001b[0m\u001b[1;33m)\u001b[0m\u001b[1;33m\u001b[0m\u001b[1;33m\u001b[0m\u001b[0m\n",
      "\u001b[1;32m~\\AppData\\Local\\Temp/ipykernel_16752/805042508.py\u001b[0m in \u001b[0;36mResnet\u001b[1;34m(self, image)\u001b[0m\n\u001b[0;32m     23\u001b[0m         \u001b[1;31m# 6. Run the model on our transformed image\u001b[0m\u001b[1;33m\u001b[0m\u001b[1;33m\u001b[0m\u001b[0m\n\u001b[0;32m     24\u001b[0m         \u001b[0mself\u001b[0m\u001b[1;33m.\u001b[0m\u001b[0mmodel_resnet\u001b[0m \u001b[1;33m=\u001b[0m \u001b[0mself\u001b[0m\u001b[1;33m.\u001b[0m\u001b[0mmodel_resnet\u001b[0m\u001b[1;33m.\u001b[0m\u001b[0mto\u001b[0m\u001b[1;33m(\u001b[0m\u001b[0mdevice\u001b[0m\u001b[1;33m)\u001b[0m\u001b[1;33m\u001b[0m\u001b[1;33m\u001b[0m\u001b[0m\n\u001b[1;32m---> 25\u001b[1;33m         \u001b[0mself\u001b[0m\u001b[1;33m.\u001b[0m\u001b[0mmodel_resnet\u001b[0m\u001b[1;33m(\u001b[0m\u001b[0mimage\u001b[0m\u001b[1;33m.\u001b[0m\u001b[0mto\u001b[0m\u001b[1;33m(\u001b[0m\u001b[0mdevice\u001b[0m\u001b[1;33m)\u001b[0m\u001b[1;33m)\u001b[0m\u001b[1;33m\u001b[0m\u001b[1;33m\u001b[0m\u001b[0m\n\u001b[0m\u001b[0;32m     26\u001b[0m         \u001b[1;31m# 7. Detach our copy function from the layer\u001b[0m\u001b[1;33m\u001b[0m\u001b[1;33m\u001b[0m\u001b[0m\n\u001b[0;32m     27\u001b[0m         \u001b[0mh\u001b[0m\u001b[1;33m.\u001b[0m\u001b[0mremove\u001b[0m\u001b[1;33m(\u001b[0m\u001b[1;33m)\u001b[0m\u001b[1;33m\u001b[0m\u001b[1;33m\u001b[0m\u001b[0m\n",
      "\u001b[1;32m~\\anaconda3\\lib\\site-packages\\torch\\nn\\modules\\module.py\u001b[0m in \u001b[0;36m_call_impl\u001b[1;34m(self, *input, **kwargs)\u001b[0m\n\u001b[0;32m   1100\u001b[0m         if not (self._backward_hooks or self._forward_hooks or self._forward_pre_hooks or _global_backward_hooks\n\u001b[0;32m   1101\u001b[0m                 or _global_forward_hooks or _global_forward_pre_hooks):\n\u001b[1;32m-> 1102\u001b[1;33m             \u001b[1;32mreturn\u001b[0m \u001b[0mforward_call\u001b[0m\u001b[1;33m(\u001b[0m\u001b[1;33m*\u001b[0m\u001b[0minput\u001b[0m\u001b[1;33m,\u001b[0m \u001b[1;33m**\u001b[0m\u001b[0mkwargs\u001b[0m\u001b[1;33m)\u001b[0m\u001b[1;33m\u001b[0m\u001b[1;33m\u001b[0m\u001b[0m\n\u001b[0m\u001b[0;32m   1103\u001b[0m         \u001b[1;31m# Do not call functions when jit is used\u001b[0m\u001b[1;33m\u001b[0m\u001b[1;33m\u001b[0m\u001b[0m\n\u001b[0;32m   1104\u001b[0m         \u001b[0mfull_backward_hooks\u001b[0m\u001b[1;33m,\u001b[0m \u001b[0mnon_full_backward_hooks\u001b[0m \u001b[1;33m=\u001b[0m \u001b[1;33m[\u001b[0m\u001b[1;33m]\u001b[0m\u001b[1;33m,\u001b[0m \u001b[1;33m[\u001b[0m\u001b[1;33m]\u001b[0m\u001b[1;33m\u001b[0m\u001b[1;33m\u001b[0m\u001b[0m\n",
      "\u001b[1;32m~\\anaconda3\\lib\\site-packages\\torchvision\\models\\resnet.py\u001b[0m in \u001b[0;36mforward\u001b[1;34m(self, x)\u001b[0m\n\u001b[0;32m    247\u001b[0m \u001b[1;33m\u001b[0m\u001b[0m\n\u001b[0;32m    248\u001b[0m     \u001b[1;32mdef\u001b[0m \u001b[0mforward\u001b[0m\u001b[1;33m(\u001b[0m\u001b[0mself\u001b[0m\u001b[1;33m,\u001b[0m \u001b[0mx\u001b[0m\u001b[1;33m:\u001b[0m \u001b[0mTensor\u001b[0m\u001b[1;33m)\u001b[0m \u001b[1;33m->\u001b[0m \u001b[0mTensor\u001b[0m\u001b[1;33m:\u001b[0m\u001b[1;33m\u001b[0m\u001b[1;33m\u001b[0m\u001b[0m\n\u001b[1;32m--> 249\u001b[1;33m         \u001b[1;32mreturn\u001b[0m \u001b[0mself\u001b[0m\u001b[1;33m.\u001b[0m\u001b[0m_forward_impl\u001b[0m\u001b[1;33m(\u001b[0m\u001b[0mx\u001b[0m\u001b[1;33m)\u001b[0m\u001b[1;33m\u001b[0m\u001b[1;33m\u001b[0m\u001b[0m\n\u001b[0m\u001b[0;32m    250\u001b[0m \u001b[1;33m\u001b[0m\u001b[0m\n\u001b[0;32m    251\u001b[0m \u001b[1;33m\u001b[0m\u001b[0m\n",
      "\u001b[1;32m~\\anaconda3\\lib\\site-packages\\torchvision\\models\\resnet.py\u001b[0m in \u001b[0;36m_forward_impl\u001b[1;34m(self, x)\u001b[0m\n\u001b[0;32m    238\u001b[0m         \u001b[0mx\u001b[0m \u001b[1;33m=\u001b[0m \u001b[0mself\u001b[0m\u001b[1;33m.\u001b[0m\u001b[0mlayer2\u001b[0m\u001b[1;33m(\u001b[0m\u001b[0mx\u001b[0m\u001b[1;33m)\u001b[0m\u001b[1;33m\u001b[0m\u001b[1;33m\u001b[0m\u001b[0m\n\u001b[0;32m    239\u001b[0m         \u001b[0mx\u001b[0m \u001b[1;33m=\u001b[0m \u001b[0mself\u001b[0m\u001b[1;33m.\u001b[0m\u001b[0mlayer3\u001b[0m\u001b[1;33m(\u001b[0m\u001b[0mx\u001b[0m\u001b[1;33m)\u001b[0m\u001b[1;33m\u001b[0m\u001b[1;33m\u001b[0m\u001b[0m\n\u001b[1;32m--> 240\u001b[1;33m         \u001b[0mx\u001b[0m \u001b[1;33m=\u001b[0m \u001b[0mself\u001b[0m\u001b[1;33m.\u001b[0m\u001b[0mlayer4\u001b[0m\u001b[1;33m(\u001b[0m\u001b[0mx\u001b[0m\u001b[1;33m)\u001b[0m\u001b[1;33m\u001b[0m\u001b[1;33m\u001b[0m\u001b[0m\n\u001b[0m\u001b[0;32m    241\u001b[0m \u001b[1;33m\u001b[0m\u001b[0m\n\u001b[0;32m    242\u001b[0m         \u001b[0mx\u001b[0m \u001b[1;33m=\u001b[0m \u001b[0mself\u001b[0m\u001b[1;33m.\u001b[0m\u001b[0mavgpool\u001b[0m\u001b[1;33m(\u001b[0m\u001b[0mx\u001b[0m\u001b[1;33m)\u001b[0m\u001b[1;33m\u001b[0m\u001b[1;33m\u001b[0m\u001b[0m\n",
      "\u001b[1;32m~\\anaconda3\\lib\\site-packages\\torch\\nn\\modules\\module.py\u001b[0m in \u001b[0;36m_call_impl\u001b[1;34m(self, *input, **kwargs)\u001b[0m\n\u001b[0;32m   1100\u001b[0m         if not (self._backward_hooks or self._forward_hooks or self._forward_pre_hooks or _global_backward_hooks\n\u001b[0;32m   1101\u001b[0m                 or _global_forward_hooks or _global_forward_pre_hooks):\n\u001b[1;32m-> 1102\u001b[1;33m             \u001b[1;32mreturn\u001b[0m \u001b[0mforward_call\u001b[0m\u001b[1;33m(\u001b[0m\u001b[1;33m*\u001b[0m\u001b[0minput\u001b[0m\u001b[1;33m,\u001b[0m \u001b[1;33m**\u001b[0m\u001b[0mkwargs\u001b[0m\u001b[1;33m)\u001b[0m\u001b[1;33m\u001b[0m\u001b[1;33m\u001b[0m\u001b[0m\n\u001b[0m\u001b[0;32m   1103\u001b[0m         \u001b[1;31m# Do not call functions when jit is used\u001b[0m\u001b[1;33m\u001b[0m\u001b[1;33m\u001b[0m\u001b[0m\n\u001b[0;32m   1104\u001b[0m         \u001b[0mfull_backward_hooks\u001b[0m\u001b[1;33m,\u001b[0m \u001b[0mnon_full_backward_hooks\u001b[0m \u001b[1;33m=\u001b[0m \u001b[1;33m[\u001b[0m\u001b[1;33m]\u001b[0m\u001b[1;33m,\u001b[0m \u001b[1;33m[\u001b[0m\u001b[1;33m]\u001b[0m\u001b[1;33m\u001b[0m\u001b[1;33m\u001b[0m\u001b[0m\n",
      "\u001b[1;32m~\\anaconda3\\lib\\site-packages\\torch\\nn\\modules\\container.py\u001b[0m in \u001b[0;36mforward\u001b[1;34m(self, input)\u001b[0m\n\u001b[0;32m    139\u001b[0m     \u001b[1;32mdef\u001b[0m \u001b[0mforward\u001b[0m\u001b[1;33m(\u001b[0m\u001b[0mself\u001b[0m\u001b[1;33m,\u001b[0m \u001b[0minput\u001b[0m\u001b[1;33m)\u001b[0m\u001b[1;33m:\u001b[0m\u001b[1;33m\u001b[0m\u001b[1;33m\u001b[0m\u001b[0m\n\u001b[0;32m    140\u001b[0m         \u001b[1;32mfor\u001b[0m \u001b[0mmodule\u001b[0m \u001b[1;32min\u001b[0m \u001b[0mself\u001b[0m\u001b[1;33m:\u001b[0m\u001b[1;33m\u001b[0m\u001b[1;33m\u001b[0m\u001b[0m\n\u001b[1;32m--> 141\u001b[1;33m             \u001b[0minput\u001b[0m \u001b[1;33m=\u001b[0m \u001b[0mmodule\u001b[0m\u001b[1;33m(\u001b[0m\u001b[0minput\u001b[0m\u001b[1;33m)\u001b[0m\u001b[1;33m\u001b[0m\u001b[1;33m\u001b[0m\u001b[0m\n\u001b[0m\u001b[0;32m    142\u001b[0m         \u001b[1;32mreturn\u001b[0m \u001b[0minput\u001b[0m\u001b[1;33m\u001b[0m\u001b[1;33m\u001b[0m\u001b[0m\n\u001b[0;32m    143\u001b[0m \u001b[1;33m\u001b[0m\u001b[0m\n",
      "\u001b[1;32m~\\anaconda3\\lib\\site-packages\\torch\\nn\\modules\\module.py\u001b[0m in \u001b[0;36m_call_impl\u001b[1;34m(self, *input, **kwargs)\u001b[0m\n\u001b[0;32m   1100\u001b[0m         if not (self._backward_hooks or self._forward_hooks or self._forward_pre_hooks or _global_backward_hooks\n\u001b[0;32m   1101\u001b[0m                 or _global_forward_hooks or _global_forward_pre_hooks):\n\u001b[1;32m-> 1102\u001b[1;33m             \u001b[1;32mreturn\u001b[0m \u001b[0mforward_call\u001b[0m\u001b[1;33m(\u001b[0m\u001b[1;33m*\u001b[0m\u001b[0minput\u001b[0m\u001b[1;33m,\u001b[0m \u001b[1;33m**\u001b[0m\u001b[0mkwargs\u001b[0m\u001b[1;33m)\u001b[0m\u001b[1;33m\u001b[0m\u001b[1;33m\u001b[0m\u001b[0m\n\u001b[0m\u001b[0;32m   1103\u001b[0m         \u001b[1;31m# Do not call functions when jit is used\u001b[0m\u001b[1;33m\u001b[0m\u001b[1;33m\u001b[0m\u001b[0m\n\u001b[0;32m   1104\u001b[0m         \u001b[0mfull_backward_hooks\u001b[0m\u001b[1;33m,\u001b[0m \u001b[0mnon_full_backward_hooks\u001b[0m \u001b[1;33m=\u001b[0m \u001b[1;33m[\u001b[0m\u001b[1;33m]\u001b[0m\u001b[1;33m,\u001b[0m \u001b[1;33m[\u001b[0m\u001b[1;33m]\u001b[0m\u001b[1;33m\u001b[0m\u001b[1;33m\u001b[0m\u001b[0m\n",
      "\u001b[1;32m~\\anaconda3\\lib\\site-packages\\torchvision\\models\\resnet.py\u001b[0m in \u001b[0;36mforward\u001b[1;34m(self, x)\u001b[0m\n\u001b[0;32m     72\u001b[0m         \u001b[0mout\u001b[0m \u001b[1;33m=\u001b[0m \u001b[0mself\u001b[0m\u001b[1;33m.\u001b[0m\u001b[0mrelu\u001b[0m\u001b[1;33m(\u001b[0m\u001b[0mout\u001b[0m\u001b[1;33m)\u001b[0m\u001b[1;33m\u001b[0m\u001b[1;33m\u001b[0m\u001b[0m\n\u001b[0;32m     73\u001b[0m \u001b[1;33m\u001b[0m\u001b[0m\n\u001b[1;32m---> 74\u001b[1;33m         \u001b[0mout\u001b[0m \u001b[1;33m=\u001b[0m \u001b[0mself\u001b[0m\u001b[1;33m.\u001b[0m\u001b[0mconv2\u001b[0m\u001b[1;33m(\u001b[0m\u001b[0mout\u001b[0m\u001b[1;33m)\u001b[0m\u001b[1;33m\u001b[0m\u001b[1;33m\u001b[0m\u001b[0m\n\u001b[0m\u001b[0;32m     75\u001b[0m         \u001b[0mout\u001b[0m \u001b[1;33m=\u001b[0m \u001b[0mself\u001b[0m\u001b[1;33m.\u001b[0m\u001b[0mbn2\u001b[0m\u001b[1;33m(\u001b[0m\u001b[0mout\u001b[0m\u001b[1;33m)\u001b[0m\u001b[1;33m\u001b[0m\u001b[1;33m\u001b[0m\u001b[0m\n\u001b[0;32m     76\u001b[0m \u001b[1;33m\u001b[0m\u001b[0m\n",
      "\u001b[1;32m~\\anaconda3\\lib\\site-packages\\torch\\nn\\modules\\module.py\u001b[0m in \u001b[0;36m_call_impl\u001b[1;34m(self, *input, **kwargs)\u001b[0m\n\u001b[0;32m   1100\u001b[0m         if not (self._backward_hooks or self._forward_hooks or self._forward_pre_hooks or _global_backward_hooks\n\u001b[0;32m   1101\u001b[0m                 or _global_forward_hooks or _global_forward_pre_hooks):\n\u001b[1;32m-> 1102\u001b[1;33m             \u001b[1;32mreturn\u001b[0m \u001b[0mforward_call\u001b[0m\u001b[1;33m(\u001b[0m\u001b[1;33m*\u001b[0m\u001b[0minput\u001b[0m\u001b[1;33m,\u001b[0m \u001b[1;33m**\u001b[0m\u001b[0mkwargs\u001b[0m\u001b[1;33m)\u001b[0m\u001b[1;33m\u001b[0m\u001b[1;33m\u001b[0m\u001b[0m\n\u001b[0m\u001b[0;32m   1103\u001b[0m         \u001b[1;31m# Do not call functions when jit is used\u001b[0m\u001b[1;33m\u001b[0m\u001b[1;33m\u001b[0m\u001b[0m\n\u001b[0;32m   1104\u001b[0m         \u001b[0mfull_backward_hooks\u001b[0m\u001b[1;33m,\u001b[0m \u001b[0mnon_full_backward_hooks\u001b[0m \u001b[1;33m=\u001b[0m \u001b[1;33m[\u001b[0m\u001b[1;33m]\u001b[0m\u001b[1;33m,\u001b[0m \u001b[1;33m[\u001b[0m\u001b[1;33m]\u001b[0m\u001b[1;33m\u001b[0m\u001b[1;33m\u001b[0m\u001b[0m\n",
      "\u001b[1;32m~\\anaconda3\\lib\\site-packages\\torch\\nn\\modules\\conv.py\u001b[0m in \u001b[0;36mforward\u001b[1;34m(self, input)\u001b[0m\n\u001b[0;32m    444\u001b[0m \u001b[1;33m\u001b[0m\u001b[0m\n\u001b[0;32m    445\u001b[0m     \u001b[1;32mdef\u001b[0m \u001b[0mforward\u001b[0m\u001b[1;33m(\u001b[0m\u001b[0mself\u001b[0m\u001b[1;33m,\u001b[0m \u001b[0minput\u001b[0m\u001b[1;33m:\u001b[0m \u001b[0mTensor\u001b[0m\u001b[1;33m)\u001b[0m \u001b[1;33m->\u001b[0m \u001b[0mTensor\u001b[0m\u001b[1;33m:\u001b[0m\u001b[1;33m\u001b[0m\u001b[1;33m\u001b[0m\u001b[0m\n\u001b[1;32m--> 446\u001b[1;33m         \u001b[1;32mreturn\u001b[0m \u001b[0mself\u001b[0m\u001b[1;33m.\u001b[0m\u001b[0m_conv_forward\u001b[0m\u001b[1;33m(\u001b[0m\u001b[0minput\u001b[0m\u001b[1;33m,\u001b[0m \u001b[0mself\u001b[0m\u001b[1;33m.\u001b[0m\u001b[0mweight\u001b[0m\u001b[1;33m,\u001b[0m \u001b[0mself\u001b[0m\u001b[1;33m.\u001b[0m\u001b[0mbias\u001b[0m\u001b[1;33m)\u001b[0m\u001b[1;33m\u001b[0m\u001b[1;33m\u001b[0m\u001b[0m\n\u001b[0m\u001b[0;32m    447\u001b[0m \u001b[1;33m\u001b[0m\u001b[0m\n\u001b[0;32m    448\u001b[0m \u001b[1;32mclass\u001b[0m \u001b[0mConv3d\u001b[0m\u001b[1;33m(\u001b[0m\u001b[0m_ConvNd\u001b[0m\u001b[1;33m)\u001b[0m\u001b[1;33m:\u001b[0m\u001b[1;33m\u001b[0m\u001b[1;33m\u001b[0m\u001b[0m\n",
      "\u001b[1;32m~\\anaconda3\\lib\\site-packages\\torch\\nn\\modules\\conv.py\u001b[0m in \u001b[0;36m_conv_forward\u001b[1;34m(self, input, weight, bias)\u001b[0m\n\u001b[0;32m    440\u001b[0m                             \u001b[0mweight\u001b[0m\u001b[1;33m,\u001b[0m \u001b[0mbias\u001b[0m\u001b[1;33m,\u001b[0m \u001b[0mself\u001b[0m\u001b[1;33m.\u001b[0m\u001b[0mstride\u001b[0m\u001b[1;33m,\u001b[0m\u001b[1;33m\u001b[0m\u001b[1;33m\u001b[0m\u001b[0m\n\u001b[0;32m    441\u001b[0m                             _pair(0), self.dilation, self.groups)\n\u001b[1;32m--> 442\u001b[1;33m         return F.conv2d(input, weight, bias, self.stride,\n\u001b[0m\u001b[0;32m    443\u001b[0m                         self.padding, self.dilation, self.groups)\n\u001b[0;32m    444\u001b[0m \u001b[1;33m\u001b[0m\u001b[0m\n",
      "\u001b[1;31mKeyboardInterrupt\u001b[0m: "
     ]
    }
   ],
   "source": [
    "import torch.optim as optim\n",
    "from torch.utils.data import TensorDataset, DataLoader\n",
    "\n",
    "input_dim_met = 17\n",
    "output_dim_met = 512\n",
    "input_dim_image = 512 \n",
    "output_dim = 1\n",
    "layer_dim = 1\n",
    "dropout = 0\n",
    "n_epochs = 50\n",
    "learning_rate = 1e-4\n",
    "weight_decay = 1e-6\n",
    "\n",
    "batch_size = [16]\n",
    "hidden_dim = [128]\n",
    "learning_rate = [0.001]\n",
    "    \n",
    "for batch in batch_size:\n",
    "    for hd in hidden_dim:\n",
    "        for lr in learning_rate:\n",
    "            print(\"Batch: \", batch, \" \", \" Hidden dim: \", hd, \" \", \"Learning rate: \", lr)\n",
    "            # shuffle = true\n",
    "            \n",
    "            train_loader = DataLoader(train_set_lstm, batch_size=batch, shuffle=True, drop_last=True)\n",
    "            val_loader = DataLoader(val_set_lstm, batch_size=batch, shuffle=True, drop_last=True)\n",
    "            test_loader = DataLoader(test_set_lstm, batch_size=batch, shuffle=True, drop_last=True)\n",
    "            \n",
    "            MANGKHUT_loader = DataLoader(MANGKHUT_set_lstm_lat, batch_size=batch, shuffle=False, drop_last=True)\n",
    "            KONGREY_loader = DataLoader(KONGREY_set_lstm_lat, batch_size=batch, shuffle=False, drop_last=True)\n",
    "            YUTU_loader = DataLoader(YUTU_set_lstm_lat, batch_size=batch, shuffle=False, drop_last=True)\n",
    "            WUTIP_loader = DataLoader(WUTIP_set_lstm_lat, batch_size=batch, shuffle=False, drop_last=True)\n",
    "            \n",
    "\n",
    "            model_params = {'input_dim_met': input_dim_met,\n",
    "                            'output_dim_met': output_dim_met,\n",
    "                            'input_dim_image': input_dim_image,\n",
    "                            'hidden_dim' : hd,\n",
    "                            'layer_dim' : layer_dim,\n",
    "                            'output_dim' : output_dim,\n",
    "                            'dropout_prob' : dropout }\n",
    "\n",
    "            model = get_model('lstm', model_params).to(device)\n",
    "            Resnet_model = models.resnet18(pretrained=True).to(device)\n",
    "            \n",
    "            loss_fn = nn.MSELoss(reduction=\"mean\")\n",
    "            optimizer = optim.Adam([{\"params\": Resnet_model.parameters(), \"params\": model.parameters()}], lr=lr, weight_decay=weight_decay)\n",
    "            opt_lat = Optimization_Lat(model=model.to(device), loss_fn=loss_fn, optimizer=optimizer,resnet_model=Resnet_model.to(device))\n",
    "            opt_lat.train(train_loader, val_loader, batch, n_epochs)\n",
    "            \n",
    "            predictions, values = opt_lat.evaluate(test_loader, batch, input_dim_met)\n",
    "            predictions_MANGKHUT, values_MANGKHUT = opt_lat.evaluate(MANGKHUT_loader, batch, input_dim_met)\n",
    "            predictions_KONGREY, values_KONGREY = opt_lat.evaluate(KONGREY_loader, batch, input_dim_met)\n",
    "            predictions_YUTU, values_YUTU = opt_lat.evaluate(YUTU_loader, batch, input_dim_met)\n",
    "            predictions_WUTIP, values_WUTIP = opt_lat.evaluate(WUTIP_loader, batch, input_dim_met)\n",
    "            \n",
    "            opt_lat.plot_losses()"
   ]
  },
  {
   "cell_type": "code",
   "execution_count": 137,
   "id": "545ef55a-462a-40aa-a46c-6a357c37f051",
   "metadata": {},
   "outputs": [],
   "source": [
    "train_loader = DataLoader(train_set_lstm, batch_size=16, shuffle=True, drop_last=True)\n",
    "val_loader = DataLoader(val_set_lstm, batch_size=16, shuffle=True, drop_last=True)\n",
    "test_loader = DataLoader(test_set_lstm, batch_size=16, shuffle=True, drop_last=True)\n",
    "\n",
    "MANGKHUT_loader = DataLoader(MANGKHUT_set_lstm_lat, batch_size=16, shuffle=False, drop_last=True)\n",
    "KONGREY_loader = DataLoader(KONGREY_set_lstm_lat, batch_size=16, shuffle=False, drop_last=True)\n",
    "YUTU_loader = DataLoader(YUTU_set_lstm_lat, batch_size=16, shuffle=False, drop_last=True)\n",
    "WUTIP_loader = DataLoader(WUTIP_set_lstm_lat, batch_size=16, shuffle=False, drop_last=True)"
   ]
  },
  {
   "cell_type": "code",
   "execution_count": 138,
   "id": "117544ed-b65e-470c-acdc-80bae2b38902",
   "metadata": {},
   "outputs": [],
   "source": [
    "model_lat = torch.load('model_lat')"
   ]
  },
  {
   "cell_type": "code",
   "execution_count": 139,
   "id": "df4787d8-75b5-495e-ad63-48dc606e1294",
   "metadata": {},
   "outputs": [],
   "source": [
    "loss_fn = nn.MSELoss(reduction=\"mean\")\n",
    "Resnet_model = models.resnet18(pretrained=True).to(device)\n",
    "optimizer = optim.Adam([{\"params\": Resnet_model.parameters(), \"params\": model_lat.parameters()}], lr=0.001, weight_decay=1e-6)\n",
    "opt_lat = Optimization_Lat(model=model_lat, loss_fn=loss_fn, optimizer=optimizer,resnet_model=Resnet_model.to(device))"
   ]
  },
  {
   "cell_type": "code",
   "execution_count": 140,
   "id": "f8e8d601-876d-43f6-b9f1-3f420612d15b",
   "metadata": {},
   "outputs": [],
   "source": [
    "predictions, values = opt_lat.evaluate(test_loader, 16, 17)"
   ]
  },
  {
   "cell_type": "code",
   "execution_count": 141,
   "id": "19dfa20f-9859-4139-9ad2-91285191ef56",
   "metadata": {},
   "outputs": [
    {
     "data": {
      "text/plain": [
       "179"
      ]
     },
     "execution_count": 141,
     "metadata": {},
     "output_type": "execute_result"
    }
   ],
   "source": [
    "len(predictions)"
   ]
  },
  {
   "cell_type": "code",
   "execution_count": 142,
   "id": "b8023e28-a5f3-48e4-bce6-9625e578d326",
   "metadata": {},
   "outputs": [
    {
     "data": {
      "text/plain": [
       "179"
      ]
     },
     "execution_count": 142,
     "metadata": {},
     "output_type": "execute_result"
    }
   ],
   "source": [
    "len(values)"
   ]
  },
  {
   "cell_type": "code",
   "execution_count": 143,
   "id": "c02fc26f-638f-413c-a67b-45ccf76de551",
   "metadata": {},
   "outputs": [],
   "source": [
    "vals = np.concatenate(values, axis=0).ravel()\n",
    "preds = np.concatenate(predictions, axis=0).ravel()"
   ]
  },
  {
   "cell_type": "code",
   "execution_count": 144,
   "id": "613a78e1-ee83-4ede-8fca-c2ed6f92b8ef",
   "metadata": {},
   "outputs": [
    {
     "data": {
      "text/plain": [
       "(2864,)"
      ]
     },
     "execution_count": 144,
     "metadata": {},
     "output_type": "execute_result"
    }
   ],
   "source": [
    "vals.shape"
   ]
  },
  {
   "cell_type": "code",
   "execution_count": 145,
   "id": "a0744ebc-66f2-499e-a9e4-931ce8f8bd99",
   "metadata": {},
   "outputs": [],
   "source": [
    "for i in range(len(vals)):\n",
    "    vals[i] = scaler_lat.inverse_transform(vals[i].reshape(1, -1))"
   ]
  },
  {
   "cell_type": "code",
   "execution_count": 146,
   "id": "eac314ed-08f1-4f45-ab33-40e4284ca0b1",
   "metadata": {},
   "outputs": [
    {
     "data": {
      "text/plain": [
       "(2864,)"
      ]
     },
     "execution_count": 146,
     "metadata": {},
     "output_type": "execute_result"
    }
   ],
   "source": [
    "preds.shape"
   ]
  },
  {
   "cell_type": "code",
   "execution_count": 147,
   "id": "cb38e413-9b96-4ad5-8b55-f35fbd221324",
   "metadata": {},
   "outputs": [],
   "source": [
    "for i in range(len(preds)):\n",
    "    preds[i] = scaler_lat.inverse_transform(preds[i].reshape(1, -1))"
   ]
  },
  {
   "cell_type": "code",
   "execution_count": 148,
   "id": "49519689-8010-4f96-9bc3-c64a79a921e2",
   "metadata": {},
   "outputs": [
    {
     "data": {
      "text/plain": [
       "(2864,)"
      ]
     },
     "execution_count": 148,
     "metadata": {},
     "output_type": "execute_result"
    }
   ],
   "source": [
    "vals.shape"
   ]
  },
  {
   "cell_type": "code",
   "execution_count": 149,
   "id": "9a27e91b-5658-45c4-8885-6a8569cc4fa6",
   "metadata": {},
   "outputs": [
    {
     "data": {
      "text/plain": [
       "(2864,)"
      ]
     },
     "execution_count": 149,
     "metadata": {},
     "output_type": "execute_result"
    }
   ],
   "source": [
    "preds.shape"
   ]
  },
  {
   "cell_type": "code",
   "execution_count": 150,
   "id": "db5548f7-bf08-4f6d-8d36-407a3088a2f3",
   "metadata": {},
   "outputs": [],
   "source": [
    "from sklearn.metrics import mean_squared_error\n",
    "import math"
   ]
  },
  {
   "cell_type": "code",
   "execution_count": 151,
   "id": "95988950-6531-49e2-877a-cb51f3c59cb0",
   "metadata": {},
   "outputs": [
    {
     "name": "stdout",
     "output_type": "stream",
     "text": [
      "0.07704407\n",
      "0.2775681353595875\n"
     ]
    }
   ],
   "source": [
    "print(mean_squared_error(vals, preds))\n",
    "print(math.sqrt(mean_squared_error(vals, preds)))"
   ]
  },
  {
   "cell_type": "code",
   "execution_count": 152,
   "id": "976358b6-519f-4de5-83bd-9f9517951f2f",
   "metadata": {},
   "outputs": [],
   "source": [
    "%store -r vals_from_long"
   ]
  },
  {
   "cell_type": "code",
   "execution_count": 153,
   "id": "1b19770e-7f48-4d63-b6ff-4a8f19cea92b",
   "metadata": {},
   "outputs": [
    {
     "data": {
      "text/plain": [
       "array([126.299995, 130.6     , 124.76501 , ..., 126.299995, 142.67    ,\n",
       "       142.087   ], dtype=float32)"
      ]
     },
     "execution_count": 153,
     "metadata": {},
     "output_type": "execute_result"
    }
   ],
   "source": [
    "vals_from_long"
   ]
  },
  {
   "cell_type": "code",
   "execution_count": 154,
   "id": "14212905-e58a-4c3d-a11a-a112d3e0ab7c",
   "metadata": {},
   "outputs": [],
   "source": [
    "%store -r preds_from_long"
   ]
  },
  {
   "cell_type": "code",
   "execution_count": 155,
   "id": "faeaa3ed-d87b-42fc-905d-42ca21cf8bc7",
   "metadata": {},
   "outputs": [],
   "source": [
    "vals_from_long = vals_from_long[:,None]"
   ]
  },
  {
   "cell_type": "code",
   "execution_count": 156,
   "id": "39938147-c3d9-47b1-aa0d-0b8ec5381b87",
   "metadata": {},
   "outputs": [],
   "source": [
    "preds_from_long = preds_from_long[:,None]"
   ]
  },
  {
   "cell_type": "code",
   "execution_count": 157,
   "id": "3032c18e-e959-4aba-9726-7d6ebe1ffe50",
   "metadata": {},
   "outputs": [],
   "source": [
    "preds = preds[:,None]"
   ]
  },
  {
   "cell_type": "code",
   "execution_count": 158,
   "id": "eb8f2906-93b5-46c3-8b13-924520845dde",
   "metadata": {},
   "outputs": [],
   "source": [
    "vals = vals[:,None]"
   ]
  },
  {
   "cell_type": "code",
   "execution_count": 159,
   "id": "986da00f-8f59-4d43-9d01-25d007108bb8",
   "metadata": {},
   "outputs": [],
   "source": [
    "pred_2 = np.concatenate((preds, preds_from_long), axis=1)"
   ]
  },
  {
   "cell_type": "code",
   "execution_count": 160,
   "id": "f9e46942-6158-446d-ad3b-c4d3aa44b01d",
   "metadata": {},
   "outputs": [],
   "source": [
    "true_2 = np.concatenate((vals, vals_from_long), axis=1)"
   ]
  },
  {
   "cell_type": "code",
   "execution_count": 161,
   "id": "2ed12809-56f3-4970-853b-f346796cd5ad",
   "metadata": {},
   "outputs": [
    {
     "name": "stdout",
     "output_type": "stream",
     "text": [
      "0.6422717398828136\n"
     ]
    }
   ],
   "source": [
    "print(math.sqrt(mean_squared_error(true_2, pred_2)))"
   ]
  },
  {
   "cell_type": "markdown",
   "id": "98fc3d5c-3d3d-42ae-865d-e0004762bd61",
   "metadata": {},
   "source": [
    "### latitude testing"
   ]
  },
  {
   "cell_type": "code",
   "execution_count": 162,
   "id": "696cc9eb-a2f3-4f3c-be24-af42da1f1742",
   "metadata": {},
   "outputs": [],
   "source": [
    "predictions, values = opt_lat.evaluate(test_loader, 16, 17)\n",
    "predictions_MANGKHUT, values_MANGKHUT = opt_lat.evaluate(MANGKHUT_loader, 16, 17)\n",
    "predictions_KONGREY, values_KONGREY = opt_lat.evaluate(KONGREY_loader, 16, 17)\n",
    "predictions_YUTU, values_YUTU = opt_lat.evaluate(YUTU_loader, 16, 17)\n",
    "predictions_WUTIP, values_WUTIP = opt_lat.evaluate(WUTIP_loader, 16, 17)"
   ]
  },
  {
   "cell_type": "code",
   "execution_count": 163,
   "id": "52f7b90a-3b82-4ce2-8ce4-787137060536",
   "metadata": {},
   "outputs": [],
   "source": [
    "def latitude_outcome(value, pred):\n",
    "    vals_MANGKHUT = np.concatenate(value, axis=0).ravel()\n",
    "    preds_MANGKHUT = np.concatenate(pred, axis=0).ravel()\n",
    "    for i in range(len(vals_MANGKHUT)):\n",
    "        vals_MANGKHUT[i] = scaler_lat.inverse_transform(vals_MANGKHUT[i].reshape(1, -1))\n",
    "    for i in range(len(preds_MANGKHUT)):\n",
    "        preds_MANGKHUT[i] = scaler_lat.inverse_transform(preds_MANGKHUT[i].reshape(1, -1))\n",
    "    return vals_MANGKHUT,preds_MANGKHUT"
   ]
  },
  {
   "cell_type": "code",
   "execution_count": 164,
   "id": "dd86900d-fde5-47d0-a2f5-ce6655dea317",
   "metadata": {},
   "outputs": [],
   "source": [
    "vals_mang_lat, pred_mang_lat = latitude_outcome(values_MANGKHUT, predictions_MANGKHUT)"
   ]
  },
  {
   "cell_type": "code",
   "execution_count": 165,
   "id": "f8729839-2bd5-4c78-ace7-d8fe040f16a6",
   "metadata": {},
   "outputs": [
    {
     "name": "stdout",
     "output_type": "stream",
     "text": [
      "0.022344563\n",
      "0.1494809792460778\n"
     ]
    }
   ],
   "source": [
    "print(mean_squared_error(vals_mang_lat, pred_mang_lat))\n",
    "print(math.sqrt(mean_squared_error(vals_mang_lat, pred_mang_lat)))"
   ]
  },
  {
   "cell_type": "code",
   "execution_count": 166,
   "id": "0ef20c2e-b2a2-426f-9de2-2c060aa944d6",
   "metadata": {},
   "outputs": [],
   "source": [
    "vals_kong_lat, pred_kong_lat = latitude_outcome(values_KONGREY, predictions_KONGREY)"
   ]
  },
  {
   "cell_type": "code",
   "execution_count": 167,
   "id": "74a4e4b3-4d8d-4e55-8aea-9c225d42e34f",
   "metadata": {},
   "outputs": [
    {
     "name": "stdout",
     "output_type": "stream",
     "text": [
      "0.07382105\n",
      "0.27170029979537635\n"
     ]
    }
   ],
   "source": [
    "print(mean_squared_error(vals_kong_lat, pred_kong_lat))\n",
    "print(math.sqrt(mean_squared_error(vals_kong_lat, pred_kong_lat)))"
   ]
  },
  {
   "cell_type": "code",
   "execution_count": 168,
   "id": "b70ca4eb-0fd1-4fa5-8599-53e7f5e61aac",
   "metadata": {},
   "outputs": [],
   "source": [
    "vals_yutu_lat, pred_yutu_lat = latitude_outcome(values_YUTU, predictions_YUTU)"
   ]
  },
  {
   "cell_type": "code",
   "execution_count": 169,
   "id": "dee314b6-621f-46ec-be2d-498367fba0d7",
   "metadata": {},
   "outputs": [
    {
     "name": "stdout",
     "output_type": "stream",
     "text": [
      "0.030541042\n",
      "0.17475995498381447\n"
     ]
    }
   ],
   "source": [
    "print(mean_squared_error(vals_yutu_lat, pred_yutu_lat))\n",
    "print(math.sqrt(mean_squared_error(vals_yutu_lat, pred_yutu_lat)))"
   ]
  },
  {
   "cell_type": "code",
   "execution_count": 170,
   "id": "e3e61ffe-57f4-4ab6-818f-45526da8a3bb",
   "metadata": {},
   "outputs": [],
   "source": [
    "vals_wutip_lat, pred_wutip_lat = latitude_outcome(values_WUTIP, predictions_WUTIP)"
   ]
  },
  {
   "cell_type": "code",
   "execution_count": 171,
   "id": "c7252983-51a9-4a33-8716-43b683dec69b",
   "metadata": {},
   "outputs": [
    {
     "name": "stdout",
     "output_type": "stream",
     "text": [
      "0.040665068\n",
      "0.20165581502236463\n"
     ]
    }
   ],
   "source": [
    "print(mean_squared_error(vals_wutip_lat, pred_wutip_lat))\n",
    "print(math.sqrt(mean_squared_error(vals_wutip_lat, pred_wutip_lat)))"
   ]
  },
  {
   "cell_type": "code",
   "execution_count": 200,
   "id": "127d7344-2b82-4828-ab07-80bc32447780",
   "metadata": {},
   "outputs": [],
   "source": [
    "%store -r vals_mang_long\n",
    "%store -r pred_mang_long\n",
    "actual_long_mang = vals_mang_long\n",
    "pred_long_mang = pred_mang_long\n",
    "pred_lat_mang = pred_mang_lat\n",
    "actual_lat_mang = vals_mang_lat"
   ]
  },
  {
   "cell_type": "code",
   "execution_count": 201,
   "id": "479fd332-568f-4e50-ab42-ee6b01b67ab0",
   "metadata": {},
   "outputs": [],
   "source": [
    "pred_long_mang = pred_long_mang[:,None]\n",
    "actual_long_mang = actual_long_mang[:,None]\n",
    "pred_lat_mang = pred_lat_mang[:,None]\n",
    "actual_lat_mang = actual_lat_mang[:,None]"
   ]
  },
  {
   "cell_type": "code",
   "execution_count": 202,
   "id": "9770cd02-7844-4e2d-803b-0f432d36d122",
   "metadata": {},
   "outputs": [],
   "source": [
    "pred_mang = np.concatenate((pred_lat_mang, pred_long_mang), axis=1)"
   ]
  },
  {
   "cell_type": "code",
   "execution_count": 203,
   "id": "f06f9408-4b57-4bf5-96bc-3b7724765e3f",
   "metadata": {},
   "outputs": [],
   "source": [
    "true_mang = np.concatenate((actual_lat_mang, actual_long_mang), axis=1)"
   ]
  },
  {
   "cell_type": "code",
   "execution_count": 204,
   "id": "d4b63b0b-ec31-4e9d-a611-05e3850e460c",
   "metadata": {},
   "outputs": [
    {
     "name": "stdout",
     "output_type": "stream",
     "text": [
      "0.25085374966625207\n"
     ]
    }
   ],
   "source": [
    "print(math.sqrt(mean_squared_error(true_mang, pred_mang)))"
   ]
  },
  {
   "cell_type": "code",
   "execution_count": 173,
   "id": "b1c2e85c-c0ea-430c-8cdc-83ef7deff925",
   "metadata": {},
   "outputs": [],
   "source": [
    "import os\n",
    "os.environ['PROJ_LIB'] = r'C:\\ProgramData\\Anaconda3\\pkgs\\proj4-5.2.0-h6538335_1006\\Library\\share'\n",
    "from mpl_toolkits.basemap import Basemap\n",
    "import matplotlib.pyplot as plt\n",
    "import numpy as np\n",
    "import matplotlib.path as mpath"
   ]
  },
  {
   "cell_type": "code",
   "execution_count": 174,
   "id": "cc08ead5-1963-481b-8345-30663264ed4b",
   "metadata": {},
   "outputs": [],
   "source": [
    "def get_hurricane():\n",
    "    u = np.array([  [2.444,7.553],\n",
    "                    [0.513,7.046],\n",
    "                    [-1.243,5.433],\n",
    "                    [-2.353,2.975],\n",
    "                    [-2.578,0.092],\n",
    "                    [-2.075,-1.795],\n",
    "                    [-0.336,-2.870],\n",
    "                    [2.609,-2.016]  ])\n",
    "    u[:,0] -= 0.098\n",
    "    codes = [1] + [2]*(len(u)-2) + [2] \n",
    "    u = np.append(u, -u[::-1], axis=0)\n",
    "    codes += codes\n",
    "\n",
    "    return mpath.Path(3*u, codes, closed=False)"
   ]
  },
  {
   "cell_type": "code",
   "execution_count": 175,
   "id": "f5dde3dd-dc0e-4191-aeb5-b82107823013",
   "metadata": {},
   "outputs": [],
   "source": [
    "hurricane = get_hurricane()"
   ]
  },
  {
   "cell_type": "code",
   "execution_count": 176,
   "id": "088c5c03-2d8d-49c7-a385-98adf3aa1350",
   "metadata": {},
   "outputs": [
    {
     "data": {
      "text/plain": [
       "80"
      ]
     },
     "execution_count": 176,
     "metadata": {},
     "output_type": "execute_result"
    }
   ],
   "source": [
    "len(pred_long_mang)"
   ]
  },
  {
   "cell_type": "code",
   "execution_count": 177,
   "id": "24707339-30eb-4c32-9737-0a607de975e3",
   "metadata": {
    "tags": []
   },
   "outputs": [
    {
     "data": {
      "image/png": "[encoded data removed]",
      "text/plain": [
       "<Figure size 1440x720 with 1 Axes>"
      ]
     },
     "metadata": {},
     "output_type": "display_data"
    }
   ],
   "source": [
    "plt.figure(figsize=(20,10))\n",
    "m = Basemap(projection='mill', llcrnrlat = 0, urcrnrlat = 30, llcrnrlon = 90, urcrnrlon =175, resolution = 'c')\n",
    "m.drawcoastlines()\n",
    "m.drawparallels(np.arange(-90,90,10), labels=[True,False,False,False])\n",
    "m.drawmeridians(np.arange(-180,180,30), labels=[0,0,0,1])\n",
    "\n",
    "m.scatter(pred_long_mang, pred_lat_mang, latlon=True, s=100, c='blue', marker=hurricane, label = 'Louis model predicted track')\n",
    "m.scatter(actual_long_mang, actual_lat_mang, latlon=True, s=100, c='red', marker=hurricane, label = 'Actual Mangkhurt Track')\n",
    "m.scatter(114.1694, 22.3193,latlon=True, s=200, c='orange', marker='o', label = 'Hong Kong' )\n",
    "plt.title('Typhoon track prediction (2018 Mangkhurt)' , fontsize=20)\n",
    "plt.legend(prop={'size': 20})\n",
    "plt.savefig(\"2018_MANGKHURT.png\")\n",
    "plt.show()"
   ]
  },
  {
   "cell_type": "markdown",
   "id": "a24b37d8-6783-434e-906f-e5e71e5b35e9",
   "metadata": {
    "tags": []
   },
   "source": [
    "### KONG"
   ]
  },
  {
   "cell_type": "code",
   "execution_count": 178,
   "id": "08d5a7c3-8078-4d12-a6a1-f326a3b4e6f5",
   "metadata": {},
   "outputs": [],
   "source": [
    "%store -r vals_kong_long\n",
    "%store -r pred_kong_long\n",
    "actual_long_kong = vals_kong_long\n",
    "pred_long_kong = pred_kong_long\n",
    "pred_lat_kong = pred_kong_lat\n",
    "actual_lat_kong = vals_kong_lat"
   ]
  },
  {
   "cell_type": "code",
   "execution_count": 205,
   "id": "4f32abf6-15f6-4077-88ff-be3639ff664e",
   "metadata": {},
   "outputs": [],
   "source": [
    "pred_long_kong = pred_long_kong[:,None]\n",
    "actual_long_kong = actual_long_kong[:,None]\n",
    "pred_lat_kong = pred_lat_kong[:,None]\n",
    "actual_lat_kong = actual_lat_kong[:,None]"
   ]
  },
  {
   "cell_type": "code",
   "execution_count": 206,
   "id": "3e7a179d-8798-407b-9b68-98349ad05750",
   "metadata": {},
   "outputs": [],
   "source": [
    "pred_kong = np.concatenate((pred_lat_kong, pred_long_kong), axis=1)"
   ]
  },
  {
   "cell_type": "code",
   "execution_count": 207,
   "id": "794c7631-5975-4357-b37b-00dd5e1f1034",
   "metadata": {},
   "outputs": [],
   "source": [
    "true_kong = np.concatenate((actual_lat_kong, actual_long_kong), axis=1)"
   ]
  },
  {
   "cell_type": "code",
   "execution_count": 208,
   "id": "4776252d-0064-4fb6-98c0-510bc7f7fd16",
   "metadata": {},
   "outputs": [
    {
     "name": "stdout",
     "output_type": "stream",
     "text": [
      "0.3435380997809005\n"
     ]
    }
   ],
   "source": [
    "print(math.sqrt(mean_squared_error(true_kong, pred_kong)))"
   ]
  },
  {
   "cell_type": "code",
   "execution_count": 179,
   "id": "de605b94-2bbb-4fb2-b441-6a8cbff5488b",
   "metadata": {},
   "outputs": [],
   "source": [
    "hurricane = get_hurricane()"
   ]
  },
  {
   "cell_type": "code",
   "execution_count": 180,
   "id": "1d4ab5d2-22d6-481e-8557-bbfc2ab23f40",
   "metadata": {
    "tags": []
   },
   "outputs": [
    {
     "data": {
      "image/png": "[encoded data removed]",
      "text/plain": [
       "<Figure size 1440x720 with 1 Axes>"
      ]
     },
     "metadata": {},
     "output_type": "display_data"
    }
   ],
   "source": [
    "plt.figure(figsize=(20,10))\n",
    "m = Basemap(projection='mill', llcrnrlat = 0, urcrnrlat = 50, llcrnrlon = 90, urcrnrlon =175, resolution = 'c')\n",
    "m.drawcoastlines()\n",
    "m.drawparallels(np.arange(-90,90,10), labels=[True,False,False,False])\n",
    "m.drawmeridians(np.arange(-180,180,30), labels=[0,0,0,1])\n",
    "\n",
    "m.scatter(pred_long_kong, pred_kong_lat, latlon=True, s=100, c='blue', marker=hurricane, label = 'Louis model predicted track')\n",
    "m.scatter(actual_long_kong, vals_kong_lat, latlon=True, s=100, c='red', marker=hurricane, label = 'Actual KONGREY Track')\n",
    "m.scatter(114.1694, 22.3193,latlon=True, s=200, c='orange', marker='o', label = 'Hong Kong' )\n",
    "plt.title('Typhoon track prediction (2018 KONGREY)' , fontsize=20)\n",
    "plt.legend(prop={'size': 20})\n",
    "plt.savefig(\"2018_KONGREY.png\")\n",
    "plt.show()"
   ]
  },
  {
   "cell_type": "markdown",
   "id": "88713059-e945-4a4f-b1d9-b12bf8ccc758",
   "metadata": {},
   "source": [
    "### YUTU"
   ]
  },
  {
   "cell_type": "code",
   "execution_count": 209,
   "id": "4aa79721-0ae0-4d5b-83bf-7f75c416eeed",
   "metadata": {},
   "outputs": [],
   "source": [
    "%store -r vals_yutu_long\n",
    "%store -r pred_yutu_long\n",
    "actual_long_yutu = vals_yutu_long\n",
    "pred_long_yutu = pred_yutu_long\n",
    "pred_lat_yutu = pred_yutu_lat\n",
    "actual_lat_yutu = vals_yutu_lat"
   ]
  },
  {
   "cell_type": "code",
   "execution_count": 210,
   "id": "0aaa1511-a0c9-4846-820d-d6108ae5e589",
   "metadata": {},
   "outputs": [],
   "source": [
    "pred_long_yutu = pred_long_yutu[:,None]\n",
    "actual_long_yutu = actual_long_yutu[:,None]\n",
    "pred_lat_yutu = pred_lat_yutu[:,None]\n",
    "actual_lat_yutu = actual_lat_yutu[:,None]"
   ]
  },
  {
   "cell_type": "code",
   "execution_count": 211,
   "id": "ec81cf85-f494-4d24-8581-1af340ff0cb5",
   "metadata": {},
   "outputs": [],
   "source": [
    "pred_yutu = np.concatenate((pred_lat_yutu, pred_long_yutu), axis=1)"
   ]
  },
  {
   "cell_type": "code",
   "execution_count": 212,
   "id": "d1897c82-9823-4346-a8af-2ea6e763fbe3",
   "metadata": {},
   "outputs": [],
   "source": [
    "true_yutu = np.concatenate((actual_lat_yutu, actual_long_yutu), axis=1)"
   ]
  },
  {
   "cell_type": "code",
   "execution_count": 214,
   "id": "aeb91036-cd23-45ca-b083-721b8f9a3ac3",
   "metadata": {},
   "outputs": [
    {
     "name": "stdout",
     "output_type": "stream",
     "text": [
      "0.4965086726163998\n"
     ]
    }
   ],
   "source": [
    "print(math.sqrt(mean_squared_error(true_yutu, pred_yutu)))"
   ]
  },
  {
   "cell_type": "code",
   "execution_count": 215,
   "id": "dd8ce97d-2f91-4fb2-a11f-236c4f7e2596",
   "metadata": {},
   "outputs": [],
   "source": [
    "hurricane = get_hurricane()"
   ]
  },
  {
   "cell_type": "code",
   "execution_count": 216,
   "id": "bf8328c1-9b78-41b5-9feb-a0d3836fb682",
   "metadata": {
    "tags": []
   },
   "outputs": [
    {
     "data": {
      "image/png": "[encoded data removed]",
      "text/plain": [
       "<Figure size 1440x720 with 1 Axes>"
      ]
     },
     "metadata": {},
     "output_type": "display_data"
    }
   ],
   "source": [
    "plt.figure(figsize=(20,10))\n",
    "m = Basemap(projection='mill', llcrnrlat = 0, urcrnrlat = 30, llcrnrlon = 90, urcrnrlon =175, resolution = 'c')\n",
    "m.drawcoastlines()\n",
    "m.drawparallels(np.arange(-90,90,10), labels=[True,False,False,False])\n",
    "m.drawmeridians(np.arange(-180,180,30), labels=[0,0,0,1])\n",
    "\n",
    "m.scatter(pred_long_yutu, pred_lat_yutu, latlon=True, s=100, c='blue', marker=hurricane, label = 'Louis model predicted track')\n",
    "m.scatter(actual_long_yutu, actual_lat_yutu, latlon=True, s=100, c='red', marker=hurricane, label = 'Actual YUTU Track')\n",
    "m.scatter(114.1694, 22.3193,latlon=True, s=200, c='orange', marker='o', label = 'Hong Kong' )\n",
    "plt.title('Typhoon track prediction (2018 YUTU)' , fontsize=20)\n",
    "plt.legend(prop={'size': 20})\n",
    "plt.savefig(\"2018_YUTU.png\")\n",
    "plt.show()"
   ]
  },
  {
   "cell_type": "markdown",
   "id": "0f9abd13-b416-42e2-93c7-2fc8df25e1f1",
   "metadata": {
    "tags": []
   },
   "source": [
    "### WUTIP"
   ]
  },
  {
   "cell_type": "code",
   "execution_count": 217,
   "id": "83ff7266-3286-41ea-9109-14081cbed48e",
   "metadata": {},
   "outputs": [],
   "source": [
    "%store -r vals_wutip_long\n",
    "%store -r pred_wutip_long\n",
    "actual_long_wutip = vals_wutip_long\n",
    "pred_long_wutip = pred_wutip_long\n",
    "pred_lat_wutip = pred_wutip_lat\n",
    "actual_lat_wutip = vals_wutip_lat"
   ]
  },
  {
   "cell_type": "code",
   "execution_count": 218,
   "id": "47c1e1bf-f835-4938-a1fa-e0ea6ec6a820",
   "metadata": {},
   "outputs": [],
   "source": [
    "pred_long_wutip = pred_long_wutip[:,None]\n",
    "actual_long_wutip = actual_long_wutip[:,None]\n",
    "pred_lat_wutip = pred_lat_wutip[:,None]\n",
    "actual_lat_wutip = actual_lat_wutip[:,None]"
   ]
  },
  {
   "cell_type": "code",
   "execution_count": 219,
   "id": "a4aa9702-e5f8-424f-b856-53657d445160",
   "metadata": {},
   "outputs": [],
   "source": [
    "pred_wutip = np.concatenate((pred_lat_wutip, pred_long_wutip), axis=1)"
   ]
  },
  {
   "cell_type": "code",
   "execution_count": 220,
   "id": "4e943a84-3007-41c8-8aef-cd277dd6c123",
   "metadata": {},
   "outputs": [],
   "source": [
    "true_wutip = np.concatenate((actual_lat_wutip, actual_long_wutip), axis=1)"
   ]
  },
  {
   "cell_type": "code",
   "execution_count": 221,
   "id": "bc22c907-616f-4a57-a82a-19ae203c1dd4",
   "metadata": {},
   "outputs": [
    {
     "name": "stdout",
     "output_type": "stream",
     "text": [
      "0.34598697711713916\n"
     ]
    }
   ],
   "source": [
    "print(math.sqrt(mean_squared_error(true_wutip, pred_wutip)))"
   ]
  },
  {
   "cell_type": "code",
   "execution_count": 185,
   "id": "44f5ecad-1c95-404e-8e80-428cacfcd03f",
   "metadata": {},
   "outputs": [],
   "source": [
    "hurricane = get_hurricane()"
   ]
  },
  {
   "cell_type": "code",
   "execution_count": 186,
   "id": "ff38aedd-ba3d-4211-88da-c10f7d6bf62f",
   "metadata": {
    "tags": []
   },
   "outputs": [
    {
     "data": {
      "image/png": "[encoded data removed]",
      "text/plain": [
       "<Figure size 1440x720 with 1 Axes>"
      ]
     },
     "metadata": {},
     "output_type": "display_data"
    }
   ],
   "source": [
    "plt.figure(figsize=(20,10))\n",
    "m = Basemap(projection='mill', llcrnrlat = 0, urcrnrlat = 30, llcrnrlon = 90, urcrnrlon =175, resolution = 'c')\n",
    "m.drawcoastlines()\n",
    "m.drawparallels(np.arange(-90,90,10), labels=[True,False,False,False])\n",
    "m.drawmeridians(np.arange(-180,180,30), labels=[0,0,0,1])\n",
    "\n",
    "m.scatter(pred_long_wutip, pred_lat_wutip, latlon=True, s=100, c='blue', marker=hurricane, label = 'Louis model predicted track')\n",
    "m.scatter(actual_long_wutip, actual_lat_wutip, latlon=True, s=100, c='red', marker=hurricane, label = 'Actual WUTIP Track')\n",
    "m.scatter(114.1694, 22.3193,latlon=True, s=200, c='orange', marker='o', label = 'Hong Kong' )\n",
    "plt.title('Typhoon track prediction (2019 WUTIP)' , fontsize=20)\n",
    "plt.legend(prop={'size': 20})\n",
    "plt.savefig(\"2018_WUTIP.png\")\n",
    "plt.show()"
   ]
  },
  {
   "cell_type": "code",
   "execution_count": null,
   "id": "95a35085-ff3a-4ade-811e-57e576dd9d3f",
   "metadata": {},
   "outputs": [],
   "source": []
  },
  {
   "cell_type": "code",
   "execution_count": null,
   "id": "ceadd728-9224-4c6c-9186-12bdb57e7f9b",
   "metadata": {},
   "outputs": [],
   "source": []
  },
  {
   "cell_type": "code",
   "execution_count": null,
   "id": "c2c25f87-cfe8-4f54-b73c-0892e72d61e2",
   "metadata": {},
   "outputs": [],
   "source": []
  },
  {
   "cell_type": "code",
   "execution_count": null,
   "id": "972e3cbd-88cc-4230-a5d2-2817b3162222",
   "metadata": {},
   "outputs": [],
   "source": []
  },
  {
   "cell_type": "code",
   "execution_count": null,
   "id": "d2f96885-e4be-472c-a961-110863c30f94",
   "metadata": {},
   "outputs": [],
   "source": []
  },
  {
   "cell_type": "code",
   "execution_count": null,
   "id": "856bf678-689e-44c8-b237-2e739ac3bbba",
   "metadata": {},
   "outputs": [],
   "source": []
  }
 ],
 "metadata": {
  "kernelspec": {
   "display_name": "Python 3 (ipykernel)",
   "language": "python",
   "name": "python3"
  },
  "language_info": {
   "codemirror_mode": {
    "name": "ipython",
    "version": 3
   },
   "file_extension": ".py",
   "mimetype": "text/x-python",
   "name": "python",
   "nbconvert_exporter": "python",
   "pygments_lexer": "ipython3",
   "version": "3.9.7"
  }
 },
 "nbformat": 4,
 "nbformat_minor": 5
}
