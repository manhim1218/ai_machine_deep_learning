{
 "cells": [
  {
   "cell_type": "code",
   "execution_count": 1,
   "id": "771b2888-6479-4e97-9362-5d71365fd43f",
   "metadata": {},
   "outputs": [],
   "source": [
    "import pandas as pd \n",
    "from selenium import webdriver\n",
    "from selenium.webdriver.common.by import By\n",
    "import matplotlib.pyplot as plt\n",
    "import numpy as np\n",
    "import torch\n",
    "import torch.nn as nn\n",
    "import torch.optim as optim\n",
    "from datetime import datetime\n",
    "from bs4 import BeautifulSoup\n",
    "import requests\n",
    "import re\n",
    "import string\n",
    "from skimage import io, transform\n",
    "import os\n",
    "import torchvision.models as models\n",
    "import torchvision.transforms as transforms\n",
    "from torch.autograd import Variable\n",
    "from PIL import Image"
   ]
  },
  {
   "cell_type": "code",
   "execution_count": 2,
   "id": "7b32ae8f-6735-44ff-ac8b-7dd72cd064bc",
   "metadata": {},
   "outputs": [],
   "source": [
    "n_past = 5\n",
    "n_future = 1"
   ]
  },
  {
   "cell_type": "code",
   "execution_count": 3,
   "id": "df2eb360-30bf-4e3b-80ed-5e756484b2b1",
   "metadata": {},
   "outputs": [
    {
     "data": {
      "text/plain": [
       "True"
      ]
     },
     "execution_count": 3,
     "metadata": {},
     "output_type": "execute_result"
    }
   ],
   "source": [
    "torch.cuda.is_available()"
   ]
  },
  {
   "cell_type": "code",
   "execution_count": 4,
   "id": "8f52f585-602f-4b20-9c9b-dd60a15b4e9f",
   "metadata": {},
   "outputs": [],
   "source": [
    "torch.cuda.set_device(0)\n",
    "device = torch.device('cuda' if torch.cuda.is_available() else 'cpu')"
   ]
  },
  {
   "cell_type": "code",
   "execution_count": 5,
   "id": "e256e305-08d0-445f-b89f-b5b13ff5c812",
   "metadata": {},
   "outputs": [
    {
     "name": "stderr",
     "output_type": "stream",
     "text": [
      "C:\\Users\\Louis\\anaconda3\\lib\\site-packages\\IPython\\core\\interactiveshell.py:3444: DtypeWarning: Columns (1,2,8,9,14,25,131,132,133,161,162) have mixed types.Specify dtype option on import or set low_memory=False.\n",
      "  exec(code_obj, self.user_global_ns, self.user_ns)\n"
     ]
    }
   ],
   "source": [
    "full_WP = pd.read_csv(\"./Full WP dataset.csv\")"
   ]
  },
  {
   "cell_type": "markdown",
   "id": "2a81a07f-4d65-4aa4-bb17-244db88d818c",
   "metadata": {},
   "source": [
    "### Data Preprcoessing"
   ]
  },
  {
   "cell_type": "code",
   "execution_count": 6,
   "id": "160c2c63-f4d8-4535-8bba-7896e88e577b",
   "metadata": {},
   "outputs": [],
   "source": [
    "full_WP = full_WP.iloc[1:]"
   ]
  },
  {
   "cell_type": "code",
   "execution_count": 7,
   "id": "62ac978c-7e33-4ed9-9d86-684005da6f5e",
   "metadata": {},
   "outputs": [],
   "source": [
    "full_WP = full_WP.loc[full_WP['SEASON'].astype(int) >= 2000]"
   ]
  },
  {
   "cell_type": "code",
   "execution_count": 8,
   "id": "be66e773-633b-4e05-ba8c-312d5a6909f3",
   "metadata": {},
   "outputs": [],
   "source": [
    "columns_features = ['ISO_TIME', 'SEASON', 'NAME', 'USA_LAT', 'USA_LON', 'DIST2LAND', 'USA_WIND', 'USA_PRES', 'USA_R34_NE', 'USA_R34_SE', 'USA_R34_SW', 'USA_R34_NW', 'USA_R50_NE', 'USA_R50_SE', 'USA_R50_SW', 'USA_R50_NW', 'USA_R64_NE', 'USA_R64_SE', 'USA_R64_SW', 'USA_R64_NW']"
   ]
  },
  {
   "cell_type": "code",
   "execution_count": 9,
   "id": "0ea64fea-5fc2-4528-9d95-ebae438a212b",
   "metadata": {},
   "outputs": [],
   "source": [
    "full_WP_modify = full_WP[columns_features].copy()"
   ]
  },
  {
   "cell_type": "code",
   "execution_count": 10,
   "id": "606aceb8-b546-48e1-9cd6-a49cf3ae5b07",
   "metadata": {},
   "outputs": [],
   "source": [
    "full_WP_modify = full_WP_modify.reset_index(drop=True)"
   ]
  },
  {
   "cell_type": "code",
   "execution_count": 11,
   "id": "c815b8cf-8470-4663-8f47-7859313081a9",
   "metadata": {},
   "outputs": [],
   "source": [
    "full_WP_modify = full_WP_modify[full_WP_modify.NAME != 'NOT_NAMED']"
   ]
  },
  {
   "cell_type": "code",
   "execution_count": 12,
   "id": "164de77a-8476-481b-8c2f-d0b927b5712b",
   "metadata": {},
   "outputs": [],
   "source": [
    "full_WP_modify = full_WP_modify.reset_index(drop=True)"
   ]
  },
  {
   "cell_type": "code",
   "execution_count": 13,
   "id": "8362b169-8621-4cde-81b7-81a4bd1e14c4",
   "metadata": {},
   "outputs": [],
   "source": [
    "full_WP_modify = full_WP_modify[full_WP_modify.USA_LAT!=' ']"
   ]
  },
  {
   "cell_type": "code",
   "execution_count": 14,
   "id": "7911f543-70c2-4d71-aade-2fc52cfee5ed",
   "metadata": {},
   "outputs": [],
   "source": [
    "full_WP_modify = full_WP_modify.replace(r'^\\s*$', -1 , regex=True)"
   ]
  },
  {
   "cell_type": "code",
   "execution_count": 15,
   "id": "1de503d9-5a39-467d-bb9e-86dfaaf3f1c7",
   "metadata": {},
   "outputs": [],
   "source": [
    "full_WP_modify['USA_LAT'] = full_WP_modify['USA_LAT'].astype(float)"
   ]
  },
  {
   "cell_type": "code",
   "execution_count": 16,
   "id": "4b33337d-e982-49c7-a97d-496e81e8df56",
   "metadata": {},
   "outputs": [],
   "source": [
    "full_WP_modify['USA_LON'] = full_WP_modify['USA_LON'].astype(float)"
   ]
  },
  {
   "cell_type": "code",
   "execution_count": 17,
   "id": "00fe139c-2a42-4a87-8ca0-d858dd9ece3f",
   "metadata": {},
   "outputs": [],
   "source": [
    "full_WP_modify = full_WP_modify.reset_index(drop=True)"
   ]
  },
  {
   "cell_type": "code",
   "execution_count": 18,
   "id": "c0ed31e1-80c5-4e39-b25f-8dab6303abd7",
   "metadata": {},
   "outputs": [
    {
     "data": {
      "text/plain": [
       "1.3"
      ]
     },
     "execution_count": 18,
     "metadata": {},
     "output_type": "execute_result"
    }
   ],
   "source": [
    "full_WP_modify['USA_LAT'].min()"
   ]
  },
  {
   "cell_type": "code",
   "execution_count": 19,
   "id": "7d21bb28-913a-430f-8cbf-5dbb7d51043a",
   "metadata": {},
   "outputs": [
    {
     "data": {
      "text/plain": [
       "51.3"
      ]
     },
     "execution_count": 19,
     "metadata": {},
     "output_type": "execute_result"
    }
   ],
   "source": [
    "full_WP_modify['USA_LAT'].max()"
   ]
  },
  {
   "cell_type": "code",
   "execution_count": 20,
   "id": "94e32e61-e69f-4a4b-b28d-db56c803c943",
   "metadata": {},
   "outputs": [
    {
     "data": {
      "text/plain": [
       "-180.0"
      ]
     },
     "execution_count": 20,
     "metadata": {},
     "output_type": "execute_result"
    }
   ],
   "source": [
    "full_WP_modify['USA_LON'].min()"
   ]
  },
  {
   "cell_type": "code",
   "execution_count": 21,
   "id": "72e22907-7e6c-4b2d-983e-c96dc8712e66",
   "metadata": {},
   "outputs": [
    {
     "data": {
      "text/plain": [
       "180.0"
      ]
     },
     "execution_count": 21,
     "metadata": {},
     "output_type": "execute_result"
    }
   ],
   "source": [
    "full_WP_modify['USA_LON'].max()"
   ]
  },
  {
   "cell_type": "code",
   "execution_count": 22,
   "id": "80ca6bfe-6c51-4c96-9c11-cd499296ca09",
   "metadata": {},
   "outputs": [
    {
     "name": "stderr",
     "output_type": "stream",
     "text": [
      "C:\\Users\\Louis\\AppData\\Local\\Temp/ipykernel_10652/916726116.py:1: SettingWithCopyWarning: \n",
      "A value is trying to be set on a copy of a slice from a DataFrame\n",
      "\n",
      "See the caveats in the documentation: https://pandas.pydata.org/pandas-docs/stable/user_guide/indexing.html#returning-a-view-versus-a-copy\n",
      "  full_WP_modify['USA_LON'][full_WP_modify[full_WP_modify.USA_LON < 0].index] = full_WP_modify['USA_LON'][full_WP_modify[full_WP_modify.USA_LON < 0].index] + 360\n"
     ]
    }
   ],
   "source": [
    "full_WP_modify['USA_LON'][full_WP_modify[full_WP_modify.USA_LON < 0].index] = full_WP_modify['USA_LON'][full_WP_modify[full_WP_modify.USA_LON < 0].index] + 360"
   ]
  },
  {
   "cell_type": "code",
   "execution_count": 23,
   "id": "355369b5-a5c0-4ade-8b36-2cf66ff7cd11",
   "metadata": {},
   "outputs": [
    {
     "data": {
      "text/plain": [
       "244.9"
      ]
     },
     "execution_count": 23,
     "metadata": {},
     "output_type": "execute_result"
    }
   ],
   "source": [
    "full_WP_modify['USA_LON'].max()"
   ]
  },
  {
   "cell_type": "code",
   "execution_count": 24,
   "id": "13339352-e6d9-4df8-8e20-4c457a451800",
   "metadata": {},
   "outputs": [
    {
     "data": {
      "text/plain": [
       "78.6"
      ]
     },
     "execution_count": 24,
     "metadata": {},
     "output_type": "execute_result"
    }
   ],
   "source": [
    "full_WP_modify['USA_LON'].min()"
   ]
  },
  {
   "cell_type": "code",
   "execution_count": 25,
   "id": "32d6fcdf-e615-46a0-8322-e04b01d18063",
   "metadata": {},
   "outputs": [],
   "source": [
    "long_range = full_WP_modify.index[full_WP_modify['USA_LON'] <0].tolist()"
   ]
  },
  {
   "cell_type": "code",
   "execution_count": 26,
   "id": "f02c54c7-dda6-486f-8955-ebf0bc7be3c6",
   "metadata": {
    "tags": []
   },
   "outputs": [
    {
     "data": {
      "text/plain": [
       "0"
      ]
     },
     "execution_count": 26,
     "metadata": {},
     "output_type": "execute_result"
    }
   ],
   "source": [
    "len(long_range)"
   ]
  },
  {
   "cell_type": "code",
   "execution_count": 27,
   "id": "2e3447bc-e711-49ba-a257-337b3ecf52ab",
   "metadata": {
    "tags": []
   },
   "outputs": [],
   "source": [
    "dict_remove = {}\n",
    "for i in long_range:\n",
    "    print(i)\n",
    "    name = full_WP_modify.iloc[i,2]\n",
    "    year = full_WP_modify.iloc[i,1]\n",
    "    dict_remove[year] = name"
   ]
  },
  {
   "cell_type": "code",
   "execution_count": 28,
   "id": "022051f0-3aad-4440-b3d1-d55429053a9e",
   "metadata": {},
   "outputs": [
    {
     "data": {
      "text/plain": [
       "{}"
      ]
     },
     "execution_count": 28,
     "metadata": {},
     "output_type": "execute_result"
    }
   ],
   "source": [
    "dict_remove"
   ]
  },
  {
   "cell_type": "code",
   "execution_count": 29,
   "id": "4479602d-60e8-4d16-834f-cd1969d67bd0",
   "metadata": {},
   "outputs": [],
   "source": [
    "from sklearn.preprocessing import MinMaxScaler\n",
    "\n",
    "scaler_lat = MinMaxScaler()\n",
    "scaler_long = MinMaxScaler()\n",
    "scaler_dist = MinMaxScaler()\n",
    "scaler_wind = MinMaxScaler()\n",
    "scaler_pres = MinMaxScaler()\n",
    "scaler_r34_ne = MinMaxScaler()\n",
    "scaler_r34_se = MinMaxScaler()\n",
    "scaler_r34_sw = MinMaxScaler()\n",
    "scaler_r34_nw = MinMaxScaler()\n",
    "scaler_r50_ne = MinMaxScaler()\n",
    "scaler_r50_se = MinMaxScaler()\n",
    "scaler_r50_sw = MinMaxScaler()\n",
    "scaler_r50_nw = MinMaxScaler()\n",
    "scaler_r64_ne = MinMaxScaler()\n",
    "scaler_r64_se = MinMaxScaler()\n",
    "scaler_r64_sw = MinMaxScaler()\n",
    "scaler_r64_nw = MinMaxScaler()"
   ]
  },
  {
   "cell_type": "code",
   "execution_count": 30,
   "id": "e0eee143-c3fd-49cb-9b1d-86433d4e0e81",
   "metadata": {},
   "outputs": [],
   "source": [
    "full_WP_modify[['USA_LAT']] = scaler_lat.fit_transform(full_WP_modify[['USA_LAT']])\n",
    "full_WP_modify[['USA_LON']] = scaler_long.fit_transform(full_WP_modify[['USA_LON']])\n",
    "full_WP_modify[['DIST2LAND']] = scaler_dist.fit_transform(full_WP_modify[['DIST2LAND']])\n",
    "full_WP_modify[['USA_WIND']] = scaler_wind.fit_transform(full_WP_modify[['USA_WIND']])\n",
    "full_WP_modify[['USA_PRES']] = scaler_pres.fit_transform(full_WP_modify[['USA_PRES']])\n",
    "full_WP_modify[['USA_R34_NE']] = scaler_r34_ne.fit_transform(full_WP_modify[['USA_R34_NE']])\n",
    "full_WP_modify[['USA_R34_SE']] = scaler_r34_se.fit_transform(full_WP_modify[['USA_R34_SE']])\n",
    "full_WP_modify[['USA_R34_SW']] = scaler_r34_sw.fit_transform(full_WP_modify[['USA_R34_SW']])\n",
    "full_WP_modify[['USA_R34_NW']] = scaler_r34_nw.fit_transform(full_WP_modify[['USA_R34_NW']])\n",
    "full_WP_modify[['USA_R50_NE']] = scaler_r50_ne.fit_transform(full_WP_modify[['USA_R50_NE']])\n",
    "full_WP_modify[['USA_R50_SE']] = scaler_r50_se.fit_transform(full_WP_modify[['USA_R50_SE']])\n",
    "full_WP_modify[['USA_R50_SW']] = scaler_r50_sw.fit_transform(full_WP_modify[['USA_R50_SW']])\n",
    "full_WP_modify[['USA_R50_NW']] = scaler_r50_nw.fit_transform(full_WP_modify[['USA_R50_NW']])\n",
    "full_WP_modify[['USA_R64_NE']] = scaler_r64_ne.fit_transform(full_WP_modify[['USA_R64_NE']])\n",
    "full_WP_modify[['USA_R64_SE']] = scaler_r64_se.fit_transform(full_WP_modify[['USA_R64_SE']])\n",
    "full_WP_modify[['USA_R64_SW']] = scaler_r64_sw.fit_transform(full_WP_modify[['USA_R64_SW']])\n",
    "full_WP_modify[['USA_R64_NW']] = scaler_r64_nw.fit_transform(full_WP_modify[['USA_R64_NW']])"
   ]
  },
  {
   "cell_type": "code",
   "execution_count": 31,
   "id": "d4a6e621-7e54-4275-8843-4fcdef53e055",
   "metadata": {},
   "outputs": [],
   "source": [
    "for year in range(2000,2022):\n",
    "     globals()['df_WP_%s' % year] = full_WP_modify[(full_WP_modify[\"SEASON\"]==year)]"
   ]
  },
  {
   "cell_type": "code",
   "execution_count": 32,
   "id": "c670ef52-2190-4261-9291-4461287dd02b",
   "metadata": {},
   "outputs": [],
   "source": [
    "for year in range(2000,2022):\n",
    "    globals()['df_WP_%s' % year] = globals()['df_WP_%s' % year].reset_index(drop=True)"
   ]
  },
  {
   "cell_type": "code",
   "execution_count": 33,
   "id": "c8dc9bed-d1ff-4820-ab79-22634d9c1a32",
   "metadata": {},
   "outputs": [],
   "source": [
    "for year in range(2000,2022):\n",
    "    globals()['df_WP_%s' % year] =  globals()['df_WP_%s' % year].drop(['SEASON'], axis=1)"
   ]
  },
  {
   "cell_type": "code",
   "execution_count": 34,
   "id": "bea51f45-f97a-48fe-9559-0ab4b89341bd",
   "metadata": {},
   "outputs": [],
   "source": [
    "for year in range(2000,2022):\n",
    "    for i in range(len(globals()['df_WP_%s' % year])):\n",
    "        globals()['df_WP_%s' % year].iloc[i,1] = re.sub(r\"[^\\w\\s]\", '',  globals()['df_WP_%s' % year].iloc[i,1])"
   ]
  },
  {
   "cell_type": "code",
   "execution_count": 35,
   "id": "e2c0ef5c-5de5-414b-a5e2-8fabadef8a37",
   "metadata": {},
   "outputs": [],
   "source": [
    "summarylist = []\n",
    "for year in range(2000,2022):\n",
    "    summarylist.append(dict(tuple(globals()['df_WP_%s' % year].groupby('NAME'))))"
   ]
  },
  {
   "cell_type": "code",
   "execution_count": 36,
   "id": "a3201cad-41d5-420b-90bb-1893eaad7dcb",
   "metadata": {},
   "outputs": [],
   "source": [
    "tc_name_list = []\n",
    "for i in range(len(summarylist)):\n",
    "    tc_name_list.append(list(summarylist[i].keys()))"
   ]
  },
  {
   "cell_type": "code",
   "execution_count": 37,
   "id": "6f6cbe23-3d0e-4900-aca1-43452c01c698",
   "metadata": {},
   "outputs": [
    {
     "name": "stdout",
     "output_type": "stream",
     "text": [
      "['BEBINCA', 'BILIS', 'BOLAVEN', 'BOPHA', 'CHANCHU', 'DAMREY', 'EWINIAR', 'JELAWAT', 'KAEMI', 'KAITAK', 'KIROGI', 'LONGWANG', 'MARIA', 'PRAPIROON', 'RUMBIA', 'SAOMAI', 'SHANSHAN', 'SONAMU', 'SOULIK', 'TEMBIN', 'WENE', 'WUKONG', 'XANGSANE', 'YAGI']\n"
     ]
    }
   ],
   "source": [
    "print(tc_name_list[0])"
   ]
  },
  {
   "cell_type": "code",
   "execution_count": 38,
   "id": "035b8d3d-d76f-4df8-8e14-0be6a7ba9485",
   "metadata": {},
   "outputs": [],
   "source": [
    "count = 0\n",
    "for i in range(len(tc_name_list)):\n",
    "    for name in tc_name_list[i]:\n",
    "        count = count+1\n",
    "        globals()['df_WP_%s_%s'%((str(2000+i)), name)] = globals()['df_WP_%s' % (str(2000+i))][globals()['df_WP_%s' % (str(2000+i))].NAME == name]\n",
    "#         globals()['df_WP_%s_%s'%((str(2000+i)), name)]  = globals()['df_WP_%s_%s'%((str(2000+i)), name)][globals()['df_WP_%s_%s'%((str(2000+i)),name)].USA_LAT != ' ']\n",
    "        globals()['df_WP_%s_%s'%((str(2000+i)), name)]  = globals()['df_WP_%s_%s'%((str(2000+i)), name)] .reset_index(drop=True)"
   ]
  },
  {
   "cell_type": "code",
   "execution_count": 39,
   "id": "6acba3ef-97c2-4653-bbdf-999c159964ff",
   "metadata": {},
   "outputs": [],
   "source": [
    "# for i in range(len(tc_name_list)):\n",
    "#     for name in tc_name_list[i]:\n",
    "#         globals()['df_WP_%s_%s'%((str(2000+i)), name)] = (globals()['df_WP_%s_%s'%((str(2000+i)), name)]).drop(['NAME'], axis=1)"
   ]
  },
  {
   "cell_type": "code",
   "execution_count": 40,
   "id": "c5f17421-0268-4e5b-9ef0-9c1e3175e72b",
   "metadata": {},
   "outputs": [],
   "source": [
    "for i in range(len(tc_name_list)):\n",
    "    for name in tc_name_list[i]:\n",
    "        globals()['df_WP_%s_%s'%((str(2000+i)), name)].rename(columns={'ISO_TIME':'Date'}, inplace=True)\n",
    "        globals()['df_WP_%s_%s'%((str(2000+i)), name)]['Date'] = pd.to_datetime(globals()['df_WP_%s_%s'%((str(2000+i)), name)]['Date'], dayfirst=True)"
   ]
  },
  {
   "cell_type": "code",
   "execution_count": 41,
   "id": "6b7c141d-90ae-492d-bf4b-7a4fac1b396f",
   "metadata": {},
   "outputs": [
    {
     "name": "stdout",
     "output_type": "stream",
     "text": [
      "['NAME', 'USA_LAT', 'USA_LON', 'DIST2LAND', 'USA_WIND', 'USA_PRES', 'USA_R34_NE', 'USA_R34_SE', 'USA_R34_SW', 'USA_R34_NW', 'USA_R50_NE', 'USA_R50_SE', 'USA_R50_SW', 'USA_R50_NW', 'USA_R64_NE', 'USA_R64_SE', 'USA_R64_SW', 'USA_R64_NW']\n"
     ]
    }
   ],
   "source": [
    "cols_features = list(df_WP_2018_MANGKHUT)[1:len(df_WP_2018_MANGKHUT.columns)]\n",
    "print(cols_features)"
   ]
  },
  {
   "cell_type": "code",
   "execution_count": 42,
   "id": "d613cd8d-d358-4140-81ab-ce5a4e97c22a",
   "metadata": {},
   "outputs": [],
   "source": [
    "cols_target = list(df_WP_2018_MANGKHUT)[1:2]"
   ]
  },
  {
   "cell_type": "code",
   "execution_count": 43,
   "id": "1554e6b8-12bc-4870-8052-841f0ae6d8b2",
   "metadata": {},
   "outputs": [
    {
     "data": {
      "text/plain": [
       "['NAME']"
      ]
     },
     "execution_count": 43,
     "metadata": {},
     "output_type": "execute_result"
    }
   ],
   "source": [
    "cols_target"
   ]
  },
  {
   "cell_type": "code",
   "execution_count": 44,
   "id": "dde0545b-19bf-4d02-a25c-5a51faa4f268",
   "metadata": {},
   "outputs": [
    {
     "name": "stdout",
     "output_type": "stream",
     "text": [
      "['NAME', 'USA_LAT', 'USA_LON', 'DIST2LAND', 'USA_WIND', 'USA_PRES', 'USA_R34_NE', 'USA_R34_SE', 'USA_R34_SW', 'USA_R34_NW', 'USA_R50_NE', 'USA_R50_SE', 'USA_R50_SW', 'USA_R50_NW', 'USA_R64_NE', 'USA_R64_SE', 'USA_R64_SW', 'USA_R64_NW']\n",
      "['NAME']\n"
     ]
    }
   ],
   "source": [
    "print(cols_features)\n",
    "print(cols_target)"
   ]
  },
  {
   "cell_type": "code",
   "execution_count": 45,
   "id": "44263ede-26a1-42f4-9a29-97445b1c4c7e",
   "metadata": {},
   "outputs": [],
   "source": [
    "# for i in range(len(tc_name_list)):\n",
    "#     for name in tc_name_list[i]:\n",
    "#         globals()['df_features_lat_%s_%s'%((str(2000+i)), name)] = globals()['df_WP_%s_%s'%((str(2000+i)), name)][cols_features].astype(float)\n",
    "#         globals()['df_target_lat_%s_%s'%((str(2000+i)), name)] = globals()['df_WP_%s_%s'%((str(2000+i)), name)][cols_target].astype(float)"
   ]
  },
  {
   "cell_type": "code",
   "execution_count": 46,
   "id": "83934eb7-b31f-403b-832a-8992f054525c",
   "metadata": {},
   "outputs": [
    {
     "data": {
      "text/html": [
       "<div>\n",
       "<style scoped>\n",
       "    .dataframe tbody tr th:only-of-type {\n",
       "        vertical-align: middle;\n",
       "    }\n",
       "\n",
       "    .dataframe tbody tr th {\n",
       "        vertical-align: top;\n",
       "    }\n",
       "\n",
       "    .dataframe thead th {\n",
       "        text-align: right;\n",
       "    }\n",
       "</style>\n",
       "<table border=\"1\" class=\"dataframe\">\n",
       "  <thead>\n",
       "    <tr style=\"text-align: right;\">\n",
       "      <th></th>\n",
       "      <th>Date</th>\n",
       "      <th>NAME</th>\n",
       "      <th>USA_LAT</th>\n",
       "      <th>USA_LON</th>\n",
       "      <th>DIST2LAND</th>\n",
       "      <th>USA_WIND</th>\n",
       "      <th>USA_PRES</th>\n",
       "      <th>USA_R34_NE</th>\n",
       "      <th>USA_R34_SE</th>\n",
       "      <th>USA_R34_SW</th>\n",
       "      <th>USA_R34_NW</th>\n",
       "      <th>USA_R50_NE</th>\n",
       "      <th>USA_R50_SE</th>\n",
       "      <th>USA_R50_SW</th>\n",
       "      <th>USA_R50_NW</th>\n",
       "      <th>USA_R64_NE</th>\n",
       "      <th>USA_R64_SE</th>\n",
       "      <th>USA_R64_SW</th>\n",
       "      <th>USA_R64_NW</th>\n",
       "    </tr>\n",
       "  </thead>\n",
       "  <tbody>\n",
       "    <tr>\n",
       "      <th>0</th>\n",
       "      <td>2000-05-03 18:00:00</td>\n",
       "      <td>DAMREY</td>\n",
       "      <td>0.098000</td>\n",
       "      <td>0.343355</td>\n",
       "      <td>0.243235</td>\n",
       "      <td>0.152047</td>\n",
       "      <td>0.0</td>\n",
       "      <td>0.0</td>\n",
       "      <td>0.0</td>\n",
       "      <td>0.0</td>\n",
       "      <td>0.0</td>\n",
       "      <td>0.0</td>\n",
       "      <td>0.0</td>\n",
       "      <td>0.0</td>\n",
       "      <td>0.0</td>\n",
       "      <td>0.0</td>\n",
       "      <td>0.0</td>\n",
       "      <td>0.0</td>\n",
       "      <td>0.0</td>\n",
       "    </tr>\n",
       "    <tr>\n",
       "      <th>1</th>\n",
       "      <td>2000-05-03 21:00:00</td>\n",
       "      <td>DAMREY</td>\n",
       "      <td>0.109451</td>\n",
       "      <td>0.342363</td>\n",
       "      <td>0.264317</td>\n",
       "      <td>0.152047</td>\n",
       "      <td>0.0</td>\n",
       "      <td>0.0</td>\n",
       "      <td>0.0</td>\n",
       "      <td>0.0</td>\n",
       "      <td>0.0</td>\n",
       "      <td>0.0</td>\n",
       "      <td>0.0</td>\n",
       "      <td>0.0</td>\n",
       "      <td>0.0</td>\n",
       "      <td>0.0</td>\n",
       "      <td>0.0</td>\n",
       "      <td>0.0</td>\n",
       "      <td>0.0</td>\n",
       "    </tr>\n",
       "    <tr>\n",
       "      <th>2</th>\n",
       "      <td>2000-05-04 00:00:00</td>\n",
       "      <td>DAMREY</td>\n",
       "      <td>0.120000</td>\n",
       "      <td>0.341551</td>\n",
       "      <td>0.281938</td>\n",
       "      <td>0.152047</td>\n",
       "      <td>0.0</td>\n",
       "      <td>0.0</td>\n",
       "      <td>0.0</td>\n",
       "      <td>0.0</td>\n",
       "      <td>0.0</td>\n",
       "      <td>0.0</td>\n",
       "      <td>0.0</td>\n",
       "      <td>0.0</td>\n",
       "      <td>0.0</td>\n",
       "      <td>0.0</td>\n",
       "      <td>0.0</td>\n",
       "      <td>0.0</td>\n",
       "      <td>0.0</td>\n",
       "    </tr>\n",
       "    <tr>\n",
       "      <th>3</th>\n",
       "      <td>2000-05-04 03:00:00</td>\n",
       "      <td>DAMREY</td>\n",
       "      <td>0.128900</td>\n",
       "      <td>0.341070</td>\n",
       "      <td>0.294210</td>\n",
       "      <td>0.152047</td>\n",
       "      <td>0.0</td>\n",
       "      <td>0.0</td>\n",
       "      <td>0.0</td>\n",
       "      <td>0.0</td>\n",
       "      <td>0.0</td>\n",
       "      <td>0.0</td>\n",
       "      <td>0.0</td>\n",
       "      <td>0.0</td>\n",
       "      <td>0.0</td>\n",
       "      <td>0.0</td>\n",
       "      <td>0.0</td>\n",
       "      <td>0.0</td>\n",
       "      <td>0.0</td>\n",
       "    </tr>\n",
       "    <tr>\n",
       "      <th>4</th>\n",
       "      <td>2000-05-04 06:00:00</td>\n",
       "      <td>DAMREY</td>\n",
       "      <td>0.136000</td>\n",
       "      <td>0.340950</td>\n",
       "      <td>0.302077</td>\n",
       "      <td>0.152047</td>\n",
       "      <td>0.0</td>\n",
       "      <td>0.0</td>\n",
       "      <td>0.0</td>\n",
       "      <td>0.0</td>\n",
       "      <td>0.0</td>\n",
       "      <td>0.0</td>\n",
       "      <td>0.0</td>\n",
       "      <td>0.0</td>\n",
       "      <td>0.0</td>\n",
       "      <td>0.0</td>\n",
       "      <td>0.0</td>\n",
       "      <td>0.0</td>\n",
       "      <td>0.0</td>\n",
       "    </tr>\n",
       "    <tr>\n",
       "      <th>...</th>\n",
       "      <td>...</td>\n",
       "      <td>...</td>\n",
       "      <td>...</td>\n",
       "      <td>...</td>\n",
       "      <td>...</td>\n",
       "      <td>...</td>\n",
       "      <td>...</td>\n",
       "      <td>...</td>\n",
       "      <td>...</td>\n",
       "      <td>...</td>\n",
       "      <td>...</td>\n",
       "      <td>...</td>\n",
       "      <td>...</td>\n",
       "      <td>...</td>\n",
       "      <td>...</td>\n",
       "      <td>...</td>\n",
       "      <td>...</td>\n",
       "      <td>...</td>\n",
       "      <td>...</td>\n",
       "    </tr>\n",
       "    <tr>\n",
       "      <th>66</th>\n",
       "      <td>2000-05-12 00:00:00</td>\n",
       "      <td>DAMREY</td>\n",
       "      <td>0.528000</td>\n",
       "      <td>0.404089</td>\n",
       "      <td>0.309314</td>\n",
       "      <td>0.181287</td>\n",
       "      <td>0.0</td>\n",
       "      <td>0.0</td>\n",
       "      <td>0.0</td>\n",
       "      <td>0.0</td>\n",
       "      <td>0.0</td>\n",
       "      <td>0.0</td>\n",
       "      <td>0.0</td>\n",
       "      <td>0.0</td>\n",
       "      <td>0.0</td>\n",
       "      <td>0.0</td>\n",
       "      <td>0.0</td>\n",
       "      <td>0.0</td>\n",
       "      <td>0.0</td>\n",
       "    </tr>\n",
       "    <tr>\n",
       "      <th>67</th>\n",
       "      <td>2000-05-12 03:00:00</td>\n",
       "      <td>DAMREY</td>\n",
       "      <td>0.533752</td>\n",
       "      <td>0.410595</td>\n",
       "      <td>0.317810</td>\n",
       "      <td>0.163743</td>\n",
       "      <td>0.0</td>\n",
       "      <td>0.0</td>\n",
       "      <td>0.0</td>\n",
       "      <td>0.0</td>\n",
       "      <td>0.0</td>\n",
       "      <td>0.0</td>\n",
       "      <td>0.0</td>\n",
       "      <td>0.0</td>\n",
       "      <td>0.0</td>\n",
       "      <td>0.0</td>\n",
       "      <td>0.0</td>\n",
       "      <td>0.0</td>\n",
       "      <td>0.0</td>\n",
       "    </tr>\n",
       "    <tr>\n",
       "      <th>68</th>\n",
       "      <td>2000-05-12 06:00:00</td>\n",
       "      <td>DAMREY</td>\n",
       "      <td>0.538000</td>\n",
       "      <td>0.416115</td>\n",
       "      <td>0.328823</td>\n",
       "      <td>0.152047</td>\n",
       "      <td>0.0</td>\n",
       "      <td>0.0</td>\n",
       "      <td>0.0</td>\n",
       "      <td>0.0</td>\n",
       "      <td>0.0</td>\n",
       "      <td>0.0</td>\n",
       "      <td>0.0</td>\n",
       "      <td>0.0</td>\n",
       "      <td>0.0</td>\n",
       "      <td>0.0</td>\n",
       "      <td>0.0</td>\n",
       "      <td>0.0</td>\n",
       "      <td>0.0</td>\n",
       "    </tr>\n",
       "    <tr>\n",
       "      <th>69</th>\n",
       "      <td>2000-05-12 09:00:00</td>\n",
       "      <td>DAMREY</td>\n",
       "      <td>0.539744</td>\n",
       "      <td>0.419934</td>\n",
       "      <td>0.340151</td>\n",
       "      <td>0.152047</td>\n",
       "      <td>0.0</td>\n",
       "      <td>0.0</td>\n",
       "      <td>0.0</td>\n",
       "      <td>0.0</td>\n",
       "      <td>0.0</td>\n",
       "      <td>0.0</td>\n",
       "      <td>0.0</td>\n",
       "      <td>0.0</td>\n",
       "      <td>0.0</td>\n",
       "      <td>0.0</td>\n",
       "      <td>0.0</td>\n",
       "      <td>0.0</td>\n",
       "      <td>0.0</td>\n",
       "    </tr>\n",
       "    <tr>\n",
       "      <th>70</th>\n",
       "      <td>2000-05-12 12:00:00</td>\n",
       "      <td>DAMREY</td>\n",
       "      <td>0.540000</td>\n",
       "      <td>0.422730</td>\n",
       "      <td>0.357458</td>\n",
       "      <td>0.152047</td>\n",
       "      <td>0.0</td>\n",
       "      <td>0.0</td>\n",
       "      <td>0.0</td>\n",
       "      <td>0.0</td>\n",
       "      <td>0.0</td>\n",
       "      <td>0.0</td>\n",
       "      <td>0.0</td>\n",
       "      <td>0.0</td>\n",
       "      <td>0.0</td>\n",
       "      <td>0.0</td>\n",
       "      <td>0.0</td>\n",
       "      <td>0.0</td>\n",
       "      <td>0.0</td>\n",
       "    </tr>\n",
       "  </tbody>\n",
       "</table>\n",
       "<p>71 rows × 19 columns</p>\n",
       "</div>"
      ],
      "text/plain": [
       "                  Date    NAME   USA_LAT   USA_LON  DIST2LAND  USA_WIND  \\\n",
       "0  2000-05-03 18:00:00  DAMREY  0.098000  0.343355   0.243235  0.152047   \n",
       "1  2000-05-03 21:00:00  DAMREY  0.109451  0.342363   0.264317  0.152047   \n",
       "2  2000-05-04 00:00:00  DAMREY  0.120000  0.341551   0.281938  0.152047   \n",
       "3  2000-05-04 03:00:00  DAMREY  0.128900  0.341070   0.294210  0.152047   \n",
       "4  2000-05-04 06:00:00  DAMREY  0.136000  0.340950   0.302077  0.152047   \n",
       "..                 ...     ...       ...       ...        ...       ...   \n",
       "66 2000-05-12 00:00:00  DAMREY  0.528000  0.404089   0.309314  0.181287   \n",
       "67 2000-05-12 03:00:00  DAMREY  0.533752  0.410595   0.317810  0.163743   \n",
       "68 2000-05-12 06:00:00  DAMREY  0.538000  0.416115   0.328823  0.152047   \n",
       "69 2000-05-12 09:00:00  DAMREY  0.539744  0.419934   0.340151  0.152047   \n",
       "70 2000-05-12 12:00:00  DAMREY  0.540000  0.422730   0.357458  0.152047   \n",
       "\n",
       "    USA_PRES  USA_R34_NE  USA_R34_SE  USA_R34_SW  USA_R34_NW  USA_R50_NE  \\\n",
       "0        0.0         0.0         0.0         0.0         0.0         0.0   \n",
       "1        0.0         0.0         0.0         0.0         0.0         0.0   \n",
       "2        0.0         0.0         0.0         0.0         0.0         0.0   \n",
       "3        0.0         0.0         0.0         0.0         0.0         0.0   \n",
       "4        0.0         0.0         0.0         0.0         0.0         0.0   \n",
       "..       ...         ...         ...         ...         ...         ...   \n",
       "66       0.0         0.0         0.0         0.0         0.0         0.0   \n",
       "67       0.0         0.0         0.0         0.0         0.0         0.0   \n",
       "68       0.0         0.0         0.0         0.0         0.0         0.0   \n",
       "69       0.0         0.0         0.0         0.0         0.0         0.0   \n",
       "70       0.0         0.0         0.0         0.0         0.0         0.0   \n",
       "\n",
       "    USA_R50_SE  USA_R50_SW  USA_R50_NW  USA_R64_NE  USA_R64_SE  USA_R64_SW  \\\n",
       "0          0.0         0.0         0.0         0.0         0.0         0.0   \n",
       "1          0.0         0.0         0.0         0.0         0.0         0.0   \n",
       "2          0.0         0.0         0.0         0.0         0.0         0.0   \n",
       "3          0.0         0.0         0.0         0.0         0.0         0.0   \n",
       "4          0.0         0.0         0.0         0.0         0.0         0.0   \n",
       "..         ...         ...         ...         ...         ...         ...   \n",
       "66         0.0         0.0         0.0         0.0         0.0         0.0   \n",
       "67         0.0         0.0         0.0         0.0         0.0         0.0   \n",
       "68         0.0         0.0         0.0         0.0         0.0         0.0   \n",
       "69         0.0         0.0         0.0         0.0         0.0         0.0   \n",
       "70         0.0         0.0         0.0         0.0         0.0         0.0   \n",
       "\n",
       "    USA_R64_NW  \n",
       "0          0.0  \n",
       "1          0.0  \n",
       "2          0.0  \n",
       "3          0.0  \n",
       "4          0.0  \n",
       "..         ...  \n",
       "66         0.0  \n",
       "67         0.0  \n",
       "68         0.0  \n",
       "69         0.0  \n",
       "70         0.0  \n",
       "\n",
       "[71 rows x 19 columns]"
      ]
     },
     "execution_count": 46,
     "metadata": {},
     "output_type": "execute_result"
    }
   ],
   "source": [
    "df_WP_2000_DAMREY"
   ]
  },
  {
   "cell_type": "code",
   "execution_count": 47,
   "id": "15b22dd3-44c7-4934-9dd6-0886d7f39df1",
   "metadata": {},
   "outputs": [],
   "source": [
    "tc_name_list[18].remove('MANGKHUT')"
   ]
  },
  {
   "cell_type": "code",
   "execution_count": 48,
   "id": "9c71a0e8-34a2-4bf2-879c-c8da14730284",
   "metadata": {},
   "outputs": [],
   "source": [
    "tc_name_list[18].remove('KONGREY')"
   ]
  },
  {
   "cell_type": "code",
   "execution_count": 49,
   "id": "9b31c61c-bdb7-48e4-abb9-73f46c525221",
   "metadata": {},
   "outputs": [],
   "source": [
    "tc_name_list[18].remove('YUTU')"
   ]
  },
  {
   "cell_type": "code",
   "execution_count": 50,
   "id": "9e26c073-dd37-491a-8216-ce2b7271c8c8",
   "metadata": {},
   "outputs": [],
   "source": [
    "tc_name_list[19].remove('WUTIP')"
   ]
  },
  {
   "cell_type": "code",
   "execution_count": 51,
   "id": "652ab73f-ef6b-4556-92a1-6f6d71a9e846",
   "metadata": {},
   "outputs": [],
   "source": [
    "count = 0"
   ]
  },
  {
   "cell_type": "code",
   "execution_count": 52,
   "id": "ed40db10-6371-423e-90b0-7306e8757fe9",
   "metadata": {
    "tags": []
   },
   "outputs": [],
   "source": [
    "def get_typhoon_data(typhoon_name, typhoon_year, idx , n_past, n_future):\n",
    "    global count\n",
    "    features_list = []\n",
    "    image_list = []\n",
    "    count_photo =[]\n",
    "    image_list_current = []\n",
    "    for i in range(n_past):\n",
    "        features_list_current = []\n",
    "        image_list_current = []\n",
    "        root_dir = \"C:/Users/Louis/Full Typhoon Images/\"\n",
    "        # current_typhoon_name = df_WP_2000_DAMREY.iloc[idx,1]\n",
    "        # current_timestamp_year = (str(df_WP_2000_DAMREY.iloc[idx,0]))[:4]\n",
    "        folder = \"(\" + typhoon_name + \")_\" + typhoon_year\n",
    "        current_timestamp_date = (str(globals()['df_WP_%s_%s'% (typhoon_year, typhoon_name)].iloc[idx,0]))[:10]\n",
    "        current_timestamp_hour = (str(globals()['df_WP_%s_%s'% (typhoon_year, typhoon_name)].iloc[idx,0]))[11:13]\n",
    "        image_path = \"(\" + typhoon_name + \")_\" + current_timestamp_date + \"_\" + current_timestamp_hour + \".png\"\n",
    "        img_name = os.path.join(root_dir, folder ,image_path).replace(\"\\\\\",\"/\")\n",
    "        # print(img_name)\n",
    "        try:\n",
    "            # image_test = io.imread(img_name)\n",
    "            scaler = transforms.Scale((224, 224))\n",
    "            # normalize = transforms.Normalize((0.5), (0.5))\n",
    "            normalize = transforms.Normalize((0.5), (0.5))\n",
    "            to_tensor = transforms.ToTensor()\n",
    "            \n",
    "            image_test = Image.open(img_name)\n",
    "            image = Variable(normalize(to_tensor(scaler(image_test))).unsqueeze(0))\n",
    "            \n",
    "            # image_test = Image.open(img_name).convert('RGB')\n",
    "            # image_test = np.array(image_test)\n",
    "            # image_test = np.rollaxis(image_test, 2, 0)\n",
    "        \n",
    "            # print(image.shape)\n",
    "            # current_image_vector = get_vector(img_name)\n",
    "            # current_image_vector = current_image_vector.numpy()\n",
    "            # print(\"OK\")\n",
    "            count = count+1\n",
    "            # print(count)\n",
    "            # print(typhoon_name)\n",
    "            # print(typhoon_year)\n",
    "            # print(\"read image\")\n",
    "        except FileNotFoundError:\n",
    "            # print(\"FileNotFoundError\")\n",
    "            # print(typhoon_name)\n",
    "            # print(typhoon_year)\n",
    "            # print(current_timestamp_date)\n",
    "            # print(\"No satelite image for this timestamp\")\n",
    "            # image = \"no_image\"\n",
    "            image = torch.zeros(1, 1,224,224)\n",
    "            # print(image.shape)\n",
    "\n",
    "        for j in range(17):\n",
    "            features_list_current.append(globals()['df_WP_%s_%s'% (typhoon_year, typhoon_name)].iloc[idx,j+2])\n",
    "        image_list_current.append(image)\n",
    "        \n",
    "        features_list.append(features_list_current)\n",
    "        image_list.append(image_list_current)\n",
    "    \n",
    "        # features_list = np.array(features_list, dtype=np.float32)\n",
    "        # image_list = np.array(image_list, dtype=np.float32)\n",
    "        \n",
    "        # all_features_numpy = np.concatenate((features_list_current, current_image_vector), axis=0)\n",
    "        # feature_list.append(all_features_numpy)\n",
    "        # image_list.append(typhoon_image_current_timestamp)\n",
    "        # typhoon_dict['features'].append(features_list_current)\n",
    "        # typhoon_dict['typhoon_image'].append(typhoon_image_current_timestamp)\n",
    "        idx += 1\n",
    "    target_latitude = globals()['df_WP_%s_%s'% (typhoon_year, typhoon_name)].iloc[idx,2]\n",
    "    target_longitude =  globals()['df_WP_%s_%s'% (typhoon_year, typhoon_name)].iloc[idx,3]\n",
    "    return features_list, image_list, target_latitude, target_longitude,count"
   ]
  },
  {
   "cell_type": "code",
   "execution_count": 53,
   "id": "38be3053-e251-4096-b31c-0d6a7dec561c",
   "metadata": {
    "tags": []
   },
   "outputs": [
    {
     "name": "stderr",
     "output_type": "stream",
     "text": [
      "C:\\Users\\Louis\\anaconda3\\lib\\site-packages\\torchvision\\transforms\\transforms.py:317: UserWarning: The use of the transforms.Scale transform is deprecated, please use transforms.Resize instead.\n",
      "  warnings.warn(\"The use of the transforms.Scale transform is deprecated, \" +\n"
     ]
    },
    {
     "name": "stdout",
     "output_type": "stream",
     "text": [
      "no more timestamp\n",
      "no more timestamp\n",
      "no more timestamp\n",
      "no more timestamp\n",
      "no more timestamp\n",
      "no more timestamp\n",
      "no more timestamp\n",
      "no more timestamp\n",
      "no more timestamp\n",
      "no more timestamp\n",
      "no more timestamp\n",
      "no more timestamp\n",
      "no more timestamp\n",
      "no more timestamp\n",
      "no more timestamp\n",
      "no more timestamp\n",
      "no more timestamp\n",
      "no more timestamp\n",
      "no more timestamp\n",
      "no more timestamp\n",
      "no more timestamp\n",
      "no more timestamp\n",
      "no more timestamp\n",
      "no more timestamp\n",
      "no more timestamp\n",
      "no more timestamp\n",
      "no more timestamp\n",
      "no more timestamp\n",
      "no more timestamp\n",
      "no more timestamp\n",
      "no more timestamp\n",
      "no more timestamp\n",
      "no more timestamp\n",
      "no more timestamp\n",
      "no more timestamp\n",
      "no more timestamp\n",
      "no more timestamp\n",
      "no more timestamp\n",
      "no more timestamp\n",
      "no more timestamp\n",
      "no more timestamp\n",
      "no more timestamp\n",
      "no more timestamp\n",
      "no more timestamp\n",
      "no more timestamp\n",
      "no more timestamp\n",
      "no more timestamp\n",
      "no more timestamp\n",
      "no more timestamp\n",
      "no more timestamp\n",
      "no more timestamp\n",
      "no more timestamp\n",
      "no more timestamp\n",
      "no more timestamp\n",
      "no more timestamp\n",
      "no more timestamp\n",
      "no more timestamp\n",
      "no more timestamp\n",
      "no more timestamp\n",
      "no more timestamp\n",
      "no more timestamp\n",
      "no more timestamp\n",
      "no more timestamp\n",
      "no more timestamp\n",
      "no more timestamp\n",
      "no more timestamp\n",
      "no more timestamp\n",
      "no more timestamp\n",
      "no more timestamp\n",
      "no more timestamp\n",
      "no more timestamp\n",
      "no more timestamp\n",
      "no more timestamp\n",
      "no more timestamp\n",
      "no more timestamp\n",
      "no more timestamp\n",
      "no more timestamp\n",
      "no more timestamp\n",
      "no more timestamp\n",
      "no more timestamp\n",
      "no more timestamp\n",
      "no more timestamp\n",
      "no more timestamp\n",
      "no more timestamp\n",
      "no more timestamp\n",
      "no more timestamp\n",
      "no more timestamp\n",
      "no more timestamp\n",
      "no more timestamp\n",
      "no more timestamp\n",
      "no more timestamp\n",
      "no more timestamp\n",
      "no more timestamp\n",
      "no more timestamp\n",
      "no more timestamp\n",
      "no more timestamp\n",
      "no more timestamp\n",
      "no more timestamp\n",
      "no more timestamp\n",
      "no more timestamp\n",
      "no more timestamp\n",
      "no more timestamp\n",
      "no more timestamp\n",
      "no more timestamp\n",
      "no more timestamp\n",
      "no more timestamp\n",
      "no more timestamp\n",
      "no more timestamp\n",
      "no more timestamp\n",
      "no more timestamp\n",
      "no more timestamp\n",
      "no more timestamp\n",
      "no more timestamp\n",
      "no more timestamp\n",
      "no more timestamp\n",
      "no more timestamp\n",
      "no more timestamp\n",
      "no more timestamp\n",
      "no more timestamp\n",
      "no more timestamp\n",
      "no more timestamp\n",
      "no more timestamp\n",
      "no more timestamp\n",
      "no more timestamp\n",
      "no more timestamp\n",
      "no more timestamp\n",
      "no more timestamp\n",
      "no more timestamp\n",
      "no more timestamp\n",
      "no more timestamp\n",
      "no more timestamp\n",
      "no more timestamp\n",
      "no more timestamp\n",
      "no more timestamp\n",
      "no more timestamp\n",
      "no more timestamp\n",
      "no more timestamp\n",
      "no more timestamp\n",
      "no more timestamp\n",
      "no more timestamp\n",
      "no more timestamp\n",
      "no more timestamp\n",
      "no more timestamp\n",
      "no more timestamp\n",
      "no more timestamp\n",
      "no more timestamp\n",
      "no more timestamp\n",
      "no more timestamp\n",
      "no more timestamp\n",
      "no more timestamp\n",
      "no more timestamp\n",
      "no more timestamp\n",
      "no more timestamp\n",
      "no more timestamp\n",
      "no more timestamp\n",
      "no more timestamp\n",
      "no more timestamp\n",
      "no more timestamp\n",
      "no more timestamp\n",
      "no more timestamp\n",
      "no more timestamp\n",
      "no more timestamp\n",
      "no more timestamp\n",
      "no more timestamp\n",
      "no more timestamp\n",
      "no more timestamp\n",
      "no more timestamp\n",
      "no more timestamp\n",
      "no more timestamp\n",
      "no more timestamp\n",
      "no more timestamp\n",
      "no more timestamp\n",
      "no more timestamp\n",
      "no more timestamp\n",
      "no more timestamp\n",
      "no more timestamp\n",
      "no more timestamp\n",
      "no more timestamp\n",
      "no more timestamp\n",
      "no more timestamp\n",
      "no more timestamp\n",
      "no more timestamp\n",
      "no more timestamp\n",
      "no more timestamp\n",
      "no more timestamp\n",
      "no more timestamp\n",
      "no more timestamp\n",
      "no more timestamp\n",
      "no more timestamp\n",
      "no more timestamp\n",
      "no more timestamp\n",
      "no more timestamp\n",
      "no more timestamp\n",
      "no more timestamp\n",
      "no more timestamp\n",
      "no more timestamp\n",
      "no more timestamp\n",
      "no more timestamp\n",
      "no more timestamp\n",
      "no more timestamp\n",
      "no more timestamp\n",
      "no more timestamp\n",
      "no more timestamp\n",
      "no more timestamp\n",
      "no more timestamp\n",
      "no more timestamp\n",
      "no more timestamp\n",
      "no more timestamp\n",
      "no more timestamp\n",
      "no more timestamp\n",
      "no more timestamp\n",
      "no more timestamp\n",
      "no more timestamp\n",
      "no more timestamp\n",
      "no more timestamp\n",
      "no more timestamp\n",
      "no more timestamp\n",
      "no more timestamp\n",
      "no more timestamp\n",
      "no more timestamp\n",
      "no more timestamp\n",
      "no more timestamp\n",
      "no more timestamp\n",
      "no more timestamp\n",
      "no more timestamp\n",
      "no more timestamp\n",
      "no more timestamp\n",
      "no more timestamp\n",
      "no more timestamp\n",
      "no more timestamp\n",
      "no more timestamp\n",
      "no more timestamp\n",
      "no more timestamp\n",
      "no more timestamp\n",
      "no more timestamp\n",
      "no more timestamp\n",
      "no more timestamp\n",
      "no more timestamp\n",
      "no more timestamp\n",
      "no more timestamp\n",
      "no more timestamp\n",
      "no more timestamp\n",
      "no more timestamp\n",
      "no more timestamp\n",
      "no more timestamp\n",
      "no more timestamp\n",
      "no more timestamp\n",
      "no more timestamp\n",
      "no more timestamp\n",
      "no more timestamp\n",
      "no more timestamp\n",
      "no more timestamp\n",
      "no more timestamp\n",
      "no more timestamp\n",
      "no more timestamp\n",
      "no more timestamp\n",
      "no more timestamp\n",
      "no more timestamp\n",
      "no more timestamp\n",
      "no more timestamp\n",
      "no more timestamp\n",
      "no more timestamp\n",
      "no more timestamp\n",
      "no more timestamp\n",
      "no more timestamp\n",
      "no more timestamp\n",
      "no more timestamp\n",
      "no more timestamp\n",
      "no more timestamp\n",
      "no more timestamp\n",
      "no more timestamp\n",
      "no more timestamp\n",
      "no more timestamp\n",
      "no more timestamp\n",
      "no more timestamp\n",
      "no more timestamp\n",
      "no more timestamp\n",
      "no more timestamp\n",
      "no more timestamp\n",
      "no more timestamp\n",
      "no more timestamp\n",
      "no more timestamp\n",
      "no more timestamp\n",
      "no more timestamp\n",
      "no more timestamp\n",
      "no more timestamp\n",
      "no more timestamp\n",
      "no more timestamp\n",
      "no more timestamp\n",
      "no more timestamp\n",
      "no more timestamp\n",
      "no more timestamp\n",
      "no more timestamp\n",
      "no more timestamp\n",
      "no more timestamp\n",
      "no more timestamp\n",
      "no more timestamp\n",
      "no more timestamp\n",
      "no more timestamp\n",
      "no more timestamp\n",
      "no more timestamp\n",
      "no more timestamp\n",
      "no more timestamp\n",
      "no more timestamp\n",
      "no more timestamp\n",
      "no more timestamp\n",
      "no more timestamp\n",
      "no more timestamp\n",
      "no more timestamp\n",
      "no more timestamp\n",
      "no more timestamp\n",
      "no more timestamp\n",
      "no more timestamp\n",
      "no more timestamp\n",
      "no more timestamp\n",
      "no more timestamp\n",
      "no more timestamp\n",
      "no more timestamp\n",
      "no more timestamp\n",
      "no more timestamp\n",
      "no more timestamp\n",
      "no more timestamp\n",
      "no more timestamp\n",
      "no more timestamp\n",
      "no more timestamp\n",
      "no more timestamp\n",
      "no more timestamp\n",
      "no more timestamp\n",
      "no more timestamp\n",
      "no more timestamp\n",
      "no more timestamp\n",
      "no more timestamp\n",
      "no more timestamp\n",
      "no more timestamp\n",
      "no more timestamp\n",
      "no more timestamp\n",
      "no more timestamp\n",
      "no more timestamp\n",
      "no more timestamp\n",
      "no more timestamp\n",
      "no more timestamp\n",
      "no more timestamp\n",
      "no more timestamp\n",
      "no more timestamp\n",
      "no more timestamp\n",
      "no more timestamp\n",
      "no more timestamp\n",
      "no more timestamp\n",
      "no more timestamp\n",
      "no more timestamp\n",
      "no more timestamp\n",
      "no more timestamp\n",
      "no more timestamp\n",
      "no more timestamp\n",
      "no more timestamp\n",
      "no more timestamp\n",
      "no more timestamp\n",
      "no more timestamp\n",
      "no more timestamp\n",
      "no more timestamp\n",
      "no more timestamp\n",
      "no more timestamp\n",
      "no more timestamp\n",
      "no more timestamp\n",
      "no more timestamp\n",
      "no more timestamp\n",
      "no more timestamp\n",
      "no more timestamp\n",
      "no more timestamp\n",
      "no more timestamp\n",
      "no more timestamp\n",
      "no more timestamp\n",
      "no more timestamp\n",
      "no more timestamp\n",
      "no more timestamp\n",
      "no more timestamp\n",
      "no more timestamp\n",
      "no more timestamp\n",
      "no more timestamp\n",
      "no more timestamp\n",
      "no more timestamp\n",
      "no more timestamp\n",
      "no more timestamp\n",
      "no more timestamp\n",
      "no more timestamp\n",
      "no more timestamp\n",
      "no more timestamp\n",
      "no more timestamp\n",
      "no more timestamp\n",
      "no more timestamp\n",
      "no more timestamp\n",
      "no more timestamp\n",
      "no more timestamp\n",
      "no more timestamp\n",
      "no more timestamp\n",
      "no more timestamp\n",
      "no more timestamp\n",
      "no more timestamp\n",
      "no more timestamp\n",
      "no more timestamp\n",
      "no more timestamp\n",
      "no more timestamp\n",
      "no more timestamp\n",
      "no more timestamp\n",
      "no more timestamp\n",
      "no more timestamp\n",
      "no more timestamp\n",
      "no more timestamp\n",
      "no more timestamp\n",
      "no more timestamp\n",
      "no more timestamp\n",
      "no more timestamp\n",
      "no more timestamp\n",
      "no more timestamp\n",
      "no more timestamp\n",
      "no more timestamp\n",
      "no more timestamp\n",
      "no more timestamp\n",
      "no more timestamp\n",
      "no more timestamp\n",
      "no more timestamp\n",
      "no more timestamp\n",
      "no more timestamp\n",
      "no more timestamp\n",
      "no more timestamp\n",
      "no more timestamp\n",
      "no more timestamp\n",
      "no more timestamp\n",
      "no more timestamp\n",
      "no more timestamp\n",
      "no more timestamp\n",
      "no more timestamp\n",
      "no more timestamp\n",
      "no more timestamp\n",
      "no more timestamp\n",
      "no more timestamp\n",
      "no more timestamp\n",
      "no more timestamp\n",
      "no more timestamp\n",
      "no more timestamp\n",
      "no more timestamp\n",
      "no more timestamp\n",
      "no more timestamp\n",
      "no more timestamp\n",
      "no more timestamp\n",
      "no more timestamp\n",
      "no more timestamp\n",
      "no more timestamp\n",
      "no more timestamp\n",
      "no more timestamp\n",
      "no more timestamp\n",
      "no more timestamp\n",
      "no more timestamp\n",
      "no more timestamp\n",
      "no more timestamp\n",
      "no more timestamp\n",
      "no more timestamp\n",
      "no more timestamp\n",
      "no more timestamp\n",
      "no more timestamp\n",
      "no more timestamp\n",
      "no more timestamp\n",
      "no more timestamp\n",
      "no more timestamp\n",
      "no more timestamp\n",
      "no more timestamp\n",
      "no more timestamp\n",
      "no more timestamp\n",
      "no more timestamp\n",
      "no more timestamp\n",
      "no more timestamp\n",
      "no more timestamp\n",
      "no more timestamp\n",
      "no more timestamp\n",
      "no more timestamp\n",
      "no more timestamp\n",
      "no more timestamp\n",
      "no more timestamp\n",
      "no more timestamp\n",
      "no more timestamp\n",
      "no more timestamp\n",
      "no more timestamp\n",
      "no more timestamp\n",
      "no more timestamp\n",
      "no more timestamp\n",
      "no more timestamp\n",
      "no more timestamp\n",
      "no more timestamp\n",
      "no more timestamp\n",
      "no more timestamp\n",
      "no more timestamp\n",
      "no more timestamp\n",
      "no more timestamp\n",
      "no more timestamp\n",
      "no more timestamp\n",
      "no more timestamp\n",
      "no more timestamp\n",
      "no more timestamp\n",
      "no more timestamp\n",
      "no more timestamp\n",
      "no more timestamp\n",
      "no more timestamp\n",
      "no more timestamp\n",
      "no more timestamp\n",
      "no more timestamp\n",
      "no more timestamp\n",
      "no more timestamp\n",
      "no more timestamp\n",
      "no more timestamp\n",
      "no more timestamp\n",
      "no more timestamp\n",
      "no more timestamp\n",
      "no more timestamp\n",
      "no more timestamp\n",
      "no more timestamp\n",
      "no more timestamp\n",
      "no more timestamp\n",
      "no more timestamp\n",
      "no more timestamp\n",
      "no more timestamp\n",
      "no more timestamp\n",
      "no more timestamp\n",
      "no more timestamp\n",
      "no more timestamp\n"
     ]
    }
   ],
   "source": [
    "\n",
    "all_features_typhoon_data=[]\n",
    "all_target_typhoon_lat=[]\n",
    "all_target_typhoon_long=[]\n",
    "for i in range(len(tc_name_list)):\n",
    "# for i in range(1):\n",
    "    for typhoon_name in tc_name_list[i]:\n",
    "        idx=0\n",
    "        typhoon_year = str(2000 + i)\n",
    "        # print(typhoon_year)\n",
    "        # print(typhoon_name)\n",
    "        while True:\n",
    "            try:\n",
    "                list_1, list_2, lat,long, count = get_typhoon_data(typhoon_name, typhoon_year, idx , n_past, n_future)\n",
    "                features_tensor = torch.FloatTensor(list_1)\n",
    "                image_path = list_2\n",
    "                lat_tensor = torch.from_numpy(np.array(lat, dtype=\"float32\"))\n",
    "                long_tensor = torch.from_numpy(np.array(long, dtype=\"float32\"))\n",
    "\n",
    "                \n",
    "                # print(\"doing\")\n",
    "                typhoon_features_dict = {'features': features_tensor,\n",
    "                                'images': image_path}\n",
    "                \n",
    "                typhoon_target_lat = {'latitude':lat_tensor}\n",
    "                typhoon_target_long = {'longitude':long_tensor}\n",
    "\n",
    "                all_features_typhoon_data.append(typhoon_features_dict)\n",
    "                all_target_typhoon_lat.append(typhoon_target_lat)\n",
    "                all_target_typhoon_long.append(typhoon_target_long)\n",
    "                \n",
    "                idx += 1\n",
    "                list_1 = []\n",
    "                list_2 = []\n",
    "                lat = 0 \n",
    "                long = 0\n",
    "            except IndexError:\n",
    "                print(\"no more timestamp\")\n",
    "                break"
   ]
  },
  {
   "cell_type": "code",
   "execution_count": 54,
   "id": "483608d4-eb4b-48bb-85e8-b9d9fd7dfd18",
   "metadata": {
    "tags": []
   },
   "outputs": [
    {
     "name": "stdout",
     "output_type": "stream",
     "text": [
      "no more timestamp\n"
     ]
    }
   ],
   "source": [
    "all_features_typhoon_data_MANGKHUT=[]\n",
    "all_target_typhoon_lat_MANGKHUT=[]\n",
    "all_target_typhoon_long_MANGKHUT=[]\n",
    "\n",
    "typhoon_name = 'MANGKHUT'\n",
    "idx=0\n",
    "typhoon_year = str(2000 + 18)\n",
    "# print(typhoon_year)\n",
    "# print(typhoon_name)\n",
    "while True:\n",
    "    try:\n",
    "        list_1, list_2, lat,long, count = get_typhoon_data(typhoon_name, typhoon_year, idx , n_past, n_future)\n",
    "        features_tensor = torch.FloatTensor(list_1)\n",
    "        image_path = list_2\n",
    "        lat_tensor = torch.from_numpy(np.array(lat, dtype=\"float32\"))\n",
    "        long_tensor = torch.from_numpy(np.array(long, dtype=\"float32\"))\n",
    "\n",
    "\n",
    "        # print(\"doing\")\n",
    "        typhoon_features_dict_MANGKHUT = {'features': features_tensor,\n",
    "                        'images': image_path}\n",
    "\n",
    "        typhoon_target_lat_MANGKHUT = {'latitude':lat_tensor}\n",
    "        typhoon_target_long_MANGKHUT = {'longitude':long_tensor}\n",
    "\n",
    "        all_features_typhoon_data_MANGKHUT.append(typhoon_features_dict_MANGKHUT)\n",
    "        all_target_typhoon_lat_MANGKHUT.append(typhoon_target_lat_MANGKHUT)\n",
    "        all_target_typhoon_long_MANGKHUT.append(typhoon_target_long_MANGKHUT)\n",
    "\n",
    "        idx += 1\n",
    "        list_1 = []\n",
    "        list_2 = []\n",
    "        lat = 0 \n",
    "        long = 0\n",
    "    except IndexError:\n",
    "        print(\"no more timestamp\")\n",
    "        break"
   ]
  },
  {
   "cell_type": "code",
   "execution_count": 55,
   "id": "756c4f7a-bf89-459e-b2e7-377f33282786",
   "metadata": {},
   "outputs": [
    {
     "name": "stdout",
     "output_type": "stream",
     "text": [
      "no more timestamp\n"
     ]
    }
   ],
   "source": [
    "all_features_typhoon_data_KONGREY=[]\n",
    "all_target_typhoon_lat_KONGREY=[]\n",
    "all_target_typhoon_long_KONGREY=[]\n",
    "\n",
    "typhoon_name = 'KONGREY'\n",
    "idx=0\n",
    "typhoon_year = str(2000 + 18)\n",
    "# print(typhoon_year)\n",
    "# print(typhoon_name)\n",
    "while True:\n",
    "    try:\n",
    "        list_1, list_2, lat,long, count = get_typhoon_data(typhoon_name, typhoon_year, idx , n_past, n_future)\n",
    "        features_tensor = torch.FloatTensor(list_1)\n",
    "        image_path = list_2\n",
    "        lat_tensor = torch.from_numpy(np.array(lat, dtype=\"float32\"))\n",
    "        long_tensor = torch.from_numpy(np.array(long, dtype=\"float32\"))\n",
    "\n",
    "\n",
    "        # print(\"doing\")\n",
    "        typhoon_features_dict_KONGREY = {'features': features_tensor,\n",
    "                        'images': image_path}\n",
    "\n",
    "        typhoon_target_lat_KONGREY = {'latitude':lat_tensor}\n",
    "        typhoon_target_long_KONGREY = {'longitude':long_tensor}\n",
    "\n",
    "        all_features_typhoon_data_KONGREY.append(typhoon_features_dict_KONGREY)\n",
    "        all_target_typhoon_lat_KONGREY.append(typhoon_target_lat_KONGREY)\n",
    "        all_target_typhoon_long_KONGREY.append(typhoon_target_long_KONGREY)\n",
    "\n",
    "        idx += 1\n",
    "        list_1 = []\n",
    "        list_2 = []\n",
    "        lat = 0 \n",
    "        long = 0\n",
    "    except IndexError:\n",
    "        print(\"no more timestamp\")\n",
    "        break"
   ]
  },
  {
   "cell_type": "code",
   "execution_count": 56,
   "id": "f93ba35c-2d4a-4d10-b791-c9720ec0e443",
   "metadata": {},
   "outputs": [
    {
     "name": "stdout",
     "output_type": "stream",
     "text": [
      "no more timestamp\n"
     ]
    }
   ],
   "source": [
    "all_features_typhoon_data_YUTU=[]\n",
    "all_target_typhoon_lat_YUTU=[]\n",
    "all_target_typhoon_long_YUTU=[]\n",
    "\n",
    "typhoon_name = 'YUTU'\n",
    "idx=0\n",
    "typhoon_year = str(2000 + 18)\n",
    "# print(typhoon_year)\n",
    "# print(typhoon_name)\n",
    "while True:\n",
    "    try:\n",
    "        list_1, list_2, lat,long, count = get_typhoon_data(typhoon_name, typhoon_year, idx , n_past, n_future)\n",
    "        features_tensor = torch.FloatTensor(list_1)\n",
    "        image_path = list_2\n",
    "        lat_tensor = torch.from_numpy(np.array(lat, dtype=\"float32\"))\n",
    "        long_tensor = torch.from_numpy(np.array(long, dtype=\"float32\"))\n",
    "\n",
    "\n",
    "        # print(\"doing\")\n",
    "        typhoon_features_dict_YUTU = {'features': features_tensor,\n",
    "                        'images': image_path}\n",
    "\n",
    "        typhoon_target_lat_YUTU = {'latitude':lat_tensor}\n",
    "        typhoon_target_long_YUTU = {'longitude':long_tensor}\n",
    "\n",
    "        all_features_typhoon_data_YUTU.append(typhoon_features_dict_YUTU)\n",
    "        all_target_typhoon_lat_YUTU.append(typhoon_target_lat_YUTU)\n",
    "        all_target_typhoon_long_YUTU.append(typhoon_target_long_YUTU)\n",
    "\n",
    "        idx += 1\n",
    "        list_1 = []\n",
    "        list_2 = []\n",
    "        lat = 0 \n",
    "        long = 0\n",
    "    except IndexError:\n",
    "        print(\"no more timestamp\")\n",
    "        break"
   ]
  },
  {
   "cell_type": "code",
   "execution_count": 57,
   "id": "e09a9882-6b3e-4c3e-b8de-0693c34c67d2",
   "metadata": {},
   "outputs": [
    {
     "name": "stdout",
     "output_type": "stream",
     "text": [
      "no more timestamp\n"
     ]
    }
   ],
   "source": [
    "all_features_typhoon_data_WUTIP=[]\n",
    "all_target_typhoon_lat_WUTIP=[]\n",
    "all_target_typhoon_long_WUTIP=[]\n",
    "\n",
    "typhoon_name = 'WUTIP'\n",
    "idx=0\n",
    "typhoon_year = str(2000 + 19)\n",
    "# print(typhoon_year)\n",
    "# print(typhoon_name)\n",
    "while True:\n",
    "    try:\n",
    "        list_1, list_2, lat,long, count = get_typhoon_data(typhoon_name, typhoon_year, idx , n_past, n_future)\n",
    "        features_tensor = torch.FloatTensor(list_1)\n",
    "        image_path = list_2\n",
    "        lat_tensor = torch.from_numpy(np.array(lat, dtype=\"float32\"))\n",
    "        long_tensor = torch.from_numpy(np.array(long, dtype=\"float32\"))\n",
    "\n",
    "\n",
    "        # print(\"doing\")\n",
    "        typhoon_features_dict_WUTIP = {'features': features_tensor,\n",
    "                        'images': image_path}\n",
    "\n",
    "        typhoon_target_lat_WUTIP = {'latitude':lat_tensor}\n",
    "        typhoon_target_long_WUTIP = {'longitude':long_tensor}\n",
    "\n",
    "        all_features_typhoon_data_WUTIP.append(typhoon_features_dict_WUTIP)\n",
    "        all_target_typhoon_lat_WUTIP.append(typhoon_target_lat_WUTIP)\n",
    "        all_target_typhoon_long_WUTIP.append(typhoon_target_long_WUTIP)\n",
    "\n",
    "        idx += 1\n",
    "        list_1 = []\n",
    "        list_2 = []\n",
    "        lat = 0 \n",
    "        long = 0\n",
    "    except IndexError:\n",
    "        print(\"no more timestamp\")\n",
    "        break"
   ]
  },
  {
   "cell_type": "code",
   "execution_count": 58,
   "id": "610e19fc-3eef-4414-9d72-1214471b8323",
   "metadata": {},
   "outputs": [
    {
     "data": {
      "text/plain": [
       "90"
      ]
     },
     "execution_count": 58,
     "metadata": {},
     "output_type": "execute_result"
    }
   ],
   "source": [
    "len(all_features_typhoon_data_MANGKHUT)"
   ]
  },
  {
   "cell_type": "code",
   "execution_count": 59,
   "id": "ac3bc45c-0cdb-48af-b046-a97af778a84f",
   "metadata": {},
   "outputs": [
    {
     "data": {
      "text/plain": [
       "90"
      ]
     },
     "execution_count": 59,
     "metadata": {},
     "output_type": "execute_result"
    }
   ],
   "source": [
    "len(all_target_typhoon_lat_MANGKHUT)"
   ]
  },
  {
   "cell_type": "code",
   "execution_count": 60,
   "id": "ac937e0b-9fd3-4a63-aa6d-3d4daa68e233",
   "metadata": {},
   "outputs": [
    {
     "data": {
      "text/plain": [
       "90"
      ]
     },
     "execution_count": 60,
     "metadata": {},
     "output_type": "execute_result"
    }
   ],
   "source": [
    "len(all_target_typhoon_long_MANGKHUT)"
   ]
  },
  {
   "cell_type": "code",
   "execution_count": 61,
   "id": "b7de9d38-8a51-40aa-a676-03dd2295021f",
   "metadata": {},
   "outputs": [
    {
     "data": {
      "text/plain": [
       "28712"
      ]
     },
     "execution_count": 61,
     "metadata": {},
     "output_type": "execute_result"
    }
   ],
   "source": [
    "len(all_features_typhoon_data)"
   ]
  },
  {
   "cell_type": "code",
   "execution_count": 62,
   "id": "5ffac9bd-d48c-4141-a33d-dbfea09831c9",
   "metadata": {},
   "outputs": [
    {
     "data": {
      "text/plain": [
       "28712"
      ]
     },
     "execution_count": 62,
     "metadata": {},
     "output_type": "execute_result"
    }
   ],
   "source": [
    "len(all_target_typhoon_lat)"
   ]
  },
  {
   "cell_type": "code",
   "execution_count": 63,
   "id": "6f553aff-b794-4227-9ca7-6f6cd737113f",
   "metadata": {},
   "outputs": [],
   "source": [
    "trainX_lat, valX_lat = all_features_typhoon_data[:(int(len(all_features_typhoon_data) * 0.8))], all_features_typhoon_data[(int(len(all_features_typhoon_data) * 0.8)):]\n",
    "trainY_lat, valY_lat = all_target_typhoon_lat[:(int(len(all_target_typhoon_lat) * 0.8))], all_target_typhoon_lat[(int(len(all_target_typhoon_lat) * 0.8)):]\n",
    "valX_lat, testX_lat = valX_lat[:(int(len(valX_lat) * 0.5))], valX_lat[(int(len(valX_lat) * 0.5)):]\n",
    "valY_lat, testY_lat = valY_lat[:(int(len(valY_lat) * 0.5))], valY_lat[(int(len(valY_lat) * 0.5)):]"
   ]
  },
  {
   "cell_type": "code",
   "execution_count": 64,
   "id": "72e78089-b863-407a-9e0d-197368e434bf",
   "metadata": {},
   "outputs": [],
   "source": [
    "trainX_long, valX_long = all_features_typhoon_data[:(int(len(all_features_typhoon_data) * 0.8))], all_features_typhoon_data[(int(len(all_features_typhoon_data) * 0.8)):]\n",
    "trainY_long, valY_long = all_target_typhoon_long[:(int(len(all_target_typhoon_long) * 0.8))], all_target_typhoon_long[(int(len(all_target_typhoon_long) * 0.8)):]\n",
    "valX_long, testX_long = valX_long[:(int(len(valX_long) * 0.5))], valX_long[(int(len(valX_long) * 0.5)):]\n",
    "valY_long, testY_long = valY_long[:(int(len(valY_long) * 0.5))], valY_long[(int(len(valY_long) * 0.5)):]"
   ]
  },
  {
   "cell_type": "code",
   "execution_count": 65,
   "id": "b6006531-b45a-4523-a677-a29c04a0920c",
   "metadata": {},
   "outputs": [
    {
     "name": "stdout",
     "output_type": "stream",
     "text": [
      "22969\n",
      "2871\n",
      "2872\n"
     ]
    }
   ],
   "source": [
    "print(len(trainX_long))\n",
    "print(len(valX_long))\n",
    "print(len(testX_long))"
   ]
  },
  {
   "cell_type": "code",
   "execution_count": 66,
   "id": "ab397c78-a551-48c5-b7de-d935696bdb1d",
   "metadata": {},
   "outputs": [
    {
     "name": "stdout",
     "output_type": "stream",
     "text": [
      "22969\n",
      "2871\n",
      "2872\n"
     ]
    }
   ],
   "source": [
    "print(len(trainX_lat))\n",
    "print(len(valX_lat))\n",
    "print(len(testX_lat))"
   ]
  },
  {
   "cell_type": "code",
   "execution_count": 67,
   "id": "f9b810ba-ad33-4cf4-9f2d-0ebd052f73b1",
   "metadata": {},
   "outputs": [],
   "source": [
    "train_set_with_lat = [trainX_lat, trainY_lat]"
   ]
  },
  {
   "cell_type": "code",
   "execution_count": 68,
   "id": "ac535d11-ea66-4f03-bc06-856d54bd85fe",
   "metadata": {},
   "outputs": [],
   "source": [
    "val_set_with_lat = [valX_lat, valY_lat]"
   ]
  },
  {
   "cell_type": "code",
   "execution_count": 69,
   "id": "1f58f052-1ff8-463e-a2da-77085a4eceaf",
   "metadata": {},
   "outputs": [],
   "source": [
    "test_set_with_lat = [testX_lat, testY_lat]"
   ]
  },
  {
   "cell_type": "code",
   "execution_count": 70,
   "id": "a69580ca-a4dd-42a6-8eaf-a0d64bbab4ad",
   "metadata": {},
   "outputs": [],
   "source": [
    "train_set_with_long = [trainX_long, trainY_long]"
   ]
  },
  {
   "cell_type": "code",
   "execution_count": 71,
   "id": "3744d5b1-4f24-44d6-896e-c1022057c244",
   "metadata": {},
   "outputs": [],
   "source": [
    "val_set_with_long = [valX_long, valY_long]"
   ]
  },
  {
   "cell_type": "code",
   "execution_count": 72,
   "id": "e7a3a9b6-9369-4e5b-a785-ed41a647fe6a",
   "metadata": {},
   "outputs": [],
   "source": [
    "test_set_with_long = [testX_long, testY_long]"
   ]
  },
  {
   "cell_type": "code",
   "execution_count": 73,
   "id": "2c9f52a1-0a74-4ac6-ad7f-f11ac5e2fd9d",
   "metadata": {},
   "outputs": [],
   "source": [
    "MANGKHUT_set_lat = [all_features_typhoon_data_MANGKHUT, all_target_typhoon_lat_MANGKHUT]\n",
    "MANGKHUT_set_long = [all_features_typhoon_data_MANGKHUT, all_target_typhoon_long_MANGKHUT]"
   ]
  },
  {
   "cell_type": "code",
   "execution_count": 74,
   "id": "c18247a0-34be-43ce-a3c9-29af5f0f558b",
   "metadata": {},
   "outputs": [],
   "source": [
    "KONGREY_set_lat = [all_features_typhoon_data_KONGREY, all_target_typhoon_lat_KONGREY]\n",
    "KONGREY_set_long = [all_features_typhoon_data_KONGREY, all_target_typhoon_long_KONGREY]"
   ]
  },
  {
   "cell_type": "code",
   "execution_count": 75,
   "id": "216d826a-2aa3-432e-bed4-47a80959309c",
   "metadata": {},
   "outputs": [],
   "source": [
    "YUTU_set_lat = [all_features_typhoon_data_YUTU, all_target_typhoon_lat_YUTU]\n",
    "YUTU_set_long = [all_features_typhoon_data_YUTU, all_target_typhoon_long_YUTU]"
   ]
  },
  {
   "cell_type": "code",
   "execution_count": 76,
   "id": "8c7f2381-57e1-4705-af5b-3eb56863d66c",
   "metadata": {},
   "outputs": [],
   "source": [
    "WUTIP_set_lat = [all_features_typhoon_data_WUTIP, all_target_typhoon_lat_WUTIP]\n",
    "WUTIP_set_long = [all_features_typhoon_data_WUTIP, all_target_typhoon_long_WUTIP]"
   ]
  },
  {
   "cell_type": "code",
   "execution_count": 77,
   "id": "b60d608a-3ae2-4e56-b6a2-0aac47075df6",
   "metadata": {},
   "outputs": [],
   "source": [
    "from torch.utils.data import Dataset,DataLoader\n",
    "import cv2\n",
    "import tensorflow as tf"
   ]
  },
  {
   "cell_type": "code",
   "execution_count": 78,
   "id": "78449e38-7c5f-44f3-af6c-bed2358547a2",
   "metadata": {},
   "outputs": [],
   "source": [
    "class CustomTensorDataset(Dataset):\n",
    "  def __init__(self, dataset, transform_list=None):\n",
    "    [data_X, data_y] = dataset\n",
    "    #X_tensor, y_tensor = Tensor(data_X), Tensor(data_y)\n",
    "    tensors = (data_X, data_y)\n",
    "    assert all(len(tensors[0]) == len(tensor) for tensor in tensors)\n",
    "    self.tensors = tensors\n",
    "    \n",
    "  def __getitem__(self, index):\n",
    "    x = self.tensors[0][index]\n",
    "    y = self.tensors[1][index]\n",
    "    \n",
    "    tmp_img_data = []\n",
    "    images_data = []\n",
    "    \n",
    "    for image_name in x['images']:\n",
    "        \n",
    "        tmp_img_data.append(image_name)\n",
    "        \n",
    "    images_data.append(tmp_img_data)\n",
    "\n",
    "    \n",
    "    inputs = {\n",
    "        'features': x['features'],\n",
    "        'images': images_data\n",
    "    }\n",
    "        \n",
    "    # print(x)\n",
    "    # print(y)\n",
    "    \n",
    "    return inputs, y\n",
    "\n",
    "  def __len__(self):\n",
    "    return len(self.tensors[0])"
   ]
  },
  {
   "cell_type": "code",
   "execution_count": 79,
   "id": "c83af130-8457-445c-b8e3-136beda6e81c",
   "metadata": {},
   "outputs": [],
   "source": [
    "train_set_lstm = CustomTensorDataset(dataset=train_set_with_lat)"
   ]
  },
  {
   "cell_type": "code",
   "execution_count": 80,
   "id": "7cc26287-ed59-483d-8364-fb91d860dc30",
   "metadata": {},
   "outputs": [],
   "source": [
    "val_set_lstm = CustomTensorDataset(dataset=val_set_with_lat)"
   ]
  },
  {
   "cell_type": "code",
   "execution_count": 81,
   "id": "0a1b3f69-b90d-46c2-94bc-98a49e0d5521",
   "metadata": {},
   "outputs": [],
   "source": [
    "test_set_lstm = CustomTensorDataset(dataset=test_set_with_lat)"
   ]
  },
  {
   "cell_type": "code",
   "execution_count": 82,
   "id": "95439930-b287-4615-96b9-3dd283e734a3",
   "metadata": {},
   "outputs": [],
   "source": [
    "train_set_lstm_long = CustomTensorDataset(dataset=train_set_with_long)"
   ]
  },
  {
   "cell_type": "code",
   "execution_count": 83,
   "id": "409dd8c3-5250-49e2-91ed-c8768e2fe0b1",
   "metadata": {},
   "outputs": [],
   "source": [
    "val_set_lstm_long = CustomTensorDataset(dataset=val_set_with_long)"
   ]
  },
  {
   "cell_type": "code",
   "execution_count": 84,
   "id": "64482d8a-cc57-4248-8f05-d39d38eca42c",
   "metadata": {},
   "outputs": [],
   "source": [
    "test_set_lstm_long = CustomTensorDataset(dataset=test_set_with_long)"
   ]
  },
  {
   "cell_type": "code",
   "execution_count": 85,
   "id": "65afbea3-0b03-4f98-8421-b37019bf73b2",
   "metadata": {},
   "outputs": [],
   "source": [
    "MANGKHUT_set_lstm_lat = CustomTensorDataset(dataset=MANGKHUT_set_lat)\n",
    "MANGKHUT_set_lstm_long = CustomTensorDataset(dataset=MANGKHUT_set_long)"
   ]
  },
  {
   "cell_type": "code",
   "execution_count": 86,
   "id": "87a667f9-f7d0-4ed6-ab64-4740e570846f",
   "metadata": {},
   "outputs": [],
   "source": [
    "KONGREY_set_lstm_lat = CustomTensorDataset(dataset=KONGREY_set_lat)\n",
    "KONGREY_set_lstm_long = CustomTensorDataset(dataset=KONGREY_set_long)"
   ]
  },
  {
   "cell_type": "code",
   "execution_count": 87,
   "id": "d09d1a64-319a-47f1-9c6d-efcaeafc5f27",
   "metadata": {},
   "outputs": [],
   "source": [
    "YUTU_set_lstm_lat = CustomTensorDataset(dataset=YUTU_set_lat)\n",
    "YUTU_set_lstm_long = CustomTensorDataset(dataset=YUTU_set_long)"
   ]
  },
  {
   "cell_type": "code",
   "execution_count": 88,
   "id": "1843f350-23d2-4791-9467-294d0127fc24",
   "metadata": {},
   "outputs": [],
   "source": [
    "WUTIP_set_lstm_lat = CustomTensorDataset(dataset=WUTIP_set_lat)\n",
    "WUTIP_set_lstm_long = CustomTensorDataset(dataset=WUTIP_set_long)"
   ]
  },
  {
   "cell_type": "markdown",
   "id": "40b31b83-f246-4ebd-8db9-60369a976c58",
   "metadata": {},
   "source": [
    "### DataLoader from dictionary"
   ]
  },
  {
   "cell_type": "code",
   "execution_count": 89,
   "id": "fc09b4c7-fecc-43d0-9b4f-010a6351c884",
   "metadata": {},
   "outputs": [],
   "source": [
    "class LSTMModel(nn.Module):\n",
    "    def __init__(self, input_dim_met, output_dim_met, input_dim_image, hidden_dim, layer_dim, output_dim, dropout_prob):\n",
    "        super(LSTMModel, self).__init__()\n",
    "\n",
    "        # Defining the number of layers and the nodes in each layer\n",
    "        self.hidden_dim = hidden_dim\n",
    "        self.layer_dim = layer_dim\n",
    "        \n",
    "        #fc 17 ->512\n",
    "        self.fc_feature_met_expansion = nn.Linear(input_dim_met, output_dim_met)\n",
    "        \n",
    "        input_dim = output_dim_met + input_dim_image\n",
    "        \n",
    "        # LSTM layers\n",
    "        self.lstm = nn.LSTM(\n",
    "            input_dim, hidden_dim, layer_dim, batch_first=True, dropout=dropout_prob\n",
    "        )\n",
    "\n",
    "        # Fully connected layer\n",
    "        self.fc = nn.Linear(hidden_dim, output_dim)\n",
    "\n",
    "    def forward(self, x):\n",
    "        \n",
    "        # split 529 features into 17 + 512\n",
    "        # 512 --> 32 dimensions\n",
    "\n",
    "        #################################### positional encoding\n",
    "        \n",
    "    \n",
    "        # print(\"x entering forward: \", x)\n",
    "        # print(x.shape)\n",
    "        # print(x[0][0][:17])\n",
    "        \n",
    "        # print(\"original x : \", x.shape)\n",
    "        \n",
    "        final_feature_list = []\n",
    "        for i in range(x.shape[0]):\n",
    "            int_list = []\n",
    "            for j in range(x.shape[1]):\n",
    "                up_features_met = self.fc_feature_met_expansion(x[i][j][:17])\n",
    "                # print(up_features_met.shape)\n",
    "                # print(\"upfeatures: \", up_features_met)\n",
    "                image_feature = x[i][j][17:]\n",
    "                # print(image_feature.shape)\n",
    "                # print('image: ',image_feature)\n",
    "                x_final = torch.cat([up_features_met, image_feature]).to(device)\n",
    "                # print(x_final.shape)\n",
    "                int_list.append(x_final)\n",
    "                #print(int_list)\n",
    "            x_final = (torch.stack((int_list[0], int_list[1], int_list[2], int_list[3], int_list[4]), 0))\n",
    "            x_final = x_final[None,:,:]\n",
    "            #print(x_final)\n",
    "            # print(x_final.shape)\n",
    "            final_feature_list.append(x_final)\n",
    "        \n",
    "        #print(final_feature_list)\n",
    "    \n",
    "        first_feature_tensor = final_feature_list[0]\n",
    "        for i in range(len(final_feature_list)):\n",
    "            if i < (len(final_feature_list) - 1):\n",
    "                final_feature_tensor = torch.cat([first_feature_tensor, final_feature_list[i+1]], dim=0)\n",
    "                first_feature_tensor = final_feature_tensor\n",
    "        x_final = final_feature_tensor\n",
    "        \n",
    "        #print(\"final entering \", x_final)\n",
    "\n",
    "        # print('Final x : ', x_final.shape)\n",
    "    # def forward(self, x):\n",
    "        \n",
    "        # Initializing hidden state for first input with zeros\n",
    "        h0 = torch.zeros(self.layer_dim, x_final.size(0), self.hidden_dim, device=x_final.device).requires_grad_()\n",
    "\n",
    "        # Initializing cell state for first input with zeros\n",
    "        c0 = torch.zeros(self.layer_dim, x_final.size(0), self.hidden_dim, device=x_final.device).requires_grad_()\n",
    "\n",
    "        # We need to detach as we are doing truncated backpropagation through time (BPTT)\n",
    "        # If we don't, we'll backprop all the way to the start even after going through another batch\n",
    "        # Forward propagation by passing in the input, hidden state, and cell state into the model\n",
    "        out, (hn, cn) = self.lstm(x_final, (h0.detach(), c0.detach()))\n",
    "        \n",
    "        # Reshaping the outputs in the shape of (batch_size, seq_length, hidden_size)\n",
    "        # so that it can fit into the fully connected layer\n",
    "        out = out[:, -1, :]\n",
    "        \n",
    "        \n",
    "        # Convert the final state to our desired output shape (batch_size, output_dim)\n",
    "        out = self.fc(out)\n",
    "        \n",
    "        return out"
   ]
  },
  {
   "cell_type": "code",
   "execution_count": 90,
   "id": "0345dd8c-21a2-48b7-9be5-cb26aab0a004",
   "metadata": {},
   "outputs": [],
   "source": [
    "validation_list_long = []"
   ]
  },
  {
   "cell_type": "code",
   "execution_count": 91,
   "id": "77171d4e-63f2-41c4-87e7-97a8c93bcf45",
   "metadata": {},
   "outputs": [],
   "source": [
    "class Optimization_Long:\n",
    "    def __init__(self, model, loss_fn, optimizer, resnet_model):\n",
    "        self.model = model\n",
    "        #self.resnet = image_ex_model\n",
    "        self.loss_fn = loss_fn\n",
    "        self.optimizer = optimizer\n",
    "        self.train_losses = []\n",
    "        self.val_losses = []\n",
    "        self.model_resnet = resnet_model.to(device)\n",
    "        self.model_resnet.conv1 = nn.Conv2d(1, 64, kernel_size=(7, 7), stride=(2, 2), padding=(3, 3), bias=False)\n",
    "        self.layer = self.model_resnet._modules.get('avgpool')\n",
    "\n",
    "    def Resnet(self,image):\n",
    "        # print(t_img)\n",
    "        # 3. Create a vector of zeros that will hold our feature vector\n",
    "        #    The 'avgpool' layer has an output size of 512\n",
    "        my_embedding = torch.zeros(512)\n",
    "        # 4. Define a function that will copy the output of a layer\n",
    "        def copy_data(m, i, o):\n",
    "            my_embedding.copy_(o.data.reshape(o.data.size(1)))\n",
    "        # 5. Attach that function to our selected layer\n",
    "        h = self.layer.register_forward_hook(copy_data)\n",
    "        # 6. Run the model on our transformed image\n",
    "        self.model_resnet = self.model_resnet.to(device)\n",
    "        self.model_resnet(image.to(device))\n",
    "        # 7. Detach our copy function from the layer\n",
    "        h.remove()\n",
    "        # 8. Return the feature vector\n",
    "        return my_embedding\n",
    "    \n",
    "    def tensor_concat(self,typhoon_features, typhoon_images, batch):\n",
    "        \n",
    "        final_tensor_list = []\n",
    "        for bat in range(batch):\n",
    "            # print(\"Batch size: \", bat)\n",
    "            image_feature_model = []\n",
    "            for i in range(len(typhoon_images[0])):\n",
    "                image_Feature = self.Resnet(typhoon_images[0][i][0][bat].to(device))\n",
    "                # print(\"Individual: \", image_Feature)\n",
    "                image_feature_model.append(image_Feature)\n",
    "\n",
    "            # print(\"Group: \", image_feature_model)\n",
    "            \n",
    "            image_tensor = torch.stack((image_feature_model[0], image_feature_model[1], image_feature_model[2], image_feature_model[3], image_feature_model[4]), 0)\n",
    "            image_tensor = image_tensor[None,:,:]\n",
    "            \n",
    "            \n",
    "            # print(\"image tensor\", image_tensor.data[0])       \n",
    "#             # print(typhoon_features.shape)\n",
    "            # print('features: ', typhoon_features.data[bat])\n",
    "\n",
    "            merge_image_and_feature_list = []\n",
    "            for i in range(len(typhoon_features.data[0])):\n",
    "                merge_image_and_feature = torch.concat((typhoon_features.data[bat][i].to(device), image_tensor.data[0][i].to(device)), 0)\n",
    "                # print(merge_image_and_feature.shape)\n",
    "                merge_image_and_feature_list.append(merge_image_and_feature)\n",
    "\n",
    "            final_tensor = torch.stack((merge_image_and_feature_list[0], merge_image_and_feature_list[1], merge_image_and_feature_list[2], merge_image_and_feature_list[3], merge_image_and_feature_list[4]), 0)\n",
    "\n",
    "            final_tensor = final_tensor[None,:,:]\n",
    "            \n",
    "            \n",
    "            # print(\"final tensor: \", final_tensor)\n",
    "            # print(final_tensor)\n",
    "            # print(final_tensor.shape)\n",
    "            final_tensor_list.append(final_tensor)\n",
    "\n",
    "        return final_tensor_list\n",
    "        \n",
    "    \n",
    "    def train_step(self, typhoon_features, typhoon_images, y, batch):\n",
    "        \n",
    "        \n",
    "        # print(\"first feature: \", typhoon_features)\n",
    "        \n",
    "        # Sets model to train mode\n",
    "        self.model.train()\n",
    "            \n",
    "        final_tensor_list = self.tensor_concat(typhoon_features,typhoon_images, batch)\n",
    "                \n",
    "        y = y[None,:].to(device)\n",
    "        \n",
    "        y =torch.transpose(y, 0, 1)\n",
    "        \n",
    "        # print(\"real y :\", y.shape)\n",
    "    \n",
    "        # Makes predictions                \n",
    "        first_tensor = final_tensor_list[0]\n",
    "        for i in range(len(final_tensor_list)):\n",
    "            if i < (len(final_tensor_list) - 1):\n",
    "                # print(i)\n",
    "                final_tensor = torch.cat([first_tensor, final_tensor_list[i+1]], dim=0)\n",
    "                first_tensor = final_tensor\n",
    "        \n",
    "        # print(final_tensor.shape)\n",
    "        \n",
    "        final_tensor = final_tensor.to(device)\n",
    "        \n",
    "        final_yhat = self.model(final_tensor)\n",
    "        \n",
    "        # print(\"yhat: \", final_yhat.shape)\n",
    "        \n",
    "        \n",
    "#         yhat_list = []\n",
    "#         for i in range(len(final_tensor_list)):\n",
    "#             yhat = self.model(final_tensor_list[i].to(device))\n",
    "#             yhat_list.append(yhat)\n",
    "        \n",
    "#         prev_yhat = yhat_list[0]\n",
    "#         for i in range(len(yhat_list)):\n",
    "#             if i<(len(yhat_list)-1):\n",
    "#                 final_yhat = torch.cat((prev_yhat, yhat_list[i+1]), 1)\n",
    "#                 prev_yhat = final_yhat\n",
    "            \n",
    "        \n",
    "        #Computes loss\n",
    "        loss = self.loss_fn(y, final_yhat)  #yhat + x0 (lat/long)\n",
    "\n",
    "        # Computes gradients\n",
    "        loss.backward()\n",
    "\n",
    "        # Updates parameters and zeroes gradients\n",
    "        self.optimizer.step()\n",
    "        self.optimizer.zero_grad()\n",
    "\n",
    "        # Returns the loss\n",
    "        return loss.item()\n",
    "    \n",
    "    def train(self, train_loader, val_loader, batch_size, n_epochs):\n",
    "        # model_path = f'models/{self.model}_{datetime.now().strftime(\"%Y-%m-%d %H:%M:%S\")}'\n",
    "        \n",
    "        model_path = \"model_long\"\n",
    "        previous_validation_loss = 100\n",
    "        patience = 5\n",
    "        count = 0\n",
    "        \n",
    "        for epoch in range(1, n_epochs + 1):\n",
    "            batch_losses = []\n",
    "            for x_batch, y_batch in train_loader:\n",
    "                # print(x_batch['features'])\n",
    "                # print(x_batch['images'])     \n",
    "                # print('Y batch',y_batch)\n",
    "                x_batch = x_batch\n",
    "                y_batch = y_batch\n",
    "                x_batch['features'] = x_batch['features'].view([batch_size, n_past, 17])\n",
    "                \n",
    "                y_batch = y_batch['longitude']\n",
    "                \n",
    "                # x_batch = x_batch.view([batch_size, 5, n_features])\n",
    "                # print(x_batch['images'])\n",
    "                \n",
    "                # print(x_batch)\n",
    "                # print(y_batch)\n",
    "                # print(\"y_batch:\", y_batch)\n",
    "                \n",
    "                loss = self.train_step(x_batch['features'],x_batch['images'], y_batch, batch_size)\n",
    "                \n",
    "                batch_losses.append(loss)\n",
    "            training_loss = np.mean(batch_losses)\n",
    "            self.train_losses.append(training_loss)\n",
    "            print(training_loss)\n",
    "            \n",
    "            \n",
    "            with torch.no_grad():\n",
    "                batch_val_losses = []\n",
    "                for x_val, y_val in val_loader:\n",
    "                    x_val['features'] = x_val['features'].view([batch_size, n_past, 17]).to(device)\n",
    "                    y_val = y_val['longitude'].to(device)\n",
    "                    y_val = y_val[None,:].to(device)\n",
    "                    final_tensor_list_val = self.tensor_concat(x_val['features'],x_val['images'], batch_size)\n",
    "\n",
    "                    y_val =torch.transpose(y_val, 0, 1)\n",
    "\n",
    "                    # Makes predictions                \n",
    "                    first_tensor_val = final_tensor_list_val[0]\n",
    "                    for i in range(len(final_tensor_list_val)):\n",
    "                        if i < (len(final_tensor_list_val) - 1):\n",
    "                            final_tensor_val = torch.cat([first_tensor_val, final_tensor_list_val[i+1]], dim=0)\n",
    "                            first_tensor_val = final_tensor_val\n",
    "                    \n",
    "                            \n",
    "                    final_tensor_val = final_tensor_val.to(device)\n",
    "                    \n",
    "                    self.model.eval()\n",
    "                    final_yhat_val = self.model(final_tensor_val)\n",
    "                    \n",
    "                    val_loss = self.loss_fn(y_val, final_yhat_val).item()\n",
    "                    batch_val_losses.append(val_loss)\n",
    "                validation_loss = np.mean(batch_val_losses)\n",
    "                self.val_losses.append(validation_loss)\n",
    "                print(f\"[{epoch}/{n_epochs}] Training loss: {training_loss:.8f}\\t Validation loss: {validation_loss:.8f}\")\n",
    "                validation_list_long.append(validation_loss)\n",
    "                validation_list_long.sort()\n",
    "                if validation_loss <= validation_list_long[0]:\n",
    "                    torch.save(self.model, model_path)\n",
    "                    print(\"Updated best model\")\n",
    "                if validation_loss > previous_validation_loss:\n",
    "                    count +=1\n",
    "                    print(\"Current Validation_loss is greater than Previous Validation Loss, counting:\", count)\n",
    "                    if count>=patience:\n",
    "                        print(\"Early stopping executed!\")\n",
    "                        break\n",
    "                else:\n",
    "                    print(\"Continue progress to global minima\")\n",
    "                    count = 0\n",
    "                previous_validation_loss = validation_loss \n",
    "\n",
    "        # torch.save(self.model.state_dict(), model_path) \n",
    "        \n",
    "    \n",
    "    def evaluate(self, test_loader, batch_size, n_features):\n",
    "        with torch.no_grad():\n",
    "            predictions = []\n",
    "            values = []\n",
    "            for x_test, y_test in test_loader:\n",
    "                x_test['features'] = x_test['features'].view([batch_size, n_past, n_features]).to(device)\n",
    "                y_test = y_test['longitude'].to(device)\n",
    "                y_test = y_test[None,:].to(device)\n",
    "                final_tensor_list_test = self.tensor_concat(x_test['features'],x_test['images'], batch_size)\n",
    "                \n",
    "                y_test =torch.transpose(y_test, 0, 1)\n",
    "                \n",
    "                \n",
    "                # Makes predictions                \n",
    "                first_tensor_test = final_tensor_list_test[0]\n",
    "                for i in range(len(final_tensor_list_test)):\n",
    "                    if i < (len(final_tensor_list_test) - 1):\n",
    "                        final_tensor_test = torch.cat([first_tensor_test, final_tensor_list_test[i+1]], dim=0)\n",
    "                        first_tensor_test = final_tensor_test                    \n",
    "                            \n",
    "                final_tensor_test = final_tensor_test.to(device)\n",
    "                \n",
    "                self.model.eval()\n",
    "                yhat_test = self.model(final_tensor_test)\n",
    "                predictions.append(yhat_test.cpu().detach().numpy())\n",
    "                values.append(y_test.cpu().detach().numpy())\n",
    "\n",
    "        return predictions, values\n",
    "    \n",
    "    def plot_losses(self):\n",
    "        plt.plot(self.train_losses, label=\"Training loss\")\n",
    "        plt.plot(self.val_losses, label=\"Validation loss\")\n",
    "        plt.legend()\n",
    "        plt.title(\"Losses\")\n",
    "        plt.show()\n",
    "        plt.close()"
   ]
  },
  {
   "cell_type": "code",
   "execution_count": 92,
   "id": "61bedc17-1d83-484b-acdd-3a5443927b5f",
   "metadata": {},
   "outputs": [],
   "source": [
    "def get_model(model, model_params):\n",
    "    models = {\"lstm\": LSTMModel}\n",
    "    return models.get(model.lower())(**model_params)"
   ]
  },
  {
   "cell_type": "code",
   "execution_count": 93,
   "id": "7d12abf8-acf1-4c53-96a4-c69fed3cb997",
   "metadata": {
    "collapsed": true,
    "jupyter": {
     "outputs_hidden": true
    },
    "tags": []
   },
   "outputs": [
    {
     "name": "stdout",
     "output_type": "stream",
     "text": [
      "Batch:  16    Hidden dim:  64   Learning rate:  0.001\n"
     ]
    },
    {
     "name": "stderr",
     "output_type": "stream",
     "text": [
      "ERROR:root:Internal Python error in the inspect module.\n",
      "Below is the traceback from this internal error.\n",
      "\n"
     ]
    },
    {
     "name": "stdout",
     "output_type": "stream",
     "text": [
      "Traceback (most recent call last):\n",
      "  File \"C:\\Users\\Louis\\anaconda3\\lib\\site-packages\\IPython\\core\\interactiveshell.py\", line 3444, in run_code\n",
      "    exec(code_obj, self.user_global_ns, self.user_ns)\n",
      "  File \"C:\\Users\\Louis\\AppData\\Local\\Temp/ipykernel_10096/1647775908.py\", line 39, in <module>\n",
      "    model = get_model('lstm', model_params).to(device)\n",
      "  File \"C:\\Users\\Louis\\anaconda3\\lib\\site-packages\\torch\\nn\\modules\\module.py\", line 899, in to\n",
      "    return self._apply(convert)\n",
      "  File \"C:\\Users\\Louis\\anaconda3\\lib\\site-packages\\torch\\nn\\modules\\module.py\", line 570, in _apply\n",
      "    module._apply(fn)\n",
      "  File \"C:\\Users\\Louis\\anaconda3\\lib\\site-packages\\torch\\nn\\modules\\rnn.py\", line 189, in _apply\n",
      "    self.flatten_parameters()\n",
      "  File \"C:\\Users\\Louis\\anaconda3\\lib\\site-packages\\torch\\nn\\modules\\rnn.py\", line 175, in flatten_parameters\n",
      "    torch._cudnn_rnn_flatten_weight(\n",
      "KeyboardInterrupt\n",
      "\n",
      "During handling of the above exception, another exception occurred:\n",
      "\n",
      "Traceback (most recent call last):\n",
      "  File \"C:\\Users\\Louis\\anaconda3\\lib\\site-packages\\IPython\\core\\interactiveshell.py\", line 2064, in showtraceback\n",
      "    stb = value._render_traceback_()\n",
      "AttributeError: 'KeyboardInterrupt' object has no attribute '_render_traceback_'\n",
      "\n",
      "During handling of the above exception, another exception occurred:\n",
      "\n",
      "Traceback (most recent call last):\n",
      "  File \"C:\\Users\\Louis\\anaconda3\\lib\\site-packages\\IPython\\core\\ultratb.py\", line 1101, in get_records\n",
      "    return _fixed_getinnerframes(etb, number_of_lines_of_context, tb_offset)\n",
      "  File \"C:\\Users\\Louis\\anaconda3\\lib\\site-packages\\IPython\\core\\ultratb.py\", line 248, in wrapped\n",
      "    return f(*args, **kwargs)\n",
      "  File \"C:\\Users\\Louis\\anaconda3\\lib\\site-packages\\IPython\\core\\ultratb.py\", line 281, in _fixed_getinnerframes\n",
      "    records = fix_frame_records_filenames(inspect.getinnerframes(etb, context))\n",
      "  File \"C:\\Users\\Louis\\anaconda3\\lib\\inspect.py\", line 1541, in getinnerframes\n",
      "    frameinfo = (tb.tb_frame,) + getframeinfo(tb, context)\n",
      "  File \"C:\\Users\\Louis\\anaconda3\\lib\\inspect.py\", line 1499, in getframeinfo\n",
      "    filename = getsourcefile(frame) or getfile(frame)\n",
      "  File \"C:\\Users\\Louis\\anaconda3\\lib\\inspect.py\", line 709, in getsourcefile\n",
      "    if getattr(getmodule(object, filename), '__loader__', None) is not None:\n",
      "  File \"C:\\Users\\Louis\\anaconda3\\lib\\inspect.py\", line 755, in getmodule\n",
      "    os.path.realpath(f)] = module.__name__\n",
      "  File \"C:\\Users\\Louis\\anaconda3\\lib\\ntpath.py\", line 647, in realpath\n",
      "    path = _getfinalpathname(path)\n",
      "KeyboardInterrupt\n"
     ]
    },
    {
     "ename": "TypeError",
     "evalue": "object of type 'NoneType' has no len()",
     "output_type": "error",
     "traceback": [
      "\u001b[1;31m---------------------------------------------------------------------------\u001b[0m",
      "\u001b[1;31mKeyboardInterrupt\u001b[0m                         Traceback (most recent call last)",
      "    \u001b[1;31m[... skipping hidden 1 frame]\u001b[0m\n",
      "\u001b[1;32m~\\AppData\\Local\\Temp/ipykernel_10096/1647775908.py\u001b[0m in \u001b[0;36m<module>\u001b[1;34m\u001b[0m\n\u001b[0;32m     38\u001b[0m \u001b[1;33m\u001b[0m\u001b[0m\n\u001b[1;32m---> 39\u001b[1;33m             \u001b[0mmodel\u001b[0m \u001b[1;33m=\u001b[0m \u001b[0mget_model\u001b[0m\u001b[1;33m(\u001b[0m\u001b[1;34m'lstm'\u001b[0m\u001b[1;33m,\u001b[0m \u001b[0mmodel_params\u001b[0m\u001b[1;33m)\u001b[0m\u001b[1;33m.\u001b[0m\u001b[0mto\u001b[0m\u001b[1;33m(\u001b[0m\u001b[0mdevice\u001b[0m\u001b[1;33m)\u001b[0m\u001b[1;33m\u001b[0m\u001b[1;33m\u001b[0m\u001b[0m\n\u001b[0m\u001b[0;32m     40\u001b[0m             \u001b[0mResnet_model\u001b[0m \u001b[1;33m=\u001b[0m \u001b[0mmodels\u001b[0m\u001b[1;33m.\u001b[0m\u001b[0mresnet18\u001b[0m\u001b[1;33m(\u001b[0m\u001b[0mpretrained\u001b[0m\u001b[1;33m=\u001b[0m\u001b[1;32mTrue\u001b[0m\u001b[1;33m)\u001b[0m\u001b[1;33m.\u001b[0m\u001b[0mto\u001b[0m\u001b[1;33m(\u001b[0m\u001b[0mdevice\u001b[0m\u001b[1;33m)\u001b[0m\u001b[1;33m\u001b[0m\u001b[1;33m\u001b[0m\u001b[0m\n",
      "\u001b[1;32m~\\anaconda3\\lib\\site-packages\\torch\\nn\\modules\\module.py\u001b[0m in \u001b[0;36mto\u001b[1;34m(self, *args, **kwargs)\u001b[0m\n\u001b[0;32m    898\u001b[0m \u001b[1;33m\u001b[0m\u001b[0m\n\u001b[1;32m--> 899\u001b[1;33m         \u001b[1;32mreturn\u001b[0m \u001b[0mself\u001b[0m\u001b[1;33m.\u001b[0m\u001b[0m_apply\u001b[0m\u001b[1;33m(\u001b[0m\u001b[0mconvert\u001b[0m\u001b[1;33m)\u001b[0m\u001b[1;33m\u001b[0m\u001b[1;33m\u001b[0m\u001b[0m\n\u001b[0m\u001b[0;32m    900\u001b[0m \u001b[1;33m\u001b[0m\u001b[0m\n",
      "\u001b[1;32m~\\anaconda3\\lib\\site-packages\\torch\\nn\\modules\\module.py\u001b[0m in \u001b[0;36m_apply\u001b[1;34m(self, fn)\u001b[0m\n\u001b[0;32m    569\u001b[0m         \u001b[1;32mfor\u001b[0m \u001b[0mmodule\u001b[0m \u001b[1;32min\u001b[0m \u001b[0mself\u001b[0m\u001b[1;33m.\u001b[0m\u001b[0mchildren\u001b[0m\u001b[1;33m(\u001b[0m\u001b[1;33m)\u001b[0m\u001b[1;33m:\u001b[0m\u001b[1;33m\u001b[0m\u001b[1;33m\u001b[0m\u001b[0m\n\u001b[1;32m--> 570\u001b[1;33m             \u001b[0mmodule\u001b[0m\u001b[1;33m.\u001b[0m\u001b[0m_apply\u001b[0m\u001b[1;33m(\u001b[0m\u001b[0mfn\u001b[0m\u001b[1;33m)\u001b[0m\u001b[1;33m\u001b[0m\u001b[1;33m\u001b[0m\u001b[0m\n\u001b[0m\u001b[0;32m    571\u001b[0m \u001b[1;33m\u001b[0m\u001b[0m\n",
      "\u001b[1;32m~\\anaconda3\\lib\\site-packages\\torch\\nn\\modules\\rnn.py\u001b[0m in \u001b[0;36m_apply\u001b[1;34m(self, fn)\u001b[0m\n\u001b[0;32m    188\u001b[0m         \u001b[1;31m# Flattens params (on CUDA)\u001b[0m\u001b[1;33m\u001b[0m\u001b[1;33m\u001b[0m\u001b[0m\n\u001b[1;32m--> 189\u001b[1;33m         \u001b[0mself\u001b[0m\u001b[1;33m.\u001b[0m\u001b[0mflatten_parameters\u001b[0m\u001b[1;33m(\u001b[0m\u001b[1;33m)\u001b[0m\u001b[1;33m\u001b[0m\u001b[1;33m\u001b[0m\u001b[0m\n\u001b[0m\u001b[0;32m    190\u001b[0m \u001b[1;33m\u001b[0m\u001b[0m\n",
      "\u001b[1;32m~\\anaconda3\\lib\\site-packages\\torch\\nn\\modules\\rnn.py\u001b[0m in \u001b[0;36mflatten_parameters\u001b[1;34m(self)\u001b[0m\n\u001b[0;32m    174\u001b[0m                         \u001b[0mnum_weights\u001b[0m \u001b[1;33m+=\u001b[0m \u001b[1;36m1\u001b[0m\u001b[1;33m\u001b[0m\u001b[1;33m\u001b[0m\u001b[0m\n\u001b[1;32m--> 175\u001b[1;33m                     torch._cudnn_rnn_flatten_weight(\n\u001b[0m\u001b[0;32m    176\u001b[0m                         \u001b[0mself\u001b[0m\u001b[1;33m.\u001b[0m\u001b[0m_flat_weights\u001b[0m\u001b[1;33m,\u001b[0m \u001b[0mnum_weights\u001b[0m\u001b[1;33m,\u001b[0m\u001b[1;33m\u001b[0m\u001b[1;33m\u001b[0m\u001b[0m\n",
      "\u001b[1;31mKeyboardInterrupt\u001b[0m: ",
      "\nDuring handling of the above exception, another exception occurred:\n",
      "\u001b[1;31mAttributeError\u001b[0m                            Traceback (most recent call last)",
      "\u001b[1;32m~\\anaconda3\\lib\\site-packages\\IPython\\core\\interactiveshell.py\u001b[0m in \u001b[0;36mshowtraceback\u001b[1;34m(self, exc_tuple, filename, tb_offset, exception_only, running_compiled_code)\u001b[0m\n\u001b[0;32m   2063\u001b[0m                         \u001b[1;31m# in the engines. This should return a list of strings.\u001b[0m\u001b[1;33m\u001b[0m\u001b[1;33m\u001b[0m\u001b[0m\n\u001b[1;32m-> 2064\u001b[1;33m                         \u001b[0mstb\u001b[0m \u001b[1;33m=\u001b[0m \u001b[0mvalue\u001b[0m\u001b[1;33m.\u001b[0m\u001b[0m_render_traceback_\u001b[0m\u001b[1;33m(\u001b[0m\u001b[1;33m)\u001b[0m\u001b[1;33m\u001b[0m\u001b[1;33m\u001b[0m\u001b[0m\n\u001b[0m\u001b[0;32m   2065\u001b[0m                     \u001b[1;32mexcept\u001b[0m \u001b[0mException\u001b[0m\u001b[1;33m:\u001b[0m\u001b[1;33m\u001b[0m\u001b[1;33m\u001b[0m\u001b[0m\n",
      "\u001b[1;31mAttributeError\u001b[0m: 'KeyboardInterrupt' object has no attribute '_render_traceback_'",
      "\nDuring handling of the above exception, another exception occurred:\n",
      "\u001b[1;31mTypeError\u001b[0m                                 Traceback (most recent call last)",
      "    \u001b[1;31m[... skipping hidden 1 frame]\u001b[0m\n",
      "\u001b[1;32m~\\anaconda3\\lib\\site-packages\\IPython\\core\\interactiveshell.py\u001b[0m in \u001b[0;36mshowtraceback\u001b[1;34m(self, exc_tuple, filename, tb_offset, exception_only, running_compiled_code)\u001b[0m\n\u001b[0;32m   2064\u001b[0m                         \u001b[0mstb\u001b[0m \u001b[1;33m=\u001b[0m \u001b[0mvalue\u001b[0m\u001b[1;33m.\u001b[0m\u001b[0m_render_traceback_\u001b[0m\u001b[1;33m(\u001b[0m\u001b[1;33m)\u001b[0m\u001b[1;33m\u001b[0m\u001b[1;33m\u001b[0m\u001b[0m\n\u001b[0;32m   2065\u001b[0m                     \u001b[1;32mexcept\u001b[0m \u001b[0mException\u001b[0m\u001b[1;33m:\u001b[0m\u001b[1;33m\u001b[0m\u001b[1;33m\u001b[0m\u001b[0m\n\u001b[1;32m-> 2066\u001b[1;33m                         stb = self.InteractiveTB.structured_traceback(etype,\n\u001b[0m\u001b[0;32m   2067\u001b[0m                                             value, tb, tb_offset=tb_offset)\n\u001b[0;32m   2068\u001b[0m \u001b[1;33m\u001b[0m\u001b[0m\n",
      "\u001b[1;32m~\\anaconda3\\lib\\site-packages\\IPython\\core\\ultratb.py\u001b[0m in \u001b[0;36mstructured_traceback\u001b[1;34m(self, etype, value, tb, tb_offset, number_of_lines_of_context)\u001b[0m\n\u001b[0;32m   1365\u001b[0m         \u001b[1;32melse\u001b[0m\u001b[1;33m:\u001b[0m\u001b[1;33m\u001b[0m\u001b[1;33m\u001b[0m\u001b[0m\n\u001b[0;32m   1366\u001b[0m             \u001b[0mself\u001b[0m\u001b[1;33m.\u001b[0m\u001b[0mtb\u001b[0m \u001b[1;33m=\u001b[0m \u001b[0mtb\u001b[0m\u001b[1;33m\u001b[0m\u001b[1;33m\u001b[0m\u001b[0m\n\u001b[1;32m-> 1367\u001b[1;33m         return FormattedTB.structured_traceback(\n\u001b[0m\u001b[0;32m   1368\u001b[0m             self, etype, value, tb, tb_offset, number_of_lines_of_context)\n\u001b[0;32m   1369\u001b[0m \u001b[1;33m\u001b[0m\u001b[0m\n",
      "\u001b[1;32m~\\anaconda3\\lib\\site-packages\\IPython\\core\\ultratb.py\u001b[0m in \u001b[0;36mstructured_traceback\u001b[1;34m(self, etype, value, tb, tb_offset, number_of_lines_of_context)\u001b[0m\n\u001b[0;32m   1265\u001b[0m         \u001b[1;32mif\u001b[0m \u001b[0mmode\u001b[0m \u001b[1;32min\u001b[0m \u001b[0mself\u001b[0m\u001b[1;33m.\u001b[0m\u001b[0mverbose_modes\u001b[0m\u001b[1;33m:\u001b[0m\u001b[1;33m\u001b[0m\u001b[1;33m\u001b[0m\u001b[0m\n\u001b[0;32m   1266\u001b[0m             \u001b[1;31m# Verbose modes need a full traceback\u001b[0m\u001b[1;33m\u001b[0m\u001b[1;33m\u001b[0m\u001b[0m\n\u001b[1;32m-> 1267\u001b[1;33m             return VerboseTB.structured_traceback(\n\u001b[0m\u001b[0;32m   1268\u001b[0m                 \u001b[0mself\u001b[0m\u001b[1;33m,\u001b[0m \u001b[0metype\u001b[0m\u001b[1;33m,\u001b[0m \u001b[0mvalue\u001b[0m\u001b[1;33m,\u001b[0m \u001b[0mtb\u001b[0m\u001b[1;33m,\u001b[0m \u001b[0mtb_offset\u001b[0m\u001b[1;33m,\u001b[0m \u001b[0mnumber_of_lines_of_context\u001b[0m\u001b[1;33m\u001b[0m\u001b[1;33m\u001b[0m\u001b[0m\n\u001b[0;32m   1269\u001b[0m             )\n",
      "\u001b[1;32m~\\anaconda3\\lib\\site-packages\\IPython\\core\\ultratb.py\u001b[0m in \u001b[0;36mstructured_traceback\u001b[1;34m(self, etype, evalue, etb, tb_offset, number_of_lines_of_context)\u001b[0m\n\u001b[0;32m   1122\u001b[0m         \u001b[1;34m\"\"\"Return a nice text document describing the traceback.\"\"\"\u001b[0m\u001b[1;33m\u001b[0m\u001b[1;33m\u001b[0m\u001b[0m\n\u001b[0;32m   1123\u001b[0m \u001b[1;33m\u001b[0m\u001b[0m\n\u001b[1;32m-> 1124\u001b[1;33m         formatted_exception = self.format_exception_as_a_whole(etype, evalue, etb, number_of_lines_of_context,\n\u001b[0m\u001b[0;32m   1125\u001b[0m                                                                tb_offset)\n\u001b[0;32m   1126\u001b[0m \u001b[1;33m\u001b[0m\u001b[0m\n",
      "\u001b[1;32m~\\anaconda3\\lib\\site-packages\\IPython\\core\\ultratb.py\u001b[0m in \u001b[0;36mformat_exception_as_a_whole\u001b[1;34m(self, etype, evalue, etb, number_of_lines_of_context, tb_offset)\u001b[0m\n\u001b[0;32m   1080\u001b[0m \u001b[1;33m\u001b[0m\u001b[0m\n\u001b[0;32m   1081\u001b[0m \u001b[1;33m\u001b[0m\u001b[0m\n\u001b[1;32m-> 1082\u001b[1;33m         \u001b[0mlast_unique\u001b[0m\u001b[1;33m,\u001b[0m \u001b[0mrecursion_repeat\u001b[0m \u001b[1;33m=\u001b[0m \u001b[0mfind_recursion\u001b[0m\u001b[1;33m(\u001b[0m\u001b[0morig_etype\u001b[0m\u001b[1;33m,\u001b[0m \u001b[0mevalue\u001b[0m\u001b[1;33m,\u001b[0m \u001b[0mrecords\u001b[0m\u001b[1;33m)\u001b[0m\u001b[1;33m\u001b[0m\u001b[1;33m\u001b[0m\u001b[0m\n\u001b[0m\u001b[0;32m   1083\u001b[0m \u001b[1;33m\u001b[0m\u001b[0m\n\u001b[0;32m   1084\u001b[0m         \u001b[0mframes\u001b[0m \u001b[1;33m=\u001b[0m \u001b[0mself\u001b[0m\u001b[1;33m.\u001b[0m\u001b[0mformat_records\u001b[0m\u001b[1;33m(\u001b[0m\u001b[0mrecords\u001b[0m\u001b[1;33m,\u001b[0m \u001b[0mlast_unique\u001b[0m\u001b[1;33m,\u001b[0m \u001b[0mrecursion_repeat\u001b[0m\u001b[1;33m)\u001b[0m\u001b[1;33m\u001b[0m\u001b[1;33m\u001b[0m\u001b[0m\n",
      "\u001b[1;32m~\\anaconda3\\lib\\site-packages\\IPython\\core\\ultratb.py\u001b[0m in \u001b[0;36mfind_recursion\u001b[1;34m(etype, value, records)\u001b[0m\n\u001b[0;32m    380\u001b[0m     \u001b[1;31m# first frame (from in to out) that looks different.\u001b[0m\u001b[1;33m\u001b[0m\u001b[1;33m\u001b[0m\u001b[0m\n\u001b[0;32m    381\u001b[0m     \u001b[1;32mif\u001b[0m \u001b[1;32mnot\u001b[0m \u001b[0mis_recursion_error\u001b[0m\u001b[1;33m(\u001b[0m\u001b[0metype\u001b[0m\u001b[1;33m,\u001b[0m \u001b[0mvalue\u001b[0m\u001b[1;33m,\u001b[0m \u001b[0mrecords\u001b[0m\u001b[1;33m)\u001b[0m\u001b[1;33m:\u001b[0m\u001b[1;33m\u001b[0m\u001b[1;33m\u001b[0m\u001b[0m\n\u001b[1;32m--> 382\u001b[1;33m         \u001b[1;32mreturn\u001b[0m \u001b[0mlen\u001b[0m\u001b[1;33m(\u001b[0m\u001b[0mrecords\u001b[0m\u001b[1;33m)\u001b[0m\u001b[1;33m,\u001b[0m \u001b[1;36m0\u001b[0m\u001b[1;33m\u001b[0m\u001b[1;33m\u001b[0m\u001b[0m\n\u001b[0m\u001b[0;32m    383\u001b[0m \u001b[1;33m\u001b[0m\u001b[0m\n\u001b[0;32m    384\u001b[0m     \u001b[1;31m# Select filename, lineno, func_name to track frames with\u001b[0m\u001b[1;33m\u001b[0m\u001b[1;33m\u001b[0m\u001b[0m\n",
      "\u001b[1;31mTypeError\u001b[0m: object of type 'NoneType' has no len()"
     ]
    }
   ],
   "source": [
    "import torch.optim as optim\n",
    "from torch.utils.data import TensorDataset, DataLoader\n",
    "\n",
    "input_dim_met = 17\n",
    "output_dim_met = 512\n",
    "input_dim_image = 512 \n",
    "output_dim = 1\n",
    "layer_dim = 1\n",
    "dropout = 0\n",
    "n_epochs = 50\n",
    "weight_decay = 1e-6\n",
    "\n",
    "batch_size = [16]\n",
    "hidden_dim = [64]\n",
    "learning_rate = [0.001]\n",
    "    \n",
    "for batch in batch_size:\n",
    "    for hd in hidden_dim:\n",
    "        for lr in learning_rate:\n",
    "            print(\"Batch: \", batch, \" \", \" Hidden dim: \", hd, \" \", \"Learning rate: \", lr)\n",
    "            \n",
    "            train_loader_long = DataLoader(train_set_lstm_long, batch_size=batch, shuffle=True, drop_last=True)\n",
    "            val_loader_long = DataLoader(val_set_lstm_long, batch_size=batch, shuffle=True, drop_last=True)\n",
    "            test_loader_long = DataLoader(test_set_lstm_long, batch_size=batch, shuffle=True, drop_last=True)\n",
    "            \n",
    "            MANGKHUT_loader = DataLoader(MANGKHUT_set_lstm_long, batch_size=batch, shuffle=False, drop_last=True)\n",
    "            KONGREY_loader = DataLoader(KONGREY_set_lstm_long, batch_size=batch, shuffle=False, drop_last=True)\n",
    "            YUTU_loader = DataLoader(YUTU_set_lstm_long, batch_size=batch, shuffle=False, drop_last=True)\n",
    "            WUTIP_loader = DataLoader(WUTIP_set_lstm_long, batch_size=batch, shuffle=False, drop_last=True)\n",
    "\n",
    "            model_params = {'input_dim_met': input_dim_met,\n",
    "                            'output_dim_met': output_dim_met,\n",
    "                            'input_dim_image': input_dim_image,\n",
    "                            'hidden_dim' : hd,\n",
    "                            'layer_dim' : layer_dim,\n",
    "                            'output_dim' : output_dim,\n",
    "                            'dropout_prob' : dropout }\n",
    "\n",
    "            model = get_model('lstm', model_params).to(device)\n",
    "            Resnet_model = models.resnet18(pretrained=True).to(device)\n",
    "            \n",
    "            loss_fn = nn.MSELoss(reduction=\"mean\")\n",
    "            optimizer = optim.Adam([{\"params\": Resnet_model.parameters(), \"params\": model.parameters()}], lr=lr, weight_decay=weight_decay)\n",
    "            opt_long = Optimization_Long(model=model.to(device), loss_fn=loss_fn, optimizer=optimizer,resnet_model=Resnet_model.to(device))\n",
    "            opt_long.train(train_loader_long, val_loader_long, batch, n_epochs)\n",
    "            predictions, values = opt_long.evaluate(test_loader_long, batch, input_dim_met)\n",
    "            \n",
    "            predictions_MANGKHUT, values_MANGKHUT = opt_long.evaluate(MANGKHUT_loader, batch, input_dim_met)\n",
    "            predictions_KONGREY, values_KONGREY = opt_long.evaluate(KONGREY_loader, batch, input_dim_met)\n",
    "            predictions_YUTU, values_YUTU = opt_long.evaluate(YUTU_loader, batch, input_dim_met)\n",
    "            predictions_WUTIP, values_WUTIP = opt_long.evaluate(WUTIP_loader, batch, input_dim_met)\n",
    "            \n",
    "            opt_long.plot_losses()"
   ]
  },
  {
   "cell_type": "code",
   "execution_count": 93,
   "id": "e54811fe-b472-4acd-97e1-3f71e7312104",
   "metadata": {},
   "outputs": [],
   "source": [
    "train_loader_long = DataLoader(train_set_lstm_long, batch_size=16, shuffle=True, drop_last=True)\n",
    "val_loader_long = DataLoader(val_set_lstm_long, batch_size=16, shuffle=True, drop_last=True)\n",
    "test_loader_long = DataLoader(test_set_lstm_long, batch_size=16, shuffle=True, drop_last=True)\n",
    "\n",
    "MANGKHUT_loader = DataLoader(MANGKHUT_set_lstm_long, batch_size=16, shuffle=False, drop_last=True)\n",
    "KONGREY_loader = DataLoader(KONGREY_set_lstm_long, batch_size=16, shuffle=False, drop_last=True)\n",
    "YUTU_loader = DataLoader(YUTU_set_lstm_long, batch_size=16, shuffle=False, drop_last=True)\n",
    "WUTIP_loader = DataLoader(WUTIP_set_lstm_long, batch_size=16, shuffle=False, drop_last=True)"
   ]
  },
  {
   "cell_type": "code",
   "execution_count": 94,
   "id": "bddeaae4-0656-4da3-913b-a0d137195260",
   "metadata": {},
   "outputs": [],
   "source": [
    "model_long = torch.load('model_long')"
   ]
  },
  {
   "cell_type": "code",
   "execution_count": 95,
   "id": "8649302e-4e05-4a56-bfe7-6fc2aab88506",
   "metadata": {},
   "outputs": [],
   "source": [
    "loss_fn = nn.MSELoss(reduction=\"mean\")\n",
    "Resnet_model = models.resnet18(pretrained=True).to(device)\n",
    "optimizer = optim.Adam([{\"params\": Resnet_model.parameters(), \"params\": model_long.parameters()}], lr=0.001, weight_decay=1e-6)\n",
    "opt_long = Optimization_Long(model=model_long, loss_fn=loss_fn, optimizer=optimizer,resnet_model=Resnet_model.to(device))\n"
   ]
  },
  {
   "cell_type": "code",
   "execution_count": 96,
   "id": "d0d08015-7e06-4698-b2e1-a34d7e2a19d0",
   "metadata": {},
   "outputs": [],
   "source": [
    "predictions, values = opt_long.evaluate(test_loader_long, 16, 17)"
   ]
  },
  {
   "cell_type": "code",
   "execution_count": 97,
   "id": "f0496d6d-be8b-4c16-8b2a-4351d15b802c",
   "metadata": {},
   "outputs": [
    {
     "data": {
      "text/plain": [
       "179"
      ]
     },
     "execution_count": 97,
     "metadata": {},
     "output_type": "execute_result"
    }
   ],
   "source": [
    "len(predictions)"
   ]
  },
  {
   "cell_type": "code",
   "execution_count": 98,
   "id": "30d0a408-ce31-400b-8eae-de9eefff3f81",
   "metadata": {},
   "outputs": [
    {
     "data": {
      "text/plain": [
       "179"
      ]
     },
     "execution_count": 98,
     "metadata": {},
     "output_type": "execute_result"
    }
   ],
   "source": [
    "len(values)"
   ]
  },
  {
   "cell_type": "code",
   "execution_count": 101,
   "id": "bcd8edbf-918e-4c60-8c3d-79af479886b6",
   "metadata": {},
   "outputs": [],
   "source": [
    "vals = np.concatenate(values, axis=0).ravel()\n",
    "preds = np.concatenate(predictions, axis=0).ravel()"
   ]
  },
  {
   "cell_type": "code",
   "execution_count": 102,
   "id": "f5b03e0d-b3e6-4ea0-816b-0c29862308f1",
   "metadata": {},
   "outputs": [
    {
     "data": {
      "text/plain": [
       "(2864,)"
      ]
     },
     "execution_count": 102,
     "metadata": {},
     "output_type": "execute_result"
    }
   ],
   "source": [
    "vals.shape"
   ]
  },
  {
   "cell_type": "code",
   "execution_count": 103,
   "id": "6c05b5d6-bbf9-4917-bd46-543ab70ad15d",
   "metadata": {},
   "outputs": [],
   "source": [
    "for i in range(len(vals)):\n",
    "    vals[i] = scaler_long.inverse_transform(vals[i].reshape(1, -1))"
   ]
  },
  {
   "cell_type": "code",
   "execution_count": 104,
   "id": "c0bf54f5-6515-4861-811b-bc2e12e193fa",
   "metadata": {},
   "outputs": [
    {
     "data": {
      "text/plain": [
       "(2864,)"
      ]
     },
     "execution_count": 104,
     "metadata": {},
     "output_type": "execute_result"
    }
   ],
   "source": [
    "preds.shape"
   ]
  },
  {
   "cell_type": "code",
   "execution_count": 105,
   "id": "5b913d00-22b6-4541-90f9-df14cf065d86",
   "metadata": {},
   "outputs": [],
   "source": [
    "for i in range(len(preds)):\n",
    "    preds[i] = scaler_long.inverse_transform(preds[i].reshape(1, -1))"
   ]
  },
  {
   "cell_type": "code",
   "execution_count": 106,
   "id": "ca5f3c7b-db30-48ff-9fe3-e128099632df",
   "metadata": {},
   "outputs": [
    {
     "data": {
      "text/plain": [
       "(2864,)"
      ]
     },
     "execution_count": 106,
     "metadata": {},
     "output_type": "execute_result"
    }
   ],
   "source": [
    "vals.shape"
   ]
  },
  {
   "cell_type": "code",
   "execution_count": 107,
   "id": "78e8e4d4-6a95-422c-934a-e623be4d0ecf",
   "metadata": {},
   "outputs": [
    {
     "data": {
      "text/plain": [
       "(2864,)"
      ]
     },
     "execution_count": 107,
     "metadata": {},
     "output_type": "execute_result"
    }
   ],
   "source": [
    "preds.shape"
   ]
  },
  {
   "cell_type": "code",
   "execution_count": 108,
   "id": "0f13dcc7-da85-49d4-a534-4324d3ba2c04",
   "metadata": {},
   "outputs": [],
   "source": [
    "from sklearn.metrics import mean_squared_error\n",
    "import math"
   ]
  },
  {
   "cell_type": "code",
   "execution_count": 109,
   "id": "eaa21ec6-f13c-4af9-b9cc-f4b67693e588",
   "metadata": {},
   "outputs": [
    {
     "name": "stdout",
     "output_type": "stream",
     "text": [
      "0.7479819\n",
      "0.8648594717855582\n"
     ]
    }
   ],
   "source": [
    "print(mean_squared_error(vals, preds))\n",
    "print(math.sqrt(mean_squared_error(vals, preds)))"
   ]
  },
  {
   "cell_type": "code",
   "execution_count": 110,
   "id": "b2af7cbb-b4e5-47cc-bfbb-97f9d765b437",
   "metadata": {},
   "outputs": [],
   "source": [
    "vals_from_long = vals"
   ]
  },
  {
   "cell_type": "code",
   "execution_count": 111,
   "id": "2b53f216-8e0a-4197-9fa6-6101952ee6f8",
   "metadata": {},
   "outputs": [],
   "source": [
    "preds_from_long = preds"
   ]
  },
  {
   "cell_type": "code",
   "execution_count": 112,
   "id": "49abdd88-5c58-4a44-8658-80752a78830d",
   "metadata": {},
   "outputs": [
    {
     "name": "stdout",
     "output_type": "stream",
     "text": [
      "Stored 'vals_from_long' (ndarray)\n"
     ]
    }
   ],
   "source": [
    "%store vals_from_long"
   ]
  },
  {
   "cell_type": "code",
   "execution_count": 113,
   "id": "aaecb3f1-8ed7-4dcd-8265-2ef34fa7aa7c",
   "metadata": {},
   "outputs": [
    {
     "name": "stdout",
     "output_type": "stream",
     "text": [
      "Stored 'preds_from_long' (ndarray)\n"
     ]
    }
   ],
   "source": [
    "%store preds_from_long"
   ]
  },
  {
   "cell_type": "code",
   "execution_count": 128,
   "id": "2d7303e6-21e0-4044-ac96-ba99d88b7adc",
   "metadata": {},
   "outputs": [
    {
     "data": {
      "text/plain": [
       "array([126.28939, 131.32478, 124.7782 , ..., 125.89428, 142.66652,\n",
       "       141.8792 ], dtype=float32)"
      ]
     },
     "execution_count": 128,
     "metadata": {},
     "output_type": "execute_result"
    }
   ],
   "source": [
    "preds_from_long"
   ]
  },
  {
   "cell_type": "code",
   "execution_count": 114,
   "id": "238cf64e-b693-4dd8-ae7b-15af4a6ed601",
   "metadata": {},
   "outputs": [],
   "source": [
    "predictions_MANGKHUT, values_MANGKHUT = opt_long.evaluate(MANGKHUT_loader, 16, 17)\n",
    "predictions_KONGREY, values_KONGREY = opt_long.evaluate(KONGREY_loader, 16, 17)\n",
    "predictions_YUTU, values_YUTU = opt_long.evaluate(YUTU_loader, 16, 17)\n",
    "predictions_WUTIP, values_WUTIP = opt_long.evaluate(WUTIP_loader, 16, 17)"
   ]
  },
  {
   "cell_type": "code",
   "execution_count": 129,
   "id": "10693823-283c-4220-a822-76411d6defed",
   "metadata": {},
   "outputs": [],
   "source": [
    "def longitude_outcome(value, pred):\n",
    "    vals = np.concatenate(value, axis=0).ravel()\n",
    "    preds = np.concatenate(pred, axis=0).ravel()\n",
    "    for i in range(len(vals)):\n",
    "        vals[i] = scaler_long.inverse_transform(vals[i].reshape(1, -1))\n",
    "    for i in range(len(preds)):\n",
    "        preds[i] = scaler_long.inverse_transform(preds[i].reshape(1, -1))\n",
    "    return vals,preds"
   ]
  },
  {
   "cell_type": "code",
   "execution_count": 130,
   "id": "6d0d1c0c-20f7-428f-a8db-41011ddbab3c",
   "metadata": {},
   "outputs": [],
   "source": [
    "vals_mang_long, pred_mang_long = longitude_outcome(values_MANGKHUT, predictions_MANGKHUT)"
   ]
  },
  {
   "cell_type": "code",
   "execution_count": 131,
   "id": "bb0b9032-d133-4bbe-b190-6f57792b86cd",
   "metadata": {},
   "outputs": [
    {
     "name": "stdout",
     "output_type": "stream",
     "text": [
      "0.103510655\n",
      "0.3217307188671014\n"
     ]
    }
   ],
   "source": [
    "print(mean_squared_error(vals_mang_long, pred_mang_long))\n",
    "print(math.sqrt(mean_squared_error(vals_mang_long, pred_mang_long)))"
   ]
  },
  {
   "cell_type": "code",
   "execution_count": 132,
   "id": "3588b3e6-4ceb-493f-ba65-01a56b447efd",
   "metadata": {},
   "outputs": [
    {
     "name": "stdout",
     "output_type": "stream",
     "text": [
      "Stored 'vals_mang_long' (ndarray)\n",
      "Stored 'pred_mang_long' (ndarray)\n"
     ]
    }
   ],
   "source": [
    "%store vals_mang_long\n",
    "%store pred_mang_long"
   ]
  },
  {
   "cell_type": "code",
   "execution_count": 133,
   "id": "bcd77722-462d-4e9e-80b4-5998885466a1",
   "metadata": {},
   "outputs": [],
   "source": [
    "vals_kong_long, pred_kong_long = longitude_outcome(values_KONGREY, predictions_KONGREY)"
   ]
  },
  {
   "cell_type": "code",
   "execution_count": 134,
   "id": "7b8c31f9-509c-481e-9032-a8ee25328b78",
   "metadata": {},
   "outputs": [
    {
     "name": "stdout",
     "output_type": "stream",
     "text": [
      "0.16221581\n",
      "0.40276024381064185\n"
     ]
    }
   ],
   "source": [
    "print(mean_squared_error(vals_kong_long, pred_kong_long))\n",
    "print(math.sqrt(mean_squared_error(vals_kong_long, pred_kong_long)))"
   ]
  },
  {
   "cell_type": "code",
   "execution_count": 135,
   "id": "45b9baf0-8086-4ce8-a5f8-1a56e936da43",
   "metadata": {},
   "outputs": [
    {
     "name": "stdout",
     "output_type": "stream",
     "text": [
      "Stored 'vals_kong_long' (ndarray)\n",
      "Stored 'pred_kong_long' (ndarray)\n"
     ]
    }
   ],
   "source": [
    "%store vals_kong_long\n",
    "%store pred_kong_long"
   ]
  },
  {
   "cell_type": "code",
   "execution_count": 136,
   "id": "fd963980-1d71-4875-bafa-b5f4cc4b29b4",
   "metadata": {},
   "outputs": [],
   "source": [
    "vals_yutu_long, pred_yutu_long = longitude_outcome(values_YUTU, predictions_YUTU)"
   ]
  },
  {
   "cell_type": "code",
   "execution_count": 137,
   "id": "ebb3860b-d3a7-40ca-894e-b678bf809c8c",
   "metadata": {},
   "outputs": [
    {
     "name": "stdout",
     "output_type": "stream",
     "text": [
      "0.46250066\n",
      "0.680074011863089\n"
     ]
    }
   ],
   "source": [
    "print(mean_squared_error(vals_yutu_long, pred_yutu_long))\n",
    "print(math.sqrt(mean_squared_error(vals_yutu_long, pred_yutu_long)))"
   ]
  },
  {
   "cell_type": "code",
   "execution_count": 138,
   "id": "ed1c6895-6b9b-4879-a095-16e67bb5c1cf",
   "metadata": {},
   "outputs": [
    {
     "name": "stdout",
     "output_type": "stream",
     "text": [
      "Stored 'vals_yutu_long' (ndarray)\n",
      "Stored 'pred_yutu_long' (ndarray)\n"
     ]
    }
   ],
   "source": [
    "%store vals_yutu_long\n",
    "%store pred_yutu_long"
   ]
  },
  {
   "cell_type": "code",
   "execution_count": 139,
   "id": "ce7be2e8-49f3-4e31-bfa1-6dabd523bdb9",
   "metadata": {},
   "outputs": [],
   "source": [
    "vals_wutip_long, pred_wutip_long = longitude_outcome(values_WUTIP, predictions_WUTIP)"
   ]
  },
  {
   "cell_type": "code",
   "execution_count": 140,
   "id": "4fb2f6d0-8d1c-4269-95d3-b4d22b10f5c1",
   "metadata": {},
   "outputs": [
    {
     "name": "stdout",
     "output_type": "stream",
     "text": [
      "0.19874887\n",
      "0.445812597045075\n"
     ]
    }
   ],
   "source": [
    "print(mean_squared_error(vals_wutip_long, pred_wutip_long))\n",
    "print(math.sqrt(mean_squared_error(vals_wutip_long, pred_wutip_long)))"
   ]
  },
  {
   "cell_type": "code",
   "execution_count": 141,
   "id": "7bffd991-5939-4661-b00b-e63538d09c9f",
   "metadata": {},
   "outputs": [
    {
     "name": "stdout",
     "output_type": "stream",
     "text": [
      "Stored 'vals_wutip_long' (ndarray)\n",
      "Stored 'pred_wutip_long' (ndarray)\n"
     ]
    }
   ],
   "source": [
    "%store vals_wutip_long\n",
    "%store pred_wutip_long"
   ]
  },
  {
   "cell_type": "code",
   "execution_count": null,
   "id": "fc9698bd-dbf3-4bb9-8b16-bb3a3937de4f",
   "metadata": {},
   "outputs": [],
   "source": []
  },
  {
   "cell_type": "code",
   "execution_count": null,
   "id": "365ac258-6f11-4a3f-900d-752e241a2ce2",
   "metadata": {},
   "outputs": [],
   "source": []
  },
  {
   "cell_type": "code",
   "execution_count": null,
   "id": "05d0227e-45e4-4e95-a197-c7aa3fb30291",
   "metadata": {},
   "outputs": [],
   "source": []
  },
  {
   "cell_type": "code",
   "execution_count": null,
   "id": "5480fc5d-6659-423a-a828-dd118bdf1ae5",
   "metadata": {},
   "outputs": [],
   "source": []
  },
  {
   "cell_type": "code",
   "execution_count": null,
   "id": "36b6a1b9-1594-4570-8577-1f3976d9f225",
   "metadata": {},
   "outputs": [],
   "source": []
  },
  {
   "cell_type": "code",
   "execution_count": null,
   "id": "3c6f3262-ffb0-4477-978b-83da1837454c",
   "metadata": {},
   "outputs": [],
   "source": []
  },
  {
   "cell_type": "code",
   "execution_count": null,
   "id": "7171ce60-0a51-4979-bbc6-79a677e5b5fe",
   "metadata": {},
   "outputs": [],
   "source": []
  },
  {
   "cell_type": "code",
   "execution_count": null,
   "id": "4f5fa886-07f1-497a-848b-eeabe85a7231",
   "metadata": {},
   "outputs": [],
   "source": [
    "predictions_MANGKHUT, values_MANGKHUT = opt_long.evaluate(MANGKHUT_loader, batch, input_dim_met)\n",
    "predictions_KONGREY, values_KONGREY = opt_long.evaluate(KONGREY_loader, batch, input_dim_met)\n",
    "predictions_YUTU, values_YUTU = opt_long.evaluate(YUTU_loader, batch, input_dim_met)\n",
    "predictions_WUTIP, values_WUTIP = opt_long.evaluate(WUTIP_loader, batch, input_dim_met)"
   ]
  },
  {
   "cell_type": "code",
   "execution_count": null,
   "id": "caa5178b-15b1-4f28-bc06-21bf97758dad",
   "metadata": {},
   "outputs": [],
   "source": []
  },
  {
   "cell_type": "code",
   "execution_count": null,
   "id": "05fd7d58-44cd-49a7-b0a8-8e19d46d4afa",
   "metadata": {},
   "outputs": [],
   "source": []
  },
  {
   "cell_type": "code",
   "execution_count": 107,
   "id": "63bed448-c4fa-4691-b91b-f4c6e11aacb7",
   "metadata": {},
   "outputs": [],
   "source": [
    "def longitude_outcome(value, pred):\n",
    "    vals = np.concatenate(value, axis=0).ravel()\n",
    "    preds = np.concatenate(pred, axis=0).ravel()\n",
    "    for i in range(len(vals)):\n",
    "        vals[i] = scaler_long.inverse_transform(vals[i].reshape(1, -1))\n",
    "    for i in range(len(preds)):\n",
    "        preds[i] = scaler_long.inverse_transform(preds[i].reshape(1, -1))\n",
    "    return vals,preds"
   ]
  },
  {
   "cell_type": "code",
   "execution_count": 108,
   "id": "8d66131f-0877-4887-9a2a-16ad4b27fd7c",
   "metadata": {},
   "outputs": [],
   "source": [
    "vals_mang_long, pred_mang_long = longitude_outcome(values_MANGKHUT, predictions_MANGKHUT)"
   ]
  },
  {
   "cell_type": "code",
   "execution_count": 109,
   "id": "6f6530c8-d868-4f59-bd7d-096d5ef293a9",
   "metadata": {},
   "outputs": [
    {
     "name": "stdout",
     "output_type": "stream",
     "text": [
      "0.5254472\n",
      "0.724877361908821\n"
     ]
    }
   ],
   "source": [
    "print(mean_squared_error(vals_mang_long, pred_mang_long))\n",
    "print(math.sqrt(mean_squared_error(vals_mang_long, pred_mang_long)))"
   ]
  },
  {
   "cell_type": "code",
   "execution_count": 110,
   "id": "fbcde777-d291-443e-b336-874a79f33888",
   "metadata": {},
   "outputs": [],
   "source": [
    "vals_kong_long, pred_kong_long = longitude_outcome(values_KONGREY, predictions_KONGREY)"
   ]
  },
  {
   "cell_type": "code",
   "execution_count": 111,
   "id": "95efd8ad-f646-4c2f-899e-7c60de909199",
   "metadata": {},
   "outputs": [
    {
     "name": "stdout",
     "output_type": "stream",
     "text": [
      "0.21725883\n",
      "0.466110315159588\n"
     ]
    }
   ],
   "source": [
    "print(mean_squared_error(vals_kong_long, pred_kong_long))\n",
    "print(math.sqrt(mean_squared_error(vals_kong_long, pred_kong_long)))"
   ]
  },
  {
   "cell_type": "code",
   "execution_count": 112,
   "id": "4c2f7336-eac7-4718-92ea-6e03ae50d6eb",
   "metadata": {},
   "outputs": [],
   "source": [
    "vals_yutu_long, pred_yutu_long = longitude_outcome(values_YUTU, predictions_YUTU)"
   ]
  },
  {
   "cell_type": "code",
   "execution_count": 113,
   "id": "9e0a2401-d95d-4368-bb04-3c80b76b9961",
   "metadata": {},
   "outputs": [
    {
     "name": "stdout",
     "output_type": "stream",
     "text": [
      "0.31987748\n",
      "0.5655771171998624\n"
     ]
    }
   ],
   "source": [
    "print(mean_squared_error(vals_yutu_long, pred_yutu_long))\n",
    "print(math.sqrt(mean_squared_error(vals_yutu_long, pred_yutu_long)))"
   ]
  },
  {
   "cell_type": "code",
   "execution_count": 114,
   "id": "969cf522-dc6f-433a-8fa2-9595b74d5b31",
   "metadata": {},
   "outputs": [],
   "source": [
    "vals_wutip_long, pred_wutip_long = longitude_outcome(values_WUTIP, predictions_WUTIP)"
   ]
  },
  {
   "cell_type": "code",
   "execution_count": 115,
   "id": "2af5b777-9114-4529-973d-02ee030f2d2d",
   "metadata": {},
   "outputs": [
    {
     "name": "stdout",
     "output_type": "stream",
     "text": [
      "0.26697165\n",
      "0.5166929917653329\n"
     ]
    }
   ],
   "source": [
    "print(mean_squared_error(vals_wutip_long, pred_wutip_long))\n",
    "print(math.sqrt(mean_squared_error(vals_wutip_long, pred_wutip_long)))"
   ]
  },
  {
   "cell_type": "code",
   "execution_count": 116,
   "id": "35c44fd9-15e3-42d4-992e-a7d6d200cc09",
   "metadata": {
    "collapsed": true,
    "jupyter": {
     "outputs_hidden": true
    },
    "tags": []
   },
   "outputs": [
    {
     "data": {
      "text/plain": [
       "[165.9720001220703,\n",
       " 165.3000030517578,\n",
       " 164.4429931640625,\n",
       " 163.60000610351562,\n",
       " 162.9919891357422,\n",
       " 162.39999389648438,\n",
       " 161.6529998779297,\n",
       " 160.8000030517578,\n",
       " 159.88699340820312,\n",
       " 158.89999389648438,\n",
       " 157.85699462890625,\n",
       " 156.8000030517578,\n",
       " 155.76199340820312,\n",
       " 154.8000030517578,\n",
       " 154.0080108642578,\n",
       " 153.1999969482422,\n",
       " 152.17999267578125,\n",
       " 151.09999084472656,\n",
       " 150.07000732421875,\n",
       " 149.10000610351562,\n",
       " 148.23500061035156,\n",
       " 147.39999389648438,\n",
       " 146.47799682617188,\n",
       " 145.60000610351562,\n",
       " 144.87799072265625,\n",
       " 144.1999969482422,\n",
       " 143.45700073242188,\n",
       " 142.6999969482422,\n",
       " 141.9429931640625,\n",
       " 141.1999969482422,\n",
       " 140.47000122070312,\n",
       " 139.8000030517578,\n",
       " 139.25,\n",
       " 138.6999969482422,\n",
       " 138.0,\n",
       " 137.3000030517578,\n",
       " 136.72000122070312,\n",
       " 136.1999969482422,\n",
       " 135.71499633789062,\n",
       " 135.1999969482422,\n",
       " 134.5800018310547,\n",
       " 133.89999389648438,\n",
       " 133.19200134277344,\n",
       " 132.5,\n",
       " 131.88499450683594,\n",
       " 131.3000030517578,\n",
       " 130.69200134277344,\n",
       " 130.09999084472656,\n",
       " 129.5419921875,\n",
       " 129.0,\n",
       " 128.44200134277344,\n",
       " 127.9000015258789,\n",
       " 127.41499328613281,\n",
       " 126.90000915527344,\n",
       " 126.28800201416016,\n",
       " 125.60000610351562,\n",
       " 124.88700866699219,\n",
       " 124.10000610351562,\n",
       " 123.19300079345703,\n",
       " 122.29999542236328,\n",
       " 121.56199645996094,\n",
       " 120.9000015258789,\n",
       " 120.25000762939453,\n",
       " 119.5999984741211,\n",
       " 118.89999389648438,\n",
       " 118.20000457763672,\n",
       " 117.56400299072266,\n",
       " 116.9000015258789,\n",
       " 116.12999725341797,\n",
       " 115.30000305175781,\n",
       " 115.03500366210938,\n",
       " 114.76700592041016,\n",
       " 114.4939956665039,\n",
       " 114.21100616455078,\n",
       " 113.91400146484375,\n",
       " 113.60000610351562,\n",
       " 113.24400329589844,\n",
       " 112.86900329589844,\n",
       " 112.48599243164062,\n",
       " 112.10599517822266]"
      ]
     },
     "execution_count": 116,
     "metadata": {},
     "output_type": "execute_result"
    }
   ],
   "source": [
    "vals_mang_long.tolist()"
   ]
  },
  {
   "cell_type": "code",
   "execution_count": 117,
   "id": "6e540da2-ec98-42a4-91fa-9993c827af35",
   "metadata": {
    "collapsed": true,
    "jupyter": {
     "outputs_hidden": true
    },
    "tags": []
   },
   "outputs": [
    {
     "data": {
      "text/plain": [
       "[164.9572296142578,\n",
       " 164.30792236328125,\n",
       " 163.6926727294922,\n",
       " 163.3903045654297,\n",
       " 162.11338806152344,\n",
       " 161.5274200439453,\n",
       " 160.71974182128906,\n",
       " 159.8291473388672,\n",
       " 159.5810546875,\n",
       " 158.41946411132812,\n",
       " 157.5498046875,\n",
       " 156.2412872314453,\n",
       " 155.4806365966797,\n",
       " 154.98341369628906,\n",
       " 152.9163818359375,\n",
       " 152.3780059814453,\n",
       " 151.74977111816406,\n",
       " 150.9011688232422,\n",
       " 149.8685302734375,\n",
       " 148.63681030273438,\n",
       " 147.9139404296875,\n",
       " 146.96005249023438,\n",
       " 146.30056762695312,\n",
       " 145.13418579101562,\n",
       " 143.60037231445312,\n",
       " 143.74612426757812,\n",
       " 142.7760772705078,\n",
       " 142.03192138671875,\n",
       " 141.3844757080078,\n",
       " 140.40919494628906,\n",
       " 139.6245880126953,\n",
       " 139.33123779296875,\n",
       " 138.6431427001953,\n",
       " 138.38388061523438,\n",
       " 137.63385009765625,\n",
       " 136.8529052734375,\n",
       " 136.25189208984375,\n",
       " 135.09803771972656,\n",
       " 134.98077392578125,\n",
       " 134.51881408691406,\n",
       " 134.26022338867188,\n",
       " 133.69802856445312,\n",
       " 132.93760681152344,\n",
       " 132.12130737304688,\n",
       " 131.42547607421875,\n",
       " 130.69149780273438,\n",
       " 130.52378845214844,\n",
       " 129.7166748046875,\n",
       " 129.5108184814453,\n",
       " 128.71200561523438,\n",
       " 128.29953002929688,\n",
       " 127.93496704101562,\n",
       " 127.28291320800781,\n",
       " 126.5925064086914,\n",
       " 126.34034729003906,\n",
       " 125.80662536621094,\n",
       " 125.0699462890625,\n",
       " 124.06470489501953,\n",
       " 123.27428436279297,\n",
       " 122.30052185058594,\n",
       " 121.4571762084961,\n",
       " 120.76322174072266,\n",
       " 120.16739654541016,\n",
       " 119.62630462646484,\n",
       " 118.6495590209961,\n",
       " 118.39540100097656,\n",
       " 117.72712707519531,\n",
       " 116.85131072998047,\n",
       " 116.2561264038086,\n",
       " 115.76068878173828,\n",
       " 114.79882049560547,\n",
       " 114.68224334716797,\n",
       " 114.39884948730469,\n",
       " 113.87911224365234,\n",
       " 113.85404205322266,\n",
       " 113.54395294189453,\n",
       " 112.89379119873047,\n",
       " 112.94711303710938,\n",
       " 112.54936218261719,\n",
       " 112.583740234375]"
      ]
     },
     "execution_count": 117,
     "metadata": {},
     "output_type": "execute_result"
    }
   ],
   "source": [
    "pred_mang_long.tolist()"
   ]
  },
  {
   "cell_type": "code",
   "execution_count": 118,
   "id": "02b7a95f-06b4-4ca6-849e-a4dd425b6737",
   "metadata": {
    "collapsed": true,
    "jupyter": {
     "outputs_hidden": true
    },
    "tags": []
   },
   "outputs": [
    {
     "data": {
      "text/plain": [
       "[150.3800048828125,\n",
       " 149.60000610351562,\n",
       " 148.7989959716797,\n",
       " 148.0,\n",
       " 147.29400634765625,\n",
       " 146.5,\n",
       " 145.5,\n",
       " 144.1999969482422,\n",
       " 143.10400390625,\n",
       " 142.1999969482422,\n",
       " 141.3820037841797,\n",
       " 140.6999969482422,\n",
       " 140.09800720214844,\n",
       " 139.60000610351562,\n",
       " 139.18499755859375,\n",
       " 138.8000030517578,\n",
       " 138.34300231933594,\n",
       " 137.89999389648438,\n",
       " 137.53500366210938,\n",
       " 137.20001220703125,\n",
       " 136.84201049804688,\n",
       " 136.5,\n",
       " 136.1999969482422,\n",
       " 135.90000915527344,\n",
       " 135.56500244140625,\n",
       " 135.1999969482422,\n",
       " 134.80799865722656,\n",
       " 134.40000915527344,\n",
       " 134.0070037841797,\n",
       " 133.60000610351562,\n",
       " 133.14199829101562,\n",
       " 132.6999969482422,\n",
       " 132.3419952392578,\n",
       " 132.0,\n",
       " 131.614990234375,\n",
       " 131.1999969482422,\n",
       " 130.73500061035156,\n",
       " 130.3000030517578,\n",
       " 129.97000122070312,\n",
       " 129.6999969482422,\n",
       " 129.44200134277344,\n",
       " 129.20001220703125,\n",
       " 128.95700073242188,\n",
       " 128.6999969482422,\n",
       " 128.39999389648438,\n",
       " 128.10000610351562,\n",
       " 127.84199523925781,\n",
       " 127.5999984741211,\n",
       " 127.35000610351562,\n",
       " 127.10000610351562,\n",
       " 126.8499984741211,\n",
       " 126.5999984741211,\n",
       " 126.3429946899414,\n",
       " 126.0999984741211,\n",
       " 125.85499572753906,\n",
       " 125.69999694824219,\n",
       " 125.71900177001953,\n",
       " 125.80000305175781,\n",
       " 125.74199676513672,\n",
       " 125.80000305175781,\n",
       " 126.11000061035156,\n",
       " 126.69999694824219,\n",
       " 127.58100128173828,\n",
       " 128.59999084472656]"
      ]
     },
     "execution_count": 118,
     "metadata": {},
     "output_type": "execute_result"
    }
   ],
   "source": [
    "vals_kong_long.tolist()"
   ]
  },
  {
   "cell_type": "code",
   "execution_count": 119,
   "id": "7cef4e09-49b9-4edd-baab-22cdf285f777",
   "metadata": {
    "collapsed": true,
    "jupyter": {
     "outputs_hidden": true
    },
    "tags": []
   },
   "outputs": [
    {
     "data": {
      "text/plain": [
       "[149.8234405517578,\n",
       " 148.66371154785156,\n",
       " 148.67137145996094,\n",
       " 147.46824645996094,\n",
       " 146.62908935546875,\n",
       " 146.2799835205078,\n",
       " 145.21817016601562,\n",
       " 144.40435791015625,\n",
       " 142.71522521972656,\n",
       " 141.66244506835938,\n",
       " 141.2237091064453,\n",
       " 140.2471923828125,\n",
       " 139.95986938476562,\n",
       " 139.1456298828125,\n",
       " 138.65721130371094,\n",
       " 138.3696746826172,\n",
       " 137.46437072753906,\n",
       " 137.51055908203125,\n",
       " 137.00721740722656,\n",
       " 136.48341369628906,\n",
       " 136.54254150390625,\n",
       " 136.02734375,\n",
       " 135.88027954101562,\n",
       " 135.09278869628906,\n",
       " 135.4301300048828,\n",
       " 134.6202850341797,\n",
       " 134.41773986816406,\n",
       " 134.30517578125,\n",
       " 133.50254821777344,\n",
       " 133.339111328125,\n",
       " 133.1425018310547,\n",
       " 132.45150756835938,\n",
       " 132.3412628173828,\n",
       " 131.61907958984375,\n",
       " 131.38107299804688,\n",
       " 131.32623291015625,\n",
       " 130.78504943847656,\n",
       " 130.2030029296875,\n",
       " 129.9090576171875,\n",
       " 129.56619262695312,\n",
       " 129.428466796875,\n",
       " 128.66905212402344,\n",
       " 129.28985595703125,\n",
       " 128.3940887451172,\n",
       " 128.31314086914062,\n",
       " 128.0523681640625,\n",
       " 127.77731323242188,\n",
       " 127.59346008300781,\n",
       " 127.64514923095703,\n",
       " 126.69335174560547,\n",
       " 126.5249252319336,\n",
       " 126.24608612060547,\n",
       " 126.21379852294922,\n",
       " 126.04107666015625,\n",
       " 125.52288818359375,\n",
       " 125.90594482421875,\n",
       " 125.60186767578125,\n",
       " 125.8000717163086,\n",
       " 125.76124572753906,\n",
       " 126.11378479003906,\n",
       " 125.96420288085938,\n",
       " 126.62570190429688,\n",
       " 126.81362915039062,\n",
       " 128.18020629882812]"
      ]
     },
     "execution_count": 119,
     "metadata": {},
     "output_type": "execute_result"
    }
   ],
   "source": [
    "pred_kong_long.tolist()"
   ]
  },
  {
   "cell_type": "code",
   "execution_count": 120,
   "id": "58041eb3-8814-443e-b20b-61eac04d700c",
   "metadata": {
    "collapsed": true,
    "jupyter": {
     "outputs_hidden": true
    },
    "tags": []
   },
   "outputs": [
    {
     "data": {
      "text/plain": [
       "[157.97000122070312,\n",
       " 157.59999084472656,\n",
       " 157.17201232910156,\n",
       " 156.6999969482422,\n",
       " 156.14300537109375,\n",
       " 155.60000610351562,\n",
       " 155.19200134277344,\n",
       " 154.8000030517578,\n",
       " 154.31500244140625,\n",
       " 153.8000030517578,\n",
       " 153.31500244140625,\n",
       " 152.8000030517578,\n",
       " 152.20799255371094,\n",
       " 151.60000610351562,\n",
       " 151.02700805664062,\n",
       " 150.5,\n",
       " 150.02000427246094,\n",
       " 149.60000610351562,\n",
       " 149.25,\n",
       " 148.90000915527344,\n",
       " 148.46499633789062,\n",
       " 148.0,\n",
       " 147.5500030517578,\n",
       " 147.09999084472656,\n",
       " 146.65699768066406,\n",
       " 146.1999969482422,\n",
       " 145.71499633789062,\n",
       " 145.1999969482422,\n",
       " 144.6429901123047,\n",
       " 144.10000610351562,\n",
       " 143.63499450683594,\n",
       " 143.1999969482422,\n",
       " 142.74200439453125,\n",
       " 142.3000030517578,\n",
       " 141.9219970703125,\n",
       " 141.5,\n",
       " 140.92999267578125,\n",
       " 140.3000030517578,\n",
       " 139.71499633789062,\n",
       " 139.09999084472656,\n",
       " 138.4219970703125,\n",
       " 137.6999969482422,\n",
       " 136.95799255371094,\n",
       " 136.1999969482422,\n",
       " 135.44200134277344,\n",
       " 134.6999969482422,\n",
       " 133.97000122070312,\n",
       " 133.3000030517578,\n",
       " 132.72799682617188,\n",
       " 132.1999969482422,\n",
       " 131.64199829101562,\n",
       " 131.10000610351562,\n",
       " 130.59300231933594,\n",
       " 130.09999084472656,\n",
       " 129.60000610351562,\n",
       " 129.10000610351562,\n",
       " 128.59999084472656,\n",
       " 128.10000610351562,\n",
       " 127.59300231933594,\n",
       " 127.10000610351562,\n",
       " 126.64199829101562,\n",
       " 126.20000457763672,\n",
       " 125.76500701904297,\n",
       " 125.30000305175781,\n",
       " 124.77300262451172,\n",
       " 124.19999694824219,\n",
       " 123.62200164794922,\n",
       " 123.0,\n",
       " 122.29999542236328,\n",
       " 121.60000610351562,\n",
       " 120.97699737548828,\n",
       " 120.39999389648438,\n",
       " 119.80500030517578,\n",
       " 119.30000305175781,\n",
       " 118.9699935913086,\n",
       " 118.69999694824219,\n",
       " 118.34199523925781,\n",
       " 118.0,\n",
       " 117.72000122070312,\n",
       " 117.5,\n",
       " 117.34199523925781,\n",
       " 117.20000457763672,\n",
       " 116.99999237060547,\n",
       " 116.79999542236328,\n",
       " 116.62000274658203,\n",
       " 116.5,\n",
       " 116.48500061035156,\n",
       " 116.5,\n",
       " 116.45800018310547,\n",
       " 116.39999389648438,\n",
       " 116.34200286865234,\n",
       " 116.30000305175781,\n",
       " 116.30699920654297,\n",
       " 116.30000305175781,\n",
       " 116.20799255371094,\n",
       " 116.0999984741211]"
      ]
     },
     "execution_count": 120,
     "metadata": {},
     "output_type": "execute_result"
    }
   ],
   "source": [
    "vals_yutu_long.tolist()"
   ]
  },
  {
   "cell_type": "code",
   "execution_count": 121,
   "id": "2e0edab3-66b0-4140-96bf-12eeaa5fd273",
   "metadata": {
    "collapsed": true,
    "jupyter": {
     "outputs_hidden": true
    },
    "tags": []
   },
   "outputs": [
    {
     "data": {
      "text/plain": [
       "[156.8333740234375,\n",
       " 156.9591522216797,\n",
       " 155.79505920410156,\n",
       " 155.7249298095703,\n",
       " 155.38250732421875,\n",
       " 154.77548217773438,\n",
       " 154.0039825439453,\n",
       " 154.16921997070312,\n",
       " 153.55050659179688,\n",
       " 152.84759521484375,\n",
       " 152.41603088378906,\n",
       " 152.1165771484375,\n",
       " 151.7691192626953,\n",
       " 150.94480895996094,\n",
       " 149.97134399414062,\n",
       " 149.50437927246094,\n",
       " 149.0648956298828,\n",
       " 148.44570922851562,\n",
       " 148.38475036621094,\n",
       " 148.11441040039062,\n",
       " 147.62869262695312,\n",
       " 147.6247100830078,\n",
       " 146.68299865722656,\n",
       " 146.02801513671875,\n",
       " 145.96453857421875,\n",
       " 145.42543029785156,\n",
       " 145.43890380859375,\n",
       " 144.4051971435547,\n",
       " 144.1787109375,\n",
       " 143.35707092285156,\n",
       " 143.4110565185547,\n",
       " 142.4449005126953,\n",
       " 142.1562042236328,\n",
       " 141.7424774169922,\n",
       " 141.60997009277344,\n",
       " 141.52886962890625,\n",
       " 140.84678649902344,\n",
       " 140.03250122070312,\n",
       " 138.94998168945312,\n",
       " 139.14630126953125,\n",
       " 137.99758911132812,\n",
       " 137.46963500976562,\n",
       " 136.68519592285156,\n",
       " 135.78396606445312,\n",
       " 135.23651123046875,\n",
       " 134.60748291015625,\n",
       " 133.88246154785156,\n",
       " 132.57737731933594,\n",
       " 132.2052764892578,\n",
       " 131.4058074951172,\n",
       " 130.939208984375,\n",
       " 130.30349731445312,\n",
       " 130.38743591308594,\n",
       " 129.7776641845703,\n",
       " 129.24903869628906,\n",
       " 128.58981323242188,\n",
       " 128.2737274169922,\n",
       " 127.92361450195312,\n",
       " 127.16219329833984,\n",
       " 126.55875396728516,\n",
       " 126.04450988769531,\n",
       " 125.27118682861328,\n",
       " 124.96327209472656,\n",
       " 124.80503845214844,\n",
       " 124.0122299194336,\n",
       " 123.87677001953125,\n",
       " 122.93821716308594,\n",
       " 122.6895523071289,\n",
       " 121.96858978271484,\n",
       " 121.08827209472656,\n",
       " 120.4623031616211,\n",
       " 119.65200805664062,\n",
       " 119.14840698242188,\n",
       " 118.59259033203125,\n",
       " 118.28731536865234,\n",
       " 118.31859588623047,\n",
       " 117.79388427734375,\n",
       " 117.37789916992188,\n",
       " 117.23721313476562,\n",
       " 116.92335510253906,\n",
       " 116.9012680053711,\n",
       " 116.6501235961914,\n",
       " 116.76724243164062,\n",
       " 116.2848129272461,\n",
       " 116.2496109008789,\n",
       " 116.34619140625,\n",
       " 116.42509460449219,\n",
       " 116.41708374023438,\n",
       " 116.28807067871094,\n",
       " 116.4361343383789,\n",
       " 115.96305084228516,\n",
       " 115.98149108886719,\n",
       " 116.03174591064453,\n",
       " 115.7630386352539,\n",
       " 115.9466781616211,\n",
       " 115.83361053466797]"
      ]
     },
     "execution_count": 121,
     "metadata": {},
     "output_type": "execute_result"
    }
   ],
   "source": [
    "pred_yutu_long.tolist()"
   ]
  },
  {
   "cell_type": "code",
   "execution_count": 122,
   "id": "3e681bda-387b-4890-b048-682eca2292a1",
   "metadata": {
    "collapsed": true,
    "jupyter": {
     "outputs_hidden": true
    },
    "tags": []
   },
   "outputs": [
    {
     "data": {
      "text/plain": [
       "[159.03500366210938,\n",
       " 158.40000915527344,\n",
       " 157.68499755859375,\n",
       " 157.0,\n",
       " 156.4429931640625,\n",
       " 155.90000915527344,\n",
       " 155.24200439453125,\n",
       " 154.60000610351562,\n",
       " 154.0850067138672,\n",
       " 153.60000610351562,\n",
       " 153.06500244140625,\n",
       " 152.5,\n",
       " 151.88499450683594,\n",
       " 151.3000030517578,\n",
       " 150.82000732421875,\n",
       " 150.40000915527344,\n",
       " 149.99200439453125,\n",
       " 149.60000610351562,\n",
       " 149.1999969482422,\n",
       " 148.8000030517578,\n",
       " 148.40699768066406,\n",
       " 148.0,\n",
       " 147.56500244140625,\n",
       " 147.09999084472656,\n",
       " 146.61500549316406,\n",
       " 146.10000610351562,\n",
       " 145.54299926757812,\n",
       " 145.0,\n",
       " 144.4969940185547,\n",
       " 144.10000610351562,\n",
       " 143.8699951171875,\n",
       " 143.70001220703125,\n",
       " 143.4530029296875,\n",
       " 143.1999969482422,\n",
       " 142.96400451660156,\n",
       " 142.89999389648438,\n",
       " 142.8000030517578,\n",
       " 142.60499572753906,\n",
       " 142.40000915527344,\n",
       " 142.25,\n",
       " 142.10000610351562,\n",
       " 141.92300415039062,\n",
       " 141.6999969482422,\n",
       " 141.40000915527344,\n",
       " 141.10000610351562,\n",
       " 140.8769989013672,\n",
       " 140.6999969482422,\n",
       " 140.53500366210938,\n",
       " 140.39999389648438,\n",
       " 140.28500366210938,\n",
       " 140.1999969482422,\n",
       " 140.14999389648438,\n",
       " 140.10000610351562,\n",
       " 139.9929962158203,\n",
       " 139.90000915527344,\n",
       " 139.88499450683594,\n",
       " 139.90000915527344,\n",
       " 139.88499450683594,\n",
       " 139.90000915527344,\n",
       " 140.0,\n",
       " 140.10000610351562,\n",
       " 140.11500549316406,\n",
       " 140.10000610351562,\n",
       " 140.11500549316406,\n",
       " 140.10000610351562,\n",
       " 140.06700134277344,\n",
       " 139.90000915527344,\n",
       " 139.52500915527344,\n",
       " 139.0,\n",
       " 138.4149932861328,\n",
       " 137.8000030517578,\n",
       " 137.24200439453125,\n",
       " 136.6999969482422,\n",
       " 136.1199951171875,\n",
       " 135.60000610351562,\n",
       " 135.19000244140625,\n",
       " 134.89999389648438,\n",
       " 134.72000122070312,\n",
       " 134.60000610351562,\n",
       " 134.4600067138672]"
      ]
     },
     "execution_count": 122,
     "metadata": {},
     "output_type": "execute_result"
    }
   ],
   "source": [
    "vals_wutip_long.tolist()"
   ]
  },
  {
   "cell_type": "code",
   "execution_count": 123,
   "id": "05e4998a-96a6-43ab-aaa8-b6e90118c734",
   "metadata": {
    "collapsed": true,
    "jupyter": {
     "outputs_hidden": true
    },
    "tags": []
   },
   "outputs": [
    {
     "data": {
      "text/plain": [
       "[158.3972625732422,\n",
       " 157.42955017089844,\n",
       " 157.0106658935547,\n",
       " 156.35000610351562,\n",
       " 155.546875,\n",
       " 155.00216674804688,\n",
       " 155.04856872558594,\n",
       " 153.5323028564453,\n",
       " 153.5575408935547,\n",
       " 152.619873046875,\n",
       " 152.25184631347656,\n",
       " 152.19735717773438,\n",
       " 151.40733337402344,\n",
       " 150.78858947753906,\n",
       " 150.2987823486328,\n",
       " 149.7999267578125,\n",
       " 149.19094848632812,\n",
       " 148.807373046875,\n",
       " 148.5088348388672,\n",
       " 148.2421417236328,\n",
       " 147.52139282226562,\n",
       " 146.8705596923828,\n",
       " 146.83056640625,\n",
       " 146.63922119140625,\n",
       " 146.23670959472656,\n",
       " 145.25955200195312,\n",
       " 145.00540161132812,\n",
       " 144.54910278320312,\n",
       " 144.312744140625,\n",
       " 143.4198760986328,\n",
       " 142.9183349609375,\n",
       " 143.13255310058594,\n",
       " 142.7505645751953,\n",
       " 142.3494873046875,\n",
       " 142.58743286132812,\n",
       " 141.80528259277344,\n",
       " 142.23196411132812,\n",
       " 141.39035034179688,\n",
       " 141.6286163330078,\n",
       " 141.50448608398438,\n",
       " 141.13539123535156,\n",
       " 140.99591064453125,\n",
       " 140.99205017089844,\n",
       " 140.6193084716797,\n",
       " 140.3452606201172,\n",
       " 140.29429626464844,\n",
       " 139.7528839111328,\n",
       " 140.22901916503906,\n",
       " 140.10427856445312,\n",
       " 139.52650451660156,\n",
       " 139.49911499023438,\n",
       " 139.42913818359375,\n",
       " 139.34141540527344,\n",
       " 139.66917419433594,\n",
       " 139.07650756835938,\n",
       " 139.0719757080078,\n",
       " 138.75735473632812,\n",
       " 139.0160369873047,\n",
       " 139.2073974609375,\n",
       " 139.72035217285156,\n",
       " 139.0433349609375,\n",
       " 139.4227294921875,\n",
       " 139.37086486816406,\n",
       " 139.27847290039062,\n",
       " 139.63629150390625,\n",
       " 139.26036071777344,\n",
       " 139.2732391357422,\n",
       " 139.36822509765625,\n",
       " 138.693603515625,\n",
       " 138.46969604492188,\n",
       " 137.6464385986328,\n",
       " 137.09799194335938,\n",
       " 136.50453186035156,\n",
       " 136.037353515625,\n",
       " 135.14723205566406,\n",
       " 134.7985076904297,\n",
       " 134.602783203125,\n",
       " 134.51641845703125,\n",
       " 134.141357421875,\n",
       " 133.9935302734375]"
      ]
     },
     "execution_count": 123,
     "metadata": {},
     "output_type": "execute_result"
    }
   ],
   "source": [
    "pred_wutip_long.tolist()"
   ]
  },
  {
   "cell_type": "code",
   "execution_count": null,
   "id": "074230fd-6158-495f-b3da-91afe4eb2409",
   "metadata": {},
   "outputs": [],
   "source": []
  },
  {
   "cell_type": "code",
   "execution_count": null,
   "id": "1f736d64-58ce-4399-b505-d9f50367e802",
   "metadata": {},
   "outputs": [],
   "source": []
  },
  {
   "cell_type": "code",
   "execution_count": null,
   "id": "47d057c2-6ed8-45f5-9e40-8305f57bbc0d",
   "metadata": {},
   "outputs": [],
   "source": []
  }
 ],
 "metadata": {
  "kernelspec": {
   "display_name": "Python 3 (ipykernel)",
   "language": "python",
   "name": "python3"
  },
  "language_info": {
   "codemirror_mode": {
    "name": "ipython",
    "version": 3
   },
   "file_extension": ".py",
   "mimetype": "text/x-python",
   "name": "python",
   "nbconvert_exporter": "python",
   "pygments_lexer": "ipython3",
   "version": "3.9.7"
  }
 },
 "nbformat": 4,
 "nbformat_minor": 5
}
